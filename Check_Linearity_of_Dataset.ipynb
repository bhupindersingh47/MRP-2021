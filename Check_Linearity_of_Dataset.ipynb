{
 "cells": [
  {
   "cell_type": "markdown",
   "id": "curious-relationship",
   "metadata": {},
   "source": [
    "# Importing required libraries"
   ]
  },
  {
   "cell_type": "code",
   "execution_count": 1,
   "id": "funky-soccer",
   "metadata": {
    "ExecuteTime": {
     "end_time": "2021-09-01T09:13:37.351471Z",
     "start_time": "2021-09-01T09:13:35.874387Z"
    }
   },
   "outputs": [],
   "source": [
    "import pandas as pd\n",
    "import numpy as np\n",
    "from sklearn import metrics"
   ]
  },
  {
   "cell_type": "markdown",
   "id": "modified-ground",
   "metadata": {},
   "source": [
    "# Checking Linearity with Past Drought Values"
   ]
  },
  {
   "cell_type": "markdown",
   "id": "incomplete-reggae",
   "metadata": {},
   "source": [
    "## Initializing Feature and Response matrices stored as .CSV files earlier"
   ]
  },
  {
   "cell_type": "markdown",
   "id": "residential-protest",
   "metadata": {},
   "source": [
    "### Training Dataset"
   ]
  },
  {
   "cell_type": "code",
   "execution_count": 2,
   "id": "meaningful-optimization",
   "metadata": {
    "ExecuteTime": {
     "end_time": "2021-09-01T09:13:57.913051Z",
     "start_time": "2021-09-01T09:13:39.266308Z"
    }
   },
   "outputs": [],
   "source": [
    "X_train = np.loadtxt(r'R:\\Ryerson\\Misc\\Datasets\\Preprocessed Data Files\\New + pastDroughtValues\\30_Day_Window_Scaled + pastDroughtValues\\X_train_30_day_window_scaled_+_pastDroughtValues.csv', delimiter=',')\n",
    "\n",
    "y_target_train = np.loadtxt(r'R:\\Ryerson\\Misc\\Datasets\\Preprocessed Data Files\\New + pastDroughtValues\\30_Day_Window_Scaled + pastDroughtValues\\y_target_train_30_day_window.csv', delimiter=',')"
   ]
  },
  {
   "cell_type": "code",
   "execution_count": 3,
   "id": "apart-stupid",
   "metadata": {
    "ExecuteTime": {
     "end_time": "2021-09-01T09:14:00.553965Z",
     "start_time": "2021-09-01T09:14:00.541997Z"
    }
   },
   "outputs": [
    {
     "data": {
      "text/plain": [
       "(640248, 19)"
      ]
     },
     "execution_count": 3,
     "metadata": {},
     "output_type": "execute_result"
    },
    {
     "data": {
      "text/plain": [
       "(640248,)"
      ]
     },
     "execution_count": 3,
     "metadata": {},
     "output_type": "execute_result"
    }
   ],
   "source": [
    "X_train.shape\n",
    "\n",
    "y_target_train.shape"
   ]
  },
  {
   "cell_type": "markdown",
   "id": "sealed-average",
   "metadata": {},
   "source": [
    "### Validation Dataset"
   ]
  },
  {
   "cell_type": "code",
   "execution_count": 4,
   "id": "altered-mainland",
   "metadata": {
    "ExecuteTime": {
     "end_time": "2021-09-01T09:14:06.087133Z",
     "start_time": "2021-09-01T09:14:04.378702Z"
    }
   },
   "outputs": [],
   "source": [
    "X_valid = np.loadtxt(r'R:\\Ryerson\\Misc\\Datasets\\Preprocessed Data Files\\New + pastDroughtValues\\30_Day_Window_Scaled + pastDroughtValues\\X_valid_30_day_window_scaled_+_pastDroughtValues.csv', delimiter=',')\n",
    "\n",
    "y_target_valid = np.loadtxt(r'R:\\Ryerson\\Misc\\Datasets\\Preprocessed Data Files\\New + pastDroughtValues\\30_Day_Window_Scaled + pastDroughtValues\\y_target_valid_30_day_window.csv', delimiter=',')"
   ]
  },
  {
   "cell_type": "code",
   "execution_count": 5,
   "id": "floating-template",
   "metadata": {
    "ExecuteTime": {
     "end_time": "2021-09-01T09:14:06.735908Z",
     "start_time": "2021-09-01T09:14:06.729923Z"
    }
   },
   "outputs": [
    {
     "data": {
      "text/plain": [
       "(74592, 19)"
      ]
     },
     "execution_count": 5,
     "metadata": {},
     "output_type": "execute_result"
    },
    {
     "data": {
      "text/plain": [
       "(74592,)"
      ]
     },
     "execution_count": 5,
     "metadata": {},
     "output_type": "execute_result"
    }
   ],
   "source": [
    "X_valid.shape\n",
    "\n",
    "y_target_valid.shape"
   ]
  },
  {
   "cell_type": "markdown",
   "id": "processed-physics",
   "metadata": {},
   "source": [
    "### Testing Dataset"
   ]
  },
  {
   "cell_type": "code",
   "execution_count": 6,
   "id": "median-lying",
   "metadata": {
    "ExecuteTime": {
     "end_time": "2021-09-01T09:14:11.037397Z",
     "start_time": "2021-09-01T09:14:08.346597Z"
    }
   },
   "outputs": [],
   "source": [
    "X_test = np.loadtxt(r'R:\\Ryerson\\Misc\\Datasets\\Preprocessed Data Files\\New + pastDroughtValues\\30_Day_Window_Scaled + pastDroughtValues\\X_test_30_day_window_scaled_+_pastDroughtValues.csv', delimiter=',')\n",
    "\n",
    "y_target_test = np.loadtxt(r'R:\\Ryerson\\Misc\\Datasets\\Preprocessed Data Files\\New + pastDroughtValues\\30_Day_Window_Scaled + pastDroughtValues\\y_target_test_30_day_window.csv', delimiter=',')"
   ]
  },
  {
   "cell_type": "code",
   "execution_count": 7,
   "id": "unsigned-xerox",
   "metadata": {
    "ExecuteTime": {
     "end_time": "2021-09-01T09:14:11.554016Z",
     "start_time": "2021-09-01T09:14:11.534069Z"
    }
   },
   "outputs": [
    {
     "data": {
      "text/plain": [
       "(74592, 19)"
      ]
     },
     "execution_count": 7,
     "metadata": {},
     "output_type": "execute_result"
    },
    {
     "data": {
      "text/plain": [
       "(74592,)"
      ]
     },
     "execution_count": 7,
     "metadata": {},
     "output_type": "execute_result"
    }
   ],
   "source": [
    "X_test.shape\n",
    "\n",
    "y_target_test.shape"
   ]
  },
  {
   "cell_type": "markdown",
   "id": "meaningful-swiss",
   "metadata": {
    "ExecuteTime": {
     "end_time": "2021-09-01T06:41:53.410901Z",
     "start_time": "2021-09-01T06:41:53.398933Z"
    }
   },
   "source": [
    "##### _Concatenating X_valid & X_test into a single test set_"
   ]
  },
  {
   "cell_type": "code",
   "execution_count": 8,
   "id": "atmospheric-requirement",
   "metadata": {
    "ExecuteTime": {
     "end_time": "2021-09-01T09:14:14.850704Z",
     "start_time": "2021-09-01T09:14:14.832751Z"
    }
   },
   "outputs": [],
   "source": [
    "X_Test = np.concatenate((X_valid, X_test), axis=0)"
   ]
  },
  {
   "cell_type": "code",
   "execution_count": 9,
   "id": "generous-civilization",
   "metadata": {
    "ExecuteTime": {
     "end_time": "2021-09-01T09:14:15.257613Z",
     "start_time": "2021-09-01T09:14:15.245645Z"
    }
   },
   "outputs": [
    {
     "data": {
      "text/plain": [
       "(149184, 19)"
      ]
     },
     "execution_count": 9,
     "metadata": {},
     "output_type": "execute_result"
    }
   ],
   "source": [
    "X_Test.shape"
   ]
  },
  {
   "cell_type": "markdown",
   "id": "heard-tactics",
   "metadata": {
    "ExecuteTime": {
     "end_time": "2021-09-01T06:41:53.410901Z",
     "start_time": "2021-09-01T06:41:53.398933Z"
    }
   },
   "source": [
    "##### _Concatenating y_target_valid & y_target_test into a single array_"
   ]
  },
  {
   "cell_type": "code",
   "execution_count": 11,
   "id": "cordless-hopkins",
   "metadata": {
    "ExecuteTime": {
     "end_time": "2021-09-01T09:14:20.243272Z",
     "start_time": "2021-09-01T09:14:20.230306Z"
    }
   },
   "outputs": [],
   "source": [
    "y_Target = np.concatenate((y_target_valid, y_target_test), axis=0)"
   ]
  },
  {
   "cell_type": "code",
   "execution_count": 12,
   "id": "prescription-diamond",
   "metadata": {
    "ExecuteTime": {
     "end_time": "2021-09-01T09:14:21.615633Z",
     "start_time": "2021-09-01T09:14:21.599642Z"
    }
   },
   "outputs": [
    {
     "data": {
      "text/plain": [
       "(149184,)"
      ]
     },
     "execution_count": 12,
     "metadata": {},
     "output_type": "execute_result"
    }
   ],
   "source": [
    "y_Target.shape"
   ]
  },
  {
   "cell_type": "markdown",
   "id": "trying-tracy",
   "metadata": {},
   "source": [
    "## Training Linear Regression on this dataset and observing the R_2 Score"
   ]
  },
  {
   "cell_type": "code",
   "execution_count": 14,
   "id": "innocent-nickel",
   "metadata": {
    "ExecuteTime": {
     "end_time": "2021-09-01T09:14:47.084771Z",
     "start_time": "2021-09-01T09:14:46.686863Z"
    }
   },
   "outputs": [],
   "source": [
    "from sklearn.linear_model import LinearRegression\n",
    "linearRegressor = LinearRegression().fit(X_train, y_target_train)"
   ]
  },
  {
   "cell_type": "code",
   "execution_count": 15,
   "id": "separated-suspect",
   "metadata": {
    "ExecuteTime": {
     "end_time": "2021-09-01T09:14:49.974067Z",
     "start_time": "2021-09-01T09:14:49.950132Z"
    }
   },
   "outputs": [
    {
     "name": "stdout",
     "output_type": "stream",
     "text": [
      "0.6020546834278234\n"
     ]
    }
   ],
   "source": [
    "# Checking the accuracy\n",
    "from sklearn.metrics import r2_score\n",
    "yPredicted = linearRegressor.predict(X_Test)\n",
    "print(r2_score(y_Target, yPredicted))"
   ]
  },
  {
   "cell_type": "markdown",
   "id": "stuck-forwarding",
   "metadata": {},
   "source": [
    "# Checking Linearity with just the 18 Features before Feature Selection"
   ]
  },
  {
   "cell_type": "markdown",
   "id": "amended-pharmacology",
   "metadata": {},
   "source": [
    "## Initializing Feature and Response matrices stored as .CSV files earlier"
   ]
  },
  {
   "cell_type": "markdown",
   "id": "later-disaster",
   "metadata": {},
   "source": [
    "### Training Dataset"
   ]
  },
  {
   "cell_type": "code",
   "execution_count": 29,
   "id": "optical-virtue",
   "metadata": {
    "ExecuteTime": {
     "end_time": "2021-09-01T09:38:41.212852Z",
     "start_time": "2021-09-01T09:38:24.327900Z"
    }
   },
   "outputs": [],
   "source": [
    "X_train = np.loadtxt(r'R:\\Ryerson\\Misc\\Datasets\\Preprocessed Data Files\\Old + Probably Wrong\\30_Day_Window_Scaled\\X_train_30_day_window_scaled.csv', delimiter=',')\n",
    "\n",
    "y_target_train = np.loadtxt(r'R:\\Ryerson\\Misc\\Datasets\\Preprocessed Data Files\\Old + Probably Wrong\\30_Day_Window_Scaled\\y_target_train_30_day_window_scaled.csv', delimiter=',')"
   ]
  },
  {
   "cell_type": "code",
   "execution_count": 30,
   "id": "developing-casting",
   "metadata": {
    "ExecuteTime": {
     "end_time": "2021-09-01T09:38:47.849651Z",
     "start_time": "2021-09-01T09:38:47.839679Z"
    }
   },
   "outputs": [
    {
     "data": {
      "text/plain": [
       "(639476, 18)"
      ]
     },
     "execution_count": 30,
     "metadata": {},
     "output_type": "execute_result"
    },
    {
     "data": {
      "text/plain": [
       "(639476,)"
      ]
     },
     "execution_count": 30,
     "metadata": {},
     "output_type": "execute_result"
    }
   ],
   "source": [
    "X_train.shape\n",
    "\n",
    "y_target_train.shape"
   ]
  },
  {
   "cell_type": "markdown",
   "id": "different-bahamas",
   "metadata": {},
   "source": [
    "### Validation Dataset"
   ]
  },
  {
   "cell_type": "code",
   "execution_count": 31,
   "id": "diverse-longitude",
   "metadata": {
    "ExecuteTime": {
     "end_time": "2021-09-01T09:38:55.178588Z",
     "start_time": "2021-09-01T09:38:52.469797Z"
    }
   },
   "outputs": [],
   "source": [
    "X_valid = np.loadtxt(r'R:\\Ryerson\\Misc\\Datasets\\Preprocessed Data Files\\Old + Probably Wrong\\30_Day_Window_Scaled\\X_valid_30_day_window_scaled.csv', delimiter=',')\n",
    "\n",
    "y_target_valid = np.loadtxt(r'R:\\Ryerson\\Misc\\Datasets\\Preprocessed Data Files\\Old + Probably Wrong\\30_Day_Window_Scaled\\y_target_valid_30_day_window_scaled.csv', delimiter=',')"
   ]
  },
  {
   "cell_type": "code",
   "execution_count": 32,
   "id": "behind-spokesman",
   "metadata": {
    "ExecuteTime": {
     "end_time": "2021-09-01T09:38:55.912586Z",
     "start_time": "2021-09-01T09:38:55.893638Z"
    }
   },
   "outputs": [
    {
     "data": {
      "text/plain": [
       "(71721, 18)"
      ]
     },
     "execution_count": 32,
     "metadata": {},
     "output_type": "execute_result"
    },
    {
     "data": {
      "text/plain": [
       "(71721,)"
      ]
     },
     "execution_count": 32,
     "metadata": {},
     "output_type": "execute_result"
    }
   ],
   "source": [
    "X_valid.shape\n",
    "\n",
    "y_target_valid.shape"
   ]
  },
  {
   "cell_type": "markdown",
   "id": "lucky-costa",
   "metadata": {},
   "source": [
    "### Testing Dataset"
   ]
  },
  {
   "cell_type": "code",
   "execution_count": 33,
   "id": "agricultural-entity",
   "metadata": {
    "ExecuteTime": {
     "end_time": "2021-09-01T09:39:04.687751Z",
     "start_time": "2021-09-01T09:39:03.106955Z"
    }
   },
   "outputs": [],
   "source": [
    "X_test = np.loadtxt(r'R:\\Ryerson\\Misc\\Datasets\\Preprocessed Data Files\\Old + Probably Wrong\\30_Day_Window_Scaled\\X_test_30_day_window_scaled.csv', delimiter=',')\n",
    "\n",
    "y_target_test = np.loadtxt(r'R:\\Ryerson\\Misc\\Datasets\\Preprocessed Data Files\\Old + Probably Wrong\\30_Day_Window_Scaled\\y_target_test_30_day_window_scaled.csv', delimiter=',')"
   ]
  },
  {
   "cell_type": "code",
   "execution_count": 34,
   "id": "shared-saskatchewan",
   "metadata": {
    "ExecuteTime": {
     "end_time": "2021-09-01T09:39:05.506513Z",
     "start_time": "2021-09-01T09:39:05.495555Z"
    }
   },
   "outputs": [
    {
     "data": {
      "text/plain": [
       "(71841, 18)"
      ]
     },
     "execution_count": 34,
     "metadata": {},
     "output_type": "execute_result"
    },
    {
     "data": {
      "text/plain": [
       "(71841,)"
      ]
     },
     "execution_count": 34,
     "metadata": {},
     "output_type": "execute_result"
    }
   ],
   "source": [
    "X_test.shape\n",
    "\n",
    "y_target_test.shape"
   ]
  },
  {
   "cell_type": "markdown",
   "id": "asian-congo",
   "metadata": {
    "ExecuteTime": {
     "end_time": "2021-09-01T06:41:53.410901Z",
     "start_time": "2021-09-01T06:41:53.398933Z"
    }
   },
   "source": [
    "##### _Concatenating X_valid & X_test into a single test set_"
   ]
  },
  {
   "cell_type": "code",
   "execution_count": 35,
   "id": "miniature-influence",
   "metadata": {
    "ExecuteTime": {
     "end_time": "2021-09-01T09:39:07.052409Z",
     "start_time": "2021-09-01T09:39:07.035442Z"
    }
   },
   "outputs": [],
   "source": [
    "X_Test = np.concatenate((X_valid, X_test), axis=0)"
   ]
  },
  {
   "cell_type": "code",
   "execution_count": 36,
   "id": "previous-musical",
   "metadata": {
    "ExecuteTime": {
     "end_time": "2021-09-01T09:39:07.741534Z",
     "start_time": "2021-09-01T09:39:07.733556Z"
    }
   },
   "outputs": [
    {
     "data": {
      "text/plain": [
       "(143562, 18)"
      ]
     },
     "execution_count": 36,
     "metadata": {},
     "output_type": "execute_result"
    }
   ],
   "source": [
    "X_Test.shape"
   ]
  },
  {
   "cell_type": "markdown",
   "id": "accepting-junction",
   "metadata": {
    "ExecuteTime": {
     "end_time": "2021-09-01T06:41:53.410901Z",
     "start_time": "2021-09-01T06:41:53.398933Z"
    }
   },
   "source": [
    "##### _Concatenating y_target_valid & y_target_test into a single array_"
   ]
  },
  {
   "cell_type": "code",
   "execution_count": 37,
   "id": "micro-warren",
   "metadata": {
    "ExecuteTime": {
     "end_time": "2021-09-01T09:39:09.633472Z",
     "start_time": "2021-09-01T09:39:09.623499Z"
    }
   },
   "outputs": [],
   "source": [
    "y_Target = np.concatenate((y_target_valid, y_target_test), axis=0)"
   ]
  },
  {
   "cell_type": "code",
   "execution_count": 38,
   "id": "confident-brighton",
   "metadata": {
    "ExecuteTime": {
     "end_time": "2021-09-01T09:39:10.106207Z",
     "start_time": "2021-09-01T09:39:10.091249Z"
    }
   },
   "outputs": [
    {
     "data": {
      "text/plain": [
       "(143562,)"
      ]
     },
     "execution_count": 38,
     "metadata": {},
     "output_type": "execute_result"
    }
   ],
   "source": [
    "y_Target.shape"
   ]
  },
  {
   "cell_type": "markdown",
   "id": "broke-andrews",
   "metadata": {},
   "source": [
    "## Training Linear Regression on this dataset and observing the R_2 Score"
   ]
  },
  {
   "cell_type": "code",
   "execution_count": 39,
   "id": "complex-bloom",
   "metadata": {
    "ExecuteTime": {
     "end_time": "2021-09-01T09:39:13.866745Z",
     "start_time": "2021-09-01T09:39:13.375088Z"
    }
   },
   "outputs": [],
   "source": [
    "from sklearn.linear_model import LinearRegression\n",
    "linearRegressor = LinearRegression().fit(X_train, y_target_train)"
   ]
  },
  {
   "cell_type": "code",
   "execution_count": 40,
   "id": "intermediate-pollution",
   "metadata": {
    "ExecuteTime": {
     "end_time": "2021-09-01T09:39:15.053607Z",
     "start_time": "2021-09-01T09:39:15.034624Z"
    }
   },
   "outputs": [
    {
     "name": "stdout",
     "output_type": "stream",
     "text": [
      "0.15287767976987376\n"
     ]
    }
   ],
   "source": [
    "# Checking the accuracy\n",
    "from sklearn.metrics import r2_score\n",
    "yPredicted = linearRegressor.predict(X_Test)\n",
    "print(r2_score(y_Target, yPredicted))"
   ]
  },
  {
   "cell_type": "markdown",
   "id": "recorded-treasure",
   "metadata": {},
   "source": [
    "# Checking Linearity with just the 8 Features after Feature Selection"
   ]
  },
  {
   "cell_type": "markdown",
   "id": "concerned-brother",
   "metadata": {},
   "source": [
    "## Initializing Feature and Response matrices stored as .CSV files earlier"
   ]
  },
  {
   "cell_type": "markdown",
   "id": "former-ethnic",
   "metadata": {},
   "source": [
    "### Training Dataset"
   ]
  },
  {
   "cell_type": "code",
   "execution_count": 17,
   "id": "potential-fishing",
   "metadata": {
    "ExecuteTime": {
     "end_time": "2021-09-01T09:34:17.583637Z",
     "start_time": "2021-09-01T09:34:07.042393Z"
    }
   },
   "outputs": [],
   "source": [
    "X_train = np.loadtxt(r'R:\\Ryerson\\Misc\\Datasets\\Preprocessed Data Files\\NEW + FEATURE SELECTION\\30_Day_Window_Scaled + FeatureSelection\\X_train_30_day_window_scaled_+_FeatureSelection.csv', delimiter=',')\n",
    "\n",
    "y_target_train = np.loadtxt(r'R:\\Ryerson\\Misc\\Datasets\\Preprocessed Data Files\\NEW + FEATURE SELECTION\\30_Day_Window_Scaled + FeatureSelection\\y_target_train_30_day_window.csv', delimiter=',')"
   ]
  },
  {
   "cell_type": "code",
   "execution_count": 18,
   "id": "biological-burlington",
   "metadata": {
    "ExecuteTime": {
     "end_time": "2021-09-01T09:34:18.381502Z",
     "start_time": "2021-09-01T09:34:18.363551Z"
    }
   },
   "outputs": [
    {
     "data": {
      "text/plain": [
       "(640248, 8)"
      ]
     },
     "execution_count": 18,
     "metadata": {},
     "output_type": "execute_result"
    },
    {
     "data": {
      "text/plain": [
       "(640248,)"
      ]
     },
     "execution_count": 18,
     "metadata": {},
     "output_type": "execute_result"
    }
   ],
   "source": [
    "X_train.shape\n",
    "\n",
    "y_target_train.shape"
   ]
  },
  {
   "cell_type": "markdown",
   "id": "north-insulation",
   "metadata": {},
   "source": [
    "### Validation Dataset"
   ]
  },
  {
   "cell_type": "code",
   "execution_count": 19,
   "id": "matched-eligibility",
   "metadata": {
    "ExecuteTime": {
     "end_time": "2021-09-01T09:34:29.882979Z",
     "start_time": "2021-09-01T09:34:28.887611Z"
    }
   },
   "outputs": [],
   "source": [
    "X_valid = np.loadtxt(r'R:\\Ryerson\\Misc\\Datasets\\Preprocessed Data Files\\NEW + FEATURE SELECTION\\30_Day_Window_Scaled + FeatureSelection\\X_valid_30_day_window_scaled_+_FeatureSelection.csv', delimiter=',')\n",
    "\n",
    "y_target_valid = np.loadtxt(r'R:\\Ryerson\\Misc\\Datasets\\Preprocessed Data Files\\NEW + FEATURE SELECTION\\30_Day_Window_Scaled + FeatureSelection\\y_target_valid_30_day_window.csv', delimiter=',')"
   ]
  },
  {
   "cell_type": "code",
   "execution_count": 20,
   "id": "front-grounds",
   "metadata": {
    "ExecuteTime": {
     "end_time": "2021-09-01T09:34:29.946794Z",
     "start_time": "2021-09-01T09:34:29.931803Z"
    }
   },
   "outputs": [
    {
     "data": {
      "text/plain": [
       "(74592, 8)"
      ]
     },
     "execution_count": 20,
     "metadata": {},
     "output_type": "execute_result"
    },
    {
     "data": {
      "text/plain": [
       "(74592,)"
      ]
     },
     "execution_count": 20,
     "metadata": {},
     "output_type": "execute_result"
    }
   ],
   "source": [
    "X_valid.shape\n",
    "\n",
    "y_target_valid.shape"
   ]
  },
  {
   "cell_type": "markdown",
   "id": "intimate-evanescence",
   "metadata": {},
   "source": [
    "### Testing Dataset"
   ]
  },
  {
   "cell_type": "code",
   "execution_count": 21,
   "id": "empirical-trance",
   "metadata": {
    "ExecuteTime": {
     "end_time": "2021-09-01T09:34:32.741284Z",
     "start_time": "2021-09-01T09:34:31.775867Z"
    }
   },
   "outputs": [],
   "source": [
    "X_test = np.loadtxt(r'R:\\Ryerson\\Misc\\Datasets\\Preprocessed Data Files\\NEW + FEATURE SELECTION\\30_Day_Window_Scaled + FeatureSelection\\X_test_30_day_window_scaled_+_FeatureSelection.csv', delimiter=',')\n",
    "\n",
    "y_target_test = np.loadtxt(r'R:\\Ryerson\\Misc\\Datasets\\Preprocessed Data Files\\NEW + FEATURE SELECTION\\30_Day_Window_Scaled + FeatureSelection\\y_target_test_30_day_window.csv', delimiter=',')"
   ]
  },
  {
   "cell_type": "code",
   "execution_count": 22,
   "id": "appointed-experiment",
   "metadata": {
    "ExecuteTime": {
     "end_time": "2021-09-01T09:34:32.804115Z",
     "start_time": "2021-09-01T09:34:32.790153Z"
    }
   },
   "outputs": [
    {
     "data": {
      "text/plain": [
       "(74592, 8)"
      ]
     },
     "execution_count": 22,
     "metadata": {},
     "output_type": "execute_result"
    },
    {
     "data": {
      "text/plain": [
       "(74592,)"
      ]
     },
     "execution_count": 22,
     "metadata": {},
     "output_type": "execute_result"
    }
   ],
   "source": [
    "X_test.shape\n",
    "\n",
    "y_target_test.shape"
   ]
  },
  {
   "cell_type": "markdown",
   "id": "cordless-northern",
   "metadata": {
    "ExecuteTime": {
     "end_time": "2021-09-01T06:41:53.410901Z",
     "start_time": "2021-09-01T06:41:53.398933Z"
    }
   },
   "source": [
    "##### _Concatenating X_valid & X_test into a single test set_"
   ]
  },
  {
   "cell_type": "code",
   "execution_count": 23,
   "id": "vulnerable-vacation",
   "metadata": {
    "ExecuteTime": {
     "end_time": "2021-09-01T09:34:34.411817Z",
     "start_time": "2021-09-01T09:34:34.393862Z"
    }
   },
   "outputs": [],
   "source": [
    "X_Test = np.concatenate((X_valid, X_test), axis=0)"
   ]
  },
  {
   "cell_type": "code",
   "execution_count": 24,
   "id": "brief-grocery",
   "metadata": {
    "ExecuteTime": {
     "end_time": "2021-09-01T09:34:35.453631Z",
     "start_time": "2021-09-01T09:34:35.434685Z"
    }
   },
   "outputs": [
    {
     "data": {
      "text/plain": [
       "(149184, 8)"
      ]
     },
     "execution_count": 24,
     "metadata": {},
     "output_type": "execute_result"
    }
   ],
   "source": [
    "X_Test.shape"
   ]
  },
  {
   "cell_type": "markdown",
   "id": "optional-possible",
   "metadata": {
    "ExecuteTime": {
     "end_time": "2021-09-01T06:41:53.410901Z",
     "start_time": "2021-09-01T06:41:53.398933Z"
    }
   },
   "source": [
    "##### _Concatenating y_target_valid & y_target_test into a single array_"
   ]
  },
  {
   "cell_type": "code",
   "execution_count": 25,
   "id": "precious-hearing",
   "metadata": {
    "ExecuteTime": {
     "end_time": "2021-09-01T09:34:37.536093Z",
     "start_time": "2021-09-01T09:34:37.519104Z"
    }
   },
   "outputs": [],
   "source": [
    "y_Target = np.concatenate((y_target_valid, y_target_test), axis=0)"
   ]
  },
  {
   "cell_type": "code",
   "execution_count": 26,
   "id": "sticky-springfield",
   "metadata": {
    "ExecuteTime": {
     "end_time": "2021-09-01T09:34:37.974884Z",
     "start_time": "2021-09-01T09:34:37.964911Z"
    }
   },
   "outputs": [
    {
     "data": {
      "text/plain": [
       "(149184,)"
      ]
     },
     "execution_count": 26,
     "metadata": {},
     "output_type": "execute_result"
    }
   ],
   "source": [
    "y_Target.shape"
   ]
  },
  {
   "cell_type": "markdown",
   "id": "smoking-functionality",
   "metadata": {},
   "source": [
    "## Training Linear Regression on this dataset and observing the R_2 Score"
   ]
  },
  {
   "cell_type": "code",
   "execution_count": 27,
   "id": "viral-council",
   "metadata": {
    "ExecuteTime": {
     "end_time": "2021-09-01T09:34:39.132397Z",
     "start_time": "2021-09-01T09:34:38.936922Z"
    }
   },
   "outputs": [],
   "source": [
    "from sklearn.linear_model import LinearRegression\n",
    "linearRegressor = LinearRegression().fit(X_train, y_target_train)"
   ]
  },
  {
   "cell_type": "code",
   "execution_count": 28,
   "id": "numerical-identifier",
   "metadata": {
    "ExecuteTime": {
     "end_time": "2021-09-01T09:34:47.991723Z",
     "start_time": "2021-09-01T09:34:47.976763Z"
    }
   },
   "outputs": [
    {
     "name": "stdout",
     "output_type": "stream",
     "text": [
      "0.13475902513077265\n"
     ]
    }
   ],
   "source": [
    "# Checking the accuracy\n",
    "from sklearn.metrics import r2_score\n",
    "yPredicted = linearRegressor.predict(X_Test)\n",
    "print(r2_score(y_Target, yPredicted))"
   ]
  }
 ],
 "metadata": {
  "kernelspec": {
   "display_name": "Python 3",
   "language": "python",
   "name": "python3"
  },
  "language_info": {
   "codemirror_mode": {
    "name": "ipython",
    "version": 3
   },
   "file_extension": ".py",
   "mimetype": "text/x-python",
   "name": "python",
   "nbconvert_exporter": "python",
   "pygments_lexer": "ipython3",
   "version": "3.8.8"
  },
  "toc": {
   "base_numbering": 1,
   "nav_menu": {},
   "number_sections": true,
   "sideBar": true,
   "skip_h1_title": false,
   "title_cell": "Table of Contents",
   "title_sidebar": "Contents",
   "toc_cell": false,
   "toc_position": {},
   "toc_section_display": true,
   "toc_window_display": false
  },
  "varInspector": {
   "cols": {
    "lenName": 16,
    "lenType": 16,
    "lenVar": 40
   },
   "kernels_config": {
    "python": {
     "delete_cmd_postfix": "",
     "delete_cmd_prefix": "del ",
     "library": "var_list.py",
     "varRefreshCmd": "print(var_dic_list())"
    },
    "r": {
     "delete_cmd_postfix": ") ",
     "delete_cmd_prefix": "rm(",
     "library": "var_list.r",
     "varRefreshCmd": "cat(var_dic_list()) "
    }
   },
   "types_to_exclude": [
    "module",
    "function",
    "builtin_function_or_method",
    "instance",
    "_Feature"
   ],
   "window_display": false
  }
 },
 "nbformat": 4,
 "nbformat_minor": 5
}

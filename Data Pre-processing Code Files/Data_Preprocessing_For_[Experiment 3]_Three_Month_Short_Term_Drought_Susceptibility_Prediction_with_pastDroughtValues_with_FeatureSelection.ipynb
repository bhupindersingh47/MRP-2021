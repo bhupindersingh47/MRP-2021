{
 "cells": [
  {
   "cell_type": "code",
   "execution_count": 1,
   "id": "selective-split",
   "metadata": {
    "ExecuteTime": {
     "end_time": "2021-09-01T06:11:38.111717Z",
     "start_time": "2021-09-01T06:11:38.097755Z"
    }
   },
   "outputs": [],
   "source": [
    "#timeSeriesDataColumns = sorted([c for c in rawDF.columns if c not in [\"fips\", \"date\", \"score\", \"T2M\", \"T2MDEW\", \"T2M_MIN\", \"TS\", \"WS10M\", \"WS10M_MAX\", \"WS50M\", \"WS50M_MAX\", \"WS50M_MIN\", \"WS50M_RANGE\"]])"
   ]
  },
  {
   "cell_type": "markdown",
   "id": "palestinian-tennis",
   "metadata": {
    "papermill": {
     "duration": 0.011532,
     "end_time": "2021-07-20T10:31:26.909904",
     "exception": false,
     "start_time": "2021-07-20T10:31:26.898372",
     "status": "completed"
    },
    "tags": []
   },
   "source": [
    "# Loading the unprocessed dataset into Pandas dataframes."
   ]
  },
  {
   "cell_type": "code",
   "execution_count": 2,
   "id": "raised-sending",
   "metadata": {
    "ExecuteTime": {
     "end_time": "2021-09-01T06:11:39.147449Z",
     "start_time": "2021-09-01T06:11:38.113711Z"
    }
   },
   "outputs": [],
   "source": [
    "import os\n",
    "import numpy as np\n",
    "import pandas as pd\n",
    "from tqdm.auto import tqdm\n",
    "\n",
    "import matplotlib.pyplot as plt\n",
    "%matplotlib inline\n",
    "import seaborn as sns\n",
    "plt.style.use('seaborn-poster')\n",
    "\n",
    "from scipy.interpolate import interp1d\n",
    "from sklearn.preprocessing import RobustScaler"
   ]
  },
  {
   "cell_type": "code",
   "execution_count": 3,
   "id": "random-terror",
   "metadata": {
    "ExecuteTime": {
     "end_time": "2021-09-01T06:11:39.162612Z",
     "start_time": "2021-09-01T06:11:39.149484Z"
    },
    "_kg_hide-input": false,
    "execution": {
     "iopub.execute_input": "2021-07-20T10:31:26.967510Z",
     "iopub.status.busy": "2021-07-20T10:31:26.966624Z",
     "iopub.status.idle": "2021-07-20T10:31:28.207788Z",
     "shell.execute_reply": "2021-07-20T10:31:28.206923Z",
     "shell.execute_reply.started": "2021-07-20T09:24:06.446705Z"
    },
    "papermill": {
     "duration": 1.261359,
     "end_time": "2021-07-20T10:31:28.208055",
     "exception": false,
     "start_time": "2021-07-20T10:31:26.946696",
     "status": "completed"
    },
    "tags": []
   },
   "outputs": [],
   "source": [
    "datasetsFolder = {}\n",
    "\n",
    "for dirname, _, filenames in os.walk(r'R:\\Ryerson\\Misc\\Datasets\\Predict Droughts using Weather & Soil Data\\\\'):\n",
    "    for filename in filenames:\n",
    "        if 'train' in filename:\n",
    "            datasetsFolder['train'] = os.path.join(dirname, filename)\n",
    "        if 'valid' in filename:\n",
    "            datasetsFolder['valid'] = os.path.join(dirname, filename)\n",
    "        if 'test' in filename:\n",
    "            datasetsFolder['test'] = os.path.join(dirname, filename)"
   ]
  },
  {
   "cell_type": "code",
   "execution_count": 4,
   "id": "fundamental-municipality",
   "metadata": {
    "ExecuteTime": {
     "end_time": "2021-09-01T06:12:21.046552Z",
     "start_time": "2021-09-01T06:11:39.163616Z"
    },
    "execution": {
     "iopub.execute_input": "2021-07-20T10:31:28.319477Z",
     "iopub.status.busy": "2021-07-20T10:31:28.318683Z",
     "iopub.status.idle": "2021-07-20T10:33:12.463143Z",
     "shell.execute_reply": "2021-07-20T10:33:12.463639Z",
     "shell.execute_reply.started": "2021-07-20T09:24:08.026750Z"
    },
    "papermill": {
     "duration": 104.162458,
     "end_time": "2021-07-20T10:33:12.463859",
     "exception": false,
     "start_time": "2021-07-20T10:31:28.301401",
     "status": "completed"
    },
    "tags": []
   },
   "outputs": [],
   "source": [
    "allDatasets = { k: pd.read_csv(datasetsFolder[k]).set_index(['fips', 'date'])\n",
    "    for k in datasetsFolder.keys()}"
   ]
  },
  {
   "cell_type": "markdown",
   "id": "diverse-container",
   "metadata": {},
   "source": [
    "# Pre-processing data to create feature and response matrices."
   ]
  },
  {
   "cell_type": "code",
   "execution_count": 5,
   "id": "deluxe-string",
   "metadata": {
    "ExecuteTime": {
     "end_time": "2021-09-01T06:12:21.062509Z",
     "start_time": "2021-09-01T06:12:21.047501Z"
    },
    "execution": {
     "iopub.execute_input": "2021-07-20T10:33:12.516498Z",
     "iopub.status.busy": "2021-07-20T10:33:12.515473Z",
     "iopub.status.idle": "2021-07-20T10:33:12.522123Z",
     "shell.execute_reply": "2021-07-20T10:33:12.522688Z",
     "shell.execute_reply.started": "2021-07-20T09:25:34.787083Z"
    },
    "papermill": {
     "duration": 0.022417,
     "end_time": "2021-07-20T10:33:12.522880",
     "exception": false,
     "start_time": "2021-07-20T10:33:12.500463",
     "status": "completed"
    },
    "tags": []
   },
   "outputs": [],
   "source": [
    "def interpolate_NaN_values(sourceArray, interpolationKind='linear'):\n",
    "    allIndexes = np.arange(sourceArray.shape[0])\n",
    "    allGoodIndexes, = np.where(np.isfinite(sourceArray))\n",
    "    f = interp1d(allGoodIndexes,\n",
    "                 sourceArray[allGoodIndexes],\n",
    "                 bounds_error=False,\n",
    "                 copy=False,\n",
    "                 fill_value='extrapolate',\n",
    "                 kind=interpolationKind)\n",
    "    return f(allIndexes)"
   ]
  },
  {
   "cell_type": "code",
   "execution_count": 6,
   "id": "binding-postage",
   "metadata": {
    "ExecuteTime": {
     "end_time": "2021-09-01T06:12:21.078418Z",
     "start_time": "2021-09-01T06:12:21.063491Z"
    },
    "execution": {
     "iopub.execute_input": "2021-07-20T10:33:12.573078Z",
     "iopub.status.busy": "2021-07-20T10:33:12.572063Z",
     "iopub.status.idle": "2021-07-20T10:33:12.595617Z",
     "shell.execute_reply": "2021-07-20T10:33:12.596428Z",
     "shell.execute_reply.started": "2021-07-20T09:25:34.796541Z"
    },
    "papermill": {
     "duration": 0.039205,
     "end_time": "2021-07-20T10:33:12.596660",
     "exception": false,
     "start_time": "2021-07-20T10:33:12.557455",
     "status": "completed"
    },
    "tags": []
   },
   "outputs": [],
   "source": [
    "def loadXYMatrices(\n",
    "    df,\n",
    "    randomState = 42, # random state is kept at 42 as per convention\n",
    "    windowSize = 90, # decides number of days per each output sample for which the corresponding drought score is returned\n",
    "    targetSize = 1, # decides how many weeks' worth of drought scores are returned starting the first day of the week following windowSize \n",
    "    ):\n",
    "        rawDF = allDatasets[df]\n",
    "\n",
    "        soilDF = pd.read_csv(r'R:\\Ryerson\\Misc\\Datasets\\Predict Droughts using Weather & Soil Data\\soil_data.csv')\n",
    "\n",
    "        timeSeriesDataColumns = sorted([c for c in rawDF.columns if c not in [\"fips\", \"date\", \"score\", \"T2M\", \"T2MDEW\", \"T2M_MIN\", \"TS\", \"WS10M\", \"WS10M_MAX\", \"WS50M\", \"WS50M_MAX\", \"WS50M_MIN\", \"WS50M_RANGE\"]])\n",
    "        #timeSeriesDataColumns are the 18 meteorological indicators minus the 10 indicators that have been deemed redundant based on the Correlation Heatmap generated in file 'Investigate_if_Scaling_Required_or_Not_+_Feature_Selection_Required_or_Not'\n",
    "        print('\\ntimeSeriesDataColumns: \\n')\n",
    "        for i_1 in timeSeriesDataColumns:\n",
    "            print(i_1, '\\n')\n",
    "\n",
    "        #staticDataColumns are the 29 soil data indicators\n",
    "        staticDataColumns = sorted([c for c in soilDF.columns if c not in [\"fips\", \"lat\", \"lon\"]])\n",
    "        '''print('\\nstaticDataColumns: ')\n",
    "        for i_2 in staticDataColumns:\n",
    "            print(i_2, '\\n')'''\n",
    "\n",
    "        count = 0\n",
    "        scoreDF = rawDF.dropna(subset=[\"score\"])\n",
    "\n",
    "        X_static = np.empty((len(rawDF) // windowSize, len(staticDataColumns)))\n",
    "        # the shape of this uninitialized array will be (19300680/windowSize, 28)\n",
    "        '''print('X_static Shape: ', X_static.shape)'''\n",
    "\n",
    "        X_time = np.empty((len(rawDF) // windowSize, windowSize, len(timeSeriesDataColumns))) \n",
    "        # the shape of this uninitialized array will be (19300680/windowSize, windowSize, 8)\n",
    "        print('X_time Shape: ', X_time.shape)\n",
    "\n",
    "        y_past = np.empty((len(rawDF) // windowSize, windowSize))\n",
    "        # the shape of this uninitialized array will be (19300680/windowSize, windowSize)\n",
    "        print('y_past Shape: ', y_past.shape)\n",
    "\n",
    "        y_target = np.empty((len(rawDF) // windowSize, targetSize))\n",
    "        # the shape of this uninitialized array will be (19300680/windowSize, targetSize)\n",
    "        print('y_target Shape: ', y_target.shape)\n",
    "\n",
    "        if randomState is not None:\n",
    "            np.random.seed(randomState)\n",
    "            \n",
    "        for uniqueFIPScode in tqdm(scoreDF.index.get_level_values(0).unique()): #for every unique FIPS county code\n",
    "            \n",
    "            startingPoint = 1\n",
    "            \n",
    "            fipsDF = rawDF[(rawDF.index.get_level_values(0) == uniqueFIPScode)] #store the df sample at [index = current unique value of fips] \n",
    "            X = fipsDF[timeSeriesDataColumns].values #individual X = current sample values of the 8 meteorological columns \n",
    "            y = fipsDF[\"score\"].values #individual y = current samples' values of the column 'score' as ndarray\n",
    "            XStat = soilDF[soilDF[\"fips\"] == uniqueFIPScode][staticDataColumns].values[0] #individual soil data sample = return as ndarray all the 28 column values minus the axis labels\n",
    "            \n",
    "            for i in range(startingPoint, len(y) - (windowSize + targetSize * 7), windowSize):\n",
    "                X_time[count, :, : len(timeSeriesDataColumns)] = X[i : i + windowSize]\n",
    "                y_past[count] = interpolate_NaN_values(y[i : i + windowSize])\n",
    "                tempY = y[i + windowSize : i + windowSize + targetSize * 7]\n",
    "                y_target[count] = np.array(tempY[~np.isnan(tempY)][:targetSize])\n",
    "                X_static[count] = XStat\n",
    "                count += 1\n",
    "        \n",
    "        print(f\"\\n\\n-----------------------------------\\nLoaded {count} samples successfully.\\n-----------------------------------\\n\\n\")\n",
    "        matrices = [X_time[:count], y_target[:count]]\n",
    "        \n",
    "        #If you wish to inculcate Soil data in the training of your model and require the Soil data array for the same then uncomment the following line of code: \n",
    "        #matrices.append(X_static[:count])\n",
    "        \n",
    "        #If you require the interpolated past drought values going back the duration of the window size then uncomment the following line of code: \n",
    "        matrices.append(y_past[:count])\n",
    "        \n",
    "        return matrices"
   ]
  },
  {
   "cell_type": "markdown",
   "id": "surrounded-morris",
   "metadata": {},
   "source": [
    "# Defining function to scale features using RobustScaler."
   ]
  },
  {
   "cell_type": "code",
   "execution_count": 7,
   "id": "senior-rapid",
   "metadata": {
    "ExecuteTime": {
     "end_time": "2021-09-01T06:12:21.094377Z",
     "start_time": "2021-09-01T06:12:21.081411Z"
    },
    "execution": {
     "iopub.execute_input": "2021-07-20T10:33:12.650140Z",
     "iopub.status.busy": "2021-07-20T10:33:12.649083Z",
     "iopub.status.idle": "2021-07-20T10:33:12.661155Z",
     "shell.execute_reply": "2021-07-20T10:33:12.661710Z",
     "shell.execute_reply.started": "2021-07-20T09:25:34.825533Z"
    },
    "papermill": {
     "duration": 0.028525,
     "end_time": "2021-07-20T10:33:12.661921",
     "exception": false,
     "start_time": "2021-07-20T10:33:12.633396",
     "status": "completed"
    },
    "tags": []
   },
   "outputs": [],
   "source": [
    "scalerDict = {}\n",
    "\n",
    "def scaleFeatures(sourceArray, fit=False):\n",
    "    for feature in tqdm(range(sourceArray.shape[-1])): #printing a progress bar for each of the meteorological indicators\n",
    "        if fit:\n",
    "            scalerDict[feature] = RobustScaler().fit(sourceArray[:, feature].reshape(-1, 1))\n",
    "        sourceArray[:, feature] = scalerDict[feature].transform(sourceArray[:, feature].reshape(-1, 1)).reshape(1, -1)\n",
    "    return sourceArray"
   ]
  },
  {
   "cell_type": "markdown",
   "id": "civil-suite",
   "metadata": {},
   "source": [
    "# Creating the Feature and Response matrices."
   ]
  },
  {
   "cell_type": "code",
   "execution_count": 8,
   "id": "unlike-spouse",
   "metadata": {
    "ExecuteTime": {
     "end_time": "2021-09-01T06:12:21.109363Z",
     "start_time": "2021-09-01T06:12:21.098366Z"
    }
   },
   "outputs": [],
   "source": [
    "# There are 3108 counties in the training dataset.\n",
    "\n",
    "# For each county, there are 6210 observations i.e. there is one observation for every day of 2001-2017. \n",
    "\n",
    "# Meaning there are a total of 3108 x 6210 = 19,300,680 observations in the training dataset."
   ]
  },
  {
   "cell_type": "code",
   "execution_count": 9,
   "id": "worldwide-pontiac",
   "metadata": {
    "ExecuteTime": {
     "end_time": "2021-09-01T06:21:27.022883Z",
     "start_time": "2021-09-01T06:12:21.110333Z"
    },
    "execution": {
     "iopub.execute_input": "2021-07-20T10:33:12.690376Z",
     "iopub.status.busy": "2021-07-20T10:33:12.689263Z",
     "iopub.status.idle": "2021-07-20T10:48:37.067746Z",
     "shell.execute_reply": "2021-07-20T10:48:37.066915Z",
     "shell.execute_reply.started": "2021-07-20T09:59:42.374341Z"
    },
    "papermill": {
     "duration": 924.394256,
     "end_time": "2021-07-20T10:48:37.068067",
     "exception": false,
     "start_time": "2021-07-20T10:33:12.673811",
     "status": "completed"
    },
    "scrolled": true,
    "tags": []
   },
   "outputs": [
    {
     "name": "stdout",
     "output_type": "stream",
     "text": [
      "\n",
      "timeSeriesDataColumns: \n",
      "\n",
      "PRECTOT \n",
      "\n",
      "PS \n",
      "\n",
      "QV2M \n",
      "\n",
      "T2MWET \n",
      "\n",
      "T2M_MAX \n",
      "\n",
      "T2M_RANGE \n",
      "\n",
      "WS10M_MIN \n",
      "\n",
      "WS10M_RANGE \n",
      "\n",
      "X_time Shape:  (214452, 90, 8)\n",
      "y_past Shape:  (214452, 90)\n",
      "y_target Shape:  (214452, 1)\n"
     ]
    },
    {
     "data": {
      "application/vnd.jupyter.widget-view+json": {
       "model_id": "ab18d792b47f48c48753ef12e3f54d8f",
       "version_major": 2,
       "version_minor": 0
      },
      "text/plain": [
       "  0%|          | 0/3108 [00:00<?, ?it/s]"
      ]
     },
     "metadata": {},
     "output_type": "display_data"
    },
    {
     "name": "stdout",
     "output_type": "stream",
     "text": [
      "\n",
      "\n",
      "-----------------------------------\n",
      "Loaded 211344 samples successfully.\n",
      "-----------------------------------\n",
      "\n",
      "\n",
      "\n",
      "timeSeriesDataColumns: \n",
      "\n",
      "PRECTOT \n",
      "\n",
      "PS \n",
      "\n",
      "QV2M \n",
      "\n",
      "T2MWET \n",
      "\n",
      "T2M_MAX \n",
      "\n",
      "T2M_RANGE \n",
      "\n",
      "WS10M_MIN \n",
      "\n",
      "WS10M_RANGE \n",
      "\n",
      "X_time Shape:  (25209, 90, 8)\n",
      "y_past Shape:  (25209, 90)\n",
      "y_target Shape:  (25209, 1)\n"
     ]
    },
    {
     "data": {
      "application/vnd.jupyter.widget-view+json": {
       "model_id": "f68f4dadfdfd425faa26eec256d73691",
       "version_major": 2,
       "version_minor": 0
      },
      "text/plain": [
       "  0%|          | 0/3108 [00:00<?, ?it/s]"
      ]
     },
     "metadata": {},
     "output_type": "display_data"
    },
    {
     "name": "stdout",
     "output_type": "stream",
     "text": [
      "\n",
      "\n",
      "-----------------------------------\n",
      "Loaded 24864 samples successfully.\n",
      "-----------------------------------\n",
      "\n",
      "\n",
      "\n",
      "timeSeriesDataColumns: \n",
      "\n",
      "PRECTOT \n",
      "\n",
      "PS \n",
      "\n",
      "QV2M \n",
      "\n",
      "T2MWET \n",
      "\n",
      "T2M_MAX \n",
      "\n",
      "T2M_RANGE \n",
      "\n",
      "WS10M_MIN \n",
      "\n",
      "WS10M_RANGE \n",
      "\n",
      "X_time Shape:  (25243, 90, 8)\n",
      "y_past Shape:  (25243, 90)\n",
      "y_target Shape:  (25243, 1)\n"
     ]
    },
    {
     "data": {
      "application/vnd.jupyter.widget-view+json": {
       "model_id": "d6e74704e95542548daf168e7c137c2c",
       "version_major": 2,
       "version_minor": 0
      },
      "text/plain": [
       "  0%|          | 0/3108 [00:00<?, ?it/s]"
      ]
     },
     "metadata": {},
     "output_type": "display_data"
    },
    {
     "name": "stdout",
     "output_type": "stream",
     "text": [
      "\n",
      "\n",
      "-----------------------------------\n",
      "Loaded 24864 samples successfully.\n",
      "-----------------------------------\n",
      "\n",
      "\n"
     ]
    }
   ],
   "source": [
    "X_train_unscaled, y_target_train, y_past_train = loadXYMatrices(\"train\")\n",
    "X_valid_unscaled, y_target_valid, y_past_valid = loadXYMatrices(\"valid\")\n",
    "X_test_unscaled, y_target_test, y_past_test = loadXYMatrices(\"test\")"
   ]
  },
  {
   "cell_type": "code",
   "execution_count": 10,
   "id": "registered-albuquerque",
   "metadata": {
    "ExecuteTime": {
     "end_time": "2021-09-01T06:21:27.038704Z",
     "start_time": "2021-09-01T06:21:27.023745Z"
    }
   },
   "outputs": [
    {
     "name": "stdout",
     "output_type": "stream",
     "text": [
      "\n",
      "X_train_unscaled.shape:  (211344, 90, 8)\n",
      "\n",
      "y_target_train.shape:  (211344, 1)\n",
      "\n",
      "y_past_train.shape:  (211344, 90)\n",
      "\n",
      "\n",
      "\n",
      "\n",
      "\n",
      "X_valid_unscaled.shape:  (24864, 90, 8)\n",
      "\n",
      "y_target_valid.shape:  (24864, 1)\n",
      "\n",
      "y_past_valid.shape:  (24864, 90)\n",
      "\n",
      "\n",
      "\n",
      "\n",
      "\n",
      "X_test_unscaled.shape:  (24864, 90, 8)\n",
      "\n",
      "y_target_test.shape:  (24864, 1)\n",
      "\n",
      "y_past_test.shape:  (24864, 90)\n"
     ]
    }
   ],
   "source": [
    "print('\\nX_train_unscaled.shape: ', X_train_unscaled.shape)\n",
    "print('\\ny_target_train.shape: ', y_target_train.shape)\n",
    "print('\\ny_past_train.shape: ', y_past_train.shape)\n",
    "\n",
    "\n",
    "print('\\n\\n\\n')\n",
    "\n",
    "print('\\nX_valid_unscaled.shape: ', X_valid_unscaled.shape)\n",
    "print('\\ny_target_valid.shape: ', y_target_valid.shape)\n",
    "print('\\ny_past_valid.shape: ', y_past_valid.shape)\n",
    "\n",
    "print('\\n\\n\\n')\n",
    "\n",
    "print('\\nX_test_unscaled.shape: ', X_test_unscaled.shape)\n",
    "print('\\ny_target_test.shape: ', y_target_test.shape)\n",
    "print('\\ny_past_test.shape: ', y_past_test.shape)"
   ]
  },
  {
   "cell_type": "code",
   "execution_count": 11,
   "id": "considerable-administrator",
   "metadata": {
    "ExecuteTime": {
     "end_time": "2021-09-01T06:21:29.837280Z",
     "start_time": "2021-09-01T06:21:27.039702Z"
    }
   },
   "outputs": [
    {
     "name": "stdout",
     "output_type": "stream",
     "text": [
      "211344\n"
     ]
    }
   ],
   "source": [
    "X_train = np.empty((X_train_unscaled.shape[0], X_train_unscaled.shape[-1]))\n",
    "i = 0\n",
    "for window in X_train_unscaled:\n",
    "    X_train[i] = np.mean(window, axis=0)\n",
    "    i += 1\n",
    "print(i)"
   ]
  },
  {
   "cell_type": "code",
   "execution_count": 12,
   "id": "documented-perth",
   "metadata": {
    "ExecuteTime": {
     "end_time": "2021-09-01T06:21:29.853205Z",
     "start_time": "2021-09-01T06:21:29.838241Z"
    }
   },
   "outputs": [
    {
     "data": {
      "text/plain": [
       "(211344, 8)"
      ]
     },
     "execution_count": 12,
     "metadata": {},
     "output_type": "execute_result"
    },
    {
     "name": "stdout",
     "output_type": "stream",
     "text": [
      "[  3.15733333 100.57466667   6.73355556   6.64211111  17.78066667\n",
      "  13.24944444   1.46166667   1.97433333] \n",
      "\n",
      "\n"
     ]
    }
   ],
   "source": [
    "X_train.shape\n",
    "\n",
    "count = 0\n",
    "for k in X_train:\n",
    "    print(k, '\\n\\n')\n",
    "    count += 1\n",
    "    if count == 1:\n",
    "        break"
   ]
  },
  {
   "cell_type": "code",
   "execution_count": 13,
   "id": "peaceful-firewall",
   "metadata": {
    "ExecuteTime": {
     "end_time": "2021-09-01T06:21:30.170353Z",
     "start_time": "2021-09-01T06:21:29.854201Z"
    }
   },
   "outputs": [
    {
     "name": "stdout",
     "output_type": "stream",
     "text": [
      "24864\n"
     ]
    }
   ],
   "source": [
    "X_valid = np.empty((X_valid_unscaled.shape[0], X_valid_unscaled.shape[-1]))\n",
    "i = 0\n",
    "for window in X_valid_unscaled:\n",
    "    X_valid[i] = np.mean(window, axis=0)\n",
    "    i += 1\n",
    "print(i)"
   ]
  },
  {
   "cell_type": "code",
   "execution_count": 14,
   "id": "fifteen-bahamas",
   "metadata": {
    "ExecuteTime": {
     "end_time": "2021-09-01T06:21:30.186312Z",
     "start_time": "2021-09-01T06:21:30.171350Z"
    }
   },
   "outputs": [
    {
     "data": {
      "text/plain": [
       "(24864, 8)"
      ]
     },
     "execution_count": 14,
     "metadata": {},
     "output_type": "execute_result"
    },
    {
     "name": "stdout",
     "output_type": "stream",
     "text": [
      "[  4.614      100.45155556   7.92366667   9.12966667  18.53855556\n",
      "  11.90355556   1.49811111   2.00644444] \n",
      "\n",
      "\n"
     ]
    }
   ],
   "source": [
    "X_valid.shape\n",
    "\n",
    "count = 0\n",
    "for k in X_valid:\n",
    "    print(k, '\\n\\n')\n",
    "    count += 1\n",
    "    if count == 1:\n",
    "        break"
   ]
  },
  {
   "cell_type": "code",
   "execution_count": 15,
   "id": "removable-accessory",
   "metadata": {
    "ExecuteTime": {
     "end_time": "2021-09-01T06:21:30.521447Z",
     "start_time": "2021-09-01T06:21:30.187309Z"
    }
   },
   "outputs": [
    {
     "name": "stdout",
     "output_type": "stream",
     "text": [
      "24864\n"
     ]
    }
   ],
   "source": [
    "X_test = np.empty((X_test_unscaled.shape[0], X_test_unscaled.shape[-1]))\n",
    "i = 0\n",
    "for window in X_test_unscaled:\n",
    "    X_test[i] = np.mean(window, axis=0)\n",
    "    i += 1\n",
    "print(i)"
   ]
  },
  {
   "cell_type": "code",
   "execution_count": 16,
   "id": "affiliated-grounds",
   "metadata": {
    "ExecuteTime": {
     "end_time": "2021-09-01T06:21:30.537371Z",
     "start_time": "2021-09-01T06:21:30.522412Z"
    }
   },
   "outputs": [
    {
     "data": {
      "text/plain": [
       "(24864, 8)"
      ]
     },
     "execution_count": 16,
     "metadata": {},
     "output_type": "execute_result"
    },
    {
     "name": "stdout",
     "output_type": "stream",
     "text": [
      "[  3.86077778 100.54555556   7.04644444   7.50855556  16.61255556\n",
      "  11.44988889   1.45688889   1.972     ] \n",
      "\n",
      "\n"
     ]
    }
   ],
   "source": [
    "X_test.shape\n",
    "\n",
    "count = 0\n",
    "for k in X_test:\n",
    "    print(k, '\\n\\n')\n",
    "    count += 1\n",
    "    if count == 1:\n",
    "        break"
   ]
  },
  {
   "cell_type": "markdown",
   "id": "brown-circular",
   "metadata": {},
   "source": [
    "# Scaling Feature values"
   ]
  },
  {
   "cell_type": "code",
   "execution_count": 17,
   "id": "third-notebook",
   "metadata": {
    "ExecuteTime": {
     "end_time": "2021-09-01T06:21:30.724870Z",
     "start_time": "2021-09-01T06:21:30.538368Z"
    }
   },
   "outputs": [
    {
     "data": {
      "application/vnd.jupyter.widget-view+json": {
       "model_id": "a2bd97b39924441589f3bb51cc0d2734",
       "version_major": 2,
       "version_minor": 0
      },
      "text/plain": [
       "  0%|          | 0/8 [00:00<?, ?it/s]"
      ]
     },
     "metadata": {},
     "output_type": "display_data"
    },
    {
     "data": {
      "application/vnd.jupyter.widget-view+json": {
       "model_id": "5f1ad9d7bfb94268b8749233e60e4581",
       "version_major": 2,
       "version_minor": 0
      },
      "text/plain": [
       "  0%|          | 0/8 [00:00<?, ?it/s]"
      ]
     },
     "metadata": {},
     "output_type": "display_data"
    },
    {
     "data": {
      "application/vnd.jupyter.widget-view+json": {
       "model_id": "b963ad1cc17a4d49a750b6f226c51491",
       "version_major": 2,
       "version_minor": 0
      },
      "text/plain": [
       "  0%|          | 0/8 [00:00<?, ?it/s]"
      ]
     },
     "metadata": {},
     "output_type": "display_data"
    }
   ],
   "source": [
    "X_train = scaleFeatures(X_train, fit=True)\n",
    "X_valid = scaleFeatures(X_valid)\n",
    "X_test = scaleFeatures(X_test)"
   ]
  },
  {
   "cell_type": "code",
   "execution_count": 18,
   "id": "careful-hunter",
   "metadata": {
    "ExecuteTime": {
     "end_time": "2021-09-01T06:21:30.740827Z",
     "start_time": "2021-09-01T06:21:30.725868Z"
    },
    "scrolled": true
   },
   "outputs": [
    {
     "name": "stdout",
     "output_type": "stream",
     "text": [
      "[ 0.30109511  0.56100805 -0.07897985 -0.05489168 -0.13169524  0.71032448\n",
      " -0.39088274 -0.54605073]\n",
      "\n",
      "\n",
      "\n",
      "\n",
      "[-0.09046542  0.46552321  0.60290003  0.54213096  0.60549603  0.92650653\n",
      " -0.65610317 -0.56479516]\n",
      "\n",
      "\n",
      "\n",
      "\n",
      "[-0.40197596  0.42922457  0.87385626  0.71667406  1.00562612  1.11769912\n",
      " -0.7316805  -0.71138359]\n",
      "\n",
      "\n",
      "\n",
      "\n",
      "[ 0.17807404  0.57336621 -0.13879018 -0.12378263 -0.03080814  0.66249473\n",
      " -0.70308907 -0.58796186]\n",
      "\n",
      "\n",
      "\n",
      "\n",
      "[ 1.96315915  0.54324665 -0.20898473 -0.19089039 -0.3921733  -0.01989043\n",
      " -0.51304609 -0.55891554]\n",
      "\n",
      "\n",
      "\n",
      "\n",
      "[ 0.71229616  0.48796741  0.74502862  0.62854722  0.38702054 -0.06257901\n",
      " -0.64920524 -0.68158348]\n",
      "\n",
      "\n",
      "\n",
      "\n",
      "[ 0.61617665  0.46338963  1.25482203  0.93926655  0.77044933 -0.01112516\n",
      " -0.84894532 -0.82651356]\n",
      "\n",
      "\n",
      "\n",
      "\n",
      "[ 0.10736817  0.55128223  0.06314874  0.11089684  0.16725867  0.94926254\n",
      " -0.47585724 -0.65962285]\n",
      "\n",
      "\n",
      "\n",
      "\n",
      "[ 0.59689323  0.55840341 -0.21128648 -0.2053173  -0.33244322  0.44627054\n",
      " -0.40977707 -0.57454427]\n",
      "\n",
      "\n",
      "\n",
      "\n",
      "[-0.29306035  0.48250876  0.62361577  0.54159035  0.51579613  0.72077539\n",
      " -0.61091672 -0.64896918]\n",
      "\n",
      "\n",
      "\n",
      "\n",
      "[ 0.19979764  0.4692362   1.23182212  0.93148021  0.92631845  0.36224189\n",
      " -0.85084475 -0.81440255]\n",
      "\n",
      "\n",
      "\n",
      "\n",
      "[ 1.22199738  0.48314607  0.39990688  0.32187034  0.03695821 -0.46160978\n",
      " -0.55373388 -0.63746121]\n",
      "\n",
      "\n",
      "\n",
      "\n",
      "[ 0.92530651  0.51902908 -0.21102292 -0.19176988 -0.40057815  0.01495997\n",
      " -0.49655103 -0.51353694]\n",
      "\n",
      "\n",
      "\n",
      "\n",
      "[ 1.97357457  0.40486845  0.776357    0.64410376  0.34834234 -0.2852086\n",
      " -0.58062581 -0.58178072]\n",
      "\n",
      "\n",
      "\n",
      "\n",
      "[ 1.20140459  0.45610219  1.45604055  1.04163473  0.7203599  -0.5897598\n",
      " -0.94181745 -0.87606317]\n",
      "\n",
      "\n",
      "\n",
      "\n",
      "[-0.1398643   0.50027016  0.29191796  0.27981603  0.193868    0.63860093\n",
      " -0.62211337 -0.65630614]\n",
      "\n",
      "\n",
      "\n",
      "\n",
      "[ 0.35025592  0.56474875 -0.26382257 -0.24481381 -0.41268316  0.16342183\n",
      " -0.4396681  -0.51388871]\n",
      "\n",
      "\n",
      "\n",
      "\n",
      "[-0.12272349  0.51484504  0.48584468  0.45005043  0.37753166  0.60893384\n",
      " -0.67349795 -0.60555046]\n",
      "\n",
      "\n",
      "\n",
      "\n",
      "[ 0.49232234  0.44255254  1.26914207  0.94485819  0.81080417 -0.00168563\n",
      " -0.88443467 -0.79123585]\n",
      "\n",
      "\n",
      "\n",
      "\n",
      "[ 1.12540174  0.47973787  0.53358401  0.47877516  0.28971797 -0.07867678\n",
      " -0.37828651 -0.62283754]\n",
      "\n",
      "\n",
      "\n",
      "\n",
      "[ 0.29151292  0.58386788 -0.16479467 -0.14727882 -0.35720971 -0.03084703\n",
      " -0.46646006 -0.52363783]\n",
      "\n",
      "\n",
      "\n",
      "\n",
      "[ 1.34501845  0.4025132   0.394337    0.38668657  0.1901823   0.2660767\n",
      " -0.62131361 -0.54283453]\n",
      "\n",
      "\n",
      "\n",
      "\n",
      "[ 1.51589097  0.41941562  1.52386307  1.07183604  0.77625251 -0.50181205\n",
      " -0.8843347  -0.74811865]\n",
      "\n",
      "\n",
      "\n",
      "\n",
      "[-0.29782169  0.48358941  0.43441554  0.36541736  0.37314495  0.6920354\n",
      " -0.49225232 -0.70439841]\n",
      "\n",
      "\n",
      "\n",
      "\n",
      "[ 0.71890251  0.5272032  -0.24706022 -0.21921975 -0.39265027  0.1662874\n",
      " -0.41207638 -0.50831061]\n",
      "\n",
      "\n",
      "\n",
      "\n",
      "[ 0.27044399  0.45538176  0.4233812   0.403639    0.28318488  0.52958281\n",
      " -0.5063481  -0.55961908]\n",
      "\n",
      "\n",
      "\n",
      "\n",
      "[-0.01136769  0.44704138  1.14976741  0.88432646  0.98648937  0.71428571\n",
      " -1.00719784 -0.82892571]\n",
      "\n",
      "\n",
      "\n",
      "\n",
      "[ 0.57320557  0.45410715  0.34139677  0.3120426   0.31835083  0.70788032\n",
      " -0.61111667 -0.62489792]\n",
      "\n",
      "\n",
      "\n",
      "\n",
      "[ 0.21574813  0.59891381 -0.21604811 -0.2055513  -0.36069306  0.19034977\n",
      " -0.46106168 -0.57363971]\n",
      "\n",
      "\n",
      "\n",
      "\n",
      "[-0.61284371  0.50004849  0.21984336  0.24711341  0.29200889  0.88411294\n",
      " -0.5883235  -0.54579946]\n",
      "\n",
      "\n",
      "\n",
      "\n"
     ]
    }
   ],
   "source": [
    "count = 0\n",
    "for k in X_train:\n",
    "    print(k)\n",
    "    #for j in k:\n",
    "    #    print(j)\n",
    "    count += 1\n",
    "    print('\\n\\n\\n')\n",
    "    if count == 30:\n",
    "        break"
   ]
  },
  {
   "cell_type": "code",
   "execution_count": 19,
   "id": "contained-numbers",
   "metadata": {
    "ExecuteTime": {
     "end_time": "2021-09-01T06:21:30.756785Z",
     "start_time": "2021-09-01T06:21:30.741824Z"
    },
    "scrolled": true
   },
   "outputs": [
    {
     "name": "stdout",
     "output_type": "stream",
     "text": [
      "[1.] \n",
      "\n",
      "[3.] \n",
      "\n",
      "[4.7207] \n",
      "\n",
      "[3.] \n",
      "\n",
      "[0.] \n",
      "\n",
      "[0.] \n",
      "\n",
      "[0.] \n",
      "\n",
      "[0.5425] \n",
      "\n",
      "[1.] \n",
      "\n",
      "[2.] \n",
      "\n"
     ]
    }
   ],
   "source": [
    "count = 0\n",
    "for k in y_target_train:\n",
    "    print(k, '\\n')\n",
    "    count += 1\n",
    "    if count == 10:\n",
    "        break"
   ]
  },
  {
   "cell_type": "markdown",
   "id": "incorrect-bidder",
   "metadata": {},
   "source": [
    "# Fusing Past Drought values"
   ]
  },
  {
   "cell_type": "markdown",
   "id": "sophisticated-conversion",
   "metadata": {},
   "source": [
    "## For X_train"
   ]
  },
  {
   "cell_type": "code",
   "execution_count": 20,
   "id": "primary-bonus",
   "metadata": {
    "ExecuteTime": {
     "end_time": "2021-09-01T06:21:30.772741Z",
     "start_time": "2021-09-01T06:21:30.757782Z"
    }
   },
   "outputs": [],
   "source": [
    "y_past_train_trimmed = np.delete(y_past_train, np.s_[1::], 1)"
   ]
  },
  {
   "cell_type": "code",
   "execution_count": 21,
   "id": "intense-annual",
   "metadata": {
    "ExecuteTime": {
     "end_time": "2021-09-01T06:21:30.788699Z",
     "start_time": "2021-09-01T06:21:30.773739Z"
    }
   },
   "outputs": [
    {
     "data": {
      "text/plain": [
       "(211344, 1)"
      ]
     },
     "execution_count": 21,
     "metadata": {},
     "output_type": "execute_result"
    }
   ],
   "source": [
    "y_past_train_trimmed.shape"
   ]
  },
  {
   "cell_type": "code",
   "execution_count": 22,
   "id": "adapted-notification",
   "metadata": {
    "ExecuteTime": {
     "end_time": "2021-09-01T06:21:30.804656Z",
     "start_time": "2021-09-01T06:21:30.791691Z"
    }
   },
   "outputs": [],
   "source": [
    "X_train_concatenatedWithPastDroughtValues = np.concatenate((X_train, y_past_train_trimmed), axis=1)"
   ]
  },
  {
   "cell_type": "code",
   "execution_count": 23,
   "id": "prepared-crown",
   "metadata": {
    "ExecuteTime": {
     "end_time": "2021-09-01T06:21:30.819616Z",
     "start_time": "2021-09-01T06:21:30.806651Z"
    }
   },
   "outputs": [
    {
     "data": {
      "text/plain": [
       "(211344, 9)"
      ]
     },
     "execution_count": 23,
     "metadata": {},
     "output_type": "execute_result"
    }
   ],
   "source": [
    "X_train_concatenatedWithPastDroughtValues.shape"
   ]
  },
  {
   "cell_type": "markdown",
   "id": "traditional-powell",
   "metadata": {},
   "source": [
    "## For X_valid"
   ]
  },
  {
   "cell_type": "code",
   "execution_count": 24,
   "id": "illegal-kruger",
   "metadata": {
    "ExecuteTime": {
     "end_time": "2021-09-01T06:21:30.834583Z",
     "start_time": "2021-09-01T06:21:30.820614Z"
    }
   },
   "outputs": [],
   "source": [
    "y_past_valid_trimmed = np.delete(y_past_valid, np.s_[1::], 1)"
   ]
  },
  {
   "cell_type": "code",
   "execution_count": 25,
   "id": "connected-thong",
   "metadata": {
    "ExecuteTime": {
     "end_time": "2021-09-01T06:21:30.850534Z",
     "start_time": "2021-09-01T06:21:30.835574Z"
    }
   },
   "outputs": [
    {
     "data": {
      "text/plain": [
       "(24864, 1)"
      ]
     },
     "execution_count": 25,
     "metadata": {},
     "output_type": "execute_result"
    }
   ],
   "source": [
    "y_past_valid_trimmed.shape"
   ]
  },
  {
   "cell_type": "code",
   "execution_count": 26,
   "id": "imposed-ability",
   "metadata": {
    "ExecuteTime": {
     "end_time": "2021-09-01T06:21:30.866490Z",
     "start_time": "2021-09-01T06:21:30.851531Z"
    }
   },
   "outputs": [],
   "source": [
    "X_valid_concatenatedWithPastDroughtValues = np.concatenate((X_valid, y_past_valid_trimmed), axis=1)"
   ]
  },
  {
   "cell_type": "code",
   "execution_count": 27,
   "id": "august-polymer",
   "metadata": {
    "ExecuteTime": {
     "end_time": "2021-09-01T06:21:30.882448Z",
     "start_time": "2021-09-01T06:21:30.867488Z"
    }
   },
   "outputs": [
    {
     "data": {
      "text/plain": [
       "(24864, 9)"
      ]
     },
     "execution_count": 27,
     "metadata": {},
     "output_type": "execute_result"
    }
   ],
   "source": [
    "X_valid_concatenatedWithPastDroughtValues.shape"
   ]
  },
  {
   "cell_type": "markdown",
   "id": "divided-denver",
   "metadata": {},
   "source": [
    "## For X_test"
   ]
  },
  {
   "cell_type": "code",
   "execution_count": 28,
   "id": "consecutive-preserve",
   "metadata": {
    "ExecuteTime": {
     "end_time": "2021-09-01T06:21:30.898405Z",
     "start_time": "2021-09-01T06:21:30.883445Z"
    }
   },
   "outputs": [],
   "source": [
    "y_past_test_trimmed = np.delete(y_past_test, np.s_[1::], 1)"
   ]
  },
  {
   "cell_type": "code",
   "execution_count": 29,
   "id": "geological-practitioner",
   "metadata": {
    "ExecuteTime": {
     "end_time": "2021-09-01T06:21:30.914362Z",
     "start_time": "2021-09-01T06:21:30.899403Z"
    }
   },
   "outputs": [
    {
     "data": {
      "text/plain": [
       "(24864, 1)"
      ]
     },
     "execution_count": 29,
     "metadata": {},
     "output_type": "execute_result"
    }
   ],
   "source": [
    "y_past_test_trimmed.shape"
   ]
  },
  {
   "cell_type": "code",
   "execution_count": 30,
   "id": "hollow-dover",
   "metadata": {
    "ExecuteTime": {
     "end_time": "2021-09-01T06:21:30.929322Z",
     "start_time": "2021-09-01T06:21:30.915360Z"
    }
   },
   "outputs": [],
   "source": [
    "X_test_concatenatedWithPastDroughtValues = np.concatenate((X_test, y_past_test_trimmed), axis=1)"
   ]
  },
  {
   "cell_type": "code",
   "execution_count": 31,
   "id": "meaningful-sessions",
   "metadata": {
    "ExecuteTime": {
     "end_time": "2021-09-01T06:21:30.944282Z",
     "start_time": "2021-09-01T06:21:30.930320Z"
    }
   },
   "outputs": [
    {
     "data": {
      "text/plain": [
       "(24864, 9)"
      ]
     },
     "execution_count": 31,
     "metadata": {},
     "output_type": "execute_result"
    }
   ],
   "source": [
    "X_test_concatenatedWithPastDroughtValues.shape"
   ]
  },
  {
   "cell_type": "markdown",
   "id": "adequate-chocolate",
   "metadata": {},
   "source": [
    "# Saving Feature and Response matrices for Training, Validation and Testing datasets respectively to file for future ease of use."
   ]
  },
  {
   "cell_type": "code",
   "execution_count": 32,
   "id": "arbitrary-object",
   "metadata": {
    "ExecuteTime": {
     "end_time": "2021-09-01T06:21:34.194779Z",
     "start_time": "2021-09-01T06:21:30.945280Z"
    }
   },
   "outputs": [],
   "source": [
    "#30-Day Window + Scaled\n",
    "\n",
    "# Training Files\n",
    "\n",
    "np.savetxt('R:\\Ryerson\\Misc\\Datasets\\Preprocessed Data Files\\X_train_90_day_window_scaled_+_pastDroughtValues_+_FeatureSelection.csv', X_train_concatenatedWithPastDroughtValues, delimiter=',', newline='\\n')\n",
    "\n",
    "np.savetxt('R:\\Ryerson\\Misc\\Datasets\\Preprocessed Data Files\\y_target_train_90_day_window.csv', y_target_train, delimiter=',', newline='\\n')\n",
    "\n",
    "\n",
    "\n",
    "# Validation Files\n",
    "\n",
    "np.savetxt('R:\\Ryerson\\Misc\\Datasets\\Preprocessed Data Files\\X_valid_90_day_window_scaled_+_pastDroughtValues_+_FeatureSelection.csv', X_valid_concatenatedWithPastDroughtValues, delimiter=',', newline='\\n')\n",
    "\n",
    "np.savetxt('R:\\Ryerson\\Misc\\Datasets\\Preprocessed Data Files\\y_target_valid_90_day_window.csv', y_target_valid, delimiter=',', newline='\\n')\n",
    "\n",
    "\n",
    "\n",
    "# Testing Files\n",
    "\n",
    "np.savetxt('R:\\Ryerson\\Misc\\Datasets\\Preprocessed Data Files\\X_test_90_day_window_scaled_+_pastDroughtValues_+_FeatureSelection.csv', X_test_concatenatedWithPastDroughtValues, delimiter=',', newline='\\n')\n",
    "\n",
    "np.savetxt('R:\\Ryerson\\Misc\\Datasets\\Preprocessed Data Files\\y_target_test_90_day_window.csv', y_target_test, delimiter=',', newline='\\n')\n"
   ]
  }
 ],
 "metadata": {
  "kernelspec": {
   "display_name": "Python 3",
   "language": "python",
   "name": "python3"
  },
  "language_info": {
   "codemirror_mode": {
    "name": "ipython",
    "version": 3
   },
   "file_extension": ".py",
   "mimetype": "text/x-python",
   "name": "python",
   "nbconvert_exporter": "python",
   "pygments_lexer": "ipython3",
   "version": "3.8.8"
  },
  "toc": {
   "base_numbering": 1,
   "nav_menu": {},
   "number_sections": true,
   "sideBar": true,
   "skip_h1_title": false,
   "title_cell": "Table of Contents",
   "title_sidebar": "Contents",
   "toc_cell": false,
   "toc_position": {},
   "toc_section_display": true,
   "toc_window_display": false
  },
  "varInspector": {
   "cols": {
    "lenName": 16,
    "lenType": 16,
    "lenVar": 40
   },
   "kernels_config": {
    "python": {
     "delete_cmd_postfix": "",
     "delete_cmd_prefix": "del ",
     "library": "var_list.py",
     "varRefreshCmd": "print(var_dic_list())"
    },
    "r": {
     "delete_cmd_postfix": ") ",
     "delete_cmd_prefix": "rm(",
     "library": "var_list.r",
     "varRefreshCmd": "cat(var_dic_list()) "
    }
   },
   "types_to_exclude": [
    "module",
    "function",
    "builtin_function_or_method",
    "instance",
    "_Feature"
   ],
   "window_display": false
  }
 },
 "nbformat": 4,
 "nbformat_minor": 5
}

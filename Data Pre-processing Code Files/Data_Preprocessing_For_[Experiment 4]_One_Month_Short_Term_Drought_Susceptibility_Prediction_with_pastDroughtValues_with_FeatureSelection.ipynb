{
 "cells": [
  {
   "cell_type": "code",
   "execution_count": 1,
   "id": "joined-journal",
   "metadata": {
    "ExecuteTime": {
     "end_time": "2021-09-01T09:17:59.161080Z",
     "start_time": "2021-09-01T09:17:59.146116Z"
    }
   },
   "outputs": [],
   "source": [
    "#timeSeriesDataColumns = sorted([c for c in rawDF.columns if c not in [\"fips\", \"date\", \"score\", \"T2M\", \"T2MDEW\", \"T2M_MIN\", \"TS\", \"WS10M\", \"WS10M_MAX\", \"WS50M\", \"WS50M_MAX\", \"WS50M_MIN\", \"WS50M_RANGE\"]])"
   ]
  },
  {
   "cell_type": "markdown",
   "id": "palestinian-tennis",
   "metadata": {
    "papermill": {
     "duration": 0.011532,
     "end_time": "2021-07-20T10:31:26.909904",
     "exception": false,
     "start_time": "2021-07-20T10:31:26.898372",
     "status": "completed"
    },
    "tags": []
   },
   "source": [
    "# Loading the unprocessed dataset into Pandas dataframes."
   ]
  },
  {
   "cell_type": "code",
   "execution_count": 2,
   "id": "alive-fetish",
   "metadata": {
    "ExecuteTime": {
     "end_time": "2021-09-01T09:18:00.159454Z",
     "start_time": "2021-09-01T09:17:59.163073Z"
    }
   },
   "outputs": [],
   "source": [
    "import os\n",
    "import numpy as np\n",
    "import pandas as pd\n",
    "from tqdm.auto import tqdm\n",
    "\n",
    "import matplotlib.pyplot as plt\n",
    "%matplotlib inline\n",
    "import seaborn as sns\n",
    "plt.style.use('seaborn-poster')\n",
    "\n",
    "from scipy.interpolate import interp1d\n",
    "from sklearn.preprocessing import RobustScaler"
   ]
  },
  {
   "cell_type": "code",
   "execution_count": 3,
   "id": "random-terror",
   "metadata": {
    "ExecuteTime": {
     "end_time": "2021-09-01T09:18:00.174389Z",
     "start_time": "2021-09-01T09:18:00.161400Z"
    },
    "_kg_hide-input": false,
    "execution": {
     "iopub.execute_input": "2021-07-20T10:31:26.967510Z",
     "iopub.status.busy": "2021-07-20T10:31:26.966624Z",
     "iopub.status.idle": "2021-07-20T10:31:28.207788Z",
     "shell.execute_reply": "2021-07-20T10:31:28.206923Z",
     "shell.execute_reply.started": "2021-07-20T09:24:06.446705Z"
    },
    "papermill": {
     "duration": 1.261359,
     "end_time": "2021-07-20T10:31:28.208055",
     "exception": false,
     "start_time": "2021-07-20T10:31:26.946696",
     "status": "completed"
    },
    "tags": []
   },
   "outputs": [],
   "source": [
    "datasetsFolder = {}\n",
    "\n",
    "for dirname, _, filenames in os.walk(r'R:\\Ryerson\\Misc\\Datasets\\Predict Droughts using Weather & Soil Data\\\\'):\n",
    "    for filename in filenames:\n",
    "        if 'train' in filename:\n",
    "            datasetsFolder['train'] = os.path.join(dirname, filename)\n",
    "        if 'valid' in filename:\n",
    "            datasetsFolder['valid'] = os.path.join(dirname, filename)\n",
    "        if 'test' in filename:\n",
    "            datasetsFolder['test'] = os.path.join(dirname, filename)"
   ]
  },
  {
   "cell_type": "code",
   "execution_count": 4,
   "id": "fundamental-municipality",
   "metadata": {
    "ExecuteTime": {
     "end_time": "2021-09-01T09:18:53.553328Z",
     "start_time": "2021-09-01T09:18:00.175363Z"
    },
    "execution": {
     "iopub.execute_input": "2021-07-20T10:31:28.319477Z",
     "iopub.status.busy": "2021-07-20T10:31:28.318683Z",
     "iopub.status.idle": "2021-07-20T10:33:12.463143Z",
     "shell.execute_reply": "2021-07-20T10:33:12.463639Z",
     "shell.execute_reply.started": "2021-07-20T09:24:08.026750Z"
    },
    "papermill": {
     "duration": 104.162458,
     "end_time": "2021-07-20T10:33:12.463859",
     "exception": false,
     "start_time": "2021-07-20T10:31:28.301401",
     "status": "completed"
    },
    "tags": []
   },
   "outputs": [],
   "source": [
    "allDatasets = { k: pd.read_csv(datasetsFolder[k]).set_index(['fips', 'date'])\n",
    "    for k in datasetsFolder.keys()}"
   ]
  },
  {
   "cell_type": "markdown",
   "id": "diverse-container",
   "metadata": {},
   "source": [
    "# Pre-processing data to create feature and response matrices."
   ]
  },
  {
   "cell_type": "code",
   "execution_count": 5,
   "id": "deluxe-string",
   "metadata": {
    "ExecuteTime": {
     "end_time": "2021-09-01T09:18:53.569285Z",
     "start_time": "2021-09-01T09:18:53.554326Z"
    },
    "execution": {
     "iopub.execute_input": "2021-07-20T10:33:12.516498Z",
     "iopub.status.busy": "2021-07-20T10:33:12.515473Z",
     "iopub.status.idle": "2021-07-20T10:33:12.522123Z",
     "shell.execute_reply": "2021-07-20T10:33:12.522688Z",
     "shell.execute_reply.started": "2021-07-20T09:25:34.787083Z"
    },
    "papermill": {
     "duration": 0.022417,
     "end_time": "2021-07-20T10:33:12.522880",
     "exception": false,
     "start_time": "2021-07-20T10:33:12.500463",
     "status": "completed"
    },
    "tags": []
   },
   "outputs": [],
   "source": [
    "def interpolate_NaN_values(sourceArray, interpolationKind='linear'):\n",
    "    allIndexes = np.arange(sourceArray.shape[0])\n",
    "    allGoodIndexes, = np.where(np.isfinite(sourceArray))\n",
    "    f = interp1d(allGoodIndexes,\n",
    "                 sourceArray[allGoodIndexes],\n",
    "                 bounds_error=False,\n",
    "                 copy=False,\n",
    "                 fill_value='extrapolate',\n",
    "                 kind=interpolationKind)\n",
    "    return f(allIndexes)"
   ]
  },
  {
   "cell_type": "code",
   "execution_count": 6,
   "id": "binding-postage",
   "metadata": {
    "ExecuteTime": {
     "end_time": "2021-09-01T09:18:53.601200Z",
     "start_time": "2021-09-01T09:18:53.571281Z"
    },
    "execution": {
     "iopub.execute_input": "2021-07-20T10:33:12.573078Z",
     "iopub.status.busy": "2021-07-20T10:33:12.572063Z",
     "iopub.status.idle": "2021-07-20T10:33:12.595617Z",
     "shell.execute_reply": "2021-07-20T10:33:12.596428Z",
     "shell.execute_reply.started": "2021-07-20T09:25:34.796541Z"
    },
    "papermill": {
     "duration": 0.039205,
     "end_time": "2021-07-20T10:33:12.596660",
     "exception": false,
     "start_time": "2021-07-20T10:33:12.557455",
     "status": "completed"
    },
    "tags": []
   },
   "outputs": [],
   "source": [
    "def loadXYMatrices(\n",
    "    df,\n",
    "    randomState = 42, # random state is kept at 42 as per convention\n",
    "    windowSize = 30, # decides number of days per each output sample for which the corresponding drought score is returned\n",
    "    targetSize = 1, # decides how many weeks' worth of drought scores are returned starting the first day of the week following windowSize \n",
    "    ):\n",
    "        rawDF = allDatasets[df]\n",
    "\n",
    "        soilDF = pd.read_csv(r'R:\\Ryerson\\Misc\\Datasets\\Predict Droughts using Weather & Soil Data\\soil_data.csv')\n",
    "\n",
    "        timeSeriesDataColumns = sorted([c for c in rawDF.columns if c not in [\"fips\", \"date\", \"score\", \"T2M\", \"T2MDEW\", \"T2M_MIN\", \"TS\", \"WS10M\", \"WS10M_MAX\", \"WS50M\", \"WS50M_MAX\", \"WS50M_MIN\", \"WS50M_RANGE\"]])\n",
    "        #timeSeriesDataColumns are the 18 meteorological indicators minus the 10 indicators that have been deemed redundant based on the Correlation Heatmap generated in file 'Investigate_if_Scaling_Required_or_Not_+_Feature_Selection_Required_or_Not'\n",
    "        print('\\ntimeSeriesDataColumns: \\n')\n",
    "        for i_1 in timeSeriesDataColumns:\n",
    "            print(i_1, '\\n')\n",
    "\n",
    "        #staticDataColumns are the 29 soil data indicators\n",
    "        staticDataColumns = sorted([c for c in soilDF.columns if c not in [\"fips\", \"lat\", \"lon\"]])\n",
    "        '''print('\\nstaticDataColumns: ')\n",
    "        for i_2 in staticDataColumns:\n",
    "            print(i_2, '\\n')'''\n",
    "\n",
    "        count = 0\n",
    "        scoreDF = rawDF.dropna(subset=[\"score\"])\n",
    "\n",
    "        X_static = np.empty((len(rawDF) // windowSize, len(staticDataColumns)))\n",
    "        # the shape of this uninitialized array will be (19300680/windowSize, 28)\n",
    "        '''print('X_static Shape: ', X_static.shape)'''\n",
    "\n",
    "        X_time = np.empty((len(rawDF) // windowSize, windowSize, len(timeSeriesDataColumns))) \n",
    "        # the shape of this uninitialized array will be (19300680/windowSize, windowSize, 8)\n",
    "        print('X_time Shape: ', X_time.shape)\n",
    "\n",
    "        y_past = np.empty((len(rawDF) // windowSize, windowSize))\n",
    "        # the shape of this uninitialized array will be (19300680/windowSize, windowSize)\n",
    "        print('y_past Shape: ', y_past.shape)\n",
    "\n",
    "        y_target = np.empty((len(rawDF) // windowSize, targetSize))\n",
    "        # the shape of this uninitialized array will be (19300680/windowSize, targetSize)\n",
    "        print('y_target Shape: ', y_target.shape)\n",
    "\n",
    "        if randomState is not None:\n",
    "            np.random.seed(randomState)\n",
    "            \n",
    "        for uniqueFIPScode in tqdm(scoreDF.index.get_level_values(0).unique()): #for every unique FIPS county code\n",
    "            \n",
    "            startingPoint = 1\n",
    "            \n",
    "            fipsDF = rawDF[(rawDF.index.get_level_values(0) == uniqueFIPScode)] #store the df sample at [index = current unique value of fips] \n",
    "            X = fipsDF[timeSeriesDataColumns].values #individual X = current sample values of the 8 meteorological columns \n",
    "            y = fipsDF[\"score\"].values #individual y = current samples' values of the column 'score' as ndarray\n",
    "            XStat = soilDF[soilDF[\"fips\"] == uniqueFIPScode][staticDataColumns].values[0] #individual soil data sample = return as ndarray all the 28 column values minus the axis labels\n",
    "            \n",
    "            for i in range(startingPoint, len(y) - (windowSize + targetSize * 7), windowSize):\n",
    "                X_time[count, :, : len(timeSeriesDataColumns)] = X[i : i + windowSize]\n",
    "                y_past[count] = interpolate_NaN_values(y[i : i + windowSize])\n",
    "                tempY = y[i + windowSize : i + windowSize + targetSize * 7]\n",
    "                y_target[count] = np.array(tempY[~np.isnan(tempY)][:targetSize])\n",
    "                X_static[count] = XStat\n",
    "                count += 1\n",
    "        \n",
    "        print(f\"\\n\\n-----------------------------------\\nLoaded {count} samples successfully.\\n-----------------------------------\\n\\n\")\n",
    "        matrices = [X_time[:count], y_target[:count]]\n",
    "        \n",
    "        #If you wish to inculcate Soil data in the training of your model and require the Soil data array for the same then uncomment the following line of code: \n",
    "        #matrices.append(X_static[:count])\n",
    "        \n",
    "        #If you require the interpolated past drought values going back the duration of the window size then uncomment the following line of code: \n",
    "        matrices.append(y_past[:count])\n",
    "        \n",
    "        return matrices"
   ]
  },
  {
   "cell_type": "markdown",
   "id": "surrounded-morris",
   "metadata": {},
   "source": [
    "# Defining function to scale features using RobustScaler."
   ]
  },
  {
   "cell_type": "code",
   "execution_count": 7,
   "id": "senior-rapid",
   "metadata": {
    "ExecuteTime": {
     "end_time": "2021-09-01T09:18:53.631120Z",
     "start_time": "2021-09-01T09:18:53.606192Z"
    },
    "execution": {
     "iopub.execute_input": "2021-07-20T10:33:12.650140Z",
     "iopub.status.busy": "2021-07-20T10:33:12.649083Z",
     "iopub.status.idle": "2021-07-20T10:33:12.661155Z",
     "shell.execute_reply": "2021-07-20T10:33:12.661710Z",
     "shell.execute_reply.started": "2021-07-20T09:25:34.825533Z"
    },
    "papermill": {
     "duration": 0.028525,
     "end_time": "2021-07-20T10:33:12.661921",
     "exception": false,
     "start_time": "2021-07-20T10:33:12.633396",
     "status": "completed"
    },
    "tags": []
   },
   "outputs": [],
   "source": [
    "scalerDict = {}\n",
    "\n",
    "def scaleFeatures(sourceArray, fit=False):\n",
    "    for feature in tqdm(range(sourceArray.shape[-1])): #printing a progress bar for each of the meteorological indicators\n",
    "        if fit:\n",
    "            scalerDict[feature] = RobustScaler().fit(sourceArray[:, feature].reshape(-1, 1))\n",
    "        sourceArray[:, feature] = scalerDict[feature].transform(sourceArray[:, feature].reshape(-1, 1)).reshape(1, -1)\n",
    "    return sourceArray"
   ]
  },
  {
   "cell_type": "markdown",
   "id": "civil-suite",
   "metadata": {},
   "source": [
    "# Creating the Feature and Response matrices."
   ]
  },
  {
   "cell_type": "code",
   "execution_count": 8,
   "id": "unlike-spouse",
   "metadata": {
    "ExecuteTime": {
     "end_time": "2021-09-01T09:18:53.662038Z",
     "start_time": "2021-09-01T09:18:53.634115Z"
    }
   },
   "outputs": [],
   "source": [
    "# There are 3108 counties in the training dataset.\n",
    "\n",
    "# For each county, there are 6210 observations i.e. there is one observation for every day of 2001-2017. \n",
    "\n",
    "# Meaning there are a total of 3108 x 6210 = 19,300,680 observations in the training dataset."
   ]
  },
  {
   "cell_type": "code",
   "execution_count": null,
   "id": "worldwide-pontiac",
   "metadata": {
    "ExecuteTime": {
     "start_time": "2021-09-01T09:17:59.134Z"
    },
    "execution": {
     "iopub.execute_input": "2021-07-20T10:33:12.690376Z",
     "iopub.status.busy": "2021-07-20T10:33:12.689263Z",
     "iopub.status.idle": "2021-07-20T10:48:37.067746Z",
     "shell.execute_reply": "2021-07-20T10:48:37.066915Z",
     "shell.execute_reply.started": "2021-07-20T09:59:42.374341Z"
    },
    "papermill": {
     "duration": 924.394256,
     "end_time": "2021-07-20T10:48:37.068067",
     "exception": false,
     "start_time": "2021-07-20T10:33:12.673811",
     "status": "completed"
    },
    "scrolled": true,
    "tags": []
   },
   "outputs": [
    {
     "name": "stdout",
     "output_type": "stream",
     "text": [
      "\n",
      "timeSeriesDataColumns: \n",
      "\n",
      "PRECTOT \n",
      "\n",
      "PS \n",
      "\n",
      "QV2M \n",
      "\n",
      "T2MWET \n",
      "\n",
      "T2M_MAX \n",
      "\n",
      "T2M_RANGE \n",
      "\n",
      "WS10M_MIN \n",
      "\n",
      "WS10M_RANGE \n",
      "\n",
      "X_time Shape:  (643356, 30, 8)\n",
      "y_past Shape:  (643356, 30)\n",
      "y_target Shape:  (643356, 1)\n"
     ]
    },
    {
     "data": {
      "application/vnd.jupyter.widget-view+json": {
       "model_id": "f999dd7cb8274120a56e3c641f244bca",
       "version_major": 2,
       "version_minor": 0
      },
      "text/plain": [
       "  0%|          | 0/3108 [00:00<?, ?it/s]"
      ]
     },
     "metadata": {},
     "output_type": "display_data"
    }
   ],
   "source": [
    "X_train_unscaled, y_target_train, y_past_train = loadXYMatrices(\"train\")\n",
    "X_valid_unscaled, y_target_valid, y_past_valid = loadXYMatrices(\"valid\")\n",
    "X_test_unscaled, y_target_test, y_past_test = loadXYMatrices(\"test\")"
   ]
  },
  {
   "cell_type": "code",
   "execution_count": null,
   "id": "registered-albuquerque",
   "metadata": {
    "ExecuteTime": {
     "start_time": "2021-09-01T09:17:59.137Z"
    }
   },
   "outputs": [],
   "source": [
    "print('\\nX_train_unscaled.shape: ', X_train_unscaled.shape)\n",
    "print('\\ny_target_train.shape: ', y_target_train.shape)\n",
    "print('\\ny_past_train.shape: ', y_past_train.shape)\n",
    "\n",
    "\n",
    "print('\\n\\n\\n')\n",
    "\n",
    "print('\\nX_valid_unscaled.shape: ', X_valid_unscaled.shape)\n",
    "print('\\ny_target_valid.shape: ', y_target_valid.shape)\n",
    "print('\\ny_past_valid.shape: ', y_past_valid.shape)\n",
    "\n",
    "print('\\n\\n\\n')\n",
    "\n",
    "print('\\nX_test_unscaled.shape: ', X_test_unscaled.shape)\n",
    "print('\\ny_target_test.shape: ', y_target_test.shape)\n",
    "print('\\ny_past_test.shape: ', y_past_test.shape)"
   ]
  },
  {
   "cell_type": "code",
   "execution_count": null,
   "id": "considerable-administrator",
   "metadata": {
    "ExecuteTime": {
     "start_time": "2021-09-01T09:17:59.138Z"
    }
   },
   "outputs": [],
   "source": [
    "X_train = np.empty((X_train_unscaled.shape[0], X_train_unscaled.shape[-1]))\n",
    "i = 0\n",
    "for window in X_train_unscaled:\n",
    "    X_train[i] = np.mean(window, axis=0)\n",
    "    i += 1\n",
    "print(i)"
   ]
  },
  {
   "cell_type": "code",
   "execution_count": null,
   "id": "documented-perth",
   "metadata": {
    "ExecuteTime": {
     "start_time": "2021-09-01T09:17:59.140Z"
    }
   },
   "outputs": [],
   "source": [
    "X_train.shape\n",
    "\n",
    "count = 0\n",
    "for k in X_train:\n",
    "    print(k, '\\n\\n')\n",
    "    count += 1\n",
    "    if count == 1:\n",
    "        break"
   ]
  },
  {
   "cell_type": "code",
   "execution_count": null,
   "id": "peaceful-firewall",
   "metadata": {
    "ExecuteTime": {
     "start_time": "2021-09-01T09:17:59.143Z"
    }
   },
   "outputs": [],
   "source": [
    "X_valid = np.empty((X_valid_unscaled.shape[0], X_valid_unscaled.shape[-1]))\n",
    "i = 0\n",
    "for window in X_valid_unscaled:\n",
    "    X_valid[i] = np.mean(window, axis=0)\n",
    "    i += 1\n",
    "print(i)"
   ]
  },
  {
   "cell_type": "code",
   "execution_count": null,
   "id": "fifteen-bahamas",
   "metadata": {
    "ExecuteTime": {
     "start_time": "2021-09-01T09:17:59.145Z"
    }
   },
   "outputs": [],
   "source": [
    "X_valid.shape\n",
    "\n",
    "count = 0\n",
    "for k in X_valid:\n",
    "    print(k, '\\n\\n')\n",
    "    count += 1\n",
    "    if count == 1:\n",
    "        break"
   ]
  },
  {
   "cell_type": "code",
   "execution_count": null,
   "id": "removable-accessory",
   "metadata": {
    "ExecuteTime": {
     "start_time": "2021-09-01T09:17:59.147Z"
    }
   },
   "outputs": [],
   "source": [
    "X_test = np.empty((X_test_unscaled.shape[0], X_test_unscaled.shape[-1]))\n",
    "i = 0\n",
    "for window in X_test_unscaled:\n",
    "    X_test[i] = np.mean(window, axis=0)\n",
    "    i += 1\n",
    "print(i)"
   ]
  },
  {
   "cell_type": "code",
   "execution_count": null,
   "id": "affiliated-grounds",
   "metadata": {
    "ExecuteTime": {
     "start_time": "2021-09-01T09:17:59.149Z"
    }
   },
   "outputs": [],
   "source": [
    "X_test.shape\n",
    "\n",
    "count = 0\n",
    "for k in X_test:\n",
    "    print(k, '\\n\\n')\n",
    "    count += 1\n",
    "    if count == 1:\n",
    "        break"
   ]
  },
  {
   "cell_type": "markdown",
   "id": "rational-association",
   "metadata": {},
   "source": [
    "# Scaling Feature values"
   ]
  },
  {
   "cell_type": "code",
   "execution_count": null,
   "id": "aware-hollow",
   "metadata": {
    "ExecuteTime": {
     "start_time": "2021-09-01T09:17:59.151Z"
    }
   },
   "outputs": [],
   "source": [
    "X_train = scaleFeatures(X_train, fit=True)\n",
    "X_valid = scaleFeatures(X_valid)\n",
    "X_test = scaleFeatures(X_test)"
   ]
  },
  {
   "cell_type": "code",
   "execution_count": null,
   "id": "careful-hunter",
   "metadata": {
    "ExecuteTime": {
     "start_time": "2021-09-01T09:17:59.154Z"
    },
    "scrolled": true
   },
   "outputs": [],
   "source": [
    "count = 0\n",
    "for k in X_train:\n",
    "    print(k)\n",
    "    #for j in k:\n",
    "    #    print(j)\n",
    "    count += 1\n",
    "    print('\\n\\n\\n')\n",
    "    if count == 30:\n",
    "        break"
   ]
  },
  {
   "cell_type": "code",
   "execution_count": null,
   "id": "contained-numbers",
   "metadata": {
    "ExecuteTime": {
     "start_time": "2021-09-01T09:17:59.155Z"
    },
    "scrolled": true
   },
   "outputs": [],
   "source": [
    "count = 0\n",
    "for k in y_target_train:\n",
    "    print(k, '\\n')\n",
    "    count += 1\n",
    "    if count == 10:\n",
    "        break"
   ]
  },
  {
   "cell_type": "markdown",
   "id": "healthy-professor",
   "metadata": {},
   "source": [
    "# Fusing Past Drought values"
   ]
  },
  {
   "cell_type": "markdown",
   "id": "legal-orchestra",
   "metadata": {},
   "source": [
    "## For X_train"
   ]
  },
  {
   "cell_type": "code",
   "execution_count": null,
   "id": "atlantic-humanitarian",
   "metadata": {
    "ExecuteTime": {
     "start_time": "2021-09-01T09:17:59.157Z"
    }
   },
   "outputs": [],
   "source": [
    "y_past_train_trimmed = np.delete(y_past_train, np.s_[1::], 1)"
   ]
  },
  {
   "cell_type": "code",
   "execution_count": null,
   "id": "unique-coupon",
   "metadata": {
    "ExecuteTime": {
     "start_time": "2021-09-01T09:17:59.159Z"
    }
   },
   "outputs": [],
   "source": [
    "y_past_train_trimmed.shape"
   ]
  },
  {
   "cell_type": "code",
   "execution_count": null,
   "id": "happy-bouquet",
   "metadata": {
    "ExecuteTime": {
     "start_time": "2021-09-01T09:17:59.162Z"
    }
   },
   "outputs": [],
   "source": [
    "X_train_concatenatedWithPastDroughtValues = np.concatenate((X_train, y_past_train_trimmed), axis=1)"
   ]
  },
  {
   "cell_type": "code",
   "execution_count": null,
   "id": "extra-edinburgh",
   "metadata": {
    "ExecuteTime": {
     "start_time": "2021-09-01T09:17:59.164Z"
    }
   },
   "outputs": [],
   "source": [
    "X_train_concatenatedWithPastDroughtValues.shape"
   ]
  },
  {
   "cell_type": "markdown",
   "id": "lasting-captain",
   "metadata": {},
   "source": [
    "## For X_valid"
   ]
  },
  {
   "cell_type": "code",
   "execution_count": null,
   "id": "stainless-murray",
   "metadata": {
    "ExecuteTime": {
     "start_time": "2021-09-01T09:17:59.166Z"
    }
   },
   "outputs": [],
   "source": [
    "y_past_valid_trimmed = np.delete(y_past_valid, np.s_[1::], 1)"
   ]
  },
  {
   "cell_type": "code",
   "execution_count": null,
   "id": "yellow-blake",
   "metadata": {
    "ExecuteTime": {
     "start_time": "2021-09-01T09:17:59.168Z"
    }
   },
   "outputs": [],
   "source": [
    "y_past_valid_trimmed.shape"
   ]
  },
  {
   "cell_type": "code",
   "execution_count": null,
   "id": "personalized-texas",
   "metadata": {
    "ExecuteTime": {
     "start_time": "2021-09-01T09:17:59.170Z"
    }
   },
   "outputs": [],
   "source": [
    "X_valid_concatenatedWithPastDroughtValues = np.concatenate((X_valid, y_past_valid_trimmed), axis=1)"
   ]
  },
  {
   "cell_type": "code",
   "execution_count": null,
   "id": "adopted-rebel",
   "metadata": {
    "ExecuteTime": {
     "start_time": "2021-09-01T09:17:59.172Z"
    }
   },
   "outputs": [],
   "source": [
    "X_valid_concatenatedWithPastDroughtValues.shape"
   ]
  },
  {
   "cell_type": "markdown",
   "id": "individual-trader",
   "metadata": {},
   "source": [
    "## For X_test"
   ]
  },
  {
   "cell_type": "code",
   "execution_count": null,
   "id": "diagnostic-country",
   "metadata": {
    "ExecuteTime": {
     "start_time": "2021-09-01T09:17:59.173Z"
    }
   },
   "outputs": [],
   "source": [
    "y_past_test_trimmed = np.delete(y_past_test, np.s_[1::], 1)"
   ]
  },
  {
   "cell_type": "code",
   "execution_count": null,
   "id": "thick-japan",
   "metadata": {
    "ExecuteTime": {
     "start_time": "2021-09-01T09:17:59.176Z"
    }
   },
   "outputs": [],
   "source": [
    "y_past_test_trimmed.shape"
   ]
  },
  {
   "cell_type": "code",
   "execution_count": null,
   "id": "painted-disclaimer",
   "metadata": {
    "ExecuteTime": {
     "start_time": "2021-09-01T09:17:59.177Z"
    }
   },
   "outputs": [],
   "source": [
    "X_test_concatenatedWithPastDroughtValues = np.concatenate((X_test, y_past_test_trimmed), axis=1)"
   ]
  },
  {
   "cell_type": "code",
   "execution_count": null,
   "id": "round-kenya",
   "metadata": {
    "ExecuteTime": {
     "start_time": "2021-09-01T09:17:59.179Z"
    }
   },
   "outputs": [],
   "source": [
    "X_test_concatenatedWithPastDroughtValues.shape"
   ]
  },
  {
   "cell_type": "markdown",
   "id": "adequate-chocolate",
   "metadata": {},
   "source": [
    "# Saving Feature and Response matrices for Training, Validation and Testing datasets respectively to file for future ease of use."
   ]
  },
  {
   "cell_type": "code",
   "execution_count": null,
   "id": "arbitrary-object",
   "metadata": {
    "ExecuteTime": {
     "start_time": "2021-09-01T09:17:59.180Z"
    }
   },
   "outputs": [],
   "source": [
    "'''#30-Day Window + Scaled\n",
    "\n",
    "# Training Files\n",
    "\n",
    "np.savetxt('R:\\Ryerson\\Misc\\Datasets\\Preprocessed Data Files\\X_train_30_day_window_scaled_+_pastDroughtValues_+_FeatureSelection.csv', X_train_concatenatedWithPastDroughtValues, delimiter=',', newline='\\n')\n",
    "\n",
    "np.savetxt('R:\\Ryerson\\Misc\\Datasets\\Preprocessed Data Files\\y_target_train_30_day_window.csv', y_target_train, delimiter=',', newline='\\n')\n",
    "\n",
    "\n",
    "\n",
    "# Validation Files\n",
    "\n",
    "np.savetxt('R:\\Ryerson\\Misc\\Datasets\\Preprocessed Data Files\\X_valid_30_day_window_scaled_+_pastDroughtValues_+_FeatureSelection.csv', X_valid_concatenatedWithPastDroughtValues, delimiter=',', newline='\\n')\n",
    "\n",
    "np.savetxt('R:\\Ryerson\\Misc\\Datasets\\Preprocessed Data Files\\y_target_valid_30_day_window.csv', y_target_valid, delimiter=',', newline='\\n')\n",
    "\n",
    "\n",
    "\n",
    "# Testing Files\n",
    "\n",
    "np.savetxt('R:\\Ryerson\\Misc\\Datasets\\Preprocessed Data Files\\X_test_30_day_window_scaled_+_pastDroughtValues_+_FeatureSelection.csv', X_test_concatenatedWithPastDroughtValues, delimiter=',', newline='\\n')\n",
    "\n",
    "np.savetxt('R:\\Ryerson\\Misc\\Datasets\\Preprocessed Data Files\\y_target_test_30_day_window.csv', y_target_test, delimiter=',', newline='\\n')'''\n"
   ]
  },
  {
   "cell_type": "code",
   "execution_count": null,
   "id": "infectious-plenty",
   "metadata": {
    "ExecuteTime": {
     "start_time": "2021-09-01T09:17:59.182Z"
    }
   },
   "outputs": [],
   "source": [
    "#30-Day Window + Scaled\n",
    "\n",
    "# Training Files\n",
    "\n",
    "np.savetxt('R:\\Ryerson\\Misc\\Datasets\\Preprocessed Data Files\\X_train_30_day_window_scaled_+_FeatureSelection.csv', X_train, delimiter=',', newline='\\n')\n",
    "\n",
    "np.savetxt('R:\\Ryerson\\Misc\\Datasets\\Preprocessed Data Files\\y_target_train_30_day_window.csv', y_target_train, delimiter=',', newline='\\n')\n",
    "\n",
    "\n",
    "\n",
    "# Validation Files\n",
    "\n",
    "np.savetxt('R:\\Ryerson\\Misc\\Datasets\\Preprocessed Data Files\\X_valid_30_day_window_scaled_+_FeatureSelection.csv', X_valid, delimiter=',', newline='\\n')\n",
    "\n",
    "np.savetxt('R:\\Ryerson\\Misc\\Datasets\\Preprocessed Data Files\\y_target_valid_30_day_window.csv', y_target_valid, delimiter=',', newline='\\n')\n",
    "\n",
    "\n",
    "\n",
    "# Testing Files\n",
    "\n",
    "np.savetxt('R:\\Ryerson\\Misc\\Datasets\\Preprocessed Data Files\\X_test_30_day_window_scaled_+_FeatureSelection.csv', X_test, delimiter=',', newline='\\n')\n",
    "\n",
    "np.savetxt('R:\\Ryerson\\Misc\\Datasets\\Preprocessed Data Files\\y_target_test_30_day_window.csv', y_target_test, delimiter=',', newline='\\n')\n"
   ]
  }
 ],
 "metadata": {
  "kernelspec": {
   "display_name": "Python 3",
   "language": "python",
   "name": "python3"
  },
  "language_info": {
   "codemirror_mode": {
    "name": "ipython",
    "version": 3
   },
   "file_extension": ".py",
   "mimetype": "text/x-python",
   "name": "python",
   "nbconvert_exporter": "python",
   "pygments_lexer": "ipython3",
   "version": "3.8.8"
  },
  "toc": {
   "base_numbering": 1,
   "nav_menu": {},
   "number_sections": true,
   "sideBar": true,
   "skip_h1_title": false,
   "title_cell": "Table of Contents",
   "title_sidebar": "Contents",
   "toc_cell": false,
   "toc_position": {},
   "toc_section_display": true,
   "toc_window_display": false
  },
  "varInspector": {
   "cols": {
    "lenName": 16,
    "lenType": 16,
    "lenVar": 40
   },
   "kernels_config": {
    "python": {
     "delete_cmd_postfix": "",
     "delete_cmd_prefix": "del ",
     "library": "var_list.py",
     "varRefreshCmd": "print(var_dic_list())"
    },
    "r": {
     "delete_cmd_postfix": ") ",
     "delete_cmd_prefix": "rm(",
     "library": "var_list.r",
     "varRefreshCmd": "cat(var_dic_list()) "
    }
   },
   "types_to_exclude": [
    "module",
    "function",
    "builtin_function_or_method",
    "instance",
    "_Feature"
   ],
   "window_display": false
  }
 },
 "nbformat": 4,
 "nbformat_minor": 5
}

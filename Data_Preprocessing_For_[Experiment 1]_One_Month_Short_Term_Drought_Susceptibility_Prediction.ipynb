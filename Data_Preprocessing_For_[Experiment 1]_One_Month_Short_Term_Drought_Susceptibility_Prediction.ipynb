{
 "cells": [
  {
   "cell_type": "markdown",
   "id": "palestinian-tennis",
   "metadata": {
    "papermill": {
     "duration": 0.011532,
     "end_time": "2021-07-20T10:31:26.909904",
     "exception": false,
     "start_time": "2021-07-20T10:31:26.898372",
     "status": "completed"
    },
    "tags": []
   },
   "source": [
    "# Loading the unprocessed dataset into Pandas dataframes."
   ]
  },
  {
   "cell_type": "code",
   "execution_count": 1,
   "id": "random-terror",
   "metadata": {
    "ExecuteTime": {
     "end_time": "2021-08-24T02:56:30.940860Z",
     "start_time": "2021-08-24T02:56:30.029079Z"
    },
    "_kg_hide-input": false,
    "execution": {
     "iopub.execute_input": "2021-07-20T10:31:26.967510Z",
     "iopub.status.busy": "2021-07-20T10:31:26.966624Z",
     "iopub.status.idle": "2021-07-20T10:31:28.207788Z",
     "shell.execute_reply": "2021-07-20T10:31:28.206923Z",
     "shell.execute_reply.started": "2021-07-20T09:24:06.446705Z"
    },
    "papermill": {
     "duration": 1.261359,
     "end_time": "2021-07-20T10:31:28.208055",
     "exception": false,
     "start_time": "2021-07-20T10:31:26.946696",
     "status": "completed"
    },
    "tags": []
   },
   "outputs": [],
   "source": [
    "# Loading the unprocessed dataset into Pandas dataframes.import os\n",
    "import numpy as np\n",
    "import pandas as pd\n",
    "from tqdm.auto import tqdm\n",
    "from scipy.interpolate import interp1d\n",
    "from sklearn.preprocessing import RobustScaler\n",
    "\n",
    "datasetsFolder = {}\n",
    "\n",
    "for dirname, _, filenames in os.walk(r'R:\\Ryerson\\Misc\\Datasets\\Predict Droughts using Weather & Soil Data\\\\'):\n",
    "    for filename in filenames:\n",
    "        if 'train' in filename:\n",
    "            datasetsFolder['train'] = os.path.join(dirname, filename)\n",
    "        if 'valid' in filename:\n",
    "            datasetsFolder['valid'] = os.path.join(dirname, filename)\n",
    "        if 'test' in filename:\n",
    "            datasetsFolder['test'] = os.path.join(dirname, filename)"
   ]
  },
  {
   "cell_type": "code",
   "execution_count": 2,
   "id": "fundamental-municipality",
   "metadata": {
    "ExecuteTime": {
     "end_time": "2021-08-24T02:57:11.923025Z",
     "start_time": "2021-08-24T02:56:31.021926Z"
    },
    "execution": {
     "iopub.execute_input": "2021-07-20T10:31:28.319477Z",
     "iopub.status.busy": "2021-07-20T10:31:28.318683Z",
     "iopub.status.idle": "2021-07-20T10:33:12.463143Z",
     "shell.execute_reply": "2021-07-20T10:33:12.463639Z",
     "shell.execute_reply.started": "2021-07-20T09:24:08.026750Z"
    },
    "papermill": {
     "duration": 104.162458,
     "end_time": "2021-07-20T10:33:12.463859",
     "exception": false,
     "start_time": "2021-07-20T10:31:28.301401",
     "status": "completed"
    },
    "tags": []
   },
   "outputs": [],
   "source": [
    "allDatasets = { k: pd.read_csv(datasetsFolder[k]).set_index(['fips', 'date'])\n",
    "    for k in datasetsFolder.keys()}"
   ]
  },
  {
   "cell_type": "markdown",
   "id": "diverse-container",
   "metadata": {},
   "source": [
    "# Pre-processing data to create feature and response matrices."
   ]
  },
  {
   "cell_type": "code",
   "execution_count": 3,
   "id": "deluxe-string",
   "metadata": {
    "ExecuteTime": {
     "end_time": "2021-08-24T02:57:16.408744Z",
     "start_time": "2021-08-24T02:57:16.398772Z"
    },
    "execution": {
     "iopub.execute_input": "2021-07-20T10:33:12.516498Z",
     "iopub.status.busy": "2021-07-20T10:33:12.515473Z",
     "iopub.status.idle": "2021-07-20T10:33:12.522123Z",
     "shell.execute_reply": "2021-07-20T10:33:12.522688Z",
     "shell.execute_reply.started": "2021-07-20T09:25:34.787083Z"
    },
    "papermill": {
     "duration": 0.022417,
     "end_time": "2021-07-20T10:33:12.522880",
     "exception": false,
     "start_time": "2021-07-20T10:33:12.500463",
     "status": "completed"
    },
    "tags": []
   },
   "outputs": [],
   "source": [
    "def interpolate_NaN_values(sourceArray, interpolationKind='linear'):\n",
    "    allIndexes = np.arange(sourceArray.shape[0])\n",
    "    allGoodIndexes, = np.where(np.isfinite(sourceArray))\n",
    "    f = interp1d(allGoodIndexes,\n",
    "                 sourceArray[allGoodIndexes],\n",
    "                 bounds_error=False,\n",
    "                 copy=False,\n",
    "                 fill_value='extrapolate',\n",
    "                 kind=interpolationKind)\n",
    "    return f(allIndexes)"
   ]
  },
  {
   "cell_type": "code",
   "execution_count": 4,
   "id": "binding-postage",
   "metadata": {
    "ExecuteTime": {
     "end_time": "2021-08-24T02:57:18.709689Z",
     "start_time": "2021-08-24T02:57:18.689718Z"
    },
    "execution": {
     "iopub.execute_input": "2021-07-20T10:33:12.573078Z",
     "iopub.status.busy": "2021-07-20T10:33:12.572063Z",
     "iopub.status.idle": "2021-07-20T10:33:12.595617Z",
     "shell.execute_reply": "2021-07-20T10:33:12.596428Z",
     "shell.execute_reply.started": "2021-07-20T09:25:34.796541Z"
    },
    "papermill": {
     "duration": 0.039205,
     "end_time": "2021-07-20T10:33:12.596660",
     "exception": false,
     "start_time": "2021-07-20T10:33:12.557455",
     "status": "completed"
    },
    "tags": []
   },
   "outputs": [],
   "source": [
    "def loadXYMatrices(\n",
    "    df,\n",
    "    randomState = 42, # random state is kept at 42 as per convention\n",
    "    windowSize = 30, # decides number of days per each output sample for which the corresponding drought score is returned\n",
    "    targetSize = 1, # decides how many weeks' worth of drought scores are returned starting the first day of the week following windowSize \n",
    "    ):\n",
    "        rawDF = allDatasets[df]\n",
    "\n",
    "        soilDF = pd.read_csv(r'R:\\Ryerson\\Misc\\Datasets\\Predict Droughts using Weather & Soil Data\\soil_data.csv')\n",
    "\n",
    "        timeSeriesDataColumns = sorted([c for c in rawDF.columns if c not in [\"fips\", \"date\", \"score\"]])\n",
    "        #timeSeriesDataColumns are the 18 meteorological indicators\n",
    "        print('\\ntimeSeriesDataColumns: \\n')\n",
    "        for i_1 in timeSeriesDataColumns:\n",
    "            print(i_1, '\\n')\n",
    "\n",
    "        #staticDataColumns are the 29 soil data indicators\n",
    "        staticDataColumns = sorted([c for c in soilDF.columns if c not in [\"fips\", \"lat\", \"lon\"]])\n",
    "        '''print('\\nstaticDataColumns: ')\n",
    "        for i_2 in staticDataColumns:\n",
    "            print(i_2, '\\n')'''\n",
    "\n",
    "        count = 0\n",
    "        scoreDF = rawDF.dropna(subset=[\"score\"])\n",
    "\n",
    "        X_static = np.empty((len(rawDF) // windowSize, len(staticDataColumns)))\n",
    "        # the shape of this uninitialized array will be (19300680/windowSize, 28)\n",
    "        '''print('X_static Shape: ', X_static.shape)'''\n",
    "\n",
    "        X_time = np.empty((len(rawDF) // windowSize, windowSize, len(timeSeriesDataColumns))) \n",
    "        # the shape of this uninitialized array will be (19300680/windowSize, windowSize, 18)\n",
    "        print('X_time Shape: ', X_time.shape)\n",
    "\n",
    "        y_past = np.empty((len(rawDF) // windowSize, windowSize))\n",
    "        # the shape of this uninitialized array will be (19300680/windowSize, windowSize)\n",
    "        '''print('y_past Shape: ', y_past.shape)'''\n",
    "\n",
    "        y_target = np.empty((len(rawDF) // windowSize, targetSize))\n",
    "        # the shape of this uninitialized array will be (19300680/windowSize, targetSize)\n",
    "        print('y_target Shape: ', y_target.shape)\n",
    "\n",
    "        if randomState is not None:\n",
    "            np.random.seed(randomState)\n",
    "            \n",
    "        for uniqueFIPScode in tqdm(scoreDF.index.get_level_values(0).unique()): #for every unique FIPS county code\n",
    "            \n",
    "            if randomState is not None:\n",
    "                startingPoint = np.random.randint(1, windowSize) #return random integers from 1 to 30 (30 not included)\n",
    "            else:\n",
    "                startingPoint = 1\n",
    "            \n",
    "            fipsDF = rawDF[(rawDF.index.get_level_values(0) == uniqueFIPScode)] #store the df sample at [index = current unique value of fips] \n",
    "            X = fipsDF[timeSeriesDataColumns].values #individual X = current sample values of the 18 meteorological columns \n",
    "            y = fipsDF[\"score\"].values #individual y = current samples' values of the column 'score' as ndarray\n",
    "            XStat = soilDF[soilDF[\"fips\"] == uniqueFIPScode][staticDataColumns].values[0] #individual soil data sample = return as ndarray all the 29 column values minus the axis labels\n",
    "            \n",
    "            for i in range(startingPoint, len(y) - (windowSize + targetSize * 7), windowSize):\n",
    "                X_time[count, :, : len(timeSeriesDataColumns)] = X[i : i + windowSize]\n",
    "                y_past[count] = interpolate_NaN_values(y[i : i + windowSize])\n",
    "                tempY = y[i + windowSize : i + windowSize + targetSize * 7]\n",
    "                y_target[count] = np.array(tempY[~np.isnan(tempY)][:targetSize])\n",
    "                X_static[count] = XStat\n",
    "                count += 1\n",
    "        \n",
    "        print(f\"\\n\\n-----------------------------------\\nLoaded {count} samples successfully.\\n-----------------------------------\\n\\n\")\n",
    "        matrices = [X_time[:count], y_target[:count]]\n",
    "        #If you wish to inculcate Soil data in the training of your model and require the Soil data array for the same then uncomment the following line of code: \n",
    "        #matrices.append(X_static[:count])\n",
    "        #If you require the interpolated past drought values for every day in the dataset then uncomment the following line of code: \n",
    "        #matrices.append(y_past[:count])\n",
    "        return matrices"
   ]
  },
  {
   "cell_type": "markdown",
   "id": "surrounded-morris",
   "metadata": {},
   "source": [
    "# Defining function to scale features using RobustScaler."
   ]
  },
  {
   "cell_type": "code",
   "execution_count": 5,
   "id": "senior-rapid",
   "metadata": {
    "ExecuteTime": {
     "end_time": "2021-08-24T02:57:19.775799Z",
     "start_time": "2021-08-24T02:57:19.759842Z"
    },
    "execution": {
     "iopub.execute_input": "2021-07-20T10:33:12.650140Z",
     "iopub.status.busy": "2021-07-20T10:33:12.649083Z",
     "iopub.status.idle": "2021-07-20T10:33:12.661155Z",
     "shell.execute_reply": "2021-07-20T10:33:12.661710Z",
     "shell.execute_reply.started": "2021-07-20T09:25:34.825533Z"
    },
    "papermill": {
     "duration": 0.028525,
     "end_time": "2021-07-20T10:33:12.661921",
     "exception": false,
     "start_time": "2021-07-20T10:33:12.633396",
     "status": "completed"
    },
    "tags": []
   },
   "outputs": [],
   "source": [
    "# Defining function to scale features using RobustScaler.scalerDict = {}\n",
    "\n",
    "def scaleFeatures(sourceArray, fit=False):\n",
    "    for index in tqdm(range(sourceArray.shape[-1])): #printing a progress bar for each of the 18 meteorological indicators\n",
    "        if fit:\n",
    "            scalerDict[index] = RobustScaler().fit(sourceArray[:, :, index].reshape(-1, 1))\n",
    "        sourceArray[:, :, index] = (scalerDict[index].transform(sourceArray[:, :, index].reshape(-1, 1)).reshape(-1, sourceArray.shape[-2]))\n",
    "    return sourceArray"
   ]
  },
  {
   "cell_type": "markdown",
   "id": "civil-suite",
   "metadata": {},
   "source": [
    "# Creating the Feature and Response matrices."
   ]
  },
  {
   "cell_type": "code",
   "execution_count": 6,
   "id": "unlike-spouse",
   "metadata": {
    "ExecuteTime": {
     "end_time": "2021-08-24T02:57:20.200086Z",
     "start_time": "2021-08-24T02:57:20.184129Z"
    }
   },
   "outputs": [],
   "source": [
    "# There are 3108 counties in the training dataset.\n",
    "\n",
    "# For each county, there are 6210 observations i.e. there is one observation for every day of 2001-2017. \n",
    "\n",
    "# Meaning there are a total of 3108 x 6210 = 19,300,680 observations in the training dataset."
   ]
  },
  {
   "cell_type": "code",
   "execution_count": 7,
   "id": "worldwide-pontiac",
   "metadata": {
    "ExecuteTime": {
     "end_time": "2021-08-24T03:08:19.922812Z",
     "start_time": "2021-08-24T02:57:22.447021Z"
    },
    "execution": {
     "iopub.execute_input": "2021-07-20T10:33:12.690376Z",
     "iopub.status.busy": "2021-07-20T10:33:12.689263Z",
     "iopub.status.idle": "2021-07-20T10:48:37.067746Z",
     "shell.execute_reply": "2021-07-20T10:48:37.066915Z",
     "shell.execute_reply.started": "2021-07-20T09:59:42.374341Z"
    },
    "papermill": {
     "duration": 924.394256,
     "end_time": "2021-07-20T10:48:37.068067",
     "exception": false,
     "start_time": "2021-07-20T10:33:12.673811",
     "status": "completed"
    },
    "scrolled": true,
    "tags": []
   },
   "outputs": [
    {
     "name": "stdout",
     "output_type": "stream",
     "text": [
      "\n",
      "timeSeriesDataColumns: \n",
      "\n",
      "PRECTOT \n",
      "\n",
      "PS \n",
      "\n",
      "QV2M \n",
      "\n",
      "T2M \n",
      "\n",
      "T2MDEW \n",
      "\n",
      "T2MWET \n",
      "\n",
      "T2M_MAX \n",
      "\n",
      "T2M_MIN \n",
      "\n",
      "T2M_RANGE \n",
      "\n",
      "TS \n",
      "\n",
      "WS10M \n",
      "\n",
      "WS10M_MAX \n",
      "\n",
      "WS10M_MIN \n",
      "\n",
      "WS10M_RANGE \n",
      "\n",
      "WS50M \n",
      "\n",
      "WS50M_MAX \n",
      "\n",
      "WS50M_MIN \n",
      "\n",
      "WS50M_RANGE \n",
      "\n",
      "X_time Shape:  (643356, 30, 18)\n",
      "y_target Shape:  (643356, 1)\n"
     ]
    },
    {
     "data": {
      "application/vnd.jupyter.widget-view+json": {
       "model_id": "1be6365c2d4348caae6a2377cde69a64",
       "version_major": 2,
       "version_minor": 0
      },
      "text/plain": [
       "  0%|          | 0/3108 [00:00<?, ?it/s]"
      ]
     },
     "metadata": {},
     "output_type": "display_data"
    },
    {
     "name": "stdout",
     "output_type": "stream",
     "text": [
      "\n",
      "\n",
      "-----------------------------------\n",
      "Loaded 639476 samples successfully.\n",
      "-----------------------------------\n",
      "\n",
      "\n",
      "\n",
      "timeSeriesDataColumns: \n",
      "\n",
      "PRECTOT \n",
      "\n",
      "PS \n",
      "\n",
      "QV2M \n",
      "\n",
      "T2M \n",
      "\n",
      "T2MDEW \n",
      "\n",
      "T2MWET \n",
      "\n",
      "T2M_MAX \n",
      "\n",
      "T2M_MIN \n",
      "\n",
      "T2M_RANGE \n",
      "\n",
      "TS \n",
      "\n",
      "WS10M \n",
      "\n",
      "WS10M_MAX \n",
      "\n",
      "WS10M_MIN \n",
      "\n",
      "WS10M_RANGE \n",
      "\n",
      "WS50M \n",
      "\n",
      "WS50M_MAX \n",
      "\n",
      "WS50M_MIN \n",
      "\n",
      "WS50M_RANGE \n",
      "\n",
      "X_time Shape:  (75628, 30, 18)\n",
      "y_target Shape:  (75628, 1)\n"
     ]
    },
    {
     "data": {
      "application/vnd.jupyter.widget-view+json": {
       "model_id": "02cd753560c24e1c9ffab6e5a8038fee",
       "version_major": 2,
       "version_minor": 0
      },
      "text/plain": [
       "  0%|          | 0/3108 [00:00<?, ?it/s]"
      ]
     },
     "metadata": {},
     "output_type": "display_data"
    },
    {
     "name": "stdout",
     "output_type": "stream",
     "text": [
      "\n",
      "\n",
      "-----------------------------------\n",
      "Loaded 71721 samples successfully.\n",
      "-----------------------------------\n",
      "\n",
      "\n",
      "\n",
      "timeSeriesDataColumns: \n",
      "\n",
      "PRECTOT \n",
      "\n",
      "PS \n",
      "\n",
      "QV2M \n",
      "\n",
      "T2M \n",
      "\n",
      "T2MDEW \n",
      "\n",
      "T2MWET \n",
      "\n",
      "T2M_MAX \n",
      "\n",
      "T2M_MIN \n",
      "\n",
      "T2M_RANGE \n",
      "\n",
      "TS \n",
      "\n",
      "WS10M \n",
      "\n",
      "WS10M_MAX \n",
      "\n",
      "WS10M_MIN \n",
      "\n",
      "WS10M_RANGE \n",
      "\n",
      "WS50M \n",
      "\n",
      "WS50M_MAX \n",
      "\n",
      "WS50M_MIN \n",
      "\n",
      "WS50M_RANGE \n",
      "\n",
      "X_time Shape:  (75731, 30, 18)\n",
      "y_target Shape:  (75731, 1)\n"
     ]
    },
    {
     "data": {
      "application/vnd.jupyter.widget-view+json": {
       "model_id": "40a4d5c80d784ecd95d97eccd110bed5",
       "version_major": 2,
       "version_minor": 0
      },
      "text/plain": [
       "  0%|          | 0/3108 [00:00<?, ?it/s]"
      ]
     },
     "metadata": {},
     "output_type": "display_data"
    },
    {
     "name": "stdout",
     "output_type": "stream",
     "text": [
      "\n",
      "\n",
      "-----------------------------------\n",
      "Loaded 71841 samples successfully.\n",
      "-----------------------------------\n",
      "\n",
      "\n"
     ]
    },
    {
     "data": {
      "application/vnd.jupyter.widget-view+json": {
       "model_id": "4f2ac5fa22ce4f5391bcac2d2b3183ea",
       "version_major": 2,
       "version_minor": 0
      },
      "text/plain": [
       "  0%|          | 0/18 [00:00<?, ?it/s]"
      ]
     },
     "metadata": {},
     "output_type": "display_data"
    },
    {
     "data": {
      "application/vnd.jupyter.widget-view+json": {
       "model_id": "a8dd7eb5858c4b818284d1e1873c2cf4",
       "version_major": 2,
       "version_minor": 0
      },
      "text/plain": [
       "  0%|          | 0/18 [00:00<?, ?it/s]"
      ]
     },
     "metadata": {},
     "output_type": "display_data"
    },
    {
     "data": {
      "application/vnd.jupyter.widget-view+json": {
       "model_id": "8ecb4cd02a9d425fa8f8948048d519a7",
       "version_major": 2,
       "version_minor": 0
      },
      "text/plain": [
       "  0%|          | 0/18 [00:00<?, ?it/s]"
      ]
     },
     "metadata": {},
     "output_type": "display_data"
    }
   ],
   "source": [
    "# Creating the Feature and Response matrices.X_train, y_target_train = loadXYMatrices(\"train\")\n",
    "X_valid, y_target_valid = loadXYMatrices(\"valid\")\n",
    "X_test, y_target_test = loadXYMatrices(\"test\")\n",
    "\n",
    "#Normalizing values:\n",
    "X_train = scaleFeatures(X_train, fit=True)\n",
    "X_valid = scaleFeatures(X_valid)\n",
    "X_test = scaleFeatures(X_test)"
   ]
  },
  {
   "cell_type": "code",
   "execution_count": 8,
   "id": "registered-albuquerque",
   "metadata": {
    "ExecuteTime": {
     "end_time": "2021-08-24T03:08:46.377361Z",
     "start_time": "2021-08-24T03:08:46.356387Z"
    }
   },
   "outputs": [
    {
     "name": "stdout",
     "output_type": "stream",
     "text": [
      "\n",
      "X_train.shape:  (639476, 30, 18)\n",
      "\n",
      "y_target_train.shape:  (639476, 1)\n",
      "\n",
      "\n",
      "\n",
      "\n",
      "\n",
      "X_valid.shape:  (71721, 30, 18)\n",
      "\n",
      "y_target_valid.shape:  (71721, 1)\n",
      "\n",
      "\n",
      "\n",
      "\n",
      "\n",
      "X_test.shape:  (71841, 30, 18)\n",
      "\n",
      "y_target_test.shape:  (71841, 1)\n"
     ]
    }
   ],
   "source": [
    "print('\\nX_train.shape: ', X_train.shape)\n",
    "print('\\ny_target_train.shape: ', y_target_train.shape)\n",
    "\n",
    "print('\\n\\n\\n')\n",
    "\n",
    "print('\\nX_valid.shape: ', X_valid.shape)\n",
    "print('\\ny_target_valid.shape: ', y_target_valid.shape)\n",
    "\n",
    "print('\\n\\n\\n')\n",
    "\n",
    "print('\\nX_test.shape: ', X_test.shape)\n",
    "print('\\ny_target_test.shape: ', y_target_test.shape)\n"
   ]
  },
  {
   "cell_type": "code",
   "execution_count": 19,
   "id": "considerable-administrator",
   "metadata": {
    "ExecuteTime": {
     "end_time": "2021-08-24T03:16:12.766187Z",
     "start_time": "2021-08-24T03:16:04.750064Z"
    }
   },
   "outputs": [
    {
     "name": "stdout",
     "output_type": "stream",
     "text": [
      "639476\n"
     ]
    }
   ],
   "source": [
    "X_train_averaged = np.empty((X_train.shape[0], X_train.shape[-1]))\n",
    "i = 0\n",
    "for window in X_train:\n",
    "    X_train_averaged[i] = np.mean(window, axis=0)\n",
    "    i += 1\n",
    "print(i)"
   ]
  },
  {
   "cell_type": "code",
   "execution_count": 20,
   "id": "documented-perth",
   "metadata": {
    "ExecuteTime": {
     "end_time": "2021-08-24T03:16:44.939932Z",
     "start_time": "2021-08-24T03:16:44.925983Z"
    }
   },
   "outputs": [
    {
     "data": {
      "text/plain": [
       "(639476, 18)"
      ]
     },
     "execution_count": 20,
     "metadata": {},
     "output_type": "execute_result"
    },
    {
     "name": "stdout",
     "output_type": "stream",
     "text": [
      "[ 1.39800307  0.60154096 -0.26569793 -0.48020713 -0.36121581 -0.35925249\n",
      " -0.4826484  -0.47684524  0.12108363 -0.48367308 -0.26233062 -0.30578512\n",
      " -0.09485597 -0.30713306 -0.11753247 -0.17701149  0.0299435  -0.18042929] \n",
      "\n",
      "\n"
     ]
    }
   ],
   "source": [
    "X_train_averaged.shape\n",
    "\n",
    "count = 0\n",
    "for k in X_train_averaged:\n",
    "    print(k, '\\n\\n')\n",
    "    count += 1\n",
    "    if count == 1:\n",
    "        break"
   ]
  },
  {
   "cell_type": "code",
   "execution_count": 21,
   "id": "peaceful-firewall",
   "metadata": {
    "ExecuteTime": {
     "end_time": "2021-08-24T03:17:07.734767Z",
     "start_time": "2021-08-24T03:17:06.816620Z"
    }
   },
   "outputs": [
    {
     "name": "stdout",
     "output_type": "stream",
     "text": [
      "71721\n"
     ]
    }
   ],
   "source": [
    "X_valid_averaged = np.empty((X_valid.shape[0], X_valid.shape[-1]))\n",
    "i = 0\n",
    "for window in X_valid:\n",
    "    X_valid_averaged[i] = np.mean(window, axis=0)\n",
    "    i += 1\n",
    "print(i)"
   ]
  },
  {
   "cell_type": "code",
   "execution_count": 22,
   "id": "fifteen-bahamas",
   "metadata": {
    "ExecuteTime": {
     "end_time": "2021-08-24T03:17:17.537808Z",
     "start_time": "2021-08-24T03:17:17.516865Z"
    }
   },
   "outputs": [
    {
     "data": {
      "text/plain": [
       "(71721, 18)"
      ]
     },
     "execution_count": 22,
     "metadata": {},
     "output_type": "execute_result"
    },
    {
     "name": "stdout",
     "output_type": "stream",
     "text": [
      "[ 1.91843318  0.52879157  0.10510788 -0.17437668  0.05560284  0.05575868\n",
      " -0.18786149 -0.14210317  0.0401649  -0.19205361 -0.33211382 -0.32488522\n",
      " -0.13106996 -0.31179698 -0.16168831 -0.17214854 -0.01446328 -0.12348485] \n",
      "\n",
      "\n"
     ]
    }
   ],
   "source": [
    "X_valid_averaged.shape\n",
    "\n",
    "count = 0\n",
    "for k in X_valid_averaged:\n",
    "    print(k, '\\n\\n')\n",
    "    count += 1\n",
    "    if count == 1:\n",
    "        break"
   ]
  },
  {
   "cell_type": "code",
   "execution_count": 23,
   "id": "removable-accessory",
   "metadata": {
    "ExecuteTime": {
     "end_time": "2021-08-24T03:17:24.156373Z",
     "start_time": "2021-08-24T03:17:23.033868Z"
    }
   },
   "outputs": [
    {
     "name": "stdout",
     "output_type": "stream",
     "text": [
      "71841\n"
     ]
    }
   ],
   "source": [
    "X_test_averaged = np.empty((X_test.shape[0], X_test.shape[-1]))\n",
    "i = 0\n",
    "for window in X_test:\n",
    "    X_test_averaged[i] = np.mean(window, axis=0)\n",
    "    i += 1\n",
    "print(i)"
   ]
  },
  {
   "cell_type": "code",
   "execution_count": 24,
   "id": "affiliated-grounds",
   "metadata": {
    "ExecuteTime": {
     "end_time": "2021-08-24T03:17:33.075213Z",
     "start_time": "2021-08-24T03:17:33.054270Z"
    }
   },
   "outputs": [
    {
     "data": {
      "text/plain": [
       "(71841, 18)"
      ]
     },
     "execution_count": 24,
     "metadata": {},
     "output_type": "execute_result"
    },
    {
     "name": "stdout",
     "output_type": "stream",
     "text": [
      "[ 1.48310292  0.562206   -0.14161162 -0.3888761  -0.17649443 -0.18740605\n",
      " -0.40340563 -0.37599206  0.06690224 -0.40079275 -0.32723577 -0.37098255\n",
      " -0.15041152 -0.36762689 -0.20227273 -0.24137931 -0.02960452 -0.20530303] \n",
      "\n",
      "\n"
     ]
    }
   ],
   "source": [
    "X_test_averaged.shape\n",
    "\n",
    "count = 0\n",
    "for k in X_test_averaged:\n",
    "    print(k, '\\n\\n')\n",
    "    count += 1\n",
    "    if count == 1:\n",
    "        break"
   ]
  },
  {
   "cell_type": "code",
   "execution_count": 25,
   "id": "careful-hunter",
   "metadata": {
    "ExecuteTime": {
     "end_time": "2021-08-24T03:18:07.037534Z",
     "start_time": "2021-08-24T03:18:07.022583Z"
    }
   },
   "outputs": [
    {
     "name": "stdout",
     "output_type": "stream",
     "text": [
      "[ 0.38709677  0.60097324 -0.15323646 -0.31127733 -0.14042553 -0.14076782\n",
      " -0.26883562 -0.31964286  0.31625442 -0.30464326 -0.44308943 -0.48209366\n",
      " -0.09876543 -0.57201646 -0.30519481 -0.41644562 -0.25762712 -0.20075758]\n",
      "[ 7.37788018  0.38442822  0.56935271  0.09378596  0.47477204  0.47531993\n",
      " -0.05079909  0.13035714 -0.34275618  0.08607022 -0.04471545 -0.18732782\n",
      "  0.36419753 -0.43621399  0.27922078  0.03713528  0.73898305 -0.66666667]\n",
      "[ 9.70046083  0.36009732  0.11889036 -0.02819333  0.11854103  0.11882998\n",
      " -0.16210046 -0.02261905 -0.23498233 -0.04020385 -0.01626016  0.25895317\n",
      "  0.03703704  0.44855967  0.3961039   0.72413793  0.46779661  0.61742424]\n",
      "[ 0.52995392  0.51094891 -0.0317041  -0.15074799  0.01215805  0.01157831\n",
      " -0.09189498 -0.1422619   0.33745583 -0.20951302 -0.56097561 -0.60055096\n",
      " -0.37654321 -0.55967078 -0.50649351 -0.24403183 -0.35932203  0.15909091]\n",
      "[-0.00460829  0.55717762  0.2007926  -0.06214039  0.22613982  0.22608166\n",
      "  0.01426941 -0.1         0.54063604 -0.06908267 -0.35772358 -0.52341598\n",
      " -0.12962963 -0.6090535  -0.01948052 -0.00795756 -0.22711864  0.34848485]\n",
      "[ 0.640553    0.66423358  0.04755614 -0.05350978  0.0218845   0.02254723\n",
      " -0.07990868 -0.24642857  0.68374558 -0.06681767  0.03658537 -0.02479339\n",
      "  0.22222222 -0.09465021  0.42207792  0.0265252   0.6779661  -0.61363636]\n",
      "[-0.08294931  0.97323601 -0.53500661 -0.62945915 -0.69179331 -0.68799512\n",
      " -0.56621005 -0.57559524  0.15724382 -0.62287656 -0.16260163 -0.26170799\n",
      "  0.07407407 -0.35390947  0.06818182 -0.15384615  0.28135593 -0.4280303 ]\n",
      "[-0.06451613  0.91240876 -0.46235139 -0.57479862 -0.56109422 -0.56002438\n",
      " -0.39554795 -0.67261905  0.97173145 -0.56738392 -0.37398374 -0.50688705\n",
      " -0.04938272 -0.63786008 -0.05519481 -0.0795756  -0.25084746  0.27272727]\n",
      "[ 0.16589862  0.79075426 -0.04623514 -0.28826237 -0.02492401 -0.02559415\n",
      " -0.21232877 -0.39940476  0.72968198 -0.28652322 -0.46341463 -0.41322314\n",
      " -0.17283951 -0.41563786 -0.23051948 -0.5198939  -0.11864407 -0.50757576]\n",
      "[ 1.02304147  0.66180049  0.28005284 -0.00575374  0.29300912  0.29311395\n",
      " -0.04223744  0.12857143 -0.31272085 -0.03737259 -0.71138211 -0.68319559\n",
      " -0.68518519 -0.47736626 -0.75649351 -0.49602122 -0.62372881  0.09469697]\n",
      "[ 0.42857143  0.50851582  0.35138705  0.01035673  0.34164134  0.34186472\n",
      " -0.13984018  0.05178571 -0.3869258   0.00339751 -0.20731707 -0.29201102\n",
      "  0.00617284 -0.35802469  0.02597403 -0.23872679  0.36271186 -0.64393939]\n",
      "[ 0.79262673  0.40145985 -0.07133421 -0.26409666 -0.06504559 -0.06520414\n",
      " -0.29794521 -0.1922619  -0.15371025 -0.2599094  -0.28861789 -0.02479339\n",
      " -0.05555556  0.08641975 -0.1461039   0.32095491  0.06101695  0.49621212]\n",
      "[ 0.02304147  0.45255474 -0.39101717 -0.43095512 -0.52158055 -0.51736746\n",
      " -0.41324201 -0.59464286  0.68551237 -0.42751982  0.44308943  0.16528926\n",
      "  0.33950617  0.10699588  0.75324675  0.36870027  0.62711864 -0.06818182]\n",
      "[-0.08294931  0.6107056  -0.63011889 -0.8296893  -0.93191489 -0.91956124\n",
      " -0.78253425 -0.79107143  0.1254417  -0.81200453 -0.38211382 -0.43250689\n",
      " -0.0617284  -0.51851852 -0.28896104 -0.61007958  0.13898305 -0.92424242]\n",
      "[ 4.05529954  0.47201946 -0.32100396 -0.57019563 -0.39270517 -0.39244363\n",
      " -0.57591324 -0.59107143  0.17137809 -0.5594564  -0.31707317 -0.39118457\n",
      " -0.12345679 -0.41563786 -0.20779221 -0.33952255  0.10169492 -0.48863636]\n",
      "[ 6.13824885  0.38199513  0.06076618 -0.25776755  0.08267477  0.08226691\n",
      " -0.44577626 -0.22559524 -0.51060071 -0.2599094  -0.33739837 -0.43526171\n",
      " -0.27777778 -0.38271605 -0.30519481 -0.15119363 -0.12881356  0.03787879]\n",
      "[ 0.32258065  0.45498783 -0.46103038 -0.67433832 -0.57142857 -0.5709933\n",
      " -0.74200913 -0.71130952  0.01413428 -0.66024915  0.20731707  0.03856749\n",
      "  0.46296296 -0.16460905  0.35064935 -0.01591512  0.70847458 -0.70833333]\n",
      "[-0.08294931  0.44038929 -0.63672391 -0.8561565  -0.94650456 -0.93662401\n",
      " -0.84703196 -0.8077381  -0.02473498 -0.83465459  0.08536585 -0.01928375\n",
      "  0.38271605 -0.19341564  0.20779221  0.19363395  0.40338983 -0.06818182]\n",
      "[ 0.02764977  0.59610706 -0.67899604 -0.94361335 -1.05775076 -1.04265692\n",
      " -0.98858447 -0.79642857 -0.49646643 -0.91902605 -0.1097561  -0.17906336\n",
      " -0.02469136 -0.16460905  0.05519481 -0.09549072  0.44067797 -0.52272727]\n",
      "[ 0.02764977  0.69829684 -0.59180978 -0.81933257 -0.83039514 -0.82510664\n",
      " -0.76655251 -0.79940476  0.19964664 -0.801812   -0.50406504 -0.5261708\n",
      " -0.15432099 -0.59259259 -0.40909091 -0.40848806 -0.14576271 -0.31818182]\n",
      "[ 7.09677419  0.71046229 -0.44253633 -0.77617952 -0.51914894 -0.52041438\n",
      " -1.02625571 -0.52678571 -1.41342756 -0.76217441  0.04878049 -0.16804408\n",
      "  0.01851852 -0.17695473  0.09415584 -0.24403183  0.22711864 -0.5       ]\n",
      "[ 3.78341014  0.63990268 -0.30515192 -0.63463751 -0.3100304  -0.31078611\n",
      " -0.83675799 -0.45       -1.05477032 -0.62967157 -0.41463415 -0.25068871\n",
      " -0.42592593  0.         -0.44155844 -0.08753316 -0.31186441  0.32954545]\n",
      "[ 0.31797235  0.64233577 -0.39498018 -0.67779056 -0.44863222 -0.44972578\n",
      " -0.75399543 -0.67083333 -0.14310954 -0.66930917 -0.35365854 -0.34435262\n",
      " -0.24074074 -0.26748971 -0.26948052 -0.40583554 -0.19661017 -0.25378788]\n",
      "[-0.08294931  0.64233577 -0.53632761 -0.82681243 -0.70334347 -0.70262035\n",
      " -0.76655251 -0.76547619  0.09893993 -0.81540204 -0.42682927 -0.52066116\n",
      " -0.16666667 -0.58436214 -0.4025974  -0.5994695   0.0440678  -0.79924242]\n",
      "[-0.08294931  0.65693431 -0.46367239 -0.69275029 -0.56960486 -0.56977453\n",
      " -0.54052511 -0.73333333  0.70318021 -0.69365798 -0.45121951 -0.52892562\n",
      " -0.48148148 -0.38271605 -0.30194805 -0.24403183 -0.50847458  0.32575758]\n",
      "[-0.08294931  0.71532847 -0.52179657 -0.69102417 -0.67234043 -0.67093236\n",
      " -0.56107306 -0.73869048  0.65547703 -0.72819932 -0.45934959 -0.55922865\n",
      " -0.07407407 -0.69958848 -0.55844156 -0.77718833 -0.2        -0.78030303]\n",
      "[-0.08294931  0.53527981 -0.42007926 -0.53567319 -0.51246201 -0.51127361\n",
      " -0.43550228 -0.67261905  0.84805654 -0.59626274 -0.42682927 -0.37741047\n",
      " -0.64814815 -0.04526749 -0.30844156  0.06366048 -0.67118644  0.9469697 ]\n",
      "[-0.08294931  0.54987835 -0.42668428 -0.50115075 -0.51732523 -0.51553931\n",
      " -0.49771689 -0.56130952  0.32508834 -0.49433749  0.04878049  0.10192837\n",
      "  0.2345679   0.08230453  0.28571429  0.27851459  0.13559322  0.35227273]\n",
      "[-0.08294931  0.75912409 -0.54293263 -0.76639816 -0.71367781 -0.71176112\n",
      " -0.67751142 -0.73809524  0.29328622 -0.75481314 -0.3495935  -0.41873278\n",
      " -0.04938272 -0.50617284 -0.2012987  -0.39257294  0.1559322  -0.625     ]\n",
      "[-0.08294931  0.76155718 -0.53500661 -0.65765247 -0.70516717 -0.70201097\n",
      " -0.52853881 -0.77083333  0.84982332 -0.71687429 -0.57723577 -0.58677686\n",
      " -0.69135802 -0.32921811 -0.75       -0.79575597 -0.67457627 -0.27651515]\n",
      "\n",
      "\n",
      "\n",
      "\n"
     ]
    }
   ],
   "source": [
    "count = 0\n",
    "for k in X_train:\n",
    "    #print(k)\n",
    "    for j in k:\n",
    "        print(j)\n",
    "    count += 1\n",
    "    print('\\n\\n\\n')\n",
    "    if count == 1:\n",
    "        break"
   ]
  },
  {
   "cell_type": "code",
   "execution_count": 26,
   "id": "contained-numbers",
   "metadata": {
    "ExecuteTime": {
     "end_time": "2021-08-24T03:24:02.337083Z",
     "start_time": "2021-08-24T03:24:02.321126Z"
    }
   },
   "outputs": [
    {
     "name": "stdout",
     "output_type": "stream",
     "text": [
      "[1.] \n",
      "\n",
      "\n",
      "[1.4905] \n",
      "\n",
      "\n",
      "[0.929] \n",
      "\n",
      "\n",
      "[1.9995] \n",
      "\n",
      "\n",
      "[2.0391] \n",
      "\n",
      "\n",
      "[3.9795] \n",
      "\n",
      "\n",
      "[5.] \n",
      "\n",
      "\n",
      "[5.] \n",
      "\n",
      "\n",
      "[4.7206] \n",
      "\n",
      "\n",
      "[4.] \n",
      "\n",
      "\n"
     ]
    }
   ],
   "source": [
    "count = 0\n",
    "for k in y_target_train:\n",
    "    print(k, '\\n\\n')\n",
    "    count += 1\n",
    "    if count == 10:\n",
    "        break"
   ]
  },
  {
   "cell_type": "markdown",
   "id": "adequate-chocolate",
   "metadata": {},
   "source": [
    "# Saving Feature and Response matrices for Training, Validation and Testing datasets respectively to file for future ease of use."
   ]
  },
  {
   "cell_type": "code",
   "execution_count": 27,
   "id": "arbitrary-object",
   "metadata": {
    "ExecuteTime": {
     "end_time": "2021-08-24T03:26:37.812699Z",
     "start_time": "2021-08-24T03:26:20.308986Z"
    }
   },
   "outputs": [],
   "source": [
    "#30-Day Window + Scaled\n",
    "\n",
    "# Training Files\n",
    "\n",
    "# Saving Feature and Response matrices for Training, Validation and Testing datasets respectively to file for future ease of use.\n",
    "np.savetxt('R:\\Ryerson\\Misc\\Datasets\\Preprocessed Data Files\\y_target_train_30_day_window_scaled.csv', y_target_train, delimiter=',', newline='\\n')\n",
    "\n",
    "\n",
    "\n",
    "# Validation Files\n",
    "\n",
    "np.savetxt('R:\\Ryerson\\Misc\\Datasets\\Preprocessed Data Files\\X_valid_30_day_window_scaled.csv', X_valid_averaged, delimiter=',', newline='\\n')\n",
    "\n",
    "np.savetxt('R:\\Ryerson\\Misc\\Datasets\\Preprocessed Data Files\\y_target_valid_30_day_window_scaled.csv', y_target_valid, delimiter=',', newline='\\n')\n",
    "\n",
    "\n",
    "\n",
    "# Testing Files\n",
    "\n",
    "np.savetxt('R:\\Ryerson\\Misc\\Datasets\\Preprocessed Data Files\\X_test_30_day_window_scaled.csv', X_test_averaged, delimiter=',', newline='\\n')\n",
    "\n",
    "np.savetxt('R:\\Ryerson\\Misc\\Datasets\\Preprocessed Data Files\\y_target_test_30_day_window_scaled.csv', y_target_test, delimiter=',', newline='\\n')\n"
   ]
  }
 ],
 "metadata": {
  "kernelspec": {
   "display_name": "Python 3",
   "language": "python",
   "name": "python3"
  },
  "language_info": {
   "codemirror_mode": {
    "name": "ipython",
    "version": 3
   },
   "file_extension": ".py",
   "mimetype": "text/x-python",
   "name": "python",
   "nbconvert_exporter": "python",
   "pygments_lexer": "ipython3",
   "version": "3.8.8"
  },
  "toc": {
   "base_numbering": 1,
   "nav_menu": {},
   "number_sections": true,
   "sideBar": true,
   "skip_h1_title": false,
   "title_cell": "Table of Contents",
   "title_sidebar": "Contents",
   "toc_cell": false,
   "toc_position": {},
   "toc_section_display": true,
   "toc_window_display": false
  },
  "varInspector": {
   "cols": {
    "lenName": 16,
    "lenType": 16,
    "lenVar": 40
   },
   "kernels_config": {
    "python": {
     "delete_cmd_postfix": "",
     "delete_cmd_prefix": "del ",
     "library": "var_list.py",
     "varRefreshCmd": "print(var_dic_list())"
    },
    "r": {
     "delete_cmd_postfix": ") ",
     "delete_cmd_prefix": "rm(",
     "library": "var_list.r",
     "varRefreshCmd": "cat(var_dic_list()) "
    }
   },
   "types_to_exclude": [
    "module",
    "function",
    "builtin_function_or_method",
    "instance",
    "_Feature"
   ],
   "window_display": false
  }
 },
 "nbformat": 4,
 "nbformat_minor": 5
}

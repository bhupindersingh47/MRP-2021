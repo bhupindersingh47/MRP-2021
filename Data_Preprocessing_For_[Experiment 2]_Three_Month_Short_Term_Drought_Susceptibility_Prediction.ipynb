{
 "cells": [
  {
   "cell_type": "markdown",
   "id": "palestinian-tennis",
   "metadata": {
    "papermill": {
     "duration": 0.011532,
     "end_time": "2021-07-20T10:31:26.909904",
     "exception": false,
     "start_time": "2021-07-20T10:31:26.898372",
     "status": "completed"
    },
    "tags": []
   },
   "source": [
    "# Loading the unprocessed dataset into Pandas dataframes."
   ]
  },
  {
   "cell_type": "code",
   "execution_count": 1,
   "id": "random-terror",
   "metadata": {
    "ExecuteTime": {
     "end_time": "2021-08-24T03:39:59.860317Z",
     "start_time": "2021-08-24T03:39:58.851919Z"
    },
    "_kg_hide-input": false,
    "execution": {
     "iopub.execute_input": "2021-07-20T10:31:26.967510Z",
     "iopub.status.busy": "2021-07-20T10:31:26.966624Z",
     "iopub.status.idle": "2021-07-20T10:31:28.207788Z",
     "shell.execute_reply": "2021-07-20T10:31:28.206923Z",
     "shell.execute_reply.started": "2021-07-20T09:24:06.446705Z"
    },
    "papermill": {
     "duration": 1.261359,
     "end_time": "2021-07-20T10:31:28.208055",
     "exception": false,
     "start_time": "2021-07-20T10:31:26.946696",
     "status": "completed"
    },
    "tags": []
   },
   "outputs": [],
   "source": [
    "import os\n",
    "import numpy as np\n",
    "import pandas as pd\n",
    "from tqdm.auto import tqdm\n",
    "from scipy.interpolate import interp1d\n",
    "from sklearn.preprocessing import RobustScaler\n",
    "\n",
    "datasetsFolder = {}\n",
    "\n",
    "for dirname, _, filenames in os.walk(r'R:\\Ryerson\\Misc\\Datasets\\Predict Droughts using Weather & Soil Data\\\\'):\n",
    "    for filename in filenames:\n",
    "        if 'train' in filename:\n",
    "            datasetsFolder['train'] = os.path.join(dirname, filename)\n",
    "        if 'valid' in filename:\n",
    "            datasetsFolder['valid'] = os.path.join(dirname, filename)\n",
    "        if 'test' in filename:\n",
    "            datasetsFolder['test'] = os.path.join(dirname, filename)"
   ]
  },
  {
   "cell_type": "code",
   "execution_count": 2,
   "id": "fundamental-municipality",
   "metadata": {
    "ExecuteTime": {
     "end_time": "2021-08-24T03:40:40.221953Z",
     "start_time": "2021-08-24T03:39:59.910168Z"
    },
    "execution": {
     "iopub.execute_input": "2021-07-20T10:31:28.319477Z",
     "iopub.status.busy": "2021-07-20T10:31:28.318683Z",
     "iopub.status.idle": "2021-07-20T10:33:12.463143Z",
     "shell.execute_reply": "2021-07-20T10:33:12.463639Z",
     "shell.execute_reply.started": "2021-07-20T09:24:08.026750Z"
    },
    "papermill": {
     "duration": 104.162458,
     "end_time": "2021-07-20T10:33:12.463859",
     "exception": false,
     "start_time": "2021-07-20T10:31:28.301401",
     "status": "completed"
    },
    "tags": []
   },
   "outputs": [],
   "source": [
    "allDatasets = { k: pd.read_csv(datasetsFolder[k]).set_index(['fips', 'date'])\n",
    "    for k in datasetsFolder.keys()}"
   ]
  },
  {
   "cell_type": "markdown",
   "id": "diverse-container",
   "metadata": {},
   "source": [
    "# Pre-processing data to create feature and response matrices."
   ]
  },
  {
   "cell_type": "code",
   "execution_count": 3,
   "id": "deluxe-string",
   "metadata": {
    "ExecuteTime": {
     "end_time": "2021-08-24T03:40:44.405353Z",
     "start_time": "2021-08-24T03:40:44.389396Z"
    },
    "execution": {
     "iopub.execute_input": "2021-07-20T10:33:12.516498Z",
     "iopub.status.busy": "2021-07-20T10:33:12.515473Z",
     "iopub.status.idle": "2021-07-20T10:33:12.522123Z",
     "shell.execute_reply": "2021-07-20T10:33:12.522688Z",
     "shell.execute_reply.started": "2021-07-20T09:25:34.787083Z"
    },
    "papermill": {
     "duration": 0.022417,
     "end_time": "2021-07-20T10:33:12.522880",
     "exception": false,
     "start_time": "2021-07-20T10:33:12.500463",
     "status": "completed"
    },
    "tags": []
   },
   "outputs": [],
   "source": [
    "def interpolate_NaN_values(sourceArray, interpolationKind='linear'):\n",
    "    allIndexes = np.arange(sourceArray.shape[0])\n",
    "    allGoodIndexes, = np.where(np.isfinite(sourceArray))\n",
    "    f = interp1d(allGoodIndexes,\n",
    "                 sourceArray[allGoodIndexes],\n",
    "                 bounds_error=False,\n",
    "                 copy=False,\n",
    "                 fill_value='extrapolate',\n",
    "                 kind=interpolationKind)\n",
    "    return f(allIndexes)"
   ]
  },
  {
   "cell_type": "code",
   "execution_count": 4,
   "id": "binding-postage",
   "metadata": {
    "ExecuteTime": {
     "end_time": "2021-08-24T03:40:45.704631Z",
     "start_time": "2021-08-24T03:40:45.692644Z"
    },
    "execution": {
     "iopub.execute_input": "2021-07-20T10:33:12.573078Z",
     "iopub.status.busy": "2021-07-20T10:33:12.572063Z",
     "iopub.status.idle": "2021-07-20T10:33:12.595617Z",
     "shell.execute_reply": "2021-07-20T10:33:12.596428Z",
     "shell.execute_reply.started": "2021-07-20T09:25:34.796541Z"
    },
    "papermill": {
     "duration": 0.039205,
     "end_time": "2021-07-20T10:33:12.596660",
     "exception": false,
     "start_time": "2021-07-20T10:33:12.557455",
     "status": "completed"
    },
    "tags": []
   },
   "outputs": [],
   "source": [
    "def loadXYMatrices(\n",
    "    df,\n",
    "    randomState = 42, # random state is kept at 42 as per convention\n",
    "    windowSize = 90, # decides number of days per each output sample for which the corresponding drought score is returned\n",
    "    targetSize = 1, # decides how many weeks' worth of drought scores are returned starting the first day of the week following windowSize \n",
    "    ):\n",
    "        rawDF = allDatasets[df]\n",
    "\n",
    "        soilDF = pd.read_csv(r'R:\\Ryerson\\Misc\\Datasets\\Predict Droughts using Weather & Soil Data\\soil_data.csv')\n",
    "\n",
    "        timeSeriesDataColumns = sorted([c for c in rawDF.columns if c not in [\"fips\", \"date\", \"score\"]])\n",
    "        #timeSeriesDataColumns are the 18 meteorological indicators\n",
    "        print('\\ntimeSeriesDataColumns: \\n')\n",
    "        for i_1 in timeSeriesDataColumns:\n",
    "            print(i_1, '\\n')\n",
    "\n",
    "        #staticDataColumns are the 29 soil data indicators\n",
    "        staticDataColumns = sorted([c for c in soilDF.columns if c not in [\"fips\", \"lat\", \"lon\"]])\n",
    "        '''print('\\nstaticDataColumns: ')\n",
    "        for i_2 in staticDataColumns:\n",
    "            print(i_2, '\\n')'''\n",
    "\n",
    "        count = 0\n",
    "        scoreDF = rawDF.dropna(subset=[\"score\"])\n",
    "\n",
    "        X_static = np.empty((len(rawDF) // windowSize, len(staticDataColumns)))\n",
    "        # the shape of this uninitialized array will be (19300680/windowSize, 28)\n",
    "        '''print('X_static Shape: ', X_static.shape)'''\n",
    "\n",
    "        X_time = np.empty((len(rawDF) // windowSize, windowSize, len(timeSeriesDataColumns))) \n",
    "        # the shape of this uninitialized array will be (19300680/windowSize, windowSize, 18)\n",
    "        print('X_time Shape: ', X_time.shape)\n",
    "\n",
    "        y_past = np.empty((len(rawDF) // windowSize, windowSize))\n",
    "        # the shape of this uninitialized array will be (19300680/windowSize, windowSize)\n",
    "        '''print('y_past Shape: ', y_past.shape)'''\n",
    "\n",
    "        y_target = np.empty((len(rawDF) // windowSize, targetSize))\n",
    "        # the shape of this uninitialized array will be (19300680/windowSize, targetSize)\n",
    "        print('y_target Shape: ', y_target.shape)\n",
    "\n",
    "        if randomState is not None:\n",
    "            np.random.seed(randomState)\n",
    "            \n",
    "        for uniqueFIPScode in tqdm(scoreDF.index.get_level_values(0).unique()): #for every unique FIPS county code\n",
    "            \n",
    "            if randomState is not None:\n",
    "                startingPoint = np.random.randint(1, windowSize) #return random integers from 1 to 30 (30 not included)\n",
    "            else:\n",
    "                startingPoint = 1\n",
    "            \n",
    "            fipsDF = rawDF[(rawDF.index.get_level_values(0) == uniqueFIPScode)] #store the df sample at [index = current unique value of fips] \n",
    "            X = fipsDF[timeSeriesDataColumns].values #individual X = current sample values of the 18 meteorological columns \n",
    "            y = fipsDF[\"score\"].values #individual y = current samples' values of the column 'score' as ndarray\n",
    "            XStat = soilDF[soilDF[\"fips\"] == uniqueFIPScode][staticDataColumns].values[0] #individual soil data sample = return as ndarray all the 29 column values minus the axis labels\n",
    "            \n",
    "            for i in range(startingPoint, len(y) - (windowSize + targetSize * 7), windowSize):\n",
    "                X_time[count, :, : len(timeSeriesDataColumns)] = X[i : i + windowSize]\n",
    "                y_past[count] = interpolate_NaN_values(y[i : i + windowSize])\n",
    "                tempY = y[i + windowSize : i + windowSize + targetSize * 7]\n",
    "                y_target[count] = np.array(tempY[~np.isnan(tempY)][:targetSize])\n",
    "                X_static[count] = XStat\n",
    "                count += 1\n",
    "        \n",
    "        print(f\"\\n\\n-----------------------------------\\nLoaded {count} samples successfully.\\n-----------------------------------\\n\\n\")\n",
    "        matrices = [X_time[:count], y_target[:count]]\n",
    "        #If you wish to inculcate Soil data in the training of your model and require the Soil data array for the same then uncomment the following line of code: \n",
    "        #matrices.append(X_static[:count])\n",
    "        #If you require the interpolated past drought values for every day in the dataset then uncomment the following line of code: \n",
    "        #matrices.append(y_past[:count])\n",
    "        return matrices"
   ]
  },
  {
   "cell_type": "markdown",
   "id": "hybrid-travel",
   "metadata": {},
   "source": [
    "# Defining function to scale features using RobustScaler."
   ]
  },
  {
   "cell_type": "code",
   "execution_count": 5,
   "id": "senior-rapid",
   "metadata": {
    "ExecuteTime": {
     "end_time": "2021-08-24T03:40:49.848831Z",
     "start_time": "2021-08-24T03:40:49.839858Z"
    },
    "execution": {
     "iopub.execute_input": "2021-07-20T10:33:12.650140Z",
     "iopub.status.busy": "2021-07-20T10:33:12.649083Z",
     "iopub.status.idle": "2021-07-20T10:33:12.661155Z",
     "shell.execute_reply": "2021-07-20T10:33:12.661710Z",
     "shell.execute_reply.started": "2021-07-20T09:25:34.825533Z"
    },
    "papermill": {
     "duration": 0.028525,
     "end_time": "2021-07-20T10:33:12.661921",
     "exception": false,
     "start_time": "2021-07-20T10:33:12.633396",
     "status": "completed"
    },
    "tags": []
   },
   "outputs": [],
   "source": [
    "scalerDict = {}\n",
    "\n",
    "def scaleFeatures(sourceArray, fit=False):\n",
    "    for index in tqdm(range(sourceArray.shape[-1])): #printing a progress bar for each of the 18 meteorological indicators\n",
    "        if fit:\n",
    "            scalerDict[index] = RobustScaler().fit(sourceArray[:, :, index].reshape(-1, 1))\n",
    "        sourceArray[:, :, index] = (scalerDict[index].transform(sourceArray[:, :, index].reshape(-1, 1)).reshape(-1, sourceArray.shape[-2]))\n",
    "    return sourceArray"
   ]
  },
  {
   "cell_type": "markdown",
   "id": "supreme-month",
   "metadata": {},
   "source": [
    "# Creating the Feature and Response matrices."
   ]
  },
  {
   "cell_type": "code",
   "execution_count": 6,
   "id": "unlike-spouse",
   "metadata": {
    "ExecuteTime": {
     "end_time": "2021-08-24T03:40:52.387778Z",
     "start_time": "2021-08-24T03:40:52.384785Z"
    }
   },
   "outputs": [],
   "source": [
    "# There are 3108 counties in the training dataset.\n",
    "\n",
    "# For each county, there are 6210 observations i.e. there is one observation for every day of 2001-2017. \n",
    "\n",
    "# Meaning there are a total of 3108 x 6210 = 19,300,680 observations in the training dataset."
   ]
  },
  {
   "cell_type": "code",
   "execution_count": 7,
   "id": "worldwide-pontiac",
   "metadata": {
    "ExecuteTime": {
     "end_time": "2021-08-24T03:52:10.126606Z",
     "start_time": "2021-08-24T03:41:48.514736Z"
    },
    "execution": {
     "iopub.execute_input": "2021-07-20T10:33:12.690376Z",
     "iopub.status.busy": "2021-07-20T10:33:12.689263Z",
     "iopub.status.idle": "2021-07-20T10:48:37.067746Z",
     "shell.execute_reply": "2021-07-20T10:48:37.066915Z",
     "shell.execute_reply.started": "2021-07-20T09:59:42.374341Z"
    },
    "papermill": {
     "duration": 924.394256,
     "end_time": "2021-07-20T10:48:37.068067",
     "exception": false,
     "start_time": "2021-07-20T10:33:12.673811",
     "status": "completed"
    },
    "scrolled": true,
    "tags": []
   },
   "outputs": [
    {
     "name": "stdout",
     "output_type": "stream",
     "text": [
      "\n",
      "timeSeriesDataColumns: \n",
      "\n",
      "PRECTOT \n",
      "\n",
      "PS \n",
      "\n",
      "QV2M \n",
      "\n",
      "T2M \n",
      "\n",
      "T2MDEW \n",
      "\n",
      "T2MWET \n",
      "\n",
      "T2M_MAX \n",
      "\n",
      "T2M_MIN \n",
      "\n",
      "T2M_RANGE \n",
      "\n",
      "TS \n",
      "\n",
      "WS10M \n",
      "\n",
      "WS10M_MAX \n",
      "\n",
      "WS10M_MIN \n",
      "\n",
      "WS10M_RANGE \n",
      "\n",
      "WS50M \n",
      "\n",
      "WS50M_MAX \n",
      "\n",
      "WS50M_MIN \n",
      "\n",
      "WS50M_RANGE \n",
      "\n",
      "X_time Shape:  (214452, 90, 18)\n",
      "y_target Shape:  (214452, 1)\n"
     ]
    },
    {
     "data": {
      "application/vnd.jupyter.widget-view+json": {
       "model_id": "da1d7d05874849d1a4adcd8f697a21d2",
       "version_major": 2,
       "version_minor": 0
      },
      "text/plain": [
       "  0%|          | 0/3108 [00:00<?, ?it/s]"
      ]
     },
     "metadata": {},
     "output_type": "display_data"
    },
    {
     "name": "stdout",
     "output_type": "stream",
     "text": [
      "\n",
      "\n",
      "-----------------------------------\n",
      "Loaded 211099 samples successfully.\n",
      "-----------------------------------\n",
      "\n",
      "\n",
      "\n",
      "timeSeriesDataColumns: \n",
      "\n",
      "PRECTOT \n",
      "\n",
      "PS \n",
      "\n",
      "QV2M \n",
      "\n",
      "T2M \n",
      "\n",
      "T2MDEW \n",
      "\n",
      "T2MWET \n",
      "\n",
      "T2M_MAX \n",
      "\n",
      "T2M_MIN \n",
      "\n",
      "T2M_RANGE \n",
      "\n",
      "TS \n",
      "\n",
      "WS10M \n",
      "\n",
      "WS10M_MAX \n",
      "\n",
      "WS10M_MIN \n",
      "\n",
      "WS10M_RANGE \n",
      "\n",
      "WS50M \n",
      "\n",
      "WS50M_MAX \n",
      "\n",
      "WS50M_MIN \n",
      "\n",
      "WS50M_RANGE \n",
      "\n",
      "X_time Shape:  (25209, 90, 18)\n",
      "y_target Shape:  (25209, 1)\n"
     ]
    },
    {
     "data": {
      "application/vnd.jupyter.widget-view+json": {
       "model_id": "ba756abe3e774a9d842a406d2691f9b0",
       "version_major": 2,
       "version_minor": 0
      },
      "text/plain": [
       "  0%|          | 0/3108 [00:00<?, ?it/s]"
      ]
     },
     "metadata": {},
     "output_type": "display_data"
    },
    {
     "name": "stdout",
     "output_type": "stream",
     "text": [
      "\n",
      "\n",
      "-----------------------------------\n",
      "Loaded 21839 samples successfully.\n",
      "-----------------------------------\n",
      "\n",
      "\n",
      "\n",
      "timeSeriesDataColumns: \n",
      "\n",
      "PRECTOT \n",
      "\n",
      "PS \n",
      "\n",
      "QV2M \n",
      "\n",
      "T2M \n",
      "\n",
      "T2MDEW \n",
      "\n",
      "T2MWET \n",
      "\n",
      "T2M_MAX \n",
      "\n",
      "T2M_MIN \n",
      "\n",
      "T2M_RANGE \n",
      "\n",
      "TS \n",
      "\n",
      "WS10M \n",
      "\n",
      "WS10M_MAX \n",
      "\n",
      "WS10M_MIN \n",
      "\n",
      "WS10M_RANGE \n",
      "\n",
      "WS50M \n",
      "\n",
      "WS50M_MAX \n",
      "\n",
      "WS50M_MIN \n",
      "\n",
      "WS50M_RANGE \n",
      "\n",
      "X_time Shape:  (25243, 90, 18)\n",
      "y_target Shape:  (25243, 1)\n"
     ]
    },
    {
     "data": {
      "application/vnd.jupyter.widget-view+json": {
       "model_id": "d517d60a17864362ba34add6ccb12e74",
       "version_major": 2,
       "version_minor": 0
      },
      "text/plain": [
       "  0%|          | 0/3108 [00:00<?, ?it/s]"
      ]
     },
     "metadata": {},
     "output_type": "display_data"
    },
    {
     "name": "stdout",
     "output_type": "stream",
     "text": [
      "\n",
      "\n",
      "-----------------------------------\n",
      "Loaded 21881 samples successfully.\n",
      "-----------------------------------\n",
      "\n",
      "\n"
     ]
    },
    {
     "data": {
      "application/vnd.jupyter.widget-view+json": {
       "model_id": "60f14352993049569bcfb15d608d7735",
       "version_major": 2,
       "version_minor": 0
      },
      "text/plain": [
       "  0%|          | 0/18 [00:00<?, ?it/s]"
      ]
     },
     "metadata": {},
     "output_type": "display_data"
    },
    {
     "data": {
      "application/vnd.jupyter.widget-view+json": {
       "model_id": "2d15796fd225412b978c5ac51a78fb54",
       "version_major": 2,
       "version_minor": 0
      },
      "text/plain": [
       "  0%|          | 0/18 [00:00<?, ?it/s]"
      ]
     },
     "metadata": {},
     "output_type": "display_data"
    },
    {
     "data": {
      "application/vnd.jupyter.widget-view+json": {
       "model_id": "b7c2cd6092704cbfa1d8fead1242983d",
       "version_major": 2,
       "version_minor": 0
      },
      "text/plain": [
       "  0%|          | 0/18 [00:00<?, ?it/s]"
      ]
     },
     "metadata": {},
     "output_type": "display_data"
    }
   ],
   "source": [
    "X_train, y_target_train = loadXYMatrices(\"train\")\n",
    "X_valid, y_target_valid = loadXYMatrices(\"valid\")\n",
    "X_test, y_target_test = loadXYMatrices(\"test\")\n",
    "\n",
    "#Normalizing values:\n",
    "X_train = scaleFeatures(X_train, fit=True)\n",
    "X_valid = scaleFeatures(X_valid)\n",
    "X_test = scaleFeatures(X_test)"
   ]
  },
  {
   "cell_type": "code",
   "execution_count": 8,
   "id": "registered-albuquerque",
   "metadata": {
    "ExecuteTime": {
     "end_time": "2021-08-24T03:52:14.660927Z",
     "start_time": "2021-08-24T03:52:14.651927Z"
    }
   },
   "outputs": [
    {
     "name": "stdout",
     "output_type": "stream",
     "text": [
      "\n",
      "X_train.shape:  (211099, 90, 18)\n",
      "\n",
      "y_target_train.shape:  (211099, 1)\n",
      "\n",
      "\n",
      "\n",
      "\n",
      "\n",
      "X_valid.shape:  (21839, 90, 18)\n",
      "\n",
      "y_target_valid.shape:  (21839, 1)\n",
      "\n",
      "\n",
      "\n",
      "\n",
      "\n",
      "X_test.shape:  (21881, 90, 18)\n",
      "\n",
      "y_target_test.shape:  (21881, 1)\n"
     ]
    }
   ],
   "source": [
    "print('\\nX_train.shape: ', X_train.shape)\n",
    "print('\\ny_target_train.shape: ', y_target_train.shape)\n",
    "\n",
    "print('\\n\\n\\n')\n",
    "\n",
    "print('\\nX_valid.shape: ', X_valid.shape)\n",
    "print('\\ny_target_valid.shape: ', y_target_valid.shape)\n",
    "\n",
    "print('\\n\\n\\n')\n",
    "\n",
    "print('\\nX_test.shape: ', X_test.shape)\n",
    "print('\\ny_target_test.shape: ', y_target_test.shape)\n"
   ]
  },
  {
   "cell_type": "code",
   "execution_count": 9,
   "id": "considerable-administrator",
   "metadata": {
    "ExecuteTime": {
     "end_time": "2021-08-24T03:52:46.313796Z",
     "start_time": "2021-08-24T03:52:43.597342Z"
    }
   },
   "outputs": [
    {
     "name": "stdout",
     "output_type": "stream",
     "text": [
      "211099\n"
     ]
    }
   ],
   "source": [
    "X_train_averaged = np.empty((X_train.shape[0], X_train.shape[-1]))\n",
    "i = 0\n",
    "for window in X_train:\n",
    "    X_train_averaged[i] = np.mean(window, axis=0)\n",
    "    i += 1\n",
    "print(i)"
   ]
  },
  {
   "cell_type": "code",
   "execution_count": 10,
   "id": "documented-perth",
   "metadata": {
    "ExecuteTime": {
     "end_time": "2021-08-24T03:52:48.598290Z",
     "start_time": "2021-08-24T03:52:48.577346Z"
    }
   },
   "outputs": [
    {
     "data": {
      "text/plain": [
       "(211099, 18)"
      ]
     },
     "execution_count": 10,
     "metadata": {},
     "output_type": "execute_result"
    },
    {
     "name": "stdout",
     "output_type": "stream",
     "text": [
      "[ 1.33608563  0.47864078  0.26165205  0.15968382  0.23115031  0.23127497\n",
      "  0.19923766  0.11435653  0.47204554  0.14949609 -0.31955736 -0.35677992\n",
      " -0.20740741 -0.30873342 -0.16587302 -0.21788977 -0.06900188 -0.13193916] \n",
      "\n",
      "\n"
     ]
    }
   ],
   "source": [
    "X_train_averaged.shape\n",
    "\n",
    "count = 0\n",
    "for k in X_train_averaged:\n",
    "    print(k, '\\n\\n')\n",
    "    count += 1\n",
    "    if count == 1:\n",
    "        break"
   ]
  },
  {
   "cell_type": "code",
   "execution_count": 11,
   "id": "peaceful-firewall",
   "metadata": {
    "ExecuteTime": {
     "end_time": "2021-08-24T03:52:52.050087Z",
     "start_time": "2021-08-24T03:52:51.646134Z"
    }
   },
   "outputs": [
    {
     "name": "stdout",
     "output_type": "stream",
     "text": [
      "21839\n"
     ]
    }
   ],
   "source": [
    "X_valid_averaged = np.empty((X_valid.shape[0], X_valid.shape[-1]))\n",
    "i = 0\n",
    "for window in X_valid:\n",
    "    X_valid_averaged[i] = np.mean(window, axis=0)\n",
    "    i += 1\n",
    "print(i)"
   ]
  },
  {
   "cell_type": "code",
   "execution_count": 12,
   "id": "fifteen-bahamas",
   "metadata": {
    "ExecuteTime": {
     "end_time": "2021-08-24T03:52:53.038629Z",
     "start_time": "2021-08-24T03:52:53.023690Z"
    }
   },
   "outputs": [
    {
     "data": {
      "text/plain": [
       "(21839, 18)"
      ]
     },
     "execution_count": 12,
     "metadata": {},
     "output_type": "execute_result"
    },
    {
     "name": "stdout",
     "output_type": "stream",
     "text": [
      "[ 1.78353721  0.47783172  0.41049708  0.19097542  0.32567586  0.32600718\n",
      "  0.18630964  0.1908454   0.20510404  0.17612749 -0.34426378 -0.40116315\n",
      " -0.20137174 -0.378738   -0.18993506 -0.2418214  -0.05984934 -0.17667934] \n",
      "\n",
      "\n"
     ]
    }
   ],
   "source": [
    "X_valid_averaged.shape\n",
    "\n",
    "count = 0\n",
    "for k in X_valid_averaged:\n",
    "    print(k, '\\n\\n')\n",
    "    count += 1\n",
    "    if count == 1:\n",
    "        break"
   ]
  },
  {
   "cell_type": "code",
   "execution_count": 13,
   "id": "removable-accessory",
   "metadata": {
    "ExecuteTime": {
     "end_time": "2021-08-24T03:52:54.669203Z",
     "start_time": "2021-08-24T03:52:54.317856Z"
    }
   },
   "outputs": [
    {
     "name": "stdout",
     "output_type": "stream",
     "text": [
      "21881\n"
     ]
    }
   ],
   "source": [
    "X_test_averaged = np.empty((X_test.shape[0], X_test.shape[-1]))\n",
    "i = 0\n",
    "for window in X_test:\n",
    "    X_test_averaged[i] = np.mean(window, axis=0)\n",
    "    i += 1\n",
    "print(i)"
   ]
  },
  {
   "cell_type": "code",
   "execution_count": 14,
   "id": "affiliated-grounds",
   "metadata": {
    "ExecuteTime": {
     "end_time": "2021-08-24T03:52:55.646613Z",
     "start_time": "2021-08-24T03:52:55.630631Z"
    }
   },
   "outputs": [
    {
     "data": {
      "text/plain": [
       "(21881, 18)"
      ]
     },
     "execution_count": 14,
     "metadata": {},
     "output_type": "execute_result"
    },
    {
     "name": "stdout",
     "output_type": "stream",
     "text": [
      "[ 1.62477064  0.47918015  0.39273392  0.14125704  0.31647067  0.30780689\n",
      "  0.12392478  0.15945535  0.10547703  0.12952885 -0.37913279 -0.40951944\n",
      " -0.24993141 -0.35861911 -0.23787879 -0.28408488 -0.1320904  -0.15589354] \n",
      "\n",
      "\n"
     ]
    }
   ],
   "source": [
    "X_test_averaged.shape\n",
    "\n",
    "count = 0\n",
    "for k in X_test_averaged:\n",
    "    print(k, '\\n\\n')\n",
    "    count += 1\n",
    "    if count == 1:\n",
    "        break"
   ]
  },
  {
   "cell_type": "code",
   "execution_count": 15,
   "id": "careful-hunter",
   "metadata": {
    "ExecuteTime": {
     "end_time": "2021-08-24T03:52:57.302943Z",
     "start_time": "2021-08-24T03:52:57.246095Z"
    }
   },
   "outputs": [
    {
     "name": "stdout",
     "output_type": "stream",
     "text": [
      "[ 0.08256881  0.73786408 -0.24868421 -0.24135945 -0.22749392 -0.22790981\n",
      " -0.11492281 -0.34027365  0.85159011 -0.23639456 -0.34146341 -0.50137741\n",
      "  0.06790123 -0.70781893 -0.0487013  -0.04244032 -0.03389831  0.07984791]\n",
      "[-0.08256881  0.68446602  0.         -0.04435484  0.03710462  0.03717246\n",
      "  0.0485992  -0.09577632  0.62897527 -0.04365079 -0.04471545 -0.12396694\n",
      "  0.32098765 -0.3127572   0.23051948 -0.15384615  0.52881356 -0.71102662]\n",
      "[-0.08256881  0.65291262  0.21710526  0.06509217  0.24391727  0.24375381\n",
      "  0.16923957  0.02201071  0.65547703  0.06122449 -0.28861789 -0.30853994\n",
      "  0.01851852 -0.38683128 -0.00649351 -0.21750663  0.12881356 -0.35361217]\n",
      "[-0.08256881  0.59466019  0.26315789  0.11059908  0.28223844  0.28214503\n",
      "  0.20468839  0.03926234  0.71024735  0.1031746  -0.17073171 -0.11570248\n",
      "  0.04938272 -0.11934156  0.17857143 -0.12732095  0.25084746 -0.36121673]\n",
      "[ 0.90825688  0.5631068   0.36973684  0.14400922  0.35583942  0.35588056\n",
      "  0.18582047  0.11659726  0.42402827  0.138322    0.0203252   0.10192837\n",
      "  0.20987654  0.10288066  0.3474026   0.27851459  0.54915254 -0.11406844]\n",
      "[ 1.12935780e+01  5.75242718e-01  8.28947368e-02 -3.11059908e-02\n",
      "  1.07664234e-01  1.07251676e-01 -1.03487707e-01 -7.01963117e-02\n",
      "  8.48056537e-02 -3.17460317e-02 -1.99186992e-01 -3.41597796e-01\n",
      "  1.85185185e-02 -4.36213992e-01 -3.24675325e-03 -1.75066313e-01\n",
      "  1.76271186e-01 -3.46007605e-01]\n",
      "[-0.08256881  0.6407767  -0.22763158 -0.21370968 -0.20681265 -0.20658135\n",
      " -0.07146941 -0.26353361  0.75795053 -0.22789116 -0.33333333 -0.34710744\n",
      " -0.18518519 -0.30864198 -0.20454545 -0.33156499  0.10508475 -0.4904943 ]\n",
      "[-0.07798165  0.58495146 -0.05263158 -0.0921659  -0.01459854 -0.01523461\n",
      "  0.053745   -0.2343843   1.05830389 -0.09240363 -0.34146341 -0.48484848\n",
      " -0.12962963 -0.55144033 -0.00649351  0.0928382  -0.22711864  0.4904943 ]\n",
      "[-0.08256881  0.51699029  0.34868421  0.12845622  0.34002433  0.34064595\n",
      "  0.21898228  0.12790006  0.49293286  0.12244898 -0.18292683 -0.25068871\n",
      "  0.15432099 -0.3909465   0.1461039  -0.20424403  0.63728814 -0.90494297]\n",
      "[ 0.28899083  0.50485437 -0.125      -0.08870968 -0.09367397 -0.09384522\n",
      " -0.02401372 -0.02855443  0.20671378 -0.09580499 -0.39430894 -0.52066116\n",
      " -0.17901235 -0.57613169 -0.25974026 -0.37665782  0.05084746 -0.49429658]\n",
      "[ 3.79816514  0.36165049  0.23157895  0.0264977   0.19160584  0.19134674\n",
      "  0.15494568 -0.18322427  1.21731449  0.02834467 -0.32926829 -0.23140496\n",
      " -0.34567901 -0.02880658 -0.08766234 -0.04774536 -0.40677966  0.4904943 ]\n",
      "[-0.00917431  0.3907767  -0.04210526 -0.15610599 -0.00121655 -0.00121877\n",
      " -0.20869068 -0.09815586 -0.15724382 -0.15079365 -0.06097561 -0.19834711\n",
      " -0.00617284 -0.20576132  0.15584416 -0.20159151  0.45762712 -0.69961977]\n",
      "[-0.08256881  0.48058252 -0.15921053 -0.11175115 -0.12530414 -0.12553321\n",
      " -0.01086335 -0.24806663  0.89929329 -0.17290249 -0.63414634 -0.65013774\n",
      " -0.48765432 -0.55967078 -0.81168831 -0.78249337 -0.54576271 -0.40684411]\n",
      "[-0.08256881  0.57038835 -0.16710526  0.12442396 -0.1350365  -0.13467398\n",
      "  0.19039451 -0.14098751  1.20318021 -0.06405896 -0.80081301 -0.60606061\n",
      " -0.81481481 -0.27572016 -1.07467532 -0.73740053 -0.79322034 -0.06463878]\n",
      "[-0.08256881  0.60436893  0.07368421  0.14976959  0.10583942  0.10542352\n",
      "  0.26129217  0.09994051  0.70848057  0.07086168 -0.45121951 -0.5922865\n",
      " -0.12962963 -0.71193416 -0.37337662 -0.09814324 -0.31525424  0.31178707]\n",
      "[-0.08256881  0.5315534   0.21315789  0.13076037  0.23600973  0.23583181\n",
      "  0.24070898  0.01963117  0.88162544  0.11791383 -0.37804878 -0.47107438\n",
      " -0.11728395 -0.54320988 -0.20454545 -0.07161804 -0.16271186  0.18250951]\n",
      "[ 1.73394495  0.4684466   0.63552632  0.27246544  0.52980535  0.53016453\n",
      "  0.26872499  0.22903034  0.34628975  0.25793651 -0.3699187  -0.27823691\n",
      " -0.32098765 -0.11522634 -0.20779221 -0.37400531 -0.14576271 -0.27376426]\n",
      "[ 7.59174312  0.44902913  0.80526316  0.3156682   0.63442822  0.63497867\n",
      "  0.15837621  0.51516954 -0.84275618  0.30782313 -0.41056911 -0.4738292\n",
      " -0.08024691 -0.56790123 -0.21103896 -0.3872679  -0.03728814 -0.41064639]\n",
      "[ 2.67889908  0.41262136  0.28289474  0.03513825  0.22019465  0.21998781\n",
      "  0.03487707 -0.2528257   1.05300353  0.02891156  0.34146341  0.25068871\n",
      "  0.45061728  0.16049383  0.63961039  0.46419098  0.90508475 -0.24714829]\n",
      "[-0.08256881  0.62135922 -0.46578947 -0.4781106  -0.56812652 -0.56550884\n",
      " -0.38707833 -0.48007139  0.42402827 -0.45975057 -0.07317073 -0.22865014\n",
      "  0.14814815 -0.35390947  0.15909091 -0.16710875  0.63389831 -0.84790875]\n",
      "[ 0.38990826  0.65533981 -0.42236842 -0.33064516 -0.48600973 -0.48446069\n",
      " -0.19839909 -0.55800119  1.24028269 -0.388322   -0.67886179 -0.61432507\n",
      " -0.66049383 -0.3909465  -0.75649351 -0.52254642 -0.66101695  0.09505703]\n",
      "[-0.0733945   0.60679612 -0.20789474 -0.17108295 -0.18917275 -0.18951859\n",
      " -0.01829617 -0.31945271  1.08657244 -0.17290249 -0.32926829 -0.44628099\n",
      " -0.04938272 -0.5473251  -0.07792208  0.         -0.26440678  0.39923954]\n",
      "[ 0.61009174  0.52669903  0.18421053  0.02476959  0.20194647  0.20170628\n",
      "  0.03373356  0.00535396  0.2844523   0.02324263 -0.19105691 -0.25068871\n",
      " -0.02469136 -0.27160494  0.11038961 -0.10344828  0.44067797 -0.53992395]\n",
      "[ 4.56422018  0.38592233  0.57894737  0.1468894   0.49026764  0.49055454\n",
      "  0.01543739  0.33432481 -0.74911661  0.1377551  -0.13414634 -0.11019284\n",
      "  0.19753086 -0.20987654  0.13311688 -0.01856764  0.58983051 -0.58555133]\n",
      "[ 0.32110092  0.54126214  0.05131579 -0.00518433  0.09428224  0.0944546\n",
      "  0.05202973  0.02022606  0.29681979 -0.00283447 -0.23170732 -0.3415978\n",
      "  0.16049383 -0.53497942 -0.04545455 -0.25198939  0.4        -0.70342205]\n",
      "[ 2.25229358  0.56067961 -0.02105263 -0.09043779  0.013382    0.01279707\n",
      " -0.02572899 -0.06008328  0.295053   -0.08390023  0.17073171 -0.03856749\n",
      "  0.33333333 -0.19341564  0.36363636  0.11140584  0.78305085 -0.61596958]\n",
      "[ 2.17155963e+01  3.42233010e-01  2.80263158e-01 -7.77649770e-02\n",
      "  2.69464720e-01  2.69347959e-01 -1.67524300e-01 -3.56930399e-03\n",
      " -3.10954064e-01 -8.10657596e-02  2.88617886e-01  1.54269972e-01\n",
      " -1.79012346e-01  4.36213992e-01  5.00000000e-01  3.68700265e-01\n",
      "  2.06779661e-01  3.99239544e-01]\n",
      "[ 0.38073394  0.41504854 -0.07894737 -0.19815668 -0.03527981 -0.03595369\n",
      " -0.18238994 -0.10350982 -0.06007067 -0.20408163 -0.42682927 -0.57024793\n",
      " -0.19135802 -0.63786008 -0.42207792 -0.54111406  0.13559322 -0.82509506]\n",
      "[-0.00458716  0.57281553 -0.00394737 -0.08064516  0.03588808  0.0353443\n",
      "  0.03430532 -0.25580012  1.06360424 -0.0776644  -0.54065041 -0.72451791\n",
      " -0.32098765 -0.78600823 -0.39285714 -0.46153846 -0.41355932 -0.09505703]\n",
      "[ 0.25688073  0.60194175  0.16842105  0.0766129   0.20072993  0.20109689\n",
      "  0.2109777   0.01665675  0.79858657  0.07482993 -0.5203252  -0.64187328\n",
      " -0.4382716  -0.58024691 -0.30194805 -0.16180371 -0.46779661  0.39543726]\n",
      "[-0.08256881  0.57524272  0.17631579  0.09447005  0.20742092  0.20719074\n",
      "  0.18353345  0.05294468  0.60600707  0.08503401 -0.3495935  -0.25895317\n",
      " -0.20987654 -0.1563786  -0.16558442 -0.16180371 -0.10508475 -0.00760456]\n",
      "[-0.06880734  0.54368932  0.25921053  0.12615207  0.27615572  0.27605119\n",
      "  0.17953116  0.07971446  0.51413428  0.11791383 -0.49186992 -0.62534435\n",
      " -0.14197531 -0.75308642 -0.38636364 -0.47745358 -0.02372881 -0.55513308]\n",
      "[ 0.77981651  0.51941748  0.54736842  0.1906682   0.47688564  0.47714808\n",
      "  0.10177244  0.24806663 -0.22791519  0.18650794 -0.59756098 -0.74655647\n",
      " -0.17901235 -0.90946502 -0.44480519 -0.51458886 -0.22033898 -0.3878327 ]\n",
      "[ 1.25688073  0.37621359  0.46447368  0.1687788   0.41970803  0.41986594\n",
      "  0.12692967  0.31112433 -0.33745583  0.1553288  -0.64634146 -0.73278237\n",
      " -0.61111111 -0.60082305 -0.56493506 -0.52254642 -0.5559322  -0.02281369]\n",
      "[ 1.78899083  0.14563107  0.26184211  0.01843318  0.24635036  0.24619135\n",
      "  0.09376787 -0.06722189  0.68551237  0.0170068  -0.22764228  0.01928375\n",
      " -0.15432099  0.218107    0.00324675  0.08753316 -0.01694915  0.25095057]\n",
      "[-0.08256881  0.1868932   0.07105263  0.02131336  0.08333333  0.08287629\n",
      "  0.20068611 -0.16894706  1.31625442  0.01643991 -0.06910569  0.12947658\n",
      " -0.03703704  0.30452675  0.22402597  0.36870027  0.25423729  0.3460076 ]\n",
      "[ 0.7293578   0.3276699   0.15789474  0.03513825  0.15875912  0.15904936\n",
      "  0.04002287 -0.00237954  0.32685512  0.03684807 -0.52845528 -0.54820937\n",
      " -0.47530864 -0.41563786 -0.47727273 -0.51724138 -0.29491525 -0.30418251]\n",
      "[ 3.36697248  0.2961165   0.65526316  0.31048387  0.53649635  0.53625838\n",
      "  0.34991424  0.30577037  0.36925795  0.30668934 -0.3902439  -0.40220386\n",
      " -0.39506173 -0.25102881 -0.25974026 -0.23076923 -0.38305085  0.20152091]\n",
      "[-0.01834862  0.44660194  0.25394737  0.16474654  0.26520681  0.26508227\n",
      "  0.25557461  0.07495538  0.76325088  0.15816327 -0.58536585 -0.70523416\n",
      " -0.31481481 -0.75308642 -0.55519481 -0.61803714 -0.2440678  -0.51330798]\n",
      "[ 3.60091743  0.48543689  0.50263158  0.24884793  0.44829684  0.44850701\n",
      "  0.25042882  0.28138013  0.13427562  0.24433107 -0.15853659 -0.14049587\n",
      "  0.16666667 -0.2345679   0.14935065 -0.18567639  0.41016949 -0.62357414]\n",
      "[ 1.61834862e+01  4.36893204e-01  8.94736842e-01  3.19124424e-01\n",
      "  6.76399027e-01  6.77026204e-01  1.82389937e-01  4.84235574e-01\n",
      " -6.78445230e-01  3.11791383e-01 -2.72357724e-01 -4.21487603e-01\n",
      "  1.23456790e-02 -5.51440329e-01 -1.29870130e-02 -1.43236074e-01\n",
      "  2.81355932e-01 -4.18250951e-01]\n",
      "[16.2706422   0.33980583  0.84605263  0.31048387  0.63686131  0.63741621\n",
      "  0.18353345  0.26412849 -0.02120141  0.29931973  0.22764228  0.33333333\n",
      " -0.20987654  0.72427984  0.53571429  0.84350133  0.03050847  1.27756654]\n",
      "[ 0.49541284  0.49029126 -0.18421053 -0.20391705 -0.18613139 -0.18586228\n",
      " -0.33619211 -0.25580012 -0.08303887 -0.19501134  0.26422764  0.26446281\n",
      " -0.02469136  0.49794239  0.5974026   0.49602122  0.34576271  0.42585551]\n",
      "[-0.08256881  0.55582524 -0.23947368 -0.22119816 -0.23844282 -0.23826935\n",
      " -0.09948542 -0.37477692  1.00176678 -0.21882086 -0.53658537 -0.57024793\n",
      " -0.70987654 -0.29218107 -0.40909091 -0.15384615 -0.70847458  0.67680608]\n",
      "[-0.07798165  0.47330097  0.15        0.03341014  0.16909976  0.16879951\n",
      "  0.1623785  -0.14991077  1.14310954  0.0345805  -0.25609756 -0.37741047\n",
      "  0.04320988 -0.50617284  0.0487013  -0.02122016 -0.00338983  0.07984791]\n",
      "[-0.01376147  0.41504854  0.37368421  0.17741935  0.35766423  0.35770871\n",
      "  0.19153802  0.11481261  0.44699647  0.17517007 -0.17886179 -0.24793388\n",
      "  0.08641975 -0.34567901  0.12662338 -0.04244032  0.14576271 -0.121673  ]\n",
      "[ 0.42201835  0.51213592 -0.14736842 -0.19873272 -0.16727494 -0.16697136\n",
      " -0.28873642 -0.35574063  0.36042403 -0.19047619  0.51219512  0.5922865\n",
      "  0.09259259  0.90946502  0.82792208  0.8806366   0.58983051  0.70722433]\n",
      "[-0.08256881  0.66990291 -0.36315789 -0.31105991 -0.39963504 -0.39853748\n",
      " -0.18124643 -0.51695419  1.17137809 -0.32482993 -0.53252033 -0.46280992\n",
      " -0.30864198 -0.39917695 -0.55844156 -0.68435013 -0.36610169 -0.46768061]\n",
      "[-0.05504587  0.61407767 -0.13026316 -0.03859447 -0.10827251 -0.10847044\n",
      "  0.02630074 -0.13503867  0.68021201 -0.0952381  -0.46747967 -0.54820937\n",
      " -0.45061728 -0.43209877 -0.4025974  -0.066313   -0.50847458  0.58174905]\n",
      "[ 0.08256881  0.59951456  0.34210526  0.11117512  0.33211679  0.33211456\n",
      "  0.09376787  0.041047    0.3639576   0.08390023 -0.4796748  -0.5785124\n",
      " -0.28395062 -0.58847737 -0.48051948 -0.64190981 -0.01355932 -0.80228137]\n",
      "[ 0.8440367   0.58495146  0.54342105  0.21889401  0.47992701  0.480195\n",
      "  0.14694111  0.35336109 -0.39929329  0.21882086 -0.69105691 -0.63360882\n",
      " -0.64814815 -0.43209877 -0.71753247 -0.60742706 -0.72881356  0.04942966]\n",
      "[ 3.55963303  0.51213592  0.47894737  0.13306452  0.4336983   0.43388178\n",
      " -0.00857633  0.27840571 -0.65724382  0.13038549 -0.53252033 -0.48484848\n",
      " -0.2345679  -0.48148148 -0.44155844 -0.43236074 -0.2        -0.29277567]\n",
      "[ 2.28440367  0.48786408  0.23026316 -0.0547235   0.25        0.24984765\n",
      " -0.23727844  0.16597264 -1.02826855 -0.04875283 -0.31300813 -0.3553719\n",
      " -0.12345679 -0.36213992 -0.2987013  -0.5066313   0.06440678 -0.69581749]\n",
      "[-0.04587156  0.46601942  0.31842105  0.15495392  0.31386861  0.31383303\n",
      "  0.15837621  0.11600238  0.34275618  0.12585034 -0.85365854 -0.79889807\n",
      " -0.9691358  -0.46090535 -1.01623377 -0.92838196 -0.8440678  -0.28136882]\n",
      "[-0.05504587  0.48786408  0.47105263  0.27016129  0.4270073   0.42717855\n",
      "  0.29845626  0.23378941  0.42402827  0.25113379 -0.58130081 -0.69421488\n",
      " -0.30246914 -0.74897119 -0.59090909 -0.39257294 -0.30508475 -0.11787072]\n",
      "[ 0.          0.41504854  0.34078947  0.21370968  0.32360097  0.32358318\n",
      "  0.19096627  0.15645449  0.32155477  0.20748299  0.08130081  0.18181818\n",
      "  0.12345679  0.27572016  0.40909091  0.30503979  0.62033898 -0.15589354]\n",
      "[-0.08256881  0.4368932   0.13289474  0.03513825  0.16423358  0.16392444\n",
      "  0.11263579  0.00773349  0.52120141  0.03911565 -0.21138211 -0.21212121\n",
      "  0.07407407 -0.27983539  0.01623377 -0.30769231  0.37288136 -0.75665399]\n",
      "[-0.08256881  0.44174757  0.19605263  0.22638249  0.21715328  0.21694089\n",
      "  0.44025157  0.00773349  1.5335689   0.21088435 -0.6504065  -0.56198347\n",
      " -0.74691358 -0.25514403 -0.56168831 -0.04244032 -0.72542373  0.85551331]\n",
      "[ 0.6146789   0.38834951  0.55789474  0.32891705  0.47871046  0.47897623\n",
      "  0.34991424  0.31826294  0.33038869  0.31802721 -0.11788618 -0.06887052\n",
      "  0.10493827 -0.08230453  0.22727273  0.06366048 -0.00338983  0.19771863]\n",
      "[ 0.00917431  0.36650485  0.125       0.06854839  0.14294404  0.14259598\n",
      " -0.01772441  0.01606187  0.09363958  0.07142857  0.1300813   0.15426997\n",
      "  0.12962963  0.23045267  0.41233766  0.29973475  0.38305085  0.1026616 ]\n",
      "[ 0.02293578  0.36893204 -0.11578947 -0.015553   -0.08394161 -0.08409506\n",
      "  0.03602058 -0.17192148  0.8180212  -0.06462585 -0.40243902 -0.37465565\n",
      " -0.69753086 -0.00823045 -0.39935065 -0.51724138 -0.70169492  0.14448669]\n",
      "[ 0.94495413  0.30825243  0.12236842  0.12557604  0.14659367  0.14686167\n",
      "  0.10977702  0.16597264  0.04063604  0.08163265 -0.62195122 -0.66391185\n",
      " -0.93209877 -0.28395062 -0.60714286 -0.41114058 -0.86440678  0.48288973]\n",
      "[ 1.67431193  0.15533981  0.43684211  0.22926267  0.37773723  0.3778184\n",
      "  0.28587764  0.23735872  0.3745583   0.22562358  0.47560976  0.19283747\n",
      "  0.56790123 -0.00823045  0.7987013   0.4270557   0.8440678  -0.23574144]\n",
      "[-0.06422018  0.35679612  0.09736842  0.04147465  0.13381995  0.13406459\n",
      "  0.01772441  0.1225461  -0.1130742   0.04761905  0.06504065 -0.1322314\n",
      " -0.00617284 -0.10699588  0.3538961  -0.07427056  0.61355932 -0.69201521]\n",
      "[-0.06422018  0.4684466   0.00789474  0.03398618  0.05109489  0.05057892\n",
      "  0.10520297 -0.03271862  0.61837456  0.03174603 -0.37398374 -0.33057851\n",
      " -0.39506173 -0.14403292 -0.23376623 -0.5066313  -0.42033898 -0.14828897]\n",
      "[ 0.76146789  0.41019417  0.09210526  0.10483871  0.11982968  0.11943937\n",
      "  0.18467696 -0.03390839  0.86572438  0.09183673 -0.35772358 -0.35261708\n",
      " -0.67283951  0.00823045 -0.29220779 -0.33156499 -0.65762712  0.36882129]\n",
      "[-0.0412844   0.35679612  0.19605263  0.09331797  0.21532847  0.21511274\n",
      "  0.04002287  0.17668055 -0.20671378  0.08390023 -0.18699187 -0.15702479\n",
      "  0.05555556 -0.18930041 -0.06493506 -0.27320955  0.1559322  -0.46768061]\n",
      "[-0.08256881  0.48300971  0.10921053  0.14400922  0.14051095  0.14015844\n",
      "  0.25385935 -0.02439024  1.05300353  0.14058957 -0.3902439  -0.43526171\n",
      " -0.48765432 -0.24279835 -0.26623377 -0.50397878 -0.49491525 -0.06463878]\n",
      "[-0.08256881  0.5631068   0.09605263  0.26612903  0.13381995  0.13345521\n",
      "  0.35506003  0.17549078  0.77208481  0.23015873 -0.64227642 -0.66391185\n",
      " -0.78395062 -0.38271605 -0.69805195 -0.44827586 -0.74576271  0.30038023]\n",
      "[-0.07798165  0.51213592  0.23289474  0.31221198  0.24756691  0.24741012\n",
      "  0.40423099  0.21415824  0.81095406  0.30895692 -0.40650407 -0.50137741\n",
      " -0.12345679 -0.58436214 -0.19155844 -0.30238727 -0.20338983 -0.1026616 ]\n",
      "[ 0.05963303  0.48058252  0.65921053  0.44124424  0.54683698  0.5472273\n",
      "  0.41395083  0.37120761  0.37279152  0.40419501 -0.7601626  -0.71625344\n",
      " -0.96296296 -0.34156379 -0.88961039 -0.55702918 -0.88813559  0.30038023]\n",
      "[-0.03211009  0.50485437  0.58157895  0.52880184  0.49817518  0.49847654\n",
      "  0.57918811  0.48542534  0.54416961  0.51303855 -0.7195122  -0.72176309\n",
      " -0.62345679 -0.57613169 -0.75974026 -0.83289125 -0.6        -0.41825095]\n",
      "[-0.02293578  0.52912621  0.56710526  0.48617512  0.49148418  0.49177331\n",
      "  0.46083476  0.55800119 -0.03710247  0.47165533 -0.29268293 -0.22865014\n",
      " -0.55555556  0.11522634 -0.09415584 -0.13527851 -0.42372881  0.3878327 ]\n",
      "[ 0.24770642  0.55825243  0.66842105  0.49769585  0.55656934  0.55697745\n",
      "  0.50657519  0.4794765   0.33745583  0.49489796 -0.43495935 -0.41046832\n",
      " -0.27777778 -0.34567901 -0.2987013  -0.55702918 -0.0440678  -0.64258555]\n",
      "[-0.08256881  0.54126214  0.49210526  0.52304147  0.44038929  0.44119439\n",
      "  0.58604917  0.46995836  0.6130742   0.5175737  -0.56097561 -0.64738292\n",
      " -0.25925926 -0.71193416 -0.46753247 -0.18567639 -0.21694915  0.07604563]\n",
      "[-0.08256881  0.49514563  0.57763158  0.55299539  0.49695864  0.49725777\n",
      "  0.63407662  0.50981559  0.64134276  0.5515873  -0.56910569 -0.66391185\n",
      " -0.51234568 -0.56378601 -0.47727273 -0.20689655 -0.48813559  0.35361217]\n",
      "[-0.08256881  0.44174757  0.43684211  0.5264977   0.39963504  0.39975625\n",
      "  0.61520869  0.43307555  0.81095406  0.5260771  -0.43902439 -0.55371901\n",
      " -0.30246914 -0.53909465 -0.27272727 -0.09814324 -0.38983051  0.39923954]\n",
      "[-0.06422018  0.37378641  0.48552632  0.5328341   0.42274939  0.42291286\n",
      "  0.62092624  0.40095181  0.92402827  0.54081633 -0.45121951 -0.55647383\n",
      " -0.2654321  -0.57201646 -0.26298701 -0.09814324 -0.33559322  0.33840304]\n",
      "[ 0.02293578  0.38592233  0.85526316  0.55702765  0.65754258  0.65813528\n",
      "  0.56489423  0.64009518  0.04063604  0.56235828 -0.27642276 -0.33057851\n",
      " -0.17901235 -0.28806584 -0.1525974  -0.35809019  0.2779661  -0.71863118]\n",
      "[-0.07798165  0.3907767   0.825       0.6624424   0.63807786  0.63863498\n",
      "  0.7404231   0.58120167  0.75618375  0.66836735 -0.43902439 -0.54545455\n",
      " -0.16666667 -0.61316872 -0.27597403 -0.10875332 -0.19322034  0.1634981 ]\n",
      "[-0.07798165  0.36650485  0.79868421  0.69124424  0.6216545   0.6221816\n",
      "  0.77587193  0.61808447  0.75795053  0.69557823 -0.34146341 -0.52066116\n",
      " -0.06790123 -0.64609053 -0.15909091 -0.21220159  0.29152542 -0.52471483]\n",
      "[-0.01376147  0.40776699  0.88026316  0.57949309  0.66849148  0.6691042\n",
      "  0.64379646  0.61154075  0.36925795  0.5861678  -0.2804878  -0.23415978\n",
      " -0.16049383 -0.1563786  -0.19155844 -0.35013263  0.13559322 -0.5513308 ]\n",
      "[-0.08256881  0.51699029  0.02894737  0.36463134  0.05656934  0.05667276\n",
      "  0.42652945  0.29565735  0.6360424   0.37811791 -0.1300813  -0.23966942\n",
      "  0.2345679  -0.42798354  0.04220779 -0.24668435  0.48135593 -0.78707224]\n",
      "[-0.07798165  0.52427184 -0.14736842  0.2983871  -0.12652068 -0.12492383\n",
      "  0.50200114  0.13146936  1.35689046  0.31179138 -0.24796748 -0.37190083\n",
      "  0.22222222 -0.61728395  0.01298701 -0.20424403  0.41694915 -0.65779468]\n",
      "[-0.08256881  0.48300971  0.13026316  0.48156682  0.15875912  0.15843998\n",
      "  0.65237278  0.24449732  1.48409894  0.46485261 -0.55284553 -0.50413223\n",
      " -0.67283951 -0.22222222 -0.49350649 -0.28912467 -0.67457627  0.4486692 ]\n",
      "[-0.07798165  0.48058252  0.44605263  0.60714286  0.40815085  0.40889701\n",
      "  0.75071469  0.45389649  1.16961131  0.61337868 -0.24390244 -0.29201102\n",
      " -0.0617284  -0.3127572   0.03246753 -0.06100796 -0.13898305  0.17110266]\n",
      "[-0.08256881  0.52427184  0.56842105  0.63133641  0.48722628  0.48750762\n",
      "  0.7186964   0.57227841  0.71731449  0.63435374 -0.16260163 -0.2369146\n",
      " -0.01234568 -0.25925926  0.12337662 -0.09018568  0.31525424 -0.38403042]\n",
      "[-0.06880734  0.5         0.72763158  0.65725806  0.58394161  0.58439976\n",
      "  0.68839337  0.60261749  0.5335689   0.63435374 -0.42276423 -0.39669421\n",
      " -0.67283951 -0.05761317 -0.39935065 -0.5596817  -0.56610169 -0.06463878]\n",
      "[ 5.36238532  0.44174757  0.90921053  0.56451613  0.68552311  0.68616697\n",
      "  0.53687822  0.68828079 -0.18904594  0.54535147 -0.56910569 -0.59779614\n",
      " -0.42592593 -0.52263374 -0.56818182 -0.71883289 -0.19661017 -0.70722433]\n",
      "[ 3.23853211  0.39563107  0.93157895  0.55990783  0.69890511  0.69957343\n",
      "  0.54716981  0.62046401  0.04416961  0.54705215 -0.48373984 -0.46556474\n",
      " -0.24074074 -0.44855967 -0.47727273 -0.70291777 -0.25084746 -0.62357414]\n",
      "\n",
      "\n",
      "\n",
      "\n"
     ]
    }
   ],
   "source": [
    "count = 0\n",
    "for k in X_train:\n",
    "    #print(k)\n",
    "    for j in k:\n",
    "        print(j)\n",
    "    count += 1\n",
    "    print('\\n\\n\\n')\n",
    "    if count == 1:\n",
    "        break"
   ]
  },
  {
   "cell_type": "code",
   "execution_count": 16,
   "id": "contained-numbers",
   "metadata": {
    "ExecuteTime": {
     "end_time": "2021-08-24T03:52:58.878413Z",
     "start_time": "2021-08-24T03:52:58.858467Z"
    }
   },
   "outputs": [
    {
     "name": "stdout",
     "output_type": "stream",
     "text": [
      "[2.039] \n",
      "\n",
      "\n",
      "[5.] \n",
      "\n",
      "\n",
      "[4.] \n",
      "\n",
      "\n",
      "[2.] \n",
      "\n",
      "\n",
      "[0.] \n",
      "\n",
      "\n",
      "[0.] \n",
      "\n",
      "\n",
      "[0.9784] \n",
      "\n",
      "\n",
      "[0.] \n",
      "\n",
      "\n",
      "[2.] \n",
      "\n",
      "\n",
      "[1.4361] \n",
      "\n",
      "\n"
     ]
    }
   ],
   "source": [
    "count = 0\n",
    "for k in y_target_train:\n",
    "    print(k, '\\n\\n')\n",
    "    count += 1\n",
    "    if count == 10:\n",
    "        break"
   ]
  },
  {
   "cell_type": "markdown",
   "id": "atmospheric-suggestion",
   "metadata": {},
   "source": [
    "# Saving Feature and Response matrices for Training, Validation and Testing datasets respectively to file for future ease of use."
   ]
  },
  {
   "cell_type": "code",
   "execution_count": 17,
   "id": "arbitrary-object",
   "metadata": {
    "ExecuteTime": {
     "end_time": "2021-08-24T03:53:33.952465Z",
     "start_time": "2021-08-24T03:53:28.394417Z"
    }
   },
   "outputs": [],
   "source": [
    "#30-Day Window + Scaled\n",
    "\n",
    "# Training Files\n",
    "\n",
    "np.savetxt('R:\\Ryerson\\Misc\\Datasets\\Preprocessed Data Files\\X_train_90_day_window_scaled.csv', X_train_averaged, delimiter=',', newline='\\n')\n",
    "\n",
    "np.savetxt('R:\\Ryerson\\Misc\\Datasets\\Preprocessed Data Files\\y_target_train_90_day_window_scaled.csv', y_target_train, delimiter=',', newline='\\n')\n",
    "\n",
    "\n",
    "\n",
    "# Validation Files\n",
    "\n",
    "np.savetxt('R:\\Ryerson\\Misc\\Datasets\\Preprocessed Data Files\\X_valid_90_day_window_scaled.csv', X_valid_averaged, delimiter=',', newline='\\n')\n",
    "\n",
    "np.savetxt('R:\\Ryerson\\Misc\\Datasets\\Preprocessed Data Files\\y_target_valid_90_day_window_scaled.csv', y_target_valid, delimiter=',', newline='\\n')\n",
    "\n",
    "\n",
    "\n",
    "# Testing Files\n",
    "\n",
    "np.savetxt('R:\\Ryerson\\Misc\\Datasets\\Preprocessed Data Files\\X_test_90_day_window_scaled.csv', X_test_averaged, delimiter=',', newline='\\n')\n",
    "\n",
    "np.savetxt('R:\\Ryerson\\Misc\\Datasets\\Preprocessed Data Files\\y_target_test_90_day_window_scaled.csv', y_target_test, delimiter=',', newline='\\n')\n"
   ]
  },
  {
   "cell_type": "code",
   "execution_count": null,
   "id": "pressed-mount",
   "metadata": {},
   "outputs": [],
   "source": []
  }
 ],
 "metadata": {
  "kernelspec": {
   "display_name": "Python 3",
   "language": "python",
   "name": "python3"
  },
  "language_info": {
   "codemirror_mode": {
    "name": "ipython",
    "version": 3
   },
   "file_extension": ".py",
   "mimetype": "text/x-python",
   "name": "python",
   "nbconvert_exporter": "python",
   "pygments_lexer": "ipython3",
   "version": "3.8.8"
  },
  "toc": {
   "base_numbering": 1,
   "nav_menu": {},
   "number_sections": true,
   "sideBar": true,
   "skip_h1_title": false,
   "title_cell": "Table of Contents",
   "title_sidebar": "Contents",
   "toc_cell": false,
   "toc_position": {},
   "toc_section_display": true,
   "toc_window_display": false
  },
  "varInspector": {
   "cols": {
    "lenName": 16,
    "lenType": 16,
    "lenVar": 40
   },
   "kernels_config": {
    "python": {
     "delete_cmd_postfix": "",
     "delete_cmd_prefix": "del ",
     "library": "var_list.py",
     "varRefreshCmd": "print(var_dic_list())"
    },
    "r": {
     "delete_cmd_postfix": ") ",
     "delete_cmd_prefix": "rm(",
     "library": "var_list.r",
     "varRefreshCmd": "cat(var_dic_list()) "
    }
   },
   "types_to_exclude": [
    "module",
    "function",
    "builtin_function_or_method",
    "instance",
    "_Feature"
   ],
   "window_display": false
  }
 },
 "nbformat": 4,
 "nbformat_minor": 5
}

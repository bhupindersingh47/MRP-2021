{
 "cells": [
  {
   "cell_type": "markdown",
   "id": "controlled-venue",
   "metadata": {},
   "source": [
    "### _Importing required libraries_"
   ]
  },
  {
   "cell_type": "code",
   "execution_count": 2,
   "id": "cooperative-optimization",
   "metadata": {
    "ExecuteTime": {
     "end_time": "2021-08-21T20:46:06.427057Z",
     "start_time": "2021-08-21T20:46:06.409104Z"
    }
   },
   "outputs": [],
   "source": [
    "# Importing required libraries.\n",
    "import pandas as pd\n",
    "import numpy as np\n",
    "import seaborn as sns #visualisation\n",
    "import matplotlib.pyplot as plt #visualisation\n",
    "%matplotlib inline \n",
    "sns.set(color_codes=True)"
   ]
  },
  {
   "cell_type": "markdown",
   "id": "humanitarian-iraqi",
   "metadata": {},
   "source": [
    "### _Importing the entire Training dataset and displaying first 5 rows_"
   ]
  },
  {
   "cell_type": "code",
   "execution_count": 5,
   "id": "temporal-procurement",
   "metadata": {
    "ExecuteTime": {
     "end_time": "2021-08-21T20:47:20.606778Z",
     "start_time": "2021-08-21T20:46:49.733494Z"
    },
    "scrolled": true
   },
   "outputs": [
    {
     "data": {
      "text/html": [
       "<div>\n",
       "<style scoped>\n",
       "    .dataframe tbody tr th:only-of-type {\n",
       "        vertical-align: middle;\n",
       "    }\n",
       "\n",
       "    .dataframe tbody tr th {\n",
       "        vertical-align: top;\n",
       "    }\n",
       "\n",
       "    .dataframe thead th {\n",
       "        text-align: right;\n",
       "    }\n",
       "</style>\n",
       "<table border=\"1\" class=\"dataframe\">\n",
       "  <thead>\n",
       "    <tr style=\"text-align: right;\">\n",
       "      <th></th>\n",
       "      <th>fips</th>\n",
       "      <th>date</th>\n",
       "      <th>PRECTOT</th>\n",
       "      <th>PS</th>\n",
       "      <th>QV2M</th>\n",
       "      <th>T2M</th>\n",
       "      <th>T2MDEW</th>\n",
       "      <th>T2MWET</th>\n",
       "      <th>T2M_MAX</th>\n",
       "      <th>T2M_MIN</th>\n",
       "      <th>...</th>\n",
       "      <th>TS</th>\n",
       "      <th>WS10M</th>\n",
       "      <th>WS10M_MAX</th>\n",
       "      <th>WS10M_MIN</th>\n",
       "      <th>WS10M_RANGE</th>\n",
       "      <th>WS50M</th>\n",
       "      <th>WS50M_MAX</th>\n",
       "      <th>WS50M_MIN</th>\n",
       "      <th>WS50M_RANGE</th>\n",
       "      <th>score</th>\n",
       "    </tr>\n",
       "  </thead>\n",
       "  <tbody>\n",
       "    <tr>\n",
       "      <th>0</th>\n",
       "      <td>1001</td>\n",
       "      <td>2000-01-01</td>\n",
       "      <td>0.22</td>\n",
       "      <td>100.51</td>\n",
       "      <td>9.65</td>\n",
       "      <td>14.74</td>\n",
       "      <td>13.51</td>\n",
       "      <td>13.51</td>\n",
       "      <td>20.96</td>\n",
       "      <td>11.46</td>\n",
       "      <td>...</td>\n",
       "      <td>14.65</td>\n",
       "      <td>2.20</td>\n",
       "      <td>2.94</td>\n",
       "      <td>1.49</td>\n",
       "      <td>1.46</td>\n",
       "      <td>4.85</td>\n",
       "      <td>6.04</td>\n",
       "      <td>3.23</td>\n",
       "      <td>2.81</td>\n",
       "      <td>NaN</td>\n",
       "    </tr>\n",
       "    <tr>\n",
       "      <th>1</th>\n",
       "      <td>1001</td>\n",
       "      <td>2000-01-02</td>\n",
       "      <td>0.20</td>\n",
       "      <td>100.55</td>\n",
       "      <td>10.42</td>\n",
       "      <td>16.69</td>\n",
       "      <td>14.71</td>\n",
       "      <td>14.71</td>\n",
       "      <td>22.80</td>\n",
       "      <td>12.61</td>\n",
       "      <td>...</td>\n",
       "      <td>16.60</td>\n",
       "      <td>2.52</td>\n",
       "      <td>3.43</td>\n",
       "      <td>1.83</td>\n",
       "      <td>1.60</td>\n",
       "      <td>5.33</td>\n",
       "      <td>6.13</td>\n",
       "      <td>3.72</td>\n",
       "      <td>2.41</td>\n",
       "      <td>NaN</td>\n",
       "    </tr>\n",
       "    <tr>\n",
       "      <th>2</th>\n",
       "      <td>1001</td>\n",
       "      <td>2000-01-03</td>\n",
       "      <td>3.65</td>\n",
       "      <td>100.15</td>\n",
       "      <td>11.76</td>\n",
       "      <td>18.49</td>\n",
       "      <td>16.52</td>\n",
       "      <td>16.52</td>\n",
       "      <td>22.73</td>\n",
       "      <td>15.32</td>\n",
       "      <td>...</td>\n",
       "      <td>18.41</td>\n",
       "      <td>4.03</td>\n",
       "      <td>5.33</td>\n",
       "      <td>2.66</td>\n",
       "      <td>2.67</td>\n",
       "      <td>7.53</td>\n",
       "      <td>9.52</td>\n",
       "      <td>5.87</td>\n",
       "      <td>3.66</td>\n",
       "      <td>NaN</td>\n",
       "    </tr>\n",
       "    <tr>\n",
       "      <th>3</th>\n",
       "      <td>1001</td>\n",
       "      <td>2000-01-04</td>\n",
       "      <td>15.95</td>\n",
       "      <td>100.29</td>\n",
       "      <td>6.42</td>\n",
       "      <td>11.40</td>\n",
       "      <td>6.09</td>\n",
       "      <td>6.10</td>\n",
       "      <td>18.09</td>\n",
       "      <td>2.16</td>\n",
       "      <td>...</td>\n",
       "      <td>11.31</td>\n",
       "      <td>3.84</td>\n",
       "      <td>5.67</td>\n",
       "      <td>2.08</td>\n",
       "      <td>3.59</td>\n",
       "      <td>6.73</td>\n",
       "      <td>9.31</td>\n",
       "      <td>3.74</td>\n",
       "      <td>5.58</td>\n",
       "      <td>1.0</td>\n",
       "    </tr>\n",
       "    <tr>\n",
       "      <th>4</th>\n",
       "      <td>1001</td>\n",
       "      <td>2000-01-05</td>\n",
       "      <td>0.00</td>\n",
       "      <td>101.15</td>\n",
       "      <td>2.95</td>\n",
       "      <td>3.86</td>\n",
       "      <td>-3.29</td>\n",
       "      <td>-3.20</td>\n",
       "      <td>10.82</td>\n",
       "      <td>-2.66</td>\n",
       "      <td>...</td>\n",
       "      <td>2.65</td>\n",
       "      <td>1.60</td>\n",
       "      <td>2.50</td>\n",
       "      <td>0.52</td>\n",
       "      <td>1.98</td>\n",
       "      <td>2.94</td>\n",
       "      <td>4.85</td>\n",
       "      <td>0.65</td>\n",
       "      <td>4.19</td>\n",
       "      <td>NaN</td>\n",
       "    </tr>\n",
       "  </tbody>\n",
       "</table>\n",
       "<p>5 rows × 21 columns</p>\n",
       "</div>"
      ],
      "text/plain": [
       "   fips        date  PRECTOT      PS   QV2M    T2M  T2MDEW  T2MWET  T2M_MAX  \\\n",
       "0  1001  2000-01-01     0.22  100.51   9.65  14.74   13.51   13.51    20.96   \n",
       "1  1001  2000-01-02     0.20  100.55  10.42  16.69   14.71   14.71    22.80   \n",
       "2  1001  2000-01-03     3.65  100.15  11.76  18.49   16.52   16.52    22.73   \n",
       "3  1001  2000-01-04    15.95  100.29   6.42  11.40    6.09    6.10    18.09   \n",
       "4  1001  2000-01-05     0.00  101.15   2.95   3.86   -3.29   -3.20    10.82   \n",
       "\n",
       "   T2M_MIN  ...     TS  WS10M  WS10M_MAX  WS10M_MIN  WS10M_RANGE  WS50M  \\\n",
       "0    11.46  ...  14.65   2.20       2.94       1.49         1.46   4.85   \n",
       "1    12.61  ...  16.60   2.52       3.43       1.83         1.60   5.33   \n",
       "2    15.32  ...  18.41   4.03       5.33       2.66         2.67   7.53   \n",
       "3     2.16  ...  11.31   3.84       5.67       2.08         3.59   6.73   \n",
       "4    -2.66  ...   2.65   1.60       2.50       0.52         1.98   2.94   \n",
       "\n",
       "   WS50M_MAX  WS50M_MIN  WS50M_RANGE  score  \n",
       "0       6.04       3.23         2.81    NaN  \n",
       "1       6.13       3.72         2.41    NaN  \n",
       "2       9.52       5.87         3.66    NaN  \n",
       "3       9.31       3.74         5.58    1.0  \n",
       "4       4.85       0.65         4.19    NaN  \n",
       "\n",
       "[5 rows x 21 columns]"
      ]
     },
     "execution_count": 5,
     "metadata": {},
     "output_type": "execute_result"
    }
   ],
   "source": [
    "df = pd.read_csv(r'R:\\Ryerson\\Misc\\Datasets\\Predict Droughts using Weather & Soil Data\\train_timeseries.csv')\n",
    "# To display the top 5 rows\n",
    "df.head(5)"
   ]
  },
  {
   "cell_type": "code",
   "execution_count": 9,
   "id": "respective-control",
   "metadata": {
    "ExecuteTime": {
     "end_time": "2021-08-21T20:50:36.172625Z",
     "start_time": "2021-08-21T20:50:36.140703Z"
    }
   },
   "outputs": [
    {
     "data": {
      "text/html": [
       "<div>\n",
       "<style scoped>\n",
       "    .dataframe tbody tr th:only-of-type {\n",
       "        vertical-align: middle;\n",
       "    }\n",
       "\n",
       "    .dataframe tbody tr th {\n",
       "        vertical-align: top;\n",
       "    }\n",
       "\n",
       "    .dataframe thead th {\n",
       "        text-align: right;\n",
       "    }\n",
       "</style>\n",
       "<table border=\"1\" class=\"dataframe\">\n",
       "  <thead>\n",
       "    <tr style=\"text-align: right;\">\n",
       "      <th></th>\n",
       "      <th>fips</th>\n",
       "      <th>date</th>\n",
       "      <th>PRECTOT</th>\n",
       "      <th>PS</th>\n",
       "      <th>QV2M</th>\n",
       "      <th>T2M</th>\n",
       "      <th>T2MDEW</th>\n",
       "      <th>T2MWET</th>\n",
       "      <th>T2M_MAX</th>\n",
       "      <th>T2M_MIN</th>\n",
       "      <th>...</th>\n",
       "      <th>TS</th>\n",
       "      <th>WS10M</th>\n",
       "      <th>WS10M_MAX</th>\n",
       "      <th>WS10M_MIN</th>\n",
       "      <th>WS10M_RANGE</th>\n",
       "      <th>WS50M</th>\n",
       "      <th>WS50M_MAX</th>\n",
       "      <th>WS50M_MIN</th>\n",
       "      <th>WS50M_RANGE</th>\n",
       "      <th>score</th>\n",
       "    </tr>\n",
       "  </thead>\n",
       "  <tbody>\n",
       "    <tr>\n",
       "      <th>0</th>\n",
       "      <td>1001</td>\n",
       "      <td>2000-01-01</td>\n",
       "      <td>0.22</td>\n",
       "      <td>100.51</td>\n",
       "      <td>9.65</td>\n",
       "      <td>14.74</td>\n",
       "      <td>13.51</td>\n",
       "      <td>13.51</td>\n",
       "      <td>20.96</td>\n",
       "      <td>11.46</td>\n",
       "      <td>...</td>\n",
       "      <td>14.65</td>\n",
       "      <td>2.20</td>\n",
       "      <td>2.94</td>\n",
       "      <td>1.49</td>\n",
       "      <td>1.46</td>\n",
       "      <td>4.85</td>\n",
       "      <td>6.04</td>\n",
       "      <td>3.23</td>\n",
       "      <td>2.81</td>\n",
       "      <td>NaN</td>\n",
       "    </tr>\n",
       "    <tr>\n",
       "      <th>1</th>\n",
       "      <td>1001</td>\n",
       "      <td>2000-01-02</td>\n",
       "      <td>0.20</td>\n",
       "      <td>100.55</td>\n",
       "      <td>10.42</td>\n",
       "      <td>16.69</td>\n",
       "      <td>14.71</td>\n",
       "      <td>14.71</td>\n",
       "      <td>22.80</td>\n",
       "      <td>12.61</td>\n",
       "      <td>...</td>\n",
       "      <td>16.60</td>\n",
       "      <td>2.52</td>\n",
       "      <td>3.43</td>\n",
       "      <td>1.83</td>\n",
       "      <td>1.60</td>\n",
       "      <td>5.33</td>\n",
       "      <td>6.13</td>\n",
       "      <td>3.72</td>\n",
       "      <td>2.41</td>\n",
       "      <td>NaN</td>\n",
       "    </tr>\n",
       "    <tr>\n",
       "      <th>2</th>\n",
       "      <td>1001</td>\n",
       "      <td>2000-01-03</td>\n",
       "      <td>3.65</td>\n",
       "      <td>100.15</td>\n",
       "      <td>11.76</td>\n",
       "      <td>18.49</td>\n",
       "      <td>16.52</td>\n",
       "      <td>16.52</td>\n",
       "      <td>22.73</td>\n",
       "      <td>15.32</td>\n",
       "      <td>...</td>\n",
       "      <td>18.41</td>\n",
       "      <td>4.03</td>\n",
       "      <td>5.33</td>\n",
       "      <td>2.66</td>\n",
       "      <td>2.67</td>\n",
       "      <td>7.53</td>\n",
       "      <td>9.52</td>\n",
       "      <td>5.87</td>\n",
       "      <td>3.66</td>\n",
       "      <td>NaN</td>\n",
       "    </tr>\n",
       "    <tr>\n",
       "      <th>3</th>\n",
       "      <td>1001</td>\n",
       "      <td>2000-01-04</td>\n",
       "      <td>15.95</td>\n",
       "      <td>100.29</td>\n",
       "      <td>6.42</td>\n",
       "      <td>11.40</td>\n",
       "      <td>6.09</td>\n",
       "      <td>6.10</td>\n",
       "      <td>18.09</td>\n",
       "      <td>2.16</td>\n",
       "      <td>...</td>\n",
       "      <td>11.31</td>\n",
       "      <td>3.84</td>\n",
       "      <td>5.67</td>\n",
       "      <td>2.08</td>\n",
       "      <td>3.59</td>\n",
       "      <td>6.73</td>\n",
       "      <td>9.31</td>\n",
       "      <td>3.74</td>\n",
       "      <td>5.58</td>\n",
       "      <td>1.0</td>\n",
       "    </tr>\n",
       "    <tr>\n",
       "      <th>4</th>\n",
       "      <td>1001</td>\n",
       "      <td>2000-01-05</td>\n",
       "      <td>0.00</td>\n",
       "      <td>101.15</td>\n",
       "      <td>2.95</td>\n",
       "      <td>3.86</td>\n",
       "      <td>-3.29</td>\n",
       "      <td>-3.20</td>\n",
       "      <td>10.82</td>\n",
       "      <td>-2.66</td>\n",
       "      <td>...</td>\n",
       "      <td>2.65</td>\n",
       "      <td>1.60</td>\n",
       "      <td>2.50</td>\n",
       "      <td>0.52</td>\n",
       "      <td>1.98</td>\n",
       "      <td>2.94</td>\n",
       "      <td>4.85</td>\n",
       "      <td>0.65</td>\n",
       "      <td>4.19</td>\n",
       "      <td>NaN</td>\n",
       "    </tr>\n",
       "    <tr>\n",
       "      <th>...</th>\n",
       "      <td>...</td>\n",
       "      <td>...</td>\n",
       "      <td>...</td>\n",
       "      <td>...</td>\n",
       "      <td>...</td>\n",
       "      <td>...</td>\n",
       "      <td>...</td>\n",
       "      <td>...</td>\n",
       "      <td>...</td>\n",
       "      <td>...</td>\n",
       "      <td>...</td>\n",
       "      <td>...</td>\n",
       "      <td>...</td>\n",
       "      <td>...</td>\n",
       "      <td>...</td>\n",
       "      <td>...</td>\n",
       "      <td>...</td>\n",
       "      <td>...</td>\n",
       "      <td>...</td>\n",
       "      <td>...</td>\n",
       "      <td>...</td>\n",
       "    </tr>\n",
       "    <tr>\n",
       "      <th>65</th>\n",
       "      <td>1001</td>\n",
       "      <td>2000-03-06</td>\n",
       "      <td>0.00</td>\n",
       "      <td>100.65</td>\n",
       "      <td>5.65</td>\n",
       "      <td>16.37</td>\n",
       "      <td>5.51</td>\n",
       "      <td>5.53</td>\n",
       "      <td>23.91</td>\n",
       "      <td>5.84</td>\n",
       "      <td>...</td>\n",
       "      <td>13.11</td>\n",
       "      <td>1.17</td>\n",
       "      <td>2.46</td>\n",
       "      <td>0.34</td>\n",
       "      <td>2.12</td>\n",
       "      <td>1.80</td>\n",
       "      <td>4.51</td>\n",
       "      <td>0.43</td>\n",
       "      <td>4.08</td>\n",
       "      <td>NaN</td>\n",
       "    </tr>\n",
       "    <tr>\n",
       "      <th>66</th>\n",
       "      <td>1001</td>\n",
       "      <td>2000-03-07</td>\n",
       "      <td>0.00</td>\n",
       "      <td>100.79</td>\n",
       "      <td>7.48</td>\n",
       "      <td>16.81</td>\n",
       "      <td>9.47</td>\n",
       "      <td>9.47</td>\n",
       "      <td>25.15</td>\n",
       "      <td>9.89</td>\n",
       "      <td>...</td>\n",
       "      <td>15.49</td>\n",
       "      <td>2.03</td>\n",
       "      <td>2.51</td>\n",
       "      <td>1.45</td>\n",
       "      <td>1.06</td>\n",
       "      <td>3.96</td>\n",
       "      <td>6.92</td>\n",
       "      <td>1.84</td>\n",
       "      <td>5.07</td>\n",
       "      <td>1.0</td>\n",
       "    </tr>\n",
       "    <tr>\n",
       "      <th>67</th>\n",
       "      <td>1001</td>\n",
       "      <td>2000-03-08</td>\n",
       "      <td>0.00</td>\n",
       "      <td>100.49</td>\n",
       "      <td>8.54</td>\n",
       "      <td>16.48</td>\n",
       "      <td>11.61</td>\n",
       "      <td>11.61</td>\n",
       "      <td>24.79</td>\n",
       "      <td>8.54</td>\n",
       "      <td>...</td>\n",
       "      <td>16.32</td>\n",
       "      <td>2.21</td>\n",
       "      <td>2.95</td>\n",
       "      <td>1.47</td>\n",
       "      <td>1.47</td>\n",
       "      <td>4.48</td>\n",
       "      <td>7.02</td>\n",
       "      <td>2.29</td>\n",
       "      <td>4.73</td>\n",
       "      <td>NaN</td>\n",
       "    </tr>\n",
       "    <tr>\n",
       "      <th>68</th>\n",
       "      <td>1001</td>\n",
       "      <td>2000-03-09</td>\n",
       "      <td>3.96</td>\n",
       "      <td>100.23</td>\n",
       "      <td>11.75</td>\n",
       "      <td>18.94</td>\n",
       "      <td>16.44</td>\n",
       "      <td>16.44</td>\n",
       "      <td>25.28</td>\n",
       "      <td>12.06</td>\n",
       "      <td>...</td>\n",
       "      <td>18.79</td>\n",
       "      <td>2.23</td>\n",
       "      <td>3.65</td>\n",
       "      <td>1.14</td>\n",
       "      <td>2.51</td>\n",
       "      <td>4.47</td>\n",
       "      <td>5.88</td>\n",
       "      <td>2.34</td>\n",
       "      <td>3.53</td>\n",
       "      <td>NaN</td>\n",
       "    </tr>\n",
       "    <tr>\n",
       "      <th>69</th>\n",
       "      <td>1001</td>\n",
       "      <td>2000-03-10</td>\n",
       "      <td>16.73</td>\n",
       "      <td>100.15</td>\n",
       "      <td>13.04</td>\n",
       "      <td>19.69</td>\n",
       "      <td>18.16</td>\n",
       "      <td>18.16</td>\n",
       "      <td>23.35</td>\n",
       "      <td>16.87</td>\n",
       "      <td>...</td>\n",
       "      <td>19.67</td>\n",
       "      <td>2.13</td>\n",
       "      <td>2.94</td>\n",
       "      <td>1.53</td>\n",
       "      <td>1.41</td>\n",
       "      <td>4.46</td>\n",
       "      <td>5.83</td>\n",
       "      <td>2.66</td>\n",
       "      <td>3.17</td>\n",
       "      <td>NaN</td>\n",
       "    </tr>\n",
       "  </tbody>\n",
       "</table>\n",
       "<p>70 rows × 21 columns</p>\n",
       "</div>"
      ],
      "text/plain": [
       "    fips        date  PRECTOT      PS   QV2M    T2M  T2MDEW  T2MWET  T2M_MAX  \\\n",
       "0   1001  2000-01-01     0.22  100.51   9.65  14.74   13.51   13.51    20.96   \n",
       "1   1001  2000-01-02     0.20  100.55  10.42  16.69   14.71   14.71    22.80   \n",
       "2   1001  2000-01-03     3.65  100.15  11.76  18.49   16.52   16.52    22.73   \n",
       "3   1001  2000-01-04    15.95  100.29   6.42  11.40    6.09    6.10    18.09   \n",
       "4   1001  2000-01-05     0.00  101.15   2.95   3.86   -3.29   -3.20    10.82   \n",
       "..   ...         ...      ...     ...    ...    ...     ...     ...      ...   \n",
       "65  1001  2000-03-06     0.00  100.65   5.65  16.37    5.51    5.53    23.91   \n",
       "66  1001  2000-03-07     0.00  100.79   7.48  16.81    9.47    9.47    25.15   \n",
       "67  1001  2000-03-08     0.00  100.49   8.54  16.48   11.61   11.61    24.79   \n",
       "68  1001  2000-03-09     3.96  100.23  11.75  18.94   16.44   16.44    25.28   \n",
       "69  1001  2000-03-10    16.73  100.15  13.04  19.69   18.16   18.16    23.35   \n",
       "\n",
       "    T2M_MIN  ...     TS  WS10M  WS10M_MAX  WS10M_MIN  WS10M_RANGE  WS50M  \\\n",
       "0     11.46  ...  14.65   2.20       2.94       1.49         1.46   4.85   \n",
       "1     12.61  ...  16.60   2.52       3.43       1.83         1.60   5.33   \n",
       "2     15.32  ...  18.41   4.03       5.33       2.66         2.67   7.53   \n",
       "3      2.16  ...  11.31   3.84       5.67       2.08         3.59   6.73   \n",
       "4     -2.66  ...   2.65   1.60       2.50       0.52         1.98   2.94   \n",
       "..      ...  ...    ...    ...        ...        ...          ...    ...   \n",
       "65     5.84  ...  13.11   1.17       2.46       0.34         2.12   1.80   \n",
       "66     9.89  ...  15.49   2.03       2.51       1.45         1.06   3.96   \n",
       "67     8.54  ...  16.32   2.21       2.95       1.47         1.47   4.48   \n",
       "68    12.06  ...  18.79   2.23       3.65       1.14         2.51   4.47   \n",
       "69    16.87  ...  19.67   2.13       2.94       1.53         1.41   4.46   \n",
       "\n",
       "    WS50M_MAX  WS50M_MIN  WS50M_RANGE  score  \n",
       "0        6.04       3.23         2.81    NaN  \n",
       "1        6.13       3.72         2.41    NaN  \n",
       "2        9.52       5.87         3.66    NaN  \n",
       "3        9.31       3.74         5.58    1.0  \n",
       "4        4.85       0.65         4.19    NaN  \n",
       "..        ...        ...          ...    ...  \n",
       "65       4.51       0.43         4.08    NaN  \n",
       "66       6.92       1.84         5.07    1.0  \n",
       "67       7.02       2.29         4.73    NaN  \n",
       "68       5.88       2.34         3.53    NaN  \n",
       "69       5.83       2.66         3.17    NaN  \n",
       "\n",
       "[70 rows x 21 columns]"
      ]
     },
     "execution_count": 9,
     "metadata": {},
     "output_type": "execute_result"
    }
   ],
   "source": [
    "df.head(70)"
   ]
  },
  {
   "cell_type": "markdown",
   "id": "photographic-episode",
   "metadata": {},
   "source": [
    "### _Displaying bottom 5 rows_"
   ]
  },
  {
   "cell_type": "code",
   "execution_count": 3,
   "id": "caring-electron",
   "metadata": {},
   "outputs": [
    {
     "data": {
      "text/html": [
       "<div>\n",
       "<style scoped>\n",
       "    .dataframe tbody tr th:only-of-type {\n",
       "        vertical-align: middle;\n",
       "    }\n",
       "\n",
       "    .dataframe tbody tr th {\n",
       "        vertical-align: top;\n",
       "    }\n",
       "\n",
       "    .dataframe thead th {\n",
       "        text-align: right;\n",
       "    }\n",
       "</style>\n",
       "<table border=\"1\" class=\"dataframe\">\n",
       "  <thead>\n",
       "    <tr style=\"text-align: right;\">\n",
       "      <th></th>\n",
       "      <th>fips</th>\n",
       "      <th>date</th>\n",
       "      <th>PRECTOT</th>\n",
       "      <th>PS</th>\n",
       "      <th>QV2M</th>\n",
       "      <th>T2M</th>\n",
       "      <th>T2MDEW</th>\n",
       "      <th>T2MWET</th>\n",
       "      <th>T2M_MAX</th>\n",
       "      <th>T2M_MIN</th>\n",
       "      <th>...</th>\n",
       "      <th>TS</th>\n",
       "      <th>WS10M</th>\n",
       "      <th>WS10M_MAX</th>\n",
       "      <th>WS10M_MIN</th>\n",
       "      <th>WS10M_RANGE</th>\n",
       "      <th>WS50M</th>\n",
       "      <th>WS50M_MAX</th>\n",
       "      <th>WS50M_MIN</th>\n",
       "      <th>WS50M_RANGE</th>\n",
       "      <th>score</th>\n",
       "    </tr>\n",
       "  </thead>\n",
       "  <tbody>\n",
       "    <tr>\n",
       "      <th>19300675</th>\n",
       "      <td>56043</td>\n",
       "      <td>2016-12-27</td>\n",
       "      <td>0.16</td>\n",
       "      <td>82.88</td>\n",
       "      <td>1.63</td>\n",
       "      <td>-7.97</td>\n",
       "      <td>-13.49</td>\n",
       "      <td>-12.81</td>\n",
       "      <td>-1.39</td>\n",
       "      <td>-13.60</td>\n",
       "      <td>...</td>\n",
       "      <td>-9.41</td>\n",
       "      <td>5.90</td>\n",
       "      <td>7.63</td>\n",
       "      <td>3.61</td>\n",
       "      <td>4.02</td>\n",
       "      <td>8.58</td>\n",
       "      <td>10.39</td>\n",
       "      <td>5.92</td>\n",
       "      <td>4.47</td>\n",
       "      <td>0.0</td>\n",
       "    </tr>\n",
       "    <tr>\n",
       "      <th>19300676</th>\n",
       "      <td>56043</td>\n",
       "      <td>2016-12-28</td>\n",
       "      <td>0.02</td>\n",
       "      <td>83.33</td>\n",
       "      <td>1.41</td>\n",
       "      <td>-8.71</td>\n",
       "      <td>-14.10</td>\n",
       "      <td>-13.84</td>\n",
       "      <td>-2.49</td>\n",
       "      <td>-13.56</td>\n",
       "      <td>...</td>\n",
       "      <td>-10.55</td>\n",
       "      <td>6.50</td>\n",
       "      <td>11.43</td>\n",
       "      <td>4.11</td>\n",
       "      <td>7.32</td>\n",
       "      <td>9.92</td>\n",
       "      <td>14.49</td>\n",
       "      <td>7.26</td>\n",
       "      <td>7.22</td>\n",
       "      <td>NaN</td>\n",
       "    </tr>\n",
       "    <tr>\n",
       "      <th>19300677</th>\n",
       "      <td>56043</td>\n",
       "      <td>2016-12-29</td>\n",
       "      <td>0.00</td>\n",
       "      <td>83.75</td>\n",
       "      <td>1.59</td>\n",
       "      <td>-7.96</td>\n",
       "      <td>-13.30</td>\n",
       "      <td>-13.03</td>\n",
       "      <td>0.42</td>\n",
       "      <td>-14.51</td>\n",
       "      <td>...</td>\n",
       "      <td>-10.29</td>\n",
       "      <td>4.29</td>\n",
       "      <td>6.24</td>\n",
       "      <td>2.03</td>\n",
       "      <td>4.22</td>\n",
       "      <td>6.56</td>\n",
       "      <td>10.07</td>\n",
       "      <td>3.20</td>\n",
       "      <td>6.87</td>\n",
       "      <td>NaN</td>\n",
       "    </tr>\n",
       "    <tr>\n",
       "      <th>19300678</th>\n",
       "      <td>56043</td>\n",
       "      <td>2016-12-30</td>\n",
       "      <td>1.22</td>\n",
       "      <td>82.49</td>\n",
       "      <td>2.63</td>\n",
       "      <td>-2.94</td>\n",
       "      <td>-7.40</td>\n",
       "      <td>-7.33</td>\n",
       "      <td>3.76</td>\n",
       "      <td>-6.86</td>\n",
       "      <td>...</td>\n",
       "      <td>-4.14</td>\n",
       "      <td>4.98</td>\n",
       "      <td>7.34</td>\n",
       "      <td>1.99</td>\n",
       "      <td>5.35</td>\n",
       "      <td>7.28</td>\n",
       "      <td>10.12</td>\n",
       "      <td>3.24</td>\n",
       "      <td>6.89</td>\n",
       "      <td>NaN</td>\n",
       "    </tr>\n",
       "    <tr>\n",
       "      <th>19300679</th>\n",
       "      <td>56043</td>\n",
       "      <td>2016-12-31</td>\n",
       "      <td>0.44</td>\n",
       "      <td>82.19</td>\n",
       "      <td>1.75</td>\n",
       "      <td>-7.56</td>\n",
       "      <td>-11.98</td>\n",
       "      <td>-11.82</td>\n",
       "      <td>-0.95</td>\n",
       "      <td>-11.61</td>\n",
       "      <td>...</td>\n",
       "      <td>-10.17</td>\n",
       "      <td>2.31</td>\n",
       "      <td>3.47</td>\n",
       "      <td>0.41</td>\n",
       "      <td>3.06</td>\n",
       "      <td>3.37</td>\n",
       "      <td>5.26</td>\n",
       "      <td>0.66</td>\n",
       "      <td>4.60</td>\n",
       "      <td>NaN</td>\n",
       "    </tr>\n",
       "  </tbody>\n",
       "</table>\n",
       "<p>5 rows × 21 columns</p>\n",
       "</div>"
      ],
      "text/plain": [
       "           fips        date  PRECTOT     PS  QV2M   T2M  T2MDEW  T2MWET  \\\n",
       "19300675  56043  2016-12-27     0.16  82.88  1.63 -7.97  -13.49  -12.81   \n",
       "19300676  56043  2016-12-28     0.02  83.33  1.41 -8.71  -14.10  -13.84   \n",
       "19300677  56043  2016-12-29     0.00  83.75  1.59 -7.96  -13.30  -13.03   \n",
       "19300678  56043  2016-12-30     1.22  82.49  2.63 -2.94   -7.40   -7.33   \n",
       "19300679  56043  2016-12-31     0.44  82.19  1.75 -7.56  -11.98  -11.82   \n",
       "\n",
       "          T2M_MAX  T2M_MIN  ...     TS  WS10M  WS10M_MAX  WS10M_MIN  \\\n",
       "19300675    -1.39   -13.60  ...  -9.41   5.90       7.63       3.61   \n",
       "19300676    -2.49   -13.56  ... -10.55   6.50      11.43       4.11   \n",
       "19300677     0.42   -14.51  ... -10.29   4.29       6.24       2.03   \n",
       "19300678     3.76    -6.86  ...  -4.14   4.98       7.34       1.99   \n",
       "19300679    -0.95   -11.61  ... -10.17   2.31       3.47       0.41   \n",
       "\n",
       "          WS10M_RANGE  WS50M  WS50M_MAX  WS50M_MIN  WS50M_RANGE  score  \n",
       "19300675         4.02   8.58      10.39       5.92         4.47    0.0  \n",
       "19300676         7.32   9.92      14.49       7.26         7.22    NaN  \n",
       "19300677         4.22   6.56      10.07       3.20         6.87    NaN  \n",
       "19300678         5.35   7.28      10.12       3.24         6.89    NaN  \n",
       "19300679         3.06   3.37       5.26       0.66         4.60    NaN  \n",
       "\n",
       "[5 rows x 21 columns]"
      ]
     },
     "execution_count": 3,
     "metadata": {},
     "output_type": "execute_result"
    }
   ],
   "source": [
    "# To display the bottom 5 rows\n",
    "df.tail(5) "
   ]
  },
  {
   "cell_type": "markdown",
   "id": "embedded-synthesis",
   "metadata": {},
   "source": [
    "### _Determining how many rows are there for first US County Code in the data_"
   ]
  },
  {
   "cell_type": "code",
   "execution_count": 4,
   "id": "shared-girlfriend",
   "metadata": {},
   "outputs": [
    {
     "name": "stdout",
     "output_type": "stream",
     "text": [
      "      fips        date  PRECTOT      PS   QV2M    T2M  T2MDEW  T2MWET  \\\n",
      "0     1001  2000-01-01     0.22  100.51   9.65  14.74   13.51   13.51   \n",
      "1     1001  2000-01-02     0.20  100.55  10.42  16.69   14.71   14.71   \n",
      "2     1001  2000-01-03     3.65  100.15  11.76  18.49   16.52   16.52   \n",
      "3     1001  2000-01-04    15.95  100.29   6.42  11.40    6.09    6.10   \n",
      "4     1001  2000-01-05     0.00  101.15   2.95   3.86   -3.29   -3.20   \n",
      "...    ...         ...      ...     ...    ...    ...     ...     ...   \n",
      "6205  1001  2016-12-27     0.61  100.75  11.79  17.81   16.63   16.59   \n",
      "6206  1001  2016-12-28     1.05  100.43   9.77  15.22   13.48   13.48   \n",
      "6207  1001  2016-12-29     2.19  100.54   6.78  12.56    5.69    5.75   \n",
      "6208  1001  2016-12-30     0.00  101.05   3.04   5.60   -3.02   -2.90   \n",
      "6209  1001  2016-12-31     8.21  100.44   4.88   6.13    2.93    2.95   \n",
      "\n",
      "      T2M_MAX  T2M_MIN  ...     TS  WS10M  WS10M_MAX  WS10M_MIN  WS10M_RANGE  \\\n",
      "0       20.96    11.46  ...  14.65   2.20       2.94       1.49         1.46   \n",
      "1       22.80    12.61  ...  16.60   2.52       3.43       1.83         1.60   \n",
      "2       22.73    15.32  ...  18.41   4.03       5.33       2.66         2.67   \n",
      "3       18.09     2.16  ...  11.31   3.84       5.67       2.08         3.59   \n",
      "4       10.82    -2.66  ...   2.65   1.60       2.50       0.52         1.98   \n",
      "...       ...      ...  ...    ...    ...        ...        ...          ...   \n",
      "6205    23.72    13.42  ...  17.74   1.86       2.56       1.17         1.39   \n",
      "6206    18.62    11.76  ...  15.18   1.14       3.25       0.14         3.12   \n",
      "6207    18.43     2.84  ...  12.41   3.80       5.73       2.23         3.50   \n",
      "6208    11.86    -0.30  ...   4.38   2.06       3.11       1.03         2.07   \n",
      "6209    10.55     1.03  ...   6.13   2.56       3.64       1.45         2.19   \n",
      "\n",
      "      WS50M  WS50M_MAX  WS50M_MIN  WS50M_RANGE   score  \n",
      "0      4.85       6.04       3.23         2.81     NaN  \n",
      "1      5.33       6.13       3.72         2.41     NaN  \n",
      "2      7.53       9.52       5.87         3.66     NaN  \n",
      "3      6.73       9.31       3.74         5.58  1.0000  \n",
      "4      2.94       4.85       0.65         4.19     NaN  \n",
      "...     ...        ...        ...          ...     ...  \n",
      "6205   4.00       5.10       2.28         2.82  3.0928  \n",
      "6206   2.63       6.99       0.31         6.68     NaN  \n",
      "6207   7.18       9.45       5.37         4.08     NaN  \n",
      "6208   3.81       5.13       1.35         3.77     NaN  \n",
      "6209   4.91       6.92       2.91         4.00     NaN  \n",
      "\n",
      "[6210 rows x 21 columns]\n"
     ]
    }
   ],
   "source": [
    "selectCounty = df.loc[df['fips'] == 1001]\n",
    "print (selectCounty)"
   ]
  },
  {
   "cell_type": "markdown",
   "id": "alpha-address",
   "metadata": {},
   "source": [
    "### _Determining how many rows are there for last US County Code in the data_"
   ]
  },
  {
   "cell_type": "code",
   "execution_count": 7,
   "id": "solar-sheriff",
   "metadata": {},
   "outputs": [
    {
     "name": "stdout",
     "output_type": "stream",
     "text": [
      "           fips        date  PRECTOT     PS  QV2M   T2M  T2MDEW  T2MWET  \\\n",
      "19294470  56043  2000-01-01     0.14  82.05  2.38 -2.03   -8.47   -8.37   \n",
      "19294471  56043  2000-01-02     0.18  82.17  1.92 -5.54  -11.05  -10.87   \n",
      "19294472  56043  2000-01-03     0.01  83.22  1.27 -9.01  -15.17  -14.79   \n",
      "19294473  56043  2000-01-04     0.56  82.86  2.17 -4.72  -10.01   -9.85   \n",
      "19294474  56043  2000-01-05     0.02  82.89  1.86 -3.74  -11.28  -11.02   \n",
      "...         ...         ...      ...    ...   ...   ...     ...     ...   \n",
      "19300675  56043  2016-12-27     0.16  82.88  1.63 -7.97  -13.49  -12.81   \n",
      "19300676  56043  2016-12-28     0.02  83.33  1.41 -8.71  -14.10  -13.84   \n",
      "19300677  56043  2016-12-29     0.00  83.75  1.59 -7.96  -13.30  -13.03   \n",
      "19300678  56043  2016-12-30     1.22  82.49  2.63 -2.94   -7.40   -7.33   \n",
      "19300679  56043  2016-12-31     0.44  82.19  1.75 -7.56  -11.98  -11.82   \n",
      "\n",
      "          T2M_MAX  T2M_MIN  ...     TS  WS10M  WS10M_MAX  WS10M_MIN  \\\n",
      "19294470     3.14    -5.22  ...  -3.46   2.31       3.67       0.99   \n",
      "19294471    -0.94   -10.17  ...  -6.51   3.60       7.13       1.88   \n",
      "19294472    -3.30   -12.33  ... -10.00   2.54       3.85       0.80   \n",
      "19294473     1.27   -11.19  ...  -5.63   4.02       6.01       2.72   \n",
      "19294474     1.23    -7.76  ...  -4.49   5.13       8.48       3.35   \n",
      "...           ...      ...  ...    ...    ...        ...        ...   \n",
      "19300675    -1.39   -13.60  ...  -9.41   5.90       7.63       3.61   \n",
      "19300676    -2.49   -13.56  ... -10.55   6.50      11.43       4.11   \n",
      "19300677     0.42   -14.51  ... -10.29   4.29       6.24       2.03   \n",
      "19300678     3.76    -6.86  ...  -4.14   4.98       7.34       1.99   \n",
      "19300679    -0.95   -11.61  ... -10.17   2.31       3.47       0.41   \n",
      "\n",
      "          WS10M_RANGE  WS50M  WS50M_MAX  WS50M_MIN  WS50M_RANGE  score  \n",
      "19294470         2.68   3.55       6.66       1.39         5.27    NaN  \n",
      "19294471         5.25   5.32       8.82       2.98         5.84    NaN  \n",
      "19294472         3.06   4.00       7.48       1.25         6.23    NaN  \n",
      "19294473         3.29   6.22       7.66       4.68         2.98    0.0  \n",
      "19294474         5.13   8.00      10.37       5.76         4.62    NaN  \n",
      "...               ...    ...        ...        ...          ...    ...  \n",
      "19300675         4.02   8.58      10.39       5.92         4.47    0.0  \n",
      "19300676         7.32   9.92      14.49       7.26         7.22    NaN  \n",
      "19300677         4.22   6.56      10.07       3.20         6.87    NaN  \n",
      "19300678         5.35   7.28      10.12       3.24         6.89    NaN  \n",
      "19300679         3.06   3.37       5.26       0.66         4.60    NaN  \n",
      "\n",
      "[6210 rows x 21 columns]\n"
     ]
    }
   ],
   "source": [
    "selectCounty = df.loc[df['fips'] == 56043]\n",
    "print (selectCounty)"
   ]
  },
  {
   "cell_type": "markdown",
   "id": "retired-bosnia",
   "metadata": {},
   "source": [
    "### _Checking data types of all columns_"
   ]
  },
  {
   "cell_type": "code",
   "execution_count": 8,
   "id": "gentle-details",
   "metadata": {},
   "outputs": [
    {
     "data": {
      "text/plain": [
       "fips             int64\n",
       "date            object\n",
       "PRECTOT        float64\n",
       "PS             float64\n",
       "QV2M           float64\n",
       "T2M            float64\n",
       "T2MDEW         float64\n",
       "T2MWET         float64\n",
       "T2M_MAX        float64\n",
       "T2M_MIN        float64\n",
       "T2M_RANGE      float64\n",
       "TS             float64\n",
       "WS10M          float64\n",
       "WS10M_MAX      float64\n",
       "WS10M_MIN      float64\n",
       "WS10M_RANGE    float64\n",
       "WS50M          float64\n",
       "WS50M_MAX      float64\n",
       "WS50M_MIN      float64\n",
       "WS50M_RANGE    float64\n",
       "score          float64\n",
       "dtype: object"
      ]
     },
     "execution_count": 8,
     "metadata": {},
     "output_type": "execute_result"
    }
   ],
   "source": [
    "# Checking the data type\n",
    "df.dtypes"
   ]
  },
  {
   "cell_type": "markdown",
   "id": "returning-average",
   "metadata": {},
   "source": [
    "### _Getting total number of rows and columns in the data_"
   ]
  },
  {
   "cell_type": "code",
   "execution_count": 9,
   "id": "tough-poker",
   "metadata": {},
   "outputs": [
    {
     "data": {
      "text/plain": [
       "(19300680, 21)"
      ]
     },
     "execution_count": 9,
     "metadata": {},
     "output_type": "execute_result"
    }
   ],
   "source": [
    "# Total number of rows and columns\n",
    "df.shape"
   ]
  },
  {
   "cell_type": "markdown",
   "id": "retired-sequence",
   "metadata": {},
   "source": [
    "### _Checking if there are any duplicate values: there are none._"
   ]
  },
  {
   "cell_type": "code",
   "execution_count": 10,
   "id": "ambient-festival",
   "metadata": {},
   "outputs": [
    {
     "name": "stdout",
     "output_type": "stream",
     "text": [
      "Number of Duplicate Rows:  (0, 21)\n"
     ]
    }
   ],
   "source": [
    "# Rows containing duplicate data\n",
    "duplicateRowsDf = df[df.duplicated()]\n",
    "print(\"Number of Duplicate Rows: \", duplicateRowsDf.shape)"
   ]
  },
  {
   "cell_type": "markdown",
   "id": "virtual-charm",
   "metadata": {},
   "source": [
    "### _Counting all non-NULL rows per each column_"
   ]
  },
  {
   "cell_type": "code",
   "execution_count": 11,
   "id": "urban-bronze",
   "metadata": {},
   "outputs": [
    {
     "data": {
      "text/plain": [
       "fips           19300680\n",
       "date           19300680\n",
       "PRECTOT        19300680\n",
       "PS             19300680\n",
       "QV2M           19300680\n",
       "T2M            19300680\n",
       "T2MDEW         19300680\n",
       "T2MWET         19300680\n",
       "T2M_MAX        19300680\n",
       "T2M_MIN        19300680\n",
       "T2M_RANGE      19300680\n",
       "TS             19300680\n",
       "WS10M          19300680\n",
       "WS10M_MAX      19300680\n",
       "WS10M_MIN      19300680\n",
       "WS10M_RANGE    19300680\n",
       "WS50M          19300680\n",
       "WS50M_MAX      19300680\n",
       "WS50M_MIN      19300680\n",
       "WS50M_RANGE    19300680\n",
       "score           2756796\n",
       "dtype: int64"
      ]
     },
     "execution_count": 11,
     "metadata": {},
     "output_type": "execute_result"
    }
   ],
   "source": [
    "# Counting the number of rows\n",
    "df.count()"
   ]
  },
  {
   "cell_type": "markdown",
   "id": "congressional-worship",
   "metadata": {},
   "source": [
    "### _Checking if there are any NULL values in the data_"
   ]
  },
  {
   "cell_type": "code",
   "execution_count": 12,
   "id": "homeless-wheat",
   "metadata": {},
   "outputs": [
    {
     "name": "stdout",
     "output_type": "stream",
     "text": [
      "fips                  0\n",
      "date                  0\n",
      "PRECTOT               0\n",
      "PS                    0\n",
      "QV2M                  0\n",
      "T2M                   0\n",
      "T2MDEW                0\n",
      "T2MWET                0\n",
      "T2M_MAX               0\n",
      "T2M_MIN               0\n",
      "T2M_RANGE             0\n",
      "TS                    0\n",
      "WS10M                 0\n",
      "WS10M_MAX             0\n",
      "WS10M_MIN             0\n",
      "WS10M_RANGE           0\n",
      "WS50M                 0\n",
      "WS50M_MAX             0\n",
      "WS50M_MIN             0\n",
      "WS50M_RANGE           0\n",
      "score          16543884\n",
      "dtype: int64\n"
     ]
    }
   ],
   "source": [
    "# Finding null values in the data.\n",
    "print(df.isnull().sum())"
   ]
  },
  {
   "cell_type": "markdown",
   "id": "aggregate-speech",
   "metadata": {},
   "source": [
    "### _Generating boxplot for Precipitation column for US County Code 1001_"
   ]
  },
  {
   "cell_type": "code",
   "execution_count": 13,
   "id": "creative-commerce",
   "metadata": {},
   "outputs": [
    {
     "data": {
      "text/plain": [
       "<AxesSubplot:xlabel='PRECTOT'>"
      ]
     },
     "execution_count": 13,
     "metadata": {},
     "output_type": "execute_result"
    },
    {
     "data": {
      "image/png": "[encoded data removed]",
      "text/plain": [
       "<Figure size 432x288 with 1 Axes>"
      ]
     },
     "metadata": {},
     "output_type": "display_data"
    }
   ],
   "source": [
    "# Creating small dummy data set for an informative box plot\n",
    "plotData = df[df['fips']==1001]\n",
    "sns.boxplot(x=plotData['PRECTOT'])"
   ]
  },
  {
   "cell_type": "markdown",
   "id": "little-mexican",
   "metadata": {},
   "source": [
    "### _Generating boxplot for Specific Humidity column for US County Code 1001_"
   ]
  },
  {
   "cell_type": "code",
   "execution_count": 14,
   "id": "innocent-mailman",
   "metadata": {},
   "outputs": [
    {
     "data": {
      "text/plain": [
       "<AxesSubplot:xlabel='QV2M'>"
      ]
     },
     "execution_count": 14,
     "metadata": {},
     "output_type": "execute_result"
    },
    {
     "data": {
      "image/png": "[encoded data removed]",
      "text/plain": [
       "<Figure size 432x288 with 1 Axes>"
      ]
     },
     "metadata": {},
     "output_type": "display_data"
    }
   ],
   "source": [
    "sns.boxplot(x=plotData['QV2M'])"
   ]
  },
  {
   "cell_type": "markdown",
   "id": "legendary-tonight",
   "metadata": {},
   "source": [
    "### _Plotting a Histogram of Specific Humidity for US County 1001_"
   ]
  },
  {
   "cell_type": "code",
   "execution_count": 15,
   "id": "equivalent-canal",
   "metadata": {},
   "outputs": [
    {
     "data": {
      "text/plain": [
       "array([[<AxesSubplot:title={'center':'QV2M'}>]], dtype=object)"
      ]
     },
     "execution_count": 15,
     "metadata": {},
     "output_type": "execute_result"
    },
    {
     "data": {
      "image/png": "[encoded data removed]",
      "text/plain": [
       "<Figure size 432x288 with 1 Axes>"
      ]
     },
     "metadata": {},
     "output_type": "display_data"
    }
   ],
   "source": [
    "# Plotting a Histogram of Specific Humidity for US County 1001\n",
    "plotData.hist(column='QV2M')"
   ]
  },
  {
   "cell_type": "markdown",
   "id": "acknowledged-sigma",
   "metadata": {},
   "source": [
    "### _Plotting a Histogram for Surface Pressure for the entire training data_"
   ]
  },
  {
   "cell_type": "code",
   "execution_count": 16,
   "id": "chubby-ukraine",
   "metadata": {},
   "outputs": [
    {
     "data": {
      "text/plain": [
       "array([[<AxesSubplot:title={'center':'PS'}>]], dtype=object)"
      ]
     },
     "execution_count": 16,
     "metadata": {},
     "output_type": "execute_result"
    },
    {
     "data": {
      "image/png": "[encoded data removed]",
      "text/plain": [
       "<Figure size 432x288 with 1 Axes>"
      ]
     },
     "metadata": {},
     "output_type": "display_data"
    }
   ],
   "source": [
    "# Plotting a Histogram for Surface Pressue for the entire training data\n",
    "df.hist(column='PS')"
   ]
  },
  {
   "cell_type": "markdown",
   "id": "regulated-latest",
   "metadata": {},
   "source": [
    "### _Plotting a Histogram for Temperature at 2 Meters (C) for the entire training data_"
   ]
  },
  {
   "cell_type": "code",
   "execution_count": 17,
   "id": "impressed-america",
   "metadata": {},
   "outputs": [
    {
     "data": {
      "text/plain": [
       "array([[<AxesSubplot:title={'center':'T2M'}>]], dtype=object)"
      ]
     },
     "execution_count": 17,
     "metadata": {},
     "output_type": "execute_result"
    },
    {
     "data": {
      "image/png": "[encoded data removed]",
      "text/plain": [
       "<Figure size 432x288 with 1 Axes>"
      ]
     },
     "metadata": {},
     "output_type": "display_data"
    }
   ],
   "source": [
    "# Plotting a Histogram for Temperature at 2 Meters (C) for the entire training data\n",
    "df.hist(column='T2M')"
   ]
  }
 ],
 "metadata": {
  "kernelspec": {
   "display_name": "Python 3",
   "language": "python",
   "name": "python3"
  },
  "language_info": {
   "codemirror_mode": {
    "name": "ipython",
    "version": 3
   },
   "file_extension": ".py",
   "mimetype": "text/x-python",
   "name": "python",
   "nbconvert_exporter": "python",
   "pygments_lexer": "ipython3",
   "version": "3.8.8"
  },
  "toc": {
   "base_numbering": 1,
   "nav_menu": {},
   "number_sections": true,
   "sideBar": true,
   "skip_h1_title": false,
   "title_cell": "Table of Contents",
   "title_sidebar": "Contents",
   "toc_cell": false,
   "toc_position": {},
   "toc_section_display": true,
   "toc_window_display": false
  },
  "varInspector": {
   "cols": {
    "lenName": 16,
    "lenType": 16,
    "lenVar": 40
   },
   "kernels_config": {
    "python": {
     "delete_cmd_postfix": "",
     "delete_cmd_prefix": "del ",
     "library": "var_list.py",
     "varRefreshCmd": "print(var_dic_list())"
    },
    "r": {
     "delete_cmd_postfix": ") ",
     "delete_cmd_prefix": "rm(",
     "library": "var_list.r",
     "varRefreshCmd": "cat(var_dic_list()) "
    }
   },
   "types_to_exclude": [
    "module",
    "function",
    "builtin_function_or_method",
    "instance",
    "_Feature"
   ],
   "window_display": false
  }
 },
 "nbformat": 4,
 "nbformat_minor": 5
}

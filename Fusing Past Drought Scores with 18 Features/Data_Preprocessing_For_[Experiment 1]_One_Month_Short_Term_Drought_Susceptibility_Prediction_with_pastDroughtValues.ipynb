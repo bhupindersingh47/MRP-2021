{
 "cells": [
  {
   "cell_type": "markdown",
   "id": "palestinian-tennis",
   "metadata": {
    "papermill": {
     "duration": 0.011532,
     "end_time": "2021-07-20T10:31:26.909904",
     "exception": false,
     "start_time": "2021-07-20T10:31:26.898372",
     "status": "completed"
    },
    "tags": []
   },
   "source": [
    "# Loading the unprocessed dataset into Pandas dataframes."
   ]
  },
  {
   "cell_type": "code",
   "execution_count": 1,
   "id": "ideal-shepherd",
   "metadata": {
    "ExecuteTime": {
     "end_time": "2021-09-01T04:53:12.803634Z",
     "start_time": "2021-09-01T04:53:11.882075Z"
    }
   },
   "outputs": [],
   "source": [
    "import os\n",
    "import numpy as np\n",
    "import pandas as pd\n",
    "from tqdm.auto import tqdm\n",
    "\n",
    "import matplotlib.pyplot as plt\n",
    "%matplotlib inline\n",
    "import seaborn as sns\n",
    "plt.style.use('seaborn-poster')\n",
    "\n",
    "from scipy.interpolate import interp1d\n",
    "from sklearn.preprocessing import RobustScaler"
   ]
  },
  {
   "cell_type": "code",
   "execution_count": 2,
   "id": "random-terror",
   "metadata": {
    "ExecuteTime": {
     "end_time": "2021-09-01T04:53:12.930167Z",
     "start_time": "2021-09-01T04:53:12.916175Z"
    },
    "_kg_hide-input": false,
    "execution": {
     "iopub.execute_input": "2021-07-20T10:31:26.967510Z",
     "iopub.status.busy": "2021-07-20T10:31:26.966624Z",
     "iopub.status.idle": "2021-07-20T10:31:28.207788Z",
     "shell.execute_reply": "2021-07-20T10:31:28.206923Z",
     "shell.execute_reply.started": "2021-07-20T09:24:06.446705Z"
    },
    "papermill": {
     "duration": 1.261359,
     "end_time": "2021-07-20T10:31:28.208055",
     "exception": false,
     "start_time": "2021-07-20T10:31:26.946696",
     "status": "completed"
    },
    "tags": []
   },
   "outputs": [],
   "source": [
    "datasetsFolder = {}\n",
    "\n",
    "for dirname, _, filenames in os.walk(r'R:\\Ryerson\\Misc\\Datasets\\Predict Droughts using Weather & Soil Data\\\\'):\n",
    "    for filename in filenames:\n",
    "        if 'train' in filename:\n",
    "            datasetsFolder['train'] = os.path.join(dirname, filename)\n",
    "        if 'valid' in filename:\n",
    "            datasetsFolder['valid'] = os.path.join(dirname, filename)\n",
    "        if 'test' in filename:\n",
    "            datasetsFolder['test'] = os.path.join(dirname, filename)"
   ]
  },
  {
   "cell_type": "code",
   "execution_count": 3,
   "id": "fundamental-municipality",
   "metadata": {
    "ExecuteTime": {
     "end_time": "2021-09-01T04:53:54.541475Z",
     "start_time": "2021-09-01T04:53:13.039903Z"
    },
    "execution": {
     "iopub.execute_input": "2021-07-20T10:31:28.319477Z",
     "iopub.status.busy": "2021-07-20T10:31:28.318683Z",
     "iopub.status.idle": "2021-07-20T10:33:12.463143Z",
     "shell.execute_reply": "2021-07-20T10:33:12.463639Z",
     "shell.execute_reply.started": "2021-07-20T09:24:08.026750Z"
    },
    "papermill": {
     "duration": 104.162458,
     "end_time": "2021-07-20T10:33:12.463859",
     "exception": false,
     "start_time": "2021-07-20T10:31:28.301401",
     "status": "completed"
    },
    "tags": []
   },
   "outputs": [],
   "source": [
    "allDatasets = { k: pd.read_csv(datasetsFolder[k]).set_index(['fips', 'date'])\n",
    "    for k in datasetsFolder.keys()}"
   ]
  },
  {
   "cell_type": "markdown",
   "id": "diverse-container",
   "metadata": {},
   "source": [
    "# Pre-processing data to create feature and response matrices."
   ]
  },
  {
   "cell_type": "code",
   "execution_count": 4,
   "id": "deluxe-string",
   "metadata": {
    "ExecuteTime": {
     "end_time": "2021-09-01T04:54:01.334312Z",
     "start_time": "2021-09-01T04:54:01.318355Z"
    },
    "execution": {
     "iopub.execute_input": "2021-07-20T10:33:12.516498Z",
     "iopub.status.busy": "2021-07-20T10:33:12.515473Z",
     "iopub.status.idle": "2021-07-20T10:33:12.522123Z",
     "shell.execute_reply": "2021-07-20T10:33:12.522688Z",
     "shell.execute_reply.started": "2021-07-20T09:25:34.787083Z"
    },
    "papermill": {
     "duration": 0.022417,
     "end_time": "2021-07-20T10:33:12.522880",
     "exception": false,
     "start_time": "2021-07-20T10:33:12.500463",
     "status": "completed"
    },
    "tags": []
   },
   "outputs": [],
   "source": [
    "def interpolate_NaN_values(sourceArray, interpolationKind='linear'):\n",
    "    allIndexes = np.arange(sourceArray.shape[0])\n",
    "    allGoodIndexes, = np.where(np.isfinite(sourceArray))\n",
    "    f = interp1d(allGoodIndexes,\n",
    "                 sourceArray[allGoodIndexes],\n",
    "                 bounds_error=False,\n",
    "                 copy=False,\n",
    "                 fill_value='extrapolate',\n",
    "                 kind=interpolationKind)\n",
    "    return f(allIndexes)"
   ]
  },
  {
   "cell_type": "code",
   "execution_count": 5,
   "id": "binding-postage",
   "metadata": {
    "ExecuteTime": {
     "end_time": "2021-09-01T04:54:02.327531Z",
     "start_time": "2021-09-01T04:54:02.307585Z"
    },
    "execution": {
     "iopub.execute_input": "2021-07-20T10:33:12.573078Z",
     "iopub.status.busy": "2021-07-20T10:33:12.572063Z",
     "iopub.status.idle": "2021-07-20T10:33:12.595617Z",
     "shell.execute_reply": "2021-07-20T10:33:12.596428Z",
     "shell.execute_reply.started": "2021-07-20T09:25:34.796541Z"
    },
    "papermill": {
     "duration": 0.039205,
     "end_time": "2021-07-20T10:33:12.596660",
     "exception": false,
     "start_time": "2021-07-20T10:33:12.557455",
     "status": "completed"
    },
    "tags": []
   },
   "outputs": [],
   "source": [
    "def loadXYMatrices(\n",
    "    df,\n",
    "    randomState = 42, # random state is kept at 42 as per convention\n",
    "    windowSize = 30, # decides number of days per each output sample for which the corresponding drought score is returned\n",
    "    targetSize = 1, # decides how many weeks' worth of drought scores are returned starting the first day of the week following windowSize \n",
    "    ):\n",
    "        rawDF = allDatasets[df]\n",
    "\n",
    "        soilDF = pd.read_csv(r'R:\\Ryerson\\Misc\\Datasets\\Predict Droughts using Weather & Soil Data\\soil_data.csv')\n",
    "\n",
    "        timeSeriesDataColumns = sorted([c for c in rawDF.columns if c not in [\"fips\", \"date\", \"score\"]])\n",
    "        #timeSeriesDataColumns are the 18 meteorological indicators\n",
    "        print('\\ntimeSeriesDataColumns: \\n')\n",
    "        for i_1 in timeSeriesDataColumns:\n",
    "            print(i_1, '\\n')\n",
    "\n",
    "        #staticDataColumns are the 29 soil data indicators\n",
    "        staticDataColumns = sorted([c for c in soilDF.columns if c not in [\"fips\", \"lat\", \"lon\"]])\n",
    "        '''print('\\nstaticDataColumns: ')\n",
    "        for i_2 in staticDataColumns:\n",
    "            print(i_2, '\\n')'''\n",
    "\n",
    "        count = 0\n",
    "        scoreDF = rawDF.dropna(subset=[\"score\"])\n",
    "\n",
    "        X_static = np.empty((len(rawDF) // windowSize, len(staticDataColumns)))\n",
    "        # the shape of this uninitialized array will be (19300680/windowSize, 28)\n",
    "        '''print('X_static Shape: ', X_static.shape)'''\n",
    "\n",
    "        X_time = np.empty((len(rawDF) // windowSize, windowSize, len(timeSeriesDataColumns))) \n",
    "        # the shape of this uninitialized array will be (19300680/windowSize, windowSize, 18)\n",
    "        print('X_time Shape: ', X_time.shape)\n",
    "\n",
    "        y_past = np.empty((len(rawDF) // windowSize, windowSize))\n",
    "        # the shape of this uninitialized array will be (19300680/windowSize, windowSize)\n",
    "        print('y_past Shape: ', y_past.shape)\n",
    "\n",
    "        y_target = np.empty((len(rawDF) // windowSize, targetSize))\n",
    "        # the shape of this uninitialized array will be (19300680/windowSize, targetSize)\n",
    "        print('y_target Shape: ', y_target.shape)\n",
    "\n",
    "        if randomState is not None:\n",
    "            np.random.seed(randomState)\n",
    "            \n",
    "        for uniqueFIPScode in tqdm(scoreDF.index.get_level_values(0).unique()): #for every unique FIPS county code\n",
    "            \n",
    "            startingPoint = 1\n",
    "            \n",
    "            fipsDF = rawDF[(rawDF.index.get_level_values(0) == uniqueFIPScode)] #store the df sample at [index = current unique value of fips] \n",
    "            X = fipsDF[timeSeriesDataColumns].values #individual X = current sample values of the 18 meteorological columns \n",
    "            y = fipsDF[\"score\"].values #individual y = current samples' values of the column 'score' as ndarray\n",
    "            XStat = soilDF[soilDF[\"fips\"] == uniqueFIPScode][staticDataColumns].values[0] #individual soil data sample = return as ndarray all the 28 column values minus the axis labels\n",
    "            \n",
    "            for i in range(startingPoint, len(y) - (windowSize + targetSize * 7), windowSize):\n",
    "                X_time[count, :, : len(timeSeriesDataColumns)] = X[i : i + windowSize]\n",
    "                y_past[count] = interpolate_NaN_values(y[i : i + windowSize])\n",
    "                tempY = y[i + windowSize : i + windowSize + targetSize * 7]\n",
    "                y_target[count] = np.array(tempY[~np.isnan(tempY)][:targetSize])\n",
    "                X_static[count] = XStat\n",
    "                count += 1\n",
    "        \n",
    "        print(f\"\\n\\n-----------------------------------\\nLoaded {count} samples successfully.\\n-----------------------------------\\n\\n\")\n",
    "        matrices = [X_time[:count], y_target[:count]]\n",
    "        \n",
    "        #If you wish to inculcate Soil data in the training of your model and require the Soil data array for the same then uncomment the following line of code: \n",
    "        #matrices.append(X_static[:count])\n",
    "        \n",
    "        #If you require the interpolated past drought values going back the duration of the window size then uncomment the following line of code: \n",
    "        matrices.append(y_past[:count])\n",
    "        \n",
    "        return matrices"
   ]
  },
  {
   "cell_type": "markdown",
   "id": "surrounded-morris",
   "metadata": {},
   "source": [
    "# Defining function to scale features using RobustScaler."
   ]
  },
  {
   "cell_type": "code",
   "execution_count": 6,
   "id": "senior-rapid",
   "metadata": {
    "ExecuteTime": {
     "end_time": "2021-09-01T04:54:14.710415Z",
     "start_time": "2021-09-01T04:54:14.699445Z"
    },
    "execution": {
     "iopub.execute_input": "2021-07-20T10:33:12.650140Z",
     "iopub.status.busy": "2021-07-20T10:33:12.649083Z",
     "iopub.status.idle": "2021-07-20T10:33:12.661155Z",
     "shell.execute_reply": "2021-07-20T10:33:12.661710Z",
     "shell.execute_reply.started": "2021-07-20T09:25:34.825533Z"
    },
    "papermill": {
     "duration": 0.028525,
     "end_time": "2021-07-20T10:33:12.661921",
     "exception": false,
     "start_time": "2021-07-20T10:33:12.633396",
     "status": "completed"
    },
    "tags": []
   },
   "outputs": [],
   "source": [
    "scalerDict = {}\n",
    "\n",
    "def scaleFeatures(sourceArray, fit=False):\n",
    "    for feature in tqdm(range(sourceArray.shape[-1])): #printing a progress bar for each of the meteorological indicators\n",
    "        if fit:\n",
    "            scalerDict[feature] = RobustScaler().fit(sourceArray[:, feature].reshape(-1, 1))\n",
    "        sourceArray[:, feature] = scalerDict[feature].transform(sourceArray[:, feature].reshape(-1, 1)).reshape(1, -1)\n",
    "    return sourceArray"
   ]
  },
  {
   "cell_type": "markdown",
   "id": "civil-suite",
   "metadata": {},
   "source": [
    "# Creating the Feature and Response matrices."
   ]
  },
  {
   "cell_type": "code",
   "execution_count": 7,
   "id": "unlike-spouse",
   "metadata": {
    "ExecuteTime": {
     "end_time": "2021-09-01T04:54:15.995563Z",
     "start_time": "2021-09-01T04:54:15.980604Z"
    }
   },
   "outputs": [],
   "source": [
    "# There are 3108 counties in the training dataset.\n",
    "\n",
    "# For each county, there are 6210 observations i.e. there is one observation for every day of 2001-2017. \n",
    "\n",
    "# Meaning there are a total of 3108 x 6210 = 19,300,680 observations in the training dataset."
   ]
  },
  {
   "cell_type": "code",
   "execution_count": 8,
   "id": "worldwide-pontiac",
   "metadata": {
    "ExecuteTime": {
     "end_time": "2021-09-01T05:04:04.379829Z",
     "start_time": "2021-09-01T04:54:17.566857Z"
    },
    "execution": {
     "iopub.execute_input": "2021-07-20T10:33:12.690376Z",
     "iopub.status.busy": "2021-07-20T10:33:12.689263Z",
     "iopub.status.idle": "2021-07-20T10:48:37.067746Z",
     "shell.execute_reply": "2021-07-20T10:48:37.066915Z",
     "shell.execute_reply.started": "2021-07-20T09:59:42.374341Z"
    },
    "papermill": {
     "duration": 924.394256,
     "end_time": "2021-07-20T10:48:37.068067",
     "exception": false,
     "start_time": "2021-07-20T10:33:12.673811",
     "status": "completed"
    },
    "scrolled": true,
    "tags": []
   },
   "outputs": [
    {
     "name": "stdout",
     "output_type": "stream",
     "text": [
      "\n",
      "timeSeriesDataColumns: \n",
      "\n",
      "PRECTOT \n",
      "\n",
      "PS \n",
      "\n",
      "QV2M \n",
      "\n",
      "T2M \n",
      "\n",
      "T2MDEW \n",
      "\n",
      "T2MWET \n",
      "\n",
      "T2M_MAX \n",
      "\n",
      "T2M_MIN \n",
      "\n",
      "T2M_RANGE \n",
      "\n",
      "TS \n",
      "\n",
      "WS10M \n",
      "\n",
      "WS10M_MAX \n",
      "\n",
      "WS10M_MIN \n",
      "\n",
      "WS10M_RANGE \n",
      "\n",
      "WS50M \n",
      "\n",
      "WS50M_MAX \n",
      "\n",
      "WS50M_MIN \n",
      "\n",
      "WS50M_RANGE \n",
      "\n",
      "X_time Shape:  (643356, 30, 18)\n",
      "y_past Shape:  (643356, 30)\n",
      "y_target Shape:  (643356, 1)\n"
     ]
    },
    {
     "data": {
      "application/vnd.jupyter.widget-view+json": {
       "model_id": "e0e1cf30245b493f9d98d2584ecb8bcd",
       "version_major": 2,
       "version_minor": 0
      },
      "text/plain": [
       "  0%|          | 0/3108 [00:00<?, ?it/s]"
      ]
     },
     "metadata": {},
     "output_type": "display_data"
    },
    {
     "name": "stdout",
     "output_type": "stream",
     "text": [
      "\n",
      "\n",
      "-----------------------------------\n",
      "Loaded 640248 samples successfully.\n",
      "-----------------------------------\n",
      "\n",
      "\n",
      "\n",
      "timeSeriesDataColumns: \n",
      "\n",
      "PRECTOT \n",
      "\n",
      "PS \n",
      "\n",
      "QV2M \n",
      "\n",
      "T2M \n",
      "\n",
      "T2MDEW \n",
      "\n",
      "T2MWET \n",
      "\n",
      "T2M_MAX \n",
      "\n",
      "T2M_MIN \n",
      "\n",
      "T2M_RANGE \n",
      "\n",
      "TS \n",
      "\n",
      "WS10M \n",
      "\n",
      "WS10M_MAX \n",
      "\n",
      "WS10M_MIN \n",
      "\n",
      "WS10M_RANGE \n",
      "\n",
      "WS50M \n",
      "\n",
      "WS50M_MAX \n",
      "\n",
      "WS50M_MIN \n",
      "\n",
      "WS50M_RANGE \n",
      "\n",
      "X_time Shape:  (75628, 30, 18)\n",
      "y_past Shape:  (75628, 30)\n",
      "y_target Shape:  (75628, 1)\n"
     ]
    },
    {
     "data": {
      "application/vnd.jupyter.widget-view+json": {
       "model_id": "d92b28de01eb428ea7ffd3ae215d3cc8",
       "version_major": 2,
       "version_minor": 0
      },
      "text/plain": [
       "  0%|          | 0/3108 [00:00<?, ?it/s]"
      ]
     },
     "metadata": {},
     "output_type": "display_data"
    },
    {
     "name": "stdout",
     "output_type": "stream",
     "text": [
      "\n",
      "\n",
      "-----------------------------------\n",
      "Loaded 74592 samples successfully.\n",
      "-----------------------------------\n",
      "\n",
      "\n",
      "\n",
      "timeSeriesDataColumns: \n",
      "\n",
      "PRECTOT \n",
      "\n",
      "PS \n",
      "\n",
      "QV2M \n",
      "\n",
      "T2M \n",
      "\n",
      "T2MDEW \n",
      "\n",
      "T2MWET \n",
      "\n",
      "T2M_MAX \n",
      "\n",
      "T2M_MIN \n",
      "\n",
      "T2M_RANGE \n",
      "\n",
      "TS \n",
      "\n",
      "WS10M \n",
      "\n",
      "WS10M_MAX \n",
      "\n",
      "WS10M_MIN \n",
      "\n",
      "WS10M_RANGE \n",
      "\n",
      "WS50M \n",
      "\n",
      "WS50M_MAX \n",
      "\n",
      "WS50M_MIN \n",
      "\n",
      "WS50M_RANGE \n",
      "\n",
      "X_time Shape:  (75731, 30, 18)\n",
      "y_past Shape:  (75731, 30)\n",
      "y_target Shape:  (75731, 1)\n"
     ]
    },
    {
     "data": {
      "application/vnd.jupyter.widget-view+json": {
       "model_id": "3cdad8bb8c524dc0afc38c217d433665",
       "version_major": 2,
       "version_minor": 0
      },
      "text/plain": [
       "  0%|          | 0/3108 [00:00<?, ?it/s]"
      ]
     },
     "metadata": {},
     "output_type": "display_data"
    },
    {
     "name": "stdout",
     "output_type": "stream",
     "text": [
      "\n",
      "\n",
      "-----------------------------------\n",
      "Loaded 74592 samples successfully.\n",
      "-----------------------------------\n",
      "\n",
      "\n"
     ]
    }
   ],
   "source": [
    "X_train_unscaled, y_target_train, y_past_train = loadXYMatrices(\"train\")\n",
    "X_valid_unscaled, y_target_valid, y_past_valid = loadXYMatrices(\"valid\")\n",
    "X_test_unscaled, y_target_test, y_past_test = loadXYMatrices(\"test\")"
   ]
  },
  {
   "cell_type": "code",
   "execution_count": 10,
   "id": "registered-albuquerque",
   "metadata": {
    "ExecuteTime": {
     "end_time": "2021-09-01T05:04:34.057204Z",
     "start_time": "2021-09-01T05:04:34.043246Z"
    }
   },
   "outputs": [
    {
     "name": "stdout",
     "output_type": "stream",
     "text": [
      "\n",
      "X_train_unscaled.shape:  (640248, 30, 18)\n",
      "\n",
      "y_target_train.shape:  (640248, 1)\n",
      "\n",
      "y_past_train.shape:  (640248, 30)\n",
      "\n",
      "\n",
      "\n",
      "\n",
      "\n",
      "X_valid_unscaled.shape:  (74592, 30, 18)\n",
      "\n",
      "y_target_valid.shape:  (74592, 1)\n",
      "\n",
      "y_past_valid.shape:  (74592, 30)\n",
      "\n",
      "\n",
      "\n",
      "\n",
      "\n",
      "X_test_unscaled.shape:  (74592, 30, 18)\n",
      "\n",
      "y_target_test.shape:  (74592, 1)\n",
      "\n",
      "y_past_test.shape:  (74592, 30)\n"
     ]
    }
   ],
   "source": [
    "print('\\nX_train_unscaled.shape: ', X_train_unscaled.shape)\n",
    "print('\\ny_target_train.shape: ', y_target_train.shape)\n",
    "print('\\ny_past_train.shape: ', y_past_train.shape)\n",
    "\n",
    "\n",
    "print('\\n\\n\\n')\n",
    "\n",
    "print('\\nX_valid_unscaled.shape: ', X_valid_unscaled.shape)\n",
    "print('\\ny_target_valid.shape: ', y_target_valid.shape)\n",
    "print('\\ny_past_valid.shape: ', y_past_valid.shape)\n",
    "\n",
    "print('\\n\\n\\n')\n",
    "\n",
    "print('\\nX_test_unscaled.shape: ', X_test_unscaled.shape)\n",
    "print('\\ny_target_test.shape: ', y_target_test.shape)\n",
    "print('\\ny_past_test.shape: ', y_past_test.shape)"
   ]
  },
  {
   "cell_type": "code",
   "execution_count": 11,
   "id": "considerable-administrator",
   "metadata": {
    "ExecuteTime": {
     "end_time": "2021-09-01T05:04:55.086503Z",
     "start_time": "2021-09-01T05:04:47.533713Z"
    }
   },
   "outputs": [
    {
     "name": "stdout",
     "output_type": "stream",
     "text": [
      "640248\n"
     ]
    }
   ],
   "source": [
    "X_train = np.empty((X_train_unscaled.shape[0], X_train_unscaled.shape[-1]))\n",
    "i = 0\n",
    "for window in X_train_unscaled:\n",
    "    X_train[i] = np.mean(window, axis=0)\n",
    "    i += 1\n",
    "print(i)"
   ]
  },
  {
   "cell_type": "code",
   "execution_count": 12,
   "id": "documented-perth",
   "metadata": {
    "ExecuteTime": {
     "end_time": "2021-09-01T05:04:56.763731Z",
     "start_time": "2021-09-01T05:04:56.751764Z"
    }
   },
   "outputs": [
    {
     "data": {
      "text/plain": [
       "(640248, 18)"
      ]
     },
     "execution_count": 12,
     "metadata": {},
     "output_type": "execute_result"
    },
    {
     "name": "stdout",
     "output_type": "stream",
     "text": [
      "[  3.87433333 100.728        5.518        7.20866667   3.30933333\n",
      "   3.35966667  13.22333333   1.674       11.54933333   7.04033333\n",
      "   2.57666667   3.658        1.55733333   2.10066667   4.931\n",
      "   6.79066667   3.02666667   3.76333333] \n",
      "\n",
      "\n"
     ]
    }
   ],
   "source": [
    "X_train.shape\n",
    "\n",
    "count = 0\n",
    "for k in X_train:\n",
    "    print(k, '\\n\\n')\n",
    "    count += 1\n",
    "    if count == 1:\n",
    "        break"
   ]
  },
  {
   "cell_type": "code",
   "execution_count": 13,
   "id": "peaceful-firewall",
   "metadata": {
    "ExecuteTime": {
     "end_time": "2021-09-01T05:04:59.758934Z",
     "start_time": "2021-09-01T05:04:58.859996Z"
    }
   },
   "outputs": [
    {
     "name": "stdout",
     "output_type": "stream",
     "text": [
      "74592\n"
     ]
    }
   ],
   "source": [
    "X_valid = np.empty((X_valid_unscaled.shape[0], X_valid_unscaled.shape[-1]))\n",
    "i = 0\n",
    "for window in X_valid_unscaled:\n",
    "    X_valid[i] = np.mean(window, axis=0)\n",
    "    i += 1\n",
    "print(i)"
   ]
  },
  {
   "cell_type": "code",
   "execution_count": 14,
   "id": "fifteen-bahamas",
   "metadata": {
    "ExecuteTime": {
     "end_time": "2021-09-01T05:05:01.644370Z",
     "start_time": "2021-09-01T05:05:01.632402Z"
    }
   },
   "outputs": [
    {
     "data": {
      "text/plain": [
       "(74592, 18)"
      ]
     },
     "execution_count": 14,
     "metadata": {},
     "output_type": "execute_result"
    },
    {
     "name": "stdout",
     "output_type": "stream",
     "text": [
      "[  7.23266667 100.37433333   7.52633333  10.39333333   7.88666667\n",
      "   7.901       16.18866667   5.25066667  10.93933333  10.03666667\n",
      "   2.459        3.66233333   1.52666667   2.13433333   4.815\n",
      "   6.813        2.87466667   3.939     ] \n",
      "\n",
      "\n"
     ]
    }
   ],
   "source": [
    "X_valid.shape\n",
    "\n",
    "count = 0\n",
    "for k in X_valid:\n",
    "    print(k, '\\n\\n')\n",
    "    count += 1\n",
    "    if count == 1:\n",
    "        break"
   ]
  },
  {
   "cell_type": "code",
   "execution_count": 15,
   "id": "removable-accessory",
   "metadata": {
    "ExecuteTime": {
     "end_time": "2021-09-01T05:05:04.131978Z",
     "start_time": "2021-09-01T05:05:03.255042Z"
    }
   },
   "outputs": [
    {
     "name": "stdout",
     "output_type": "stream",
     "text": [
      "74592\n"
     ]
    }
   ],
   "source": [
    "X_test = np.empty((X_test_unscaled.shape[0], X_test_unscaled.shape[-1]))\n",
    "i = 0\n",
    "for window in X_test_unscaled:\n",
    "    X_test[i] = np.mean(window, axis=0)\n",
    "    i += 1\n",
    "print(i)"
   ]
  },
  {
   "cell_type": "code",
   "execution_count": 16,
   "id": "affiliated-grounds",
   "metadata": {
    "ExecuteTime": {
     "end_time": "2021-09-01T05:05:16.321906Z",
     "start_time": "2021-09-01T05:05:16.302957Z"
    }
   },
   "outputs": [
    {
     "data": {
      "text/plain": [
       "(74592, 18)"
      ]
     },
     "execution_count": 16,
     "metadata": {},
     "output_type": "execute_result"
    },
    {
     "name": "stdout",
     "output_type": "stream",
     "text": [
      "[  4.68166667 100.58033333   5.438        6.848        4.14733333\n",
      "   3.96933333  12.769        1.37733333  11.39233333   6.516\n",
      "   2.37033333   3.42366667   1.386        2.03733333   4.45066667\n",
      "   6.45333333   2.67933333   3.77433333] \n",
      "\n",
      "\n"
     ]
    }
   ],
   "source": [
    "X_test.shape\n",
    "\n",
    "count = 0\n",
    "for k in X_test:\n",
    "    print(k, '\\n\\n')\n",
    "    count += 1\n",
    "    if count == 1:\n",
    "        break"
   ]
  },
  {
   "cell_type": "markdown",
   "id": "unlikely-cambridge",
   "metadata": {},
   "source": [
    "# Scaling Feature values"
   ]
  },
  {
   "cell_type": "code",
   "execution_count": 17,
   "id": "effective-monitor",
   "metadata": {
    "ExecuteTime": {
     "end_time": "2021-09-01T05:05:44.318943Z",
     "start_time": "2021-09-01T05:05:43.113243Z"
    }
   },
   "outputs": [
    {
     "data": {
      "application/vnd.jupyter.widget-view+json": {
       "model_id": "f6f49dfc698d4a9b8e78925edc07060d",
       "version_major": 2,
       "version_minor": 0
      },
      "text/plain": [
       "  0%|          | 0/18 [00:00<?, ?it/s]"
      ]
     },
     "metadata": {},
     "output_type": "display_data"
    },
    {
     "data": {
      "application/vnd.jupyter.widget-view+json": {
       "model_id": "208482e7e362408da8561cea9e2d7be1",
       "version_major": 2,
       "version_minor": 0
      },
      "text/plain": [
       "  0%|          | 0/18 [00:00<?, ?it/s]"
      ]
     },
     "metadata": {},
     "output_type": "display_data"
    },
    {
     "data": {
      "application/vnd.jupyter.widget-view+json": {
       "model_id": "4e26f74924a34bd68b83e64f007bbceb",
       "version_major": 2,
       "version_minor": 0
      },
      "text/plain": [
       "  0%|          | 0/18 [00:00<?, ?it/s]"
      ]
     },
     "metadata": {},
     "output_type": "display_data"
    }
   ],
   "source": [
    "X_train = scaleFeatures(X_train, fit=True)\n",
    "X_valid = scaleFeatures(X_valid)\n",
    "X_test = scaleFeatures(X_test)"
   ]
  },
  {
   "cell_type": "code",
   "execution_count": 18,
   "id": "careful-hunter",
   "metadata": {
    "ExecuteTime": {
     "end_time": "2021-09-01T05:05:46.618433Z",
     "start_time": "2021-09-01T05:05:46.595543Z"
    },
    "scrolled": true
   },
   "outputs": [
    {
     "name": "stdout",
     "output_type": "stream",
     "text": [
      "[ 0.6430508   0.59958472 -0.22079382 -0.39863242 -0.26808073 -0.26667869\n",
      " -0.413065   -0.39376374  0.0503905  -0.40338093 -0.38979257 -0.42962663\n",
      " -0.27108612 -0.47108434 -0.20118177 -0.25959251 -0.03774864 -0.38050089]\n",
      "\n",
      "\n",
      "\n",
      "\n",
      "[-0.36836473  0.61013289 -0.06471796 -0.17432537 -0.05455536 -0.05458481\n",
      " -0.09967469 -0.24031639  0.93848294 -0.19138032 -0.46992986 -0.51543054\n",
      " -0.34980764 -0.55813253 -0.29783343 -0.32081911 -0.25293852 -0.31520572]\n",
      "\n",
      "\n",
      "\n",
      "\n",
      "[ 7.33661530e-01  4.74418605e-01  1.57884446e-01  5.15894013e-02\n",
      "  1.87281276e-01  1.87292855e-01  1.02301429e-01  1.70331454e-04\n",
      "  7.99293891e-01  3.30323300e-02 -5.06193106e-01 -5.46190428e-01\n",
      " -4.47173720e-01 -5.55271084e-01 -3.76617895e-01 -3.75530044e-01\n",
      " -2.91817360e-01 -3.79427549e-01]\n",
      "\n",
      "\n",
      "\n",
      "\n",
      "[ 0.51919235  0.46171096  0.22558412  0.12932964  0.25104903  0.25114423\n",
      "  0.13913641  0.08335596  0.57665561  0.11541393 -0.43321892 -0.43944147\n",
      " -0.54098846 -0.34894578 -0.27940349 -0.29599752 -0.44077758 -0.1236136 ]\n",
      "\n",
      "\n",
      "\n",
      "\n",
      "[-0.4868008   0.44244186  0.68344902  0.6294721   0.58709927  0.58816765\n",
      "  0.69620739  0.58500338  1.00599123  0.62129868 -0.56170721 -0.58909238\n",
      " -0.53418171 -0.57575301 -0.45033765 -0.49839694 -0.42857143 -0.48318426]\n",
      "\n",
      "\n",
      "\n",
      "\n",
      "[ 0.0371718   0.49377076  0.86029915  0.78509504  0.69358109  0.6949699\n",
      "  0.81534016  0.76059382  0.75435969  0.77625976 -0.76063274 -0.76798543\n",
      " -0.77804084 -0.71596386 -0.84707372 -0.74464784 -0.86256781 -0.56654741]\n",
      "\n",
      "\n",
      "\n",
      "\n",
      "[-0.54373573  0.41337209  0.82349203  0.96924987  0.67776274  0.6790296\n",
      "  1.04885737  0.91401988  1.21985664  0.96873584 -0.71362483 -0.72386927\n",
      " -0.69488014 -0.69337349 -0.74366911 -0.69996897 -0.8926311  -0.46583184]\n",
      "\n",
      "\n",
      "\n",
      "\n",
      "[-0.09367865  0.46777409  0.90199433  0.90903171  0.71847703  0.71990621\n",
      "  0.9811885   0.88987539  0.98245426  0.89111584 -0.81107297 -0.8270768\n",
      " -0.85528263 -0.76611446 -0.91404052 -0.86730789 -1.02396022 -0.65080501]\n",
      "\n",
      "\n",
      "\n",
      "\n",
      "[-0.03988299  0.40797342  0.79763418  0.68769588  0.62163453  0.62306947\n",
      "  0.73936675  0.7072162   0.62009201  0.68015122 -0.5858827  -0.61742386\n",
      " -0.52678307 -0.62048193 -0.51814856 -0.57689523 -0.39059675 -0.64955277]\n",
      "\n",
      "\n",
      "\n",
      "\n",
      "[-0.659746    0.58147841  0.03680712  0.32512516  0.06226232  0.06396411\n",
      "  0.48166333  0.24591604  1.57355301  0.29364506 -0.63871064 -0.68218152\n",
      " -0.60698431 -0.67575301 -0.62816545 -0.56551867 -0.73169078 -0.36028623]\n",
      "\n",
      "\n",
      "\n",
      "\n",
      "[ 1.59681792  0.50440199  0.05059146 -0.05152835  0.0462642   0.04626519\n",
      " -0.04847346 -0.00655776  0.03541243 -0.0681765  -0.61199821 -0.62106648\n",
      " -0.69221663 -0.54216867 -0.59862127 -0.57110353 -0.71677215 -0.38193202]\n",
      "\n",
      "\n",
      "\n",
      "\n",
      "[-0.22367295  0.635299   -0.38141558 -0.57006797 -0.43776858 -0.43670101\n",
      " -0.56155665 -0.55170358  0.05777255 -0.57573479 -0.5839427  -0.58818173\n",
      " -0.69310447 -0.49216867 -0.58708497 -0.48815803 -0.74367089 -0.21735242]\n",
      "\n",
      "\n",
      "\n",
      "\n",
      "[ 0.85252568  0.59069767 -0.42203539 -0.66758924 -0.49043652 -0.4904967\n",
      " -0.700491   -0.62535064 -0.30758532 -0.66684265 -0.57125802 -0.6159061\n",
      " -0.51553714 -0.62424699 -0.52447946 -0.54359293 -0.46835443 -0.5313059 ]\n",
      "\n",
      "\n",
      "\n",
      "\n",
      "[ 0.78660103  0.59269103 -0.04692541 -0.23765721 -0.03287253 -0.03312065\n",
      " -0.22678871 -0.25385774  0.33379694 -0.24491341 -0.47694374 -0.52180512\n",
      " -0.44539805 -0.52003012 -0.33202026 -0.28327645 -0.33679928 -0.18497317]\n",
      "\n",
      "\n",
      "\n",
      "\n",
      "[ 3.35409532  0.44750831 -0.02033434 -0.18165167  0.01002129  0.00962731\n",
      " -0.21143238 -0.15295765 -0.09190114 -0.18598118 -0.47843605 -0.50258019\n",
      " -0.46877774 -0.47876506 -0.34060214 -0.38390733 -0.21360759 -0.45652952]\n",
      "\n",
      "\n",
      "\n",
      "\n",
      "[ 0.64176655  0.52292359  0.42086225  0.15491066  0.37063043  0.37118121\n",
      "  0.10799943  0.19537018 -0.15074355  0.14211074 -0.49917923 -0.5175554\n",
      " -0.3651968  -0.55406627 -0.31344963 -0.39197435 -0.19077758 -0.48801431]\n",
      "\n",
      "\n",
      "\n",
      "\n",
      "[-0.0565782   0.50739203  0.63378629  0.40941837  0.56368631  0.56458413\n",
      "  0.39310178  0.4164817   0.24767305  0.37634542 -0.70123862 -0.73722554\n",
      " -0.69192069 -0.71415663 -0.70343275 -0.63253697 -0.76514467 -0.44955277]\n",
      "\n",
      "\n",
      "\n",
      "\n",
      "[ 1.40903253  0.43488372  1.11007919  0.60655704  0.83817078  0.83998828\n",
      "  0.53874442  0.67312862 -0.27099604  0.58167184 -0.74093419 -0.77122331\n",
      " -0.77567328 -0.72243976 -0.75056275 -0.77050367 -0.8130651  -0.65152057]\n",
      "\n",
      "\n",
      "\n",
      "\n",
      "[ 0.10609304  0.46287375  1.16106169  0.75869999  0.86760551  0.8695015\n",
      "  0.74773191  0.79681054  0.2147213   0.73607507 -0.88524101 -0.91783871\n",
      " -0.90500148 -0.8751506  -1.03489026 -0.92336333 -1.15574141 -0.64382826]\n",
      "\n",
      "\n",
      "\n",
      "\n",
      "[ 0.79016838  0.47832226  1.30838792  0.77143962  0.93586712  0.93804252\n",
      "  0.74284213  0.85410579 -0.09928319  0.75245177 -0.7480973  -0.76950319\n",
      " -0.73068955 -0.74292169 -0.78953292 -0.78901644 -0.65732369 -0.80644007]\n",
      "\n",
      "\n",
      "\n",
      "\n",
      "[ 0.86750856  0.45033223  1.11350083  0.65147137  0.83468804  0.83644849\n",
      "  0.62130488  0.73783328 -0.15887451  0.63145941 -0.80570064 -0.83223717\n",
      " -0.78839893 -0.80692771 -0.85368599 -0.85562106 -0.87861664 -0.74633274]\n",
      "\n",
      "\n",
      "\n",
      "\n",
      "[ 0.13206336  0.5173588   0.20221918  0.21516952  0.21330068  0.21346921\n",
      "  0.29645794  0.15987736  1.02524874  0.19315346 -0.52648858 -0.55023778\n",
      " -0.43060077 -0.56987952 -0.37675858 -0.34967422 -0.30515371 -0.3236136 ]\n",
      "\n",
      "\n",
      "\n",
      "\n",
      "[-0.97495719  0.6198505  -0.12195718  0.00877122 -0.08879851 -0.08838185\n",
      "  0.17128367 -0.06617377  1.49834171 -0.01508171 -0.59573198 -0.68309218\n",
      " -0.48801421 -0.7378012  -0.43415869 -0.43727376 -0.5653255  -0.26958855]\n",
      "\n",
      "\n",
      "\n",
      "\n",
      "[ 1.38677226  0.51777409  0.18750611 -0.02265049  0.20413322  0.20420265\n",
      " -0.04233093  0.0325546  -0.12881138 -0.04444821 -0.52544396 -0.57209349\n",
      " -0.40100621 -0.61716867 -0.39701745 -0.38473472 -0.31283906 -0.37871199]\n",
      "\n",
      "\n",
      "\n",
      "\n",
      "[ 0.21839326  0.52774086 -0.36997751 -0.57594937 -0.3980654  -0.39864271\n",
      " -0.57127559 -0.57018454  0.09896223 -0.57244749 -0.5811073  -0.5864616\n",
      " -0.50991418 -0.58328313 -0.48677546 -0.42569035 -0.50971971 -0.29391771]\n",
      "\n",
      "\n",
      "\n",
      "\n",
      "[ 0.57712614  0.59609635 -0.12146837 -0.28354837 -0.10223513 -0.10278899\n",
      " -0.26378533 -0.28702979  0.30469669 -0.29499983 -0.50828235 -0.55782657\n",
      " -0.34980764 -0.62168675 -0.3766179  -0.44110042 -0.34267631 -0.45313059]\n",
      "\n",
      "\n",
      "\n",
      "\n",
      "[ 0.92201769  0.55249169 -0.00425262 -0.18386992 -0.05462277 -0.05287128\n",
      " -0.13665111 -0.234589    0.71413288 -0.19329292 -0.38203253 -0.42304968\n",
      " -0.26427937 -0.46490964 -0.19822735 -0.25142207 -0.11686257 -0.30357782]\n",
      "\n",
      "\n",
      "\n",
      "\n",
      "[-0.30286815  0.53280731  0.40126112  0.16455696  0.34753203  0.34829662\n",
      "  0.17877998  0.14435591  0.48004707  0.15522007 -0.52648858 -0.59425276\n",
      " -0.4249778  -0.6373494  -0.3754924  -0.44740925 -0.30266727 -0.49660107]\n",
      "\n",
      "\n",
      "\n",
      "\n",
      "[-0.04330765  0.48629568  0.72284681  0.49312141  0.59004275  0.59109869\n",
      "  0.5024954   0.48976681  0.45854285  0.48345146 -0.46261752 -0.51290094\n",
      " -0.43711157 -0.50993976 -0.27082161 -0.34346882 -0.22965642 -0.37298748]\n",
      "\n",
      "\n",
      "\n",
      "\n",
      "[-0.06999144  0.42973422  0.70285463  0.67212748  0.59235708  0.59337587\n",
      "  0.71861551  0.63446338  0.87610998  0.65219925 -0.79943292 -0.8139229\n",
      " -0.85735425 -0.74563253 -0.91699494 -0.80308201 -0.99706148 -0.56153846]\n",
      "\n",
      "\n",
      "\n",
      "\n"
     ]
    }
   ],
   "source": [
    "count = 0\n",
    "for k in X_train:\n",
    "    print(k)\n",
    "    #for j in k:\n",
    "    #    print(j)\n",
    "    count += 1\n",
    "    print('\\n\\n\\n')\n",
    "    if count == 30:\n",
    "        break"
   ]
  },
  {
   "cell_type": "code",
   "execution_count": 21,
   "id": "contained-numbers",
   "metadata": {
    "ExecuteTime": {
     "end_time": "2021-09-01T05:06:31.617348Z",
     "start_time": "2021-09-01T05:06:31.597394Z"
    },
    "scrolled": true
   },
   "outputs": [
    {
     "name": "stdout",
     "output_type": "stream",
     "text": [
      "[1.] \n",
      "\n",
      "[1.] \n",
      "\n",
      "[1.] \n",
      "\n",
      "[1.0481] \n",
      "\n",
      "[2.0391] \n",
      "\n",
      "[3.] \n",
      "\n",
      "[5.] \n",
      "\n",
      "[5.] \n",
      "\n",
      "[4.7207] \n",
      "\n",
      "[5.] \n",
      "\n"
     ]
    }
   ],
   "source": [
    "count = 0\n",
    "for k in y_target_train:\n",
    "    print(k, '\\n')\n",
    "    count += 1\n",
    "    if count == 10:\n",
    "        break"
   ]
  },
  {
   "cell_type": "markdown",
   "id": "powered-absence",
   "metadata": {},
   "source": [
    "# Fusing Past Drought values"
   ]
  },
  {
   "cell_type": "markdown",
   "id": "present-lease",
   "metadata": {},
   "source": [
    "## For X_train"
   ]
  },
  {
   "cell_type": "code",
   "execution_count": 27,
   "id": "wooden-hartford",
   "metadata": {
    "ExecuteTime": {
     "end_time": "2021-09-01T05:10:10.585087Z",
     "start_time": "2021-09-01T05:10:10.557158Z"
    }
   },
   "outputs": [],
   "source": [
    "y_past_train_trimmed = np.delete(y_past_train, np.s_[1::], 1)"
   ]
  },
  {
   "cell_type": "code",
   "execution_count": 35,
   "id": "contemporary-geology",
   "metadata": {
    "ExecuteTime": {
     "end_time": "2021-09-01T05:19:07.885551Z",
     "start_time": "2021-09-01T05:19:07.879568Z"
    }
   },
   "outputs": [
    {
     "data": {
      "text/plain": [
       "(640248, 1)"
      ]
     },
     "execution_count": 35,
     "metadata": {},
     "output_type": "execute_result"
    }
   ],
   "source": [
    "y_past_train_trimmed.shape"
   ]
  },
  {
   "cell_type": "code",
   "execution_count": 36,
   "id": "celtic-entry",
   "metadata": {
    "ExecuteTime": {
     "end_time": "2021-09-01T05:19:12.900571Z",
     "start_time": "2021-09-01T05:19:12.846594Z"
    }
   },
   "outputs": [],
   "source": [
    "X_train_concatenatedWithPastDroughtValues = np.concatenate((X_train, y_past_train_trimmed), axis=1)"
   ]
  },
  {
   "cell_type": "code",
   "execution_count": 37,
   "id": "convinced-angel",
   "metadata": {
    "ExecuteTime": {
     "end_time": "2021-09-01T05:19:13.999474Z",
     "start_time": "2021-09-01T05:19:13.984484Z"
    }
   },
   "outputs": [
    {
     "data": {
      "text/plain": [
       "(640248, 19)"
      ]
     },
     "execution_count": 37,
     "metadata": {},
     "output_type": "execute_result"
    }
   ],
   "source": [
    "X_train_concatenatedWithPastDroughtValues.shape"
   ]
  },
  {
   "cell_type": "markdown",
   "id": "short-tunnel",
   "metadata": {},
   "source": [
    "## For X_valid"
   ]
  },
  {
   "cell_type": "code",
   "execution_count": 39,
   "id": "perfect-plumbing",
   "metadata": {
    "ExecuteTime": {
     "end_time": "2021-09-01T05:20:33.686199Z",
     "start_time": "2021-09-01T05:20:33.669261Z"
    }
   },
   "outputs": [],
   "source": [
    "y_past_valid_trimmed = np.delete(y_past_valid, np.s_[1::], 1)"
   ]
  },
  {
   "cell_type": "code",
   "execution_count": 40,
   "id": "requested-allocation",
   "metadata": {
    "ExecuteTime": {
     "end_time": "2021-09-01T05:20:26.905660Z",
     "start_time": "2021-09-01T05:20:26.896685Z"
    }
   },
   "outputs": [
    {
     "data": {
      "text/plain": [
       "(74592, 1)"
      ]
     },
     "execution_count": 40,
     "metadata": {},
     "output_type": "execute_result"
    }
   ],
   "source": [
    "y_past_valid_trimmed.shape"
   ]
  },
  {
   "cell_type": "code",
   "execution_count": 41,
   "id": "precious-flood",
   "metadata": {
    "ExecuteTime": {
     "end_time": "2021-09-01T05:20:34.655501Z",
     "start_time": "2021-09-01T05:20:34.643537Z"
    }
   },
   "outputs": [],
   "source": [
    "X_valid_concatenatedWithPastDroughtValues = np.concatenate((X_valid, y_past_valid_trimmed), axis=1)"
   ]
  },
  {
   "cell_type": "code",
   "execution_count": 42,
   "id": "selected-detective",
   "metadata": {
    "ExecuteTime": {
     "end_time": "2021-09-01T05:20:35.852997Z",
     "start_time": "2021-09-01T05:20:35.838038Z"
    }
   },
   "outputs": [
    {
     "data": {
      "text/plain": [
       "(74592, 19)"
      ]
     },
     "execution_count": 42,
     "metadata": {},
     "output_type": "execute_result"
    }
   ],
   "source": [
    "X_valid_concatenatedWithPastDroughtValues.shape"
   ]
  },
  {
   "cell_type": "markdown",
   "id": "representative-religion",
   "metadata": {},
   "source": [
    "## For X_test"
   ]
  },
  {
   "cell_type": "code",
   "execution_count": 43,
   "id": "fewer-spencer",
   "metadata": {
    "ExecuteTime": {
     "end_time": "2021-09-01T05:20:33.686199Z",
     "start_time": "2021-09-01T05:20:33.669261Z"
    }
   },
   "outputs": [],
   "source": [
    "y_past_test_trimmed = np.delete(y_past_test, np.s_[1::], 1)"
   ]
  },
  {
   "cell_type": "code",
   "execution_count": 44,
   "id": "honest-opera",
   "metadata": {
    "ExecuteTime": {
     "end_time": "2021-09-01T05:20:34.217086Z",
     "start_time": "2021-09-01T05:20:34.205120Z"
    }
   },
   "outputs": [
    {
     "data": {
      "text/plain": [
       "(74592, 1)"
      ]
     },
     "execution_count": 44,
     "metadata": {},
     "output_type": "execute_result"
    }
   ],
   "source": [
    "y_past_test_trimmed.shape"
   ]
  },
  {
   "cell_type": "code",
   "execution_count": 45,
   "id": "civil-keeping",
   "metadata": {
    "ExecuteTime": {
     "end_time": "2021-09-01T05:20:34.655501Z",
     "start_time": "2021-09-01T05:20:34.643537Z"
    }
   },
   "outputs": [],
   "source": [
    "X_test_concatenatedWithPastDroughtValues = np.concatenate((X_test, y_past_test_trimmed), axis=1)"
   ]
  },
  {
   "cell_type": "code",
   "execution_count": 46,
   "id": "overall-patrick",
   "metadata": {
    "ExecuteTime": {
     "end_time": "2021-09-01T05:20:35.852997Z",
     "start_time": "2021-09-01T05:20:35.838038Z"
    }
   },
   "outputs": [
    {
     "data": {
      "text/plain": [
       "(74592, 19)"
      ]
     },
     "execution_count": 46,
     "metadata": {},
     "output_type": "execute_result"
    }
   ],
   "source": [
    "X_test_concatenatedWithPastDroughtValues.shape"
   ]
  },
  {
   "cell_type": "markdown",
   "id": "adequate-chocolate",
   "metadata": {},
   "source": [
    "# Saving Feature and Response matrices for Training, Validation and Testing datasets respectively to file for future ease of use."
   ]
  },
  {
   "cell_type": "code",
   "execution_count": 51,
   "id": "arbitrary-object",
   "metadata": {
    "ExecuteTime": {
     "end_time": "2021-09-01T05:24:26.804162Z",
     "start_time": "2021-09-01T05:24:09.223768Z"
    }
   },
   "outputs": [],
   "source": [
    "#30-Day Window + Scaled\n",
    "\n",
    "# Training Files\n",
    "\n",
    "np.savetxt('R:\\Ryerson\\Misc\\Datasets\\Preprocessed Data Files\\X_train_30_day_window_scaled_+_pastDroughtValues.csv', X_train_concatenatedWithPastDroughtValues, delimiter=',', newline='\\n')\n",
    "\n",
    "np.savetxt('R:\\Ryerson\\Misc\\Datasets\\Preprocessed Data Files\\y_target_train_30_day_window.csv', y_target_train, delimiter=',', newline='\\n')\n",
    "\n",
    "\n",
    "\n",
    "# Validation Files\n",
    "\n",
    "np.savetxt('R:\\Ryerson\\Misc\\Datasets\\Preprocessed Data Files\\X_valid_30_day_window_scaled_+_pastDroughtValues.csv', X_valid_concatenatedWithPastDroughtValues, delimiter=',', newline='\\n')\n",
    "\n",
    "np.savetxt('R:\\Ryerson\\Misc\\Datasets\\Preprocessed Data Files\\y_target_valid_30_day_window.csv', y_target_valid, delimiter=',', newline='\\n')\n",
    "\n",
    "\n",
    "\n",
    "# Testing Files\n",
    "\n",
    "np.savetxt('R:\\Ryerson\\Misc\\Datasets\\Preprocessed Data Files\\X_test_30_day_window_scaled_+_pastDroughtValues.csv', X_test_concatenatedWithPastDroughtValues, delimiter=',', newline='\\n')\n",
    "\n",
    "np.savetxt('R:\\Ryerson\\Misc\\Datasets\\Preprocessed Data Files\\y_target_test_30_day_window.csv', y_target_test, delimiter=',', newline='\\n')\n"
   ]
  }
 ],
 "metadata": {
  "kernelspec": {
   "display_name": "Python 3",
   "language": "python",
   "name": "python3"
  },
  "language_info": {
   "codemirror_mode": {
    "name": "ipython",
    "version": 3
   },
   "file_extension": ".py",
   "mimetype": "text/x-python",
   "name": "python",
   "nbconvert_exporter": "python",
   "pygments_lexer": "ipython3",
   "version": "3.8.8"
  },
  "toc": {
   "base_numbering": 1,
   "nav_menu": {},
   "number_sections": true,
   "sideBar": true,
   "skip_h1_title": false,
   "title_cell": "Table of Contents",
   "title_sidebar": "Contents",
   "toc_cell": false,
   "toc_position": {},
   "toc_section_display": true,
   "toc_window_display": false
  },
  "varInspector": {
   "cols": {
    "lenName": 16,
    "lenType": 16,
    "lenVar": 40
   },
   "kernels_config": {
    "python": {
     "delete_cmd_postfix": "",
     "delete_cmd_prefix": "del ",
     "library": "var_list.py",
     "varRefreshCmd": "print(var_dic_list())"
    },
    "r": {
     "delete_cmd_postfix": ") ",
     "delete_cmd_prefix": "rm(",
     "library": "var_list.r",
     "varRefreshCmd": "cat(var_dic_list()) "
    }
   },
   "types_to_exclude": [
    "module",
    "function",
    "builtin_function_or_method",
    "instance",
    "_Feature"
   ],
   "window_display": false
  }
 },
 "nbformat": 4,
 "nbformat_minor": 5
}

{
 "cells": [
  {
   "cell_type": "markdown",
   "id": "palestinian-tennis",
   "metadata": {
    "papermill": {
     "duration": 0.011532,
     "end_time": "2021-07-20T10:31:26.909904",
     "exception": false,
     "start_time": "2021-07-20T10:31:26.898372",
     "status": "completed"
    },
    "tags": []
   },
   "source": [
    "# Loading the unprocessed dataset into Pandas dataframes."
   ]
  },
  {
   "cell_type": "code",
   "execution_count": 1,
   "id": "moved-submission",
   "metadata": {
    "ExecuteTime": {
     "end_time": "2021-09-01T05:26:32.113758Z",
     "start_time": "2021-09-01T05:26:31.181751Z"
    }
   },
   "outputs": [],
   "source": [
    "import os\n",
    "import numpy as np\n",
    "import pandas as pd\n",
    "from tqdm.auto import tqdm\n",
    "\n",
    "import matplotlib.pyplot as plt\n",
    "%matplotlib inline\n",
    "import seaborn as sns\n",
    "plt.style.use('seaborn-poster')\n",
    "\n",
    "from scipy.interpolate import interp1d\n",
    "from sklearn.preprocessing import RobustScaler"
   ]
  },
  {
   "cell_type": "code",
   "execution_count": 2,
   "id": "random-terror",
   "metadata": {
    "ExecuteTime": {
     "end_time": "2021-09-01T05:26:32.129086Z",
     "start_time": "2021-09-01T05:26:32.115736Z"
    },
    "_kg_hide-input": false,
    "execution": {
     "iopub.execute_input": "2021-07-20T10:31:26.967510Z",
     "iopub.status.busy": "2021-07-20T10:31:26.966624Z",
     "iopub.status.idle": "2021-07-20T10:31:28.207788Z",
     "shell.execute_reply": "2021-07-20T10:31:28.206923Z",
     "shell.execute_reply.started": "2021-07-20T09:24:06.446705Z"
    },
    "papermill": {
     "duration": 1.261359,
     "end_time": "2021-07-20T10:31:28.208055",
     "exception": false,
     "start_time": "2021-07-20T10:31:26.946696",
     "status": "completed"
    },
    "tags": []
   },
   "outputs": [],
   "source": [
    "datasetsFolder = {}\n",
    "\n",
    "for dirname, _, filenames in os.walk(r'R:\\Ryerson\\Misc\\Datasets\\Predict Droughts using Weather & Soil Data\\\\'):\n",
    "    for filename in filenames:\n",
    "        if 'train' in filename:\n",
    "            datasetsFolder['train'] = os.path.join(dirname, filename)\n",
    "        if 'valid' in filename:\n",
    "            datasetsFolder['valid'] = os.path.join(dirname, filename)\n",
    "        if 'test' in filename:\n",
    "            datasetsFolder['test'] = os.path.join(dirname, filename)"
   ]
  },
  {
   "cell_type": "code",
   "execution_count": 3,
   "id": "fundamental-municipality",
   "metadata": {
    "ExecuteTime": {
     "end_time": "2021-09-01T05:27:14.426501Z",
     "start_time": "2021-09-01T05:26:32.130084Z"
    },
    "execution": {
     "iopub.execute_input": "2021-07-20T10:31:28.319477Z",
     "iopub.status.busy": "2021-07-20T10:31:28.318683Z",
     "iopub.status.idle": "2021-07-20T10:33:12.463143Z",
     "shell.execute_reply": "2021-07-20T10:33:12.463639Z",
     "shell.execute_reply.started": "2021-07-20T09:24:08.026750Z"
    },
    "papermill": {
     "duration": 104.162458,
     "end_time": "2021-07-20T10:33:12.463859",
     "exception": false,
     "start_time": "2021-07-20T10:31:28.301401",
     "status": "completed"
    },
    "tags": []
   },
   "outputs": [],
   "source": [
    "allDatasets = { k: pd.read_csv(datasetsFolder[k]).set_index(['fips', 'date'])\n",
    "    for k in datasetsFolder.keys()}"
   ]
  },
  {
   "cell_type": "markdown",
   "id": "diverse-container",
   "metadata": {},
   "source": [
    "# Pre-processing data to create feature and response matrices."
   ]
  },
  {
   "cell_type": "code",
   "execution_count": 4,
   "id": "deluxe-string",
   "metadata": {
    "ExecuteTime": {
     "end_time": "2021-09-01T05:27:14.442358Z",
     "start_time": "2021-09-01T05:27:14.427498Z"
    },
    "execution": {
     "iopub.execute_input": "2021-07-20T10:33:12.516498Z",
     "iopub.status.busy": "2021-07-20T10:33:12.515473Z",
     "iopub.status.idle": "2021-07-20T10:33:12.522123Z",
     "shell.execute_reply": "2021-07-20T10:33:12.522688Z",
     "shell.execute_reply.started": "2021-07-20T09:25:34.787083Z"
    },
    "papermill": {
     "duration": 0.022417,
     "end_time": "2021-07-20T10:33:12.522880",
     "exception": false,
     "start_time": "2021-07-20T10:33:12.500463",
     "status": "completed"
    },
    "tags": []
   },
   "outputs": [],
   "source": [
    "def interpolate_NaN_values(sourceArray, interpolationKind='linear'):\n",
    "    allIndexes = np.arange(sourceArray.shape[0])\n",
    "    allGoodIndexes, = np.where(np.isfinite(sourceArray))\n",
    "    f = interp1d(allGoodIndexes,\n",
    "                 sourceArray[allGoodIndexes],\n",
    "                 bounds_error=False,\n",
    "                 copy=False,\n",
    "                 fill_value='extrapolate',\n",
    "                 kind=interpolationKind)\n",
    "    return f(allIndexes)"
   ]
  },
  {
   "cell_type": "code",
   "execution_count": 5,
   "id": "binding-postage",
   "metadata": {
    "ExecuteTime": {
     "end_time": "2021-09-01T05:27:14.457950Z",
     "start_time": "2021-09-01T05:27:14.443358Z"
    },
    "execution": {
     "iopub.execute_input": "2021-07-20T10:33:12.573078Z",
     "iopub.status.busy": "2021-07-20T10:33:12.572063Z",
     "iopub.status.idle": "2021-07-20T10:33:12.595617Z",
     "shell.execute_reply": "2021-07-20T10:33:12.596428Z",
     "shell.execute_reply.started": "2021-07-20T09:25:34.796541Z"
    },
    "papermill": {
     "duration": 0.039205,
     "end_time": "2021-07-20T10:33:12.596660",
     "exception": false,
     "start_time": "2021-07-20T10:33:12.557455",
     "status": "completed"
    },
    "tags": []
   },
   "outputs": [],
   "source": [
    "def loadXYMatrices(\n",
    "    df,\n",
    "    randomState = 42, # random state is kept at 42 as per convention\n",
    "    windowSize = 90, # decides number of days per each output sample for which the corresponding drought score is returned\n",
    "    targetSize = 1, # decides how many weeks' worth of drought scores are returned starting the first day of the week following windowSize \n",
    "    ):\n",
    "        rawDF = allDatasets[df]\n",
    "\n",
    "        soilDF = pd.read_csv(r'R:\\Ryerson\\Misc\\Datasets\\Predict Droughts using Weather & Soil Data\\soil_data.csv')\n",
    "\n",
    "        timeSeriesDataColumns = sorted([c for c in rawDF.columns if c not in [\"fips\", \"date\", \"score\"]])\n",
    "        #timeSeriesDataColumns are the 18 meteorological indicators\n",
    "        print('\\ntimeSeriesDataColumns: \\n')\n",
    "        for i_1 in timeSeriesDataColumns:\n",
    "            print(i_1, '\\n')\n",
    "\n",
    "        #staticDataColumns are the 29 soil data indicators\n",
    "        staticDataColumns = sorted([c for c in soilDF.columns if c not in [\"fips\", \"lat\", \"lon\"]])\n",
    "        '''print('\\nstaticDataColumns: ')\n",
    "        for i_2 in staticDataColumns:\n",
    "            print(i_2, '\\n')'''\n",
    "\n",
    "        count = 0\n",
    "        scoreDF = rawDF.dropna(subset=[\"score\"])\n",
    "\n",
    "        X_static = np.empty((len(rawDF) // windowSize, len(staticDataColumns)))\n",
    "        # the shape of this uninitialized array will be (19300680/windowSize, 28)\n",
    "        '''print('X_static Shape: ', X_static.shape)'''\n",
    "\n",
    "        X_time = np.empty((len(rawDF) // windowSize, windowSize, len(timeSeriesDataColumns))) \n",
    "        # the shape of this uninitialized array will be (19300680/windowSize, windowSize, 18)\n",
    "        print('X_time Shape: ', X_time.shape)\n",
    "\n",
    "        y_past = np.empty((len(rawDF) // windowSize, windowSize))\n",
    "        # the shape of this uninitialized array will be (19300680/windowSize, windowSize)\n",
    "        print('y_past Shape: ', y_past.shape)\n",
    "\n",
    "        y_target = np.empty((len(rawDF) // windowSize, targetSize))\n",
    "        # the shape of this uninitialized array will be (19300680/windowSize, targetSize)\n",
    "        print('y_target Shape: ', y_target.shape)\n",
    "\n",
    "        if randomState is not None:\n",
    "            np.random.seed(randomState)\n",
    "            \n",
    "        for uniqueFIPScode in tqdm(scoreDF.index.get_level_values(0).unique()): #for every unique FIPS county code\n",
    "            \n",
    "            startingPoint = 1\n",
    "            \n",
    "            fipsDF = rawDF[(rawDF.index.get_level_values(0) == uniqueFIPScode)] #store the df sample at [index = current unique value of fips] \n",
    "            X = fipsDF[timeSeriesDataColumns].values #individual X = current sample values of the 18 meteorological columns \n",
    "            y = fipsDF[\"score\"].values #individual y = current samples' values of the column 'score' as ndarray\n",
    "            XStat = soilDF[soilDF[\"fips\"] == uniqueFIPScode][staticDataColumns].values[0] #individual soil data sample = return as ndarray all the 28 column values minus the axis labels\n",
    "            \n",
    "            for i in range(startingPoint, len(y) - (windowSize + targetSize * 7), windowSize):\n",
    "                X_time[count, :, : len(timeSeriesDataColumns)] = X[i : i + windowSize]\n",
    "                y_past[count] = interpolate_NaN_values(y[i : i + windowSize])\n",
    "                tempY = y[i + windowSize : i + windowSize + targetSize * 7]\n",
    "                y_target[count] = np.array(tempY[~np.isnan(tempY)][:targetSize])\n",
    "                X_static[count] = XStat\n",
    "                count += 1\n",
    "        \n",
    "        print(f\"\\n\\n-----------------------------------\\nLoaded {count} samples successfully.\\n-----------------------------------\\n\\n\")\n",
    "        matrices = [X_time[:count], y_target[:count]]\n",
    "        \n",
    "        #If you wish to inculcate Soil data in the training of your model and require the Soil data array for the same then uncomment the following line of code: \n",
    "        #matrices.append(X_static[:count])\n",
    "        \n",
    "        #If you require the interpolated past drought values going back the duration of the window size then uncomment the following line of code: \n",
    "        matrices.append(y_past[:count])\n",
    "        \n",
    "        return matrices"
   ]
  },
  {
   "cell_type": "markdown",
   "id": "surrounded-morris",
   "metadata": {},
   "source": [
    "# Defining function to scale features using RobustScaler."
   ]
  },
  {
   "cell_type": "code",
   "execution_count": 6,
   "id": "senior-rapid",
   "metadata": {
    "ExecuteTime": {
     "end_time": "2021-09-01T05:27:14.489169Z",
     "start_time": "2021-09-01T05:27:14.458919Z"
    },
    "execution": {
     "iopub.execute_input": "2021-07-20T10:33:12.650140Z",
     "iopub.status.busy": "2021-07-20T10:33:12.649083Z",
     "iopub.status.idle": "2021-07-20T10:33:12.661155Z",
     "shell.execute_reply": "2021-07-20T10:33:12.661710Z",
     "shell.execute_reply.started": "2021-07-20T09:25:34.825533Z"
    },
    "papermill": {
     "duration": 0.028525,
     "end_time": "2021-07-20T10:33:12.661921",
     "exception": false,
     "start_time": "2021-07-20T10:33:12.633396",
     "status": "completed"
    },
    "tags": []
   },
   "outputs": [],
   "source": [
    "scalerDict = {}\n",
    "\n",
    "def scaleFeatures(sourceArray, fit=False):\n",
    "    for feature in tqdm(range(sourceArray.shape[-1])): #printing a progress bar for each of the meteorological indicators\n",
    "        if fit:\n",
    "            scalerDict[feature] = RobustScaler().fit(sourceArray[:, feature].reshape(-1, 1))\n",
    "        sourceArray[:, feature] = scalerDict[feature].transform(sourceArray[:, feature].reshape(-1, 1)).reshape(1, -1)\n",
    "    return sourceArray"
   ]
  },
  {
   "cell_type": "markdown",
   "id": "civil-suite",
   "metadata": {},
   "source": [
    "# Creating the Feature and Response matrices."
   ]
  },
  {
   "cell_type": "code",
   "execution_count": 7,
   "id": "unlike-spouse",
   "metadata": {
    "ExecuteTime": {
     "end_time": "2021-09-01T05:27:14.504208Z",
     "start_time": "2021-09-01T05:27:14.491163Z"
    }
   },
   "outputs": [],
   "source": [
    "# There are 3108 counties in the training dataset.\n",
    "\n",
    "# For each county, there are 6210 observations i.e. there is one observation for every day of 2001-2017. \n",
    "\n",
    "# Meaning there are a total of 3108 x 6210 = 19,300,680 observations in the training dataset."
   ]
  },
  {
   "cell_type": "code",
   "execution_count": 8,
   "id": "worldwide-pontiac",
   "metadata": {
    "ExecuteTime": {
     "end_time": "2021-09-01T05:36:36.286735Z",
     "start_time": "2021-09-01T05:27:14.505210Z"
    },
    "execution": {
     "iopub.execute_input": "2021-07-20T10:33:12.690376Z",
     "iopub.status.busy": "2021-07-20T10:33:12.689263Z",
     "iopub.status.idle": "2021-07-20T10:48:37.067746Z",
     "shell.execute_reply": "2021-07-20T10:48:37.066915Z",
     "shell.execute_reply.started": "2021-07-20T09:59:42.374341Z"
    },
    "papermill": {
     "duration": 924.394256,
     "end_time": "2021-07-20T10:48:37.068067",
     "exception": false,
     "start_time": "2021-07-20T10:33:12.673811",
     "status": "completed"
    },
    "scrolled": true,
    "tags": []
   },
   "outputs": [
    {
     "name": "stdout",
     "output_type": "stream",
     "text": [
      "\n",
      "timeSeriesDataColumns: \n",
      "\n",
      "PRECTOT \n",
      "\n",
      "PS \n",
      "\n",
      "QV2M \n",
      "\n",
      "T2M \n",
      "\n",
      "T2MDEW \n",
      "\n",
      "T2MWET \n",
      "\n",
      "T2M_MAX \n",
      "\n",
      "T2M_MIN \n",
      "\n",
      "T2M_RANGE \n",
      "\n",
      "TS \n",
      "\n",
      "WS10M \n",
      "\n",
      "WS10M_MAX \n",
      "\n",
      "WS10M_MIN \n",
      "\n",
      "WS10M_RANGE \n",
      "\n",
      "WS50M \n",
      "\n",
      "WS50M_MAX \n",
      "\n",
      "WS50M_MIN \n",
      "\n",
      "WS50M_RANGE \n",
      "\n",
      "X_time Shape:  (214452, 90, 18)\n",
      "y_past Shape:  (214452, 90)\n",
      "y_target Shape:  (214452, 1)\n"
     ]
    },
    {
     "data": {
      "application/vnd.jupyter.widget-view+json": {
       "model_id": "4767ce4d190c47a19c880421e051a987",
       "version_major": 2,
       "version_minor": 0
      },
      "text/plain": [
       "  0%|          | 0/3108 [00:00<?, ?it/s]"
      ]
     },
     "metadata": {},
     "output_type": "display_data"
    },
    {
     "name": "stdout",
     "output_type": "stream",
     "text": [
      "\n",
      "\n",
      "-----------------------------------\n",
      "Loaded 211344 samples successfully.\n",
      "-----------------------------------\n",
      "\n",
      "\n",
      "\n",
      "timeSeriesDataColumns: \n",
      "\n",
      "PRECTOT \n",
      "\n",
      "PS \n",
      "\n",
      "QV2M \n",
      "\n",
      "T2M \n",
      "\n",
      "T2MDEW \n",
      "\n",
      "T2MWET \n",
      "\n",
      "T2M_MAX \n",
      "\n",
      "T2M_MIN \n",
      "\n",
      "T2M_RANGE \n",
      "\n",
      "TS \n",
      "\n",
      "WS10M \n",
      "\n",
      "WS10M_MAX \n",
      "\n",
      "WS10M_MIN \n",
      "\n",
      "WS10M_RANGE \n",
      "\n",
      "WS50M \n",
      "\n",
      "WS50M_MAX \n",
      "\n",
      "WS50M_MIN \n",
      "\n",
      "WS50M_RANGE \n",
      "\n",
      "X_time Shape:  (25209, 90, 18)\n",
      "y_past Shape:  (25209, 90)\n",
      "y_target Shape:  (25209, 1)\n"
     ]
    },
    {
     "data": {
      "application/vnd.jupyter.widget-view+json": {
       "model_id": "5b914fd32b0c4911918fcbc162cbc58c",
       "version_major": 2,
       "version_minor": 0
      },
      "text/plain": [
       "  0%|          | 0/3108 [00:00<?, ?it/s]"
      ]
     },
     "metadata": {},
     "output_type": "display_data"
    },
    {
     "name": "stdout",
     "output_type": "stream",
     "text": [
      "\n",
      "\n",
      "-----------------------------------\n",
      "Loaded 24864 samples successfully.\n",
      "-----------------------------------\n",
      "\n",
      "\n",
      "\n",
      "timeSeriesDataColumns: \n",
      "\n",
      "PRECTOT \n",
      "\n",
      "PS \n",
      "\n",
      "QV2M \n",
      "\n",
      "T2M \n",
      "\n",
      "T2MDEW \n",
      "\n",
      "T2MWET \n",
      "\n",
      "T2M_MAX \n",
      "\n",
      "T2M_MIN \n",
      "\n",
      "T2M_RANGE \n",
      "\n",
      "TS \n",
      "\n",
      "WS10M \n",
      "\n",
      "WS10M_MAX \n",
      "\n",
      "WS10M_MIN \n",
      "\n",
      "WS10M_RANGE \n",
      "\n",
      "WS50M \n",
      "\n",
      "WS50M_MAX \n",
      "\n",
      "WS50M_MIN \n",
      "\n",
      "WS50M_RANGE \n",
      "\n",
      "X_time Shape:  (25243, 90, 18)\n",
      "y_past Shape:  (25243, 90)\n",
      "y_target Shape:  (25243, 1)\n"
     ]
    },
    {
     "data": {
      "application/vnd.jupyter.widget-view+json": {
       "model_id": "f1a192d263f940adae86a46dc5126e24",
       "version_major": 2,
       "version_minor": 0
      },
      "text/plain": [
       "  0%|          | 0/3108 [00:00<?, ?it/s]"
      ]
     },
     "metadata": {},
     "output_type": "display_data"
    },
    {
     "name": "stdout",
     "output_type": "stream",
     "text": [
      "\n",
      "\n",
      "-----------------------------------\n",
      "Loaded 24864 samples successfully.\n",
      "-----------------------------------\n",
      "\n",
      "\n"
     ]
    }
   ],
   "source": [
    "X_train_unscaled, y_target_train, y_past_train = loadXYMatrices(\"train\")\n",
    "X_valid_unscaled, y_target_valid, y_past_valid = loadXYMatrices(\"valid\")\n",
    "X_test_unscaled, y_target_test, y_past_test = loadXYMatrices(\"test\")"
   ]
  },
  {
   "cell_type": "code",
   "execution_count": 9,
   "id": "registered-albuquerque",
   "metadata": {
    "ExecuteTime": {
     "end_time": "2021-09-01T05:36:36.302726Z",
     "start_time": "2021-09-01T05:36:36.287734Z"
    }
   },
   "outputs": [
    {
     "name": "stdout",
     "output_type": "stream",
     "text": [
      "\n",
      "X_train_unscaled.shape:  (211344, 90, 18)\n",
      "\n",
      "y_target_train.shape:  (211344, 1)\n",
      "\n",
      "y_past_train.shape:  (211344, 90)\n",
      "\n",
      "\n",
      "\n",
      "\n",
      "\n",
      "X_valid_unscaled.shape:  (24864, 90, 18)\n",
      "\n",
      "y_target_valid.shape:  (24864, 1)\n",
      "\n",
      "y_past_valid.shape:  (24864, 90)\n",
      "\n",
      "\n",
      "\n",
      "\n",
      "\n",
      "X_test_unscaled.shape:  (24864, 90, 18)\n",
      "\n",
      "y_target_test.shape:  (24864, 1)\n",
      "\n",
      "y_past_test.shape:  (24864, 90)\n"
     ]
    }
   ],
   "source": [
    "print('\\nX_train_unscaled.shape: ', X_train_unscaled.shape)\n",
    "print('\\ny_target_train.shape: ', y_target_train.shape)\n",
    "print('\\ny_past_train.shape: ', y_past_train.shape)\n",
    "\n",
    "\n",
    "print('\\n\\n\\n')\n",
    "\n",
    "print('\\nX_valid_unscaled.shape: ', X_valid_unscaled.shape)\n",
    "print('\\ny_target_valid.shape: ', y_target_valid.shape)\n",
    "print('\\ny_past_valid.shape: ', y_past_valid.shape)\n",
    "\n",
    "print('\\n\\n\\n')\n",
    "\n",
    "print('\\nX_test_unscaled.shape: ', X_test_unscaled.shape)\n",
    "print('\\ny_target_test.shape: ', y_target_test.shape)\n",
    "print('\\ny_past_test.shape: ', y_past_test.shape)"
   ]
  },
  {
   "cell_type": "code",
   "execution_count": 10,
   "id": "considerable-administrator",
   "metadata": {
    "ExecuteTime": {
     "end_time": "2021-09-01T05:36:39.045081Z",
     "start_time": "2021-09-01T05:36:36.303694Z"
    }
   },
   "outputs": [
    {
     "name": "stdout",
     "output_type": "stream",
     "text": [
      "211344\n"
     ]
    }
   ],
   "source": [
    "X_train = np.empty((X_train_unscaled.shape[0], X_train_unscaled.shape[-1]))\n",
    "i = 0\n",
    "for window in X_train_unscaled:\n",
    "    X_train[i] = np.mean(window, axis=0)\n",
    "    i += 1\n",
    "print(i)"
   ]
  },
  {
   "cell_type": "code",
   "execution_count": 11,
   "id": "documented-perth",
   "metadata": {
    "ExecuteTime": {
     "end_time": "2021-09-01T05:36:39.061069Z",
     "start_time": "2021-09-01T05:36:39.046081Z"
    }
   },
   "outputs": [
    {
     "data": {
      "text/plain": [
       "(211344, 18)"
      ]
     },
     "execution_count": 11,
     "metadata": {},
     "output_type": "execute_result"
    },
    {
     "name": "stdout",
     "output_type": "stream",
     "text": [
      "[  3.15733333 100.57466667   6.73355556  10.89144444   6.617\n",
      "   6.64211111  17.78066667   4.53055556  13.24944444  10.65655556\n",
      "   2.43033333   3.43577778   1.46166667   1.97433333   4.71611111\n",
      "   6.60033333   2.796        3.80455556] \n",
      "\n",
      "\n"
     ]
    }
   ],
   "source": [
    "X_train.shape\n",
    "\n",
    "count = 0\n",
    "for k in X_train:\n",
    "    print(k, '\\n\\n')\n",
    "    count += 1\n",
    "    if count == 1:\n",
    "        break"
   ]
  },
  {
   "cell_type": "code",
   "execution_count": 12,
   "id": "peaceful-firewall",
   "metadata": {
    "ExecuteTime": {
     "end_time": "2021-09-01T05:36:39.405451Z",
     "start_time": "2021-09-01T05:36:39.062038Z"
    }
   },
   "outputs": [
    {
     "name": "stdout",
     "output_type": "stream",
     "text": [
      "24864\n"
     ]
    }
   ],
   "source": [
    "X_valid = np.empty((X_valid_unscaled.shape[0], X_valid_unscaled.shape[-1]))\n",
    "i = 0\n",
    "for window in X_valid_unscaled:\n",
    "    X_valid[i] = np.mean(window, axis=0)\n",
    "    i += 1\n",
    "print(i)"
   ]
  },
  {
   "cell_type": "code",
   "execution_count": 13,
   "id": "fifteen-bahamas",
   "metadata": {
    "ExecuteTime": {
     "end_time": "2021-09-01T05:36:39.420448Z",
     "start_time": "2021-09-01T05:36:39.407480Z"
    }
   },
   "outputs": [
    {
     "data": {
      "text/plain": [
       "(24864, 18)"
      ]
     },
     "execution_count": 13,
     "metadata": {},
     "output_type": "execute_result"
    },
    {
     "name": "stdout",
     "output_type": "stream",
     "text": [
      "[  4.614      100.45155556   7.92366667  12.37833333   9.11822222\n",
      "   9.12966667  18.53855556   6.63522222  11.90355556  12.17622222\n",
      "   2.43666667   3.505        1.49811111   2.00644444   4.80222222\n",
      "   6.657        2.91522222   3.74255556] \n",
      "\n",
      "\n"
     ]
    }
   ],
   "source": [
    "X_valid.shape\n",
    "\n",
    "count = 0\n",
    "for k in X_valid:\n",
    "    print(k, '\\n\\n')\n",
    "    count += 1\n",
    "    if count == 1:\n",
    "        break"
   ]
  },
  {
   "cell_type": "code",
   "execution_count": 14,
   "id": "removable-accessory",
   "metadata": {
    "ExecuteTime": {
     "end_time": "2021-09-01T05:36:39.754929Z",
     "start_time": "2021-09-01T05:36:39.421413Z"
    }
   },
   "outputs": [
    {
     "name": "stdout",
     "output_type": "stream",
     "text": [
      "24864\n"
     ]
    }
   ],
   "source": [
    "X_test = np.empty((X_test_unscaled.shape[0], X_test_unscaled.shape[-1]))\n",
    "i = 0\n",
    "for window in X_test_unscaled:\n",
    "    X_test[i] = np.mean(window, axis=0)\n",
    "    i += 1\n",
    "print(i)"
   ]
  },
  {
   "cell_type": "code",
   "execution_count": 15,
   "id": "affiliated-grounds",
   "metadata": {
    "ExecuteTime": {
     "end_time": "2021-09-01T05:36:39.770883Z",
     "start_time": "2021-09-01T05:36:39.755941Z"
    }
   },
   "outputs": [
    {
     "data": {
      "text/plain": [
       "(24864, 18)"
      ]
     },
     "execution_count": 15,
     "metadata": {},
     "output_type": "execute_result"
    },
    {
     "name": "stdout",
     "output_type": "stream",
     "text": [
      "[  3.86077778 100.54555556   7.04644444  10.65411111   7.68711111\n",
      "   7.50855556  16.61255556   5.16277778  11.44988889  10.475\n",
      "   2.42222222   3.42911111   1.45688889   1.972        4.63233333\n",
      "   6.47244444   2.81511111   3.65744444] \n",
      "\n",
      "\n"
     ]
    }
   ],
   "source": [
    "X_test.shape\n",
    "\n",
    "count = 0\n",
    "for k in X_test:\n",
    "    print(k, '\\n\\n')\n",
    "    count += 1\n",
    "    if count == 1:\n",
    "        break"
   ]
  },
  {
   "cell_type": "markdown",
   "id": "seeing-contract",
   "metadata": {},
   "source": [
    "# Scaling Feature values"
   ]
  },
  {
   "cell_type": "code",
   "execution_count": 16,
   "id": "historical-ukraine",
   "metadata": {
    "ExecuteTime": {
     "end_time": "2021-09-01T05:36:40.166632Z",
     "start_time": "2021-09-01T05:36:39.771879Z"
    }
   },
   "outputs": [
    {
     "data": {
      "application/vnd.jupyter.widget-view+json": {
       "model_id": "bebf5a615c5646afad96f7d7794d2a00",
       "version_major": 2,
       "version_minor": 0
      },
      "text/plain": [
       "  0%|          | 0/18 [00:00<?, ?it/s]"
      ]
     },
     "metadata": {},
     "output_type": "display_data"
    },
    {
     "data": {
      "application/vnd.jupyter.widget-view+json": {
       "model_id": "31eac89be5a94a99ba9056b9cb7348e6",
       "version_major": 2,
       "version_minor": 0
      },
      "text/plain": [
       "  0%|          | 0/18 [00:00<?, ?it/s]"
      ]
     },
     "metadata": {},
     "output_type": "display_data"
    },
    {
     "data": {
      "application/vnd.jupyter.widget-view+json": {
       "model_id": "2b230d527bbf40f8bc542c7bd9131220",
       "version_major": 2,
       "version_minor": 0
      },
      "text/plain": [
       "  0%|          | 0/18 [00:00<?, ?it/s]"
      ]
     },
     "metadata": {},
     "output_type": "display_data"
    }
   ],
   "source": [
    "X_train = scaleFeatures(X_train, fit=True)\n",
    "X_valid = scaleFeatures(X_valid)\n",
    "X_test = scaleFeatures(X_test)"
   ]
  },
  {
   "cell_type": "code",
   "execution_count": 17,
   "id": "careful-hunter",
   "metadata": {
    "ExecuteTime": {
     "end_time": "2021-09-01T05:36:40.182604Z",
     "start_time": "2021-09-01T05:36:40.168611Z"
    },
    "scrolled": true
   },
   "outputs": [
    {
     "name": "stdout",
     "output_type": "stream",
     "text": [
      "[ 0.30109511  0.56100805 -0.07897985 -0.18222169 -0.05510724 -0.05489168\n",
      " -0.13169524 -0.23337662  0.71032448 -0.19853757 -0.4693514  -0.51497077\n",
      " -0.39088274 -0.54605073 -0.30388391 -0.32254715 -0.23553515 -0.37633513]\n",
      "\n",
      "\n",
      "\n",
      "\n",
      "[-0.09046542  0.46552321  0.60290003  0.55986399  0.54138068  0.54213096\n",
      "  0.60549603  0.5067838   0.92650653  0.54561923 -0.59944445 -0.6170715\n",
      " -0.65610317 -0.56479516 -0.54023806 -0.51766742 -0.63623648 -0.40960533]\n",
      "\n",
      "\n",
      "\n",
      "\n",
      "[-0.40197596  0.42922457  0.87385626  0.92711534  0.71532483  0.71667406\n",
      "  1.00562612  0.89506494  1.11769912  0.91399599 -0.7179781  -0.74144014\n",
      " -0.7316805  -0.71138359 -0.74216342 -0.7201592  -0.83678415 -0.6104386 ]\n",
      "\n",
      "\n",
      "\n",
      "\n",
      "[ 0.17807404  0.57336621 -0.13879018 -0.10141221 -0.12448069 -0.12378263\n",
      " -0.03080814 -0.11799847  0.66249473 -0.12268983 -0.6258517  -0.64881511\n",
      " -0.70308907 -0.58796186 -0.62014511 -0.5463575  -0.79667461 -0.33718658]\n",
      "\n",
      "\n",
      "\n",
      "\n",
      "[ 1.96315915  0.54324665 -0.20898473 -0.38542636 -0.19033282 -0.19089039\n",
      " -0.3921733  -0.37627196 -0.01989043 -0.3907938  -0.52301292 -0.56481975\n",
      " -0.51304609 -0.55891554 -0.41224451 -0.40782142 -0.38762042 -0.40942353]\n",
      "\n",
      "\n",
      "\n",
      "\n",
      "[ 0.71229616  0.48796741  0.74502862  0.42583476  0.62752468  0.62854722\n",
      "  0.38702054  0.45512605 -0.06257901  0.39753963 -0.66147656 -0.69382472\n",
      " -0.64920524 -0.68158348 -0.60449566 -0.60332237 -0.64915979 -0.55044315]\n",
      "\n",
      "\n",
      "\n",
      "\n",
      "[ 0.61617665  0.46338963  1.25482203  0.78900579  0.93726522  0.93926655\n",
      "  0.77044933  0.85116119 -0.01112516  0.76334383 -0.8276429  -0.85890505\n",
      " -0.84894532 -0.82651356 -0.91146204 -0.86198304 -0.97082406 -0.75624574]\n",
      "\n",
      "\n",
      "\n",
      "\n",
      "[ 0.10736817  0.55128223  0.06314874  0.07744212  0.1109099   0.11089684\n",
      "  0.16725867  0.03937357  0.94926254  0.05087244 -0.56342098 -0.62004958\n",
      " -0.47585724 -0.65962285 -0.41589605 -0.39473957 -0.44498729 -0.34136808]\n",
      "\n",
      "\n",
      "\n",
      "\n",
      "[ 0.59689323  0.55840341 -0.21128648 -0.36978511 -0.20523014 -0.2053173\n",
      " -0.33244322 -0.39766998  0.44627054 -0.37752366 -0.50457767 -0.54041981\n",
      " -0.40977707 -0.57454427 -0.36657656 -0.37684721 -0.37036307 -0.36803272]\n",
      "\n",
      "\n",
      "\n",
      "\n",
      "[-0.29306035  0.48250876  0.62361577  0.4829374   0.54073751  0.54159035\n",
      "  0.51579613  0.4492437   0.72077539  0.46595552 -0.61045577 -0.65873076\n",
      " -0.61091672 -0.64896918 -0.53568549 -0.5360443  -0.56563109 -0.49693205]\n",
      "\n",
      "\n",
      "\n",
      "\n",
      "[ 0.19979764  0.4692362   1.23182212  0.9067064   0.92952311  0.93148021\n",
      "  0.92631845  0.94821238  0.36224189  0.89037843 -0.82490253 -0.85118912\n",
      " -0.85084475 -0.81440255 -0.93033623 -0.92199342 -0.96121038 -0.86763124]\n",
      "\n",
      "\n",
      "\n",
      "\n",
      "[ 1.22199738  0.48314607  0.39990688  0.0787876   0.32162705  0.32187034\n",
      "  0.03695821  0.15731856 -0.46160978  0.06160574 -0.58569275 -0.63175884\n",
      " -0.55373388 -0.63746121 -0.52302366 -0.55393667 -0.44002285 -0.62449814]\n",
      "\n",
      "\n",
      "\n",
      "\n",
      "[ 0.92530651  0.51902908 -0.21102292 -0.3972286  -0.19193269 -0.19176988\n",
      " -0.40057815 -0.39148969  0.01495997 -0.39957624 -0.51678479 -0.52854133\n",
      " -0.49655103 -0.51353694 -0.41613316 -0.37283267 -0.46649987 -0.28682676]\n",
      "\n",
      "\n",
      "\n",
      "\n",
      "[ 1.97357457  0.40486845  0.776357    0.39727247  0.64308929  0.64410376\n",
      "  0.34834234  0.45457601 -0.2852086   0.37536556 -0.57438248 -0.60346709\n",
      " -0.58062581 -0.58178072 -0.47147532 -0.48942724 -0.481866   -0.47953943]\n",
      "\n",
      "\n",
      "\n",
      "\n",
      "[ 1.20140459  0.45610219  1.45604055  0.79444622  1.03927933  1.04163473\n",
      "  0.7203599   0.90299465 -0.5897598   0.76278644 -0.89670034 -0.92371211\n",
      " -0.94181745 -0.87606317 -1.040736   -0.94282748 -1.13457182 -0.7712749 ]\n",
      "\n",
      "\n",
      "\n",
      "\n",
      "[-0.1398643   0.50027016  0.29191796  0.13757941  0.27953186  0.27981603\n",
      "  0.193868    0.12388083  0.63860093  0.11411462 -0.62749592 -0.66763116\n",
      " -0.62211337 -0.65630614 -0.53160715 -0.49970583 -0.64246173 -0.37372926]\n",
      "\n",
      "\n",
      "\n",
      "\n",
      "[ 0.35025592  0.56474875 -0.26382257 -0.41964846 -0.24422206 -0.24481381\n",
      " -0.41268316 -0.43121467  0.16342183 -0.4273099  -0.47199213 -0.50965761\n",
      " -0.4396681  -0.51388871 -0.32811685 -0.32299706 -0.3127598  -0.31773351]\n",
      "\n",
      "\n",
      "\n",
      "\n",
      "[-0.12272349  0.51484504  0.48584468  0.35115308  0.44952858  0.45005043\n",
      "  0.37753166  0.32338426  0.60893384  0.33323984 -0.63118297 -0.6507441\n",
      " -0.67349795 -0.60555046 -0.57751221 -0.52600796 -0.70329584 -0.37324445]\n",
      "\n",
      "\n",
      "\n",
      "\n",
      "[ 0.49232234  0.44255254  1.26914207  0.82752758  0.94281252  0.94485819\n",
      "  0.81080417  0.89202445 -0.00168563  0.80880674 -0.82834045 -0.84726347\n",
      " -0.88443467 -0.79123585 -0.93446199 -0.88748918 -1.05246154 -0.7382471 ]\n",
      "\n",
      "\n",
      "\n",
      "\n",
      "[ 1.12540174  0.47973787  0.53358401  0.29369944  0.47827005  0.47877516\n",
      "  0.28971797  0.35516425 -0.07867678  0.27790829 -0.5028338  -0.56228161\n",
      " -0.37828651 -0.62283754 -0.34077868 -0.42277211 -0.18533914 -0.59013711]\n",
      "\n",
      "\n",
      "\n",
      "\n",
      "[ 0.29151292  0.58386788 -0.16479467 -0.34814767 -0.14730504 -0.14727882\n",
      " -0.35720971 -0.33733384 -0.03084703 -0.35887972 -0.48883297 -0.52542789\n",
      " -0.46646006 -0.52363783 -0.35102196 -0.34573456 -0.35208132 -0.32749034]\n",
      "\n",
      "\n",
      "\n",
      "\n",
      "[ 1.34501845  0.4025132   0.394337    0.20214802  0.38649834  0.38668657\n",
      "  0.1901823   0.18743316  0.2660767   0.18413122 -0.58031166 -0.59074257\n",
      " -0.62131361 -0.54283453 -0.49324228 -0.40941339 -0.62370718 -0.23022498]\n",
      "\n",
      "\n",
      "\n",
      "\n",
      "[ 1.51589097  0.41941562  1.52386307  0.84344671  1.06935537  1.07183604\n",
      "  0.77625251  0.94613445 -0.50181205  0.81317295 -0.80392621 -0.81778725\n",
      " -0.8843347  -0.74811865 -0.92151563 -0.81225125 -1.09871752 -0.57025983]\n",
      "\n",
      "\n",
      "\n",
      "\n",
      "[-0.29782169  0.48358941  0.43441554  0.309933    0.36433325  0.36541736\n",
      "  0.37314495  0.30362872  0.6920354   0.29079969 -0.59550828 -0.65561732\n",
      " -0.49225232 -0.70439841 -0.47854128 -0.50759647 -0.43017277 -0.55092796]\n",
      "\n",
      "\n",
      "\n",
      "\n",
      "[ 0.71890251  0.5272032  -0.24706022 -0.39196366 -0.21857583 -0.21921975\n",
      " -0.39265027 -0.41058824  0.1662874  -0.40330646 -0.46282433 -0.49642546\n",
      " -0.41207638 -0.50831061 -0.29947361 -0.31655996 -0.31945785 -0.3011893 ]\n",
      "\n",
      "\n",
      "\n",
      "\n",
      "[ 0.27044399  0.45538176  0.4233812   0.26561977  0.40330105  0.403639\n",
      "  0.28318488  0.23800611  0.52958281  0.24599422 -0.53820954 -0.56312766\n",
      " -0.5063481  -0.55961908 -0.40517855 -0.3845648  -0.4460117  -0.32294523]\n",
      "\n",
      "\n",
      "\n",
      "\n",
      "[-0.01136769  0.44704138  1.14976741  0.95139256  0.88251574  0.88432646\n",
      "  0.98648937  0.94801375  0.71428571  0.93682035 -0.89784631 -0.91389798\n",
      " -1.00719784 -0.82892571 -1.07838953 -0.92708081 -1.29225193 -0.62231649]\n",
      "\n",
      "\n",
      "\n",
      "\n",
      "[ 0.57320557  0.45410715  0.34139677  0.25784668  0.31173838  0.3120426\n",
      "  0.31835083  0.2428877   0.70788032  0.24430776 -0.60686837 -0.64268975\n",
      " -0.61111667 -0.62489792 -0.531702   -0.50949991 -0.5778452  -0.44063329]\n",
      "\n",
      "\n",
      "\n",
      "\n",
      "[ 0.21574813  0.59891381 -0.21604811 -0.38003711 -0.20574468 -0.2055513\n",
      " -0.36069306 -0.38110772  0.19034977 -0.3914155  -0.51822972 -0.55730687\n",
      " -0.46106168 -0.57363971 -0.4090672  -0.42879391 -0.38659601 -0.44626922]\n",
      "\n",
      "\n",
      "\n",
      "\n",
      "[-0.61284371  0.50004849  0.21984336  0.23805197  0.24682688  0.24711341\n",
      "  0.29200889  0.18305577  0.88411294  0.21410872 -0.55838866 -0.58163913\n",
      " -0.5883235  -0.54579946 -0.45777019 -0.42633674 -0.58596166 -0.28894781]\n",
      "\n",
      "\n",
      "\n",
      "\n"
     ]
    }
   ],
   "source": [
    "count = 0\n",
    "for k in X_train:\n",
    "    print(k)\n",
    "    #for j in k:\n",
    "    #    print(j)\n",
    "    count += 1\n",
    "    print('\\n\\n\\n')\n",
    "    if count == 30:\n",
    "        break"
   ]
  },
  {
   "cell_type": "code",
   "execution_count": 18,
   "id": "contained-numbers",
   "metadata": {
    "ExecuteTime": {
     "end_time": "2021-09-01T05:36:40.198629Z",
     "start_time": "2021-09-01T05:36:40.183569Z"
    },
    "scrolled": true
   },
   "outputs": [
    {
     "name": "stdout",
     "output_type": "stream",
     "text": [
      "[1.] \n",
      "\n",
      "[3.] \n",
      "\n",
      "[4.7207] \n",
      "\n",
      "[3.] \n",
      "\n",
      "[0.] \n",
      "\n",
      "[0.] \n",
      "\n",
      "[0.] \n",
      "\n",
      "[0.5425] \n",
      "\n",
      "[1.] \n",
      "\n",
      "[2.] \n",
      "\n"
     ]
    }
   ],
   "source": [
    "count = 0\n",
    "for k in y_target_train:\n",
    "    print(k, '\\n')\n",
    "    count += 1\n",
    "    if count == 10:\n",
    "        break"
   ]
  },
  {
   "cell_type": "markdown",
   "id": "dramatic-prince",
   "metadata": {},
   "source": [
    "# Fusing Past Drought values"
   ]
  },
  {
   "cell_type": "markdown",
   "id": "registered-wagner",
   "metadata": {},
   "source": [
    "## For X_train"
   ]
  },
  {
   "cell_type": "code",
   "execution_count": 19,
   "id": "vanilla-carol",
   "metadata": {
    "ExecuteTime": {
     "end_time": "2021-09-01T05:36:40.229831Z",
     "start_time": "2021-09-01T05:36:40.199587Z"
    }
   },
   "outputs": [],
   "source": [
    "y_past_train_trimmed = np.delete(y_past_train, np.s_[1::], 1)"
   ]
  },
  {
   "cell_type": "code",
   "execution_count": 20,
   "id": "latin-anthropology",
   "metadata": {
    "ExecuteTime": {
     "end_time": "2021-09-01T05:36:40.245225Z",
     "start_time": "2021-09-01T05:36:40.230835Z"
    }
   },
   "outputs": [
    {
     "data": {
      "text/plain": [
       "(211344, 1)"
      ]
     },
     "execution_count": 20,
     "metadata": {},
     "output_type": "execute_result"
    }
   ],
   "source": [
    "y_past_train_trimmed.shape"
   ]
  },
  {
   "cell_type": "code",
   "execution_count": 21,
   "id": "turned-institution",
   "metadata": {
    "ExecuteTime": {
     "end_time": "2021-09-01T05:36:40.260383Z",
     "start_time": "2021-09-01T05:36:40.246225Z"
    }
   },
   "outputs": [],
   "source": [
    "X_train_concatenatedWithPastDroughtValues = np.concatenate((X_train, y_past_train_trimmed), axis=1)"
   ]
  },
  {
   "cell_type": "code",
   "execution_count": 22,
   "id": "bearing-insulin",
   "metadata": {
    "ExecuteTime": {
     "end_time": "2021-09-01T05:36:40.276375Z",
     "start_time": "2021-09-01T05:36:40.264375Z"
    }
   },
   "outputs": [
    {
     "data": {
      "text/plain": [
       "(211344, 19)"
      ]
     },
     "execution_count": 22,
     "metadata": {},
     "output_type": "execute_result"
    }
   ],
   "source": [
    "X_train_concatenatedWithPastDroughtValues.shape"
   ]
  },
  {
   "cell_type": "markdown",
   "id": "literary-potter",
   "metadata": {},
   "source": [
    "## For X_valid"
   ]
  },
  {
   "cell_type": "code",
   "execution_count": 23,
   "id": "compound-graph",
   "metadata": {
    "ExecuteTime": {
     "end_time": "2021-09-01T05:36:40.291404Z",
     "start_time": "2021-09-01T05:36:40.278337Z"
    }
   },
   "outputs": [],
   "source": [
    "y_past_valid_trimmed = np.delete(y_past_valid, np.s_[1::], 1)"
   ]
  },
  {
   "cell_type": "code",
   "execution_count": 24,
   "id": "dedicated-dominican",
   "metadata": {
    "ExecuteTime": {
     "end_time": "2021-09-01T05:36:40.307367Z",
     "start_time": "2021-09-01T05:36:40.292405Z"
    }
   },
   "outputs": [
    {
     "data": {
      "text/plain": [
       "(24864, 1)"
      ]
     },
     "execution_count": 24,
     "metadata": {},
     "output_type": "execute_result"
    }
   ],
   "source": [
    "y_past_valid_trimmed.shape"
   ]
  },
  {
   "cell_type": "code",
   "execution_count": 25,
   "id": "premier-purpose",
   "metadata": {
    "ExecuteTime": {
     "end_time": "2021-09-01T05:36:40.322524Z",
     "start_time": "2021-09-01T05:36:40.308338Z"
    }
   },
   "outputs": [],
   "source": [
    "X_valid_concatenatedWithPastDroughtValues = np.concatenate((X_valid, y_past_valid_trimmed), axis=1)"
   ]
  },
  {
   "cell_type": "code",
   "execution_count": 26,
   "id": "ordered-relation",
   "metadata": {
    "ExecuteTime": {
     "end_time": "2021-09-01T05:36:40.337620Z",
     "start_time": "2021-09-01T05:36:40.324553Z"
    }
   },
   "outputs": [
    {
     "data": {
      "text/plain": [
       "(24864, 19)"
      ]
     },
     "execution_count": 26,
     "metadata": {},
     "output_type": "execute_result"
    }
   ],
   "source": [
    "X_valid_concatenatedWithPastDroughtValues.shape"
   ]
  },
  {
   "cell_type": "markdown",
   "id": "surprised-colon",
   "metadata": {},
   "source": [
    "## For X_test"
   ]
  },
  {
   "cell_type": "code",
   "execution_count": 27,
   "id": "professional-symposium",
   "metadata": {
    "ExecuteTime": {
     "end_time": "2021-09-01T05:36:40.353771Z",
     "start_time": "2021-09-01T05:36:40.338435Z"
    }
   },
   "outputs": [],
   "source": [
    "y_past_test_trimmed = np.delete(y_past_test, np.s_[1::], 1)"
   ]
  },
  {
   "cell_type": "code",
   "execution_count": 28,
   "id": "earlier-subscription",
   "metadata": {
    "ExecuteTime": {
     "end_time": "2021-09-01T05:36:40.369787Z",
     "start_time": "2021-09-01T05:36:40.354523Z"
    }
   },
   "outputs": [
    {
     "data": {
      "text/plain": [
       "(24864, 1)"
      ]
     },
     "execution_count": 28,
     "metadata": {},
     "output_type": "execute_result"
    }
   ],
   "source": [
    "y_past_test_trimmed.shape"
   ]
  },
  {
   "cell_type": "code",
   "execution_count": 29,
   "id": "protected-house",
   "metadata": {
    "ExecuteTime": {
     "end_time": "2021-09-01T05:36:40.385675Z",
     "start_time": "2021-09-01T05:36:40.370528Z"
    }
   },
   "outputs": [],
   "source": [
    "X_test_concatenatedWithPastDroughtValues = np.concatenate((X_test, y_past_test_trimmed), axis=1)"
   ]
  },
  {
   "cell_type": "code",
   "execution_count": 30,
   "id": "administrative-going",
   "metadata": {
    "ExecuteTime": {
     "end_time": "2021-09-01T05:36:40.401423Z",
     "start_time": "2021-09-01T05:36:40.387118Z"
    }
   },
   "outputs": [
    {
     "data": {
      "text/plain": [
       "(24864, 19)"
      ]
     },
     "execution_count": 30,
     "metadata": {},
     "output_type": "execute_result"
    }
   ],
   "source": [
    "X_test_concatenatedWithPastDroughtValues.shape"
   ]
  },
  {
   "cell_type": "markdown",
   "id": "adequate-chocolate",
   "metadata": {},
   "source": [
    "# Saving Feature and Response matrices for Training, Validation and Testing datasets respectively to file for future ease of use."
   ]
  },
  {
   "cell_type": "code",
   "execution_count": 31,
   "id": "arbitrary-object",
   "metadata": {
    "ExecuteTime": {
     "end_time": "2021-09-01T05:36:46.043062Z",
     "start_time": "2021-09-01T05:36:40.402456Z"
    }
   },
   "outputs": [],
   "source": [
    "#30-Day Window + Scaled\n",
    "\n",
    "# Training Files\n",
    "\n",
    "np.savetxt('R:\\Ryerson\\Misc\\Datasets\\Preprocessed Data Files\\X_train_90_day_window_scaled_+_pastDroughtValues.csv', X_train_concatenatedWithPastDroughtValues, delimiter=',', newline='\\n')\n",
    "\n",
    "np.savetxt('R:\\Ryerson\\Misc\\Datasets\\Preprocessed Data Files\\y_target_train_90_day_window.csv', y_target_train, delimiter=',', newline='\\n')\n",
    "\n",
    "\n",
    "\n",
    "# Validation Files\n",
    "\n",
    "np.savetxt('R:\\Ryerson\\Misc\\Datasets\\Preprocessed Data Files\\X_valid_90_day_window_scaled_+_pastDroughtValues.csv', X_valid_concatenatedWithPastDroughtValues, delimiter=',', newline='\\n')\n",
    "\n",
    "np.savetxt('R:\\Ryerson\\Misc\\Datasets\\Preprocessed Data Files\\y_target_valid_90_day_window.csv', y_target_valid, delimiter=',', newline='\\n')\n",
    "\n",
    "\n",
    "\n",
    "# Testing Files\n",
    "\n",
    "np.savetxt('R:\\Ryerson\\Misc\\Datasets\\Preprocessed Data Files\\X_test_90_day_window_scaled_+_pastDroughtValues.csv', X_test_concatenatedWithPastDroughtValues, delimiter=',', newline='\\n')\n",
    "\n",
    "np.savetxt('R:\\Ryerson\\Misc\\Datasets\\Preprocessed Data Files\\y_target_test_90_day_window.csv', y_target_test, delimiter=',', newline='\\n')\n"
   ]
  }
 ],
 "metadata": {
  "kernelspec": {
   "display_name": "Python 3",
   "language": "python",
   "name": "python3"
  },
  "language_info": {
   "codemirror_mode": {
    "name": "ipython",
    "version": 3
   },
   "file_extension": ".py",
   "mimetype": "text/x-python",
   "name": "python",
   "nbconvert_exporter": "python",
   "pygments_lexer": "ipython3",
   "version": "3.8.8"
  },
  "toc": {
   "base_numbering": 1,
   "nav_menu": {},
   "number_sections": true,
   "sideBar": true,
   "skip_h1_title": false,
   "title_cell": "Table of Contents",
   "title_sidebar": "Contents",
   "toc_cell": false,
   "toc_position": {},
   "toc_section_display": true,
   "toc_window_display": false
  },
  "varInspector": {
   "cols": {
    "lenName": 16,
    "lenType": 16,
    "lenVar": 40
   },
   "kernels_config": {
    "python": {
     "delete_cmd_postfix": "",
     "delete_cmd_prefix": "del ",
     "library": "var_list.py",
     "varRefreshCmd": "print(var_dic_list())"
    },
    "r": {
     "delete_cmd_postfix": ") ",
     "delete_cmd_prefix": "rm(",
     "library": "var_list.r",
     "varRefreshCmd": "cat(var_dic_list()) "
    }
   },
   "types_to_exclude": [
    "module",
    "function",
    "builtin_function_or_method",
    "instance",
    "_Feature"
   ],
   "window_display": false
  }
 },
 "nbformat": 4,
 "nbformat_minor": 5
}

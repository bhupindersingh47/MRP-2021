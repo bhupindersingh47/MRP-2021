{
 "cells": [
  {
   "cell_type": "markdown",
   "id": "curious-relationship",
   "metadata": {},
   "source": [
    "# Importing required libraries"
   ]
  },
  {
   "cell_type": "code",
   "execution_count": 1,
   "id": "funky-soccer",
   "metadata": {
    "ExecuteTime": {
     "end_time": "2021-09-01T08:26:16.724912Z",
     "start_time": "2021-09-01T08:26:15.445316Z"
    }
   },
   "outputs": [],
   "source": [
    "from sklearn.tree import DecisionTreeRegressor\n",
    "\n",
    "import pandas as pd\n",
    "import numpy as np"
   ]
  },
  {
   "cell_type": "markdown",
   "id": "incomplete-reggae",
   "metadata": {},
   "source": [
    "# Initializing Feature and Response matrices stored as .CSV files earlier"
   ]
  },
  {
   "cell_type": "markdown",
   "id": "residential-protest",
   "metadata": {},
   "source": [
    "## Training Dataset"
   ]
  },
  {
   "cell_type": "code",
   "execution_count": 2,
   "id": "meaningful-optimization",
   "metadata": {
    "ExecuteTime": {
     "end_time": "2021-09-01T08:26:33.209506Z",
     "start_time": "2021-09-01T08:26:16.726946Z"
    }
   },
   "outputs": [],
   "source": [
    "X_train = np.loadtxt(r'R:\\Ryerson\\Misc\\Datasets\\Preprocessed Data Files\\New + pastDroughtValues\\30_Day_Window_Scaled + pastDroughtValues\\X_train_30_day_window_scaled_+_pastDroughtValues.csv', delimiter=',')\n",
    "\n",
    "y_target_train = np.loadtxt(r'R:\\Ryerson\\Misc\\Datasets\\Preprocessed Data Files\\New + pastDroughtValues\\30_Day_Window_Scaled + pastDroughtValues\\y_target_train_30_day_window.csv', delimiter=',')"
   ]
  },
  {
   "cell_type": "code",
   "execution_count": 3,
   "id": "apart-stupid",
   "metadata": {
    "ExecuteTime": {
     "end_time": "2021-09-01T08:26:33.225594Z",
     "start_time": "2021-09-01T08:26:33.210506Z"
    }
   },
   "outputs": [
    {
     "data": {
      "text/plain": [
       "(640248, 19)"
      ]
     },
     "execution_count": 3,
     "metadata": {},
     "output_type": "execute_result"
    },
    {
     "data": {
      "text/plain": [
       "(640248,)"
      ]
     },
     "execution_count": 3,
     "metadata": {},
     "output_type": "execute_result"
    }
   ],
   "source": [
    "X_train.shape\n",
    "\n",
    "y_target_train.shape"
   ]
  },
  {
   "cell_type": "markdown",
   "id": "sealed-average",
   "metadata": {},
   "source": [
    "## Validation Dataset"
   ]
  },
  {
   "cell_type": "code",
   "execution_count": 4,
   "id": "altered-mainland",
   "metadata": {
    "ExecuteTime": {
     "end_time": "2021-09-01T08:26:34.835762Z",
     "start_time": "2021-09-01T08:26:33.226463Z"
    }
   },
   "outputs": [],
   "source": [
    "X_valid = np.loadtxt(r'R:\\Ryerson\\Misc\\Datasets\\Preprocessed Data Files\\New + pastDroughtValues\\30_Day_Window_Scaled + pastDroughtValues\\X_valid_30_day_window_scaled_+_pastDroughtValues.csv', delimiter=',')\n",
    "\n",
    "y_target_valid = np.loadtxt(r'R:\\Ryerson\\Misc\\Datasets\\Preprocessed Data Files\\New + pastDroughtValues\\30_Day_Window_Scaled + pastDroughtValues\\y_target_valid_30_day_window.csv', delimiter=',')"
   ]
  },
  {
   "cell_type": "code",
   "execution_count": 5,
   "id": "floating-template",
   "metadata": {
    "ExecuteTime": {
     "end_time": "2021-09-01T08:26:34.851126Z",
     "start_time": "2021-09-01T08:26:34.836759Z"
    }
   },
   "outputs": [
    {
     "data": {
      "text/plain": [
       "(74592, 19)"
      ]
     },
     "execution_count": 5,
     "metadata": {},
     "output_type": "execute_result"
    },
    {
     "data": {
      "text/plain": [
       "(74592,)"
      ]
     },
     "execution_count": 5,
     "metadata": {},
     "output_type": "execute_result"
    }
   ],
   "source": [
    "X_valid.shape\n",
    "\n",
    "y_target_valid.shape"
   ]
  },
  {
   "cell_type": "markdown",
   "id": "processed-physics",
   "metadata": {},
   "source": [
    "## Testing Dataset"
   ]
  },
  {
   "cell_type": "code",
   "execution_count": 6,
   "id": "median-lying",
   "metadata": {
    "ExecuteTime": {
     "end_time": "2021-09-01T08:26:36.505918Z",
     "start_time": "2021-09-01T08:26:34.852159Z"
    }
   },
   "outputs": [],
   "source": [
    "X_test = np.loadtxt(r'R:\\Ryerson\\Misc\\Datasets\\Preprocessed Data Files\\New + pastDroughtValues\\30_Day_Window_Scaled + pastDroughtValues\\X_test_30_day_window_scaled_+_pastDroughtValues.csv', delimiter=',')\n",
    "\n",
    "y_target_test = np.loadtxt(r'R:\\Ryerson\\Misc\\Datasets\\Preprocessed Data Files\\New + pastDroughtValues\\30_Day_Window_Scaled + pastDroughtValues\\y_target_test_30_day_window.csv', delimiter=',')"
   ]
  },
  {
   "cell_type": "code",
   "execution_count": 7,
   "id": "unsigned-xerox",
   "metadata": {
    "ExecuteTime": {
     "end_time": "2021-09-01T08:26:36.521997Z",
     "start_time": "2021-09-01T08:26:36.507915Z"
    }
   },
   "outputs": [
    {
     "data": {
      "text/plain": [
       "(74592, 19)"
      ]
     },
     "execution_count": 7,
     "metadata": {},
     "output_type": "execute_result"
    },
    {
     "data": {
      "text/plain": [
       "(74592,)"
      ]
     },
     "execution_count": 7,
     "metadata": {},
     "output_type": "execute_result"
    }
   ],
   "source": [
    "X_test.shape\n",
    "\n",
    "y_target_test.shape"
   ]
  },
  {
   "cell_type": "markdown",
   "id": "hourly-yugoslavia",
   "metadata": {
    "ExecuteTime": {
     "end_time": "2021-09-01T06:41:53.410901Z",
     "start_time": "2021-09-01T06:41:53.398933Z"
    }
   },
   "source": [
    "##### _Concatenating X_valid & X_test into a single test set_"
   ]
  },
  {
   "cell_type": "code",
   "execution_count": 8,
   "id": "mighty-microwave",
   "metadata": {
    "ExecuteTime": {
     "end_time": "2021-09-01T08:26:36.537268Z",
     "start_time": "2021-09-01T08:26:36.523873Z"
    }
   },
   "outputs": [],
   "source": [
    "X_Test = np.concatenate((X_valid, X_test), axis=0)"
   ]
  },
  {
   "cell_type": "code",
   "execution_count": 9,
   "id": "hired-banana",
   "metadata": {
    "ExecuteTime": {
     "end_time": "2021-09-01T08:26:36.553122Z",
     "start_time": "2021-09-01T08:26:36.538124Z"
    }
   },
   "outputs": [
    {
     "data": {
      "text/plain": [
       "(149184, 19)"
      ]
     },
     "execution_count": 9,
     "metadata": {},
     "output_type": "execute_result"
    }
   ],
   "source": [
    "X_Test.shape"
   ]
  },
  {
   "cell_type": "markdown",
   "id": "threatened-variance",
   "metadata": {
    "ExecuteTime": {
     "end_time": "2021-09-01T06:41:53.410901Z",
     "start_time": "2021-09-01T06:41:53.398933Z"
    }
   },
   "source": [
    "##### _Concatenating y_target_valid & y_target_test into a single array_"
   ]
  },
  {
   "cell_type": "code",
   "execution_count": 10,
   "id": "headed-yahoo",
   "metadata": {
    "ExecuteTime": {
     "end_time": "2021-09-01T08:26:36.568440Z",
     "start_time": "2021-09-01T08:26:36.554130Z"
    }
   },
   "outputs": [],
   "source": [
    "y_Target = np.concatenate((y_target_valid, y_target_test), axis=0)"
   ]
  },
  {
   "cell_type": "code",
   "execution_count": 11,
   "id": "chinese-sculpture",
   "metadata": {
    "ExecuteTime": {
     "end_time": "2021-09-01T08:26:36.583434Z",
     "start_time": "2021-09-01T08:26:36.569469Z"
    }
   },
   "outputs": [
    {
     "data": {
      "text/plain": [
       "(149184,)"
      ]
     },
     "execution_count": 11,
     "metadata": {},
     "output_type": "execute_result"
    }
   ],
   "source": [
    "y_Target.shape"
   ]
  },
  {
   "cell_type": "markdown",
   "id": "divine-eligibility",
   "metadata": {},
   "source": [
    "# Training a Decision Tree Regressor and making predictions"
   ]
  },
  {
   "cell_type": "code",
   "execution_count": 12,
   "id": "extreme-spyware",
   "metadata": {
    "ExecuteTime": {
     "end_time": "2021-09-01T08:27:00.686837Z",
     "start_time": "2021-09-01T08:26:36.584399Z"
    }
   },
   "outputs": [
    {
     "data": {
      "text/plain": [
       "DecisionTreeRegressor(random_state=42)"
      ]
     },
     "execution_count": 12,
     "metadata": {},
     "output_type": "execute_result"
    }
   ],
   "source": [
    "dt = DecisionTreeRegressor(random_state = 42)\n",
    "\n",
    "dt.fit(X_train, y_target_train)"
   ]
  },
  {
   "cell_type": "code",
   "execution_count": 13,
   "id": "olympic-victoria",
   "metadata": {
    "ExecuteTime": {
     "end_time": "2021-09-01T08:27:00.750364Z",
     "start_time": "2021-09-01T08:27:00.687827Z"
    }
   },
   "outputs": [],
   "source": [
    "yPredicted = dt.predict(X_Test)"
   ]
  },
  {
   "cell_type": "markdown",
   "id": "taken-indie",
   "metadata": {},
   "source": [
    "# Printing Metrics"
   ]
  },
  {
   "cell_type": "code",
   "execution_count": 14,
   "id": "close-custody",
   "metadata": {
    "ExecuteTime": {
     "end_time": "2021-09-01T08:27:00.781316Z",
     "start_time": "2021-09-01T08:27:00.751109Z"
    }
   },
   "outputs": [
    {
     "name": "stdout",
     "output_type": "stream",
     "text": [
      "Testing Metrics:\n",
      "Mean Absolute Error: 0.29950486750515404\n",
      "Mean Squared Error: 0.34185871645719185\n",
      "Root Mean Squared Error: 0.584686853330218\n",
      "R^2 Score: 0.5614121366328637\n"
     ]
    }
   ],
   "source": [
    "from sklearn import metrics\n",
    "print('Testing Metrics:')\n",
    "print('Mean Absolute Error:', metrics.mean_absolute_error(y_Target, yPredicted))\n",
    "print('Mean Squared Error:', metrics.mean_squared_error(y_Target, yPredicted))\n",
    "print('Root Mean Squared Error:', np.sqrt(metrics.mean_squared_error(y_Target, yPredicted)))\n",
    "print('R^2 Score:', metrics.r2_score(y_Target, yPredicted))"
   ]
  },
  {
   "cell_type": "code",
   "execution_count": 15,
   "id": "expensive-trust",
   "metadata": {
    "ExecuteTime": {
     "end_time": "2021-09-01T08:27:00.796275Z",
     "start_time": "2021-09-01T08:27:00.782313Z"
    },
    "scrolled": true
   },
   "outputs": [
    {
     "data": {
      "text/plain": [
       "array([0.09562494, 0.01947657, 0.00973246, 0.00800912, 0.00472248,\n",
       "       0.0058242 , 0.0181628 , 0.00753833, 0.01487108, 0.00682723,\n",
       "       0.00484517, 0.00531691, 0.00678784, 0.00955447, 0.00678123,\n",
       "       0.00748639, 0.00816989, 0.00993179, 0.7503371 ])"
      ]
     },
     "execution_count": 15,
     "metadata": {},
     "output_type": "execute_result"
    }
   ],
   "source": [
    "dt.feature_importances_"
   ]
  }
 ],
 "metadata": {
  "kernelspec": {
   "display_name": "Python 3",
   "language": "python",
   "name": "python3"
  },
  "language_info": {
   "codemirror_mode": {
    "name": "ipython",
    "version": 3
   },
   "file_extension": ".py",
   "mimetype": "text/x-python",
   "name": "python",
   "nbconvert_exporter": "python",
   "pygments_lexer": "ipython3",
   "version": "3.8.8"
  },
  "toc": {
   "base_numbering": 1,
   "nav_menu": {},
   "number_sections": true,
   "sideBar": true,
   "skip_h1_title": false,
   "title_cell": "Table of Contents",
   "title_sidebar": "Contents",
   "toc_cell": false,
   "toc_position": {},
   "toc_section_display": true,
   "toc_window_display": false
  },
  "varInspector": {
   "cols": {
    "lenName": 16,
    "lenType": 16,
    "lenVar": 40
   },
   "kernels_config": {
    "python": {
     "delete_cmd_postfix": "",
     "delete_cmd_prefix": "del ",
     "library": "var_list.py",
     "varRefreshCmd": "print(var_dic_list())"
    },
    "r": {
     "delete_cmd_postfix": ") ",
     "delete_cmd_prefix": "rm(",
     "library": "var_list.r",
     "varRefreshCmd": "cat(var_dic_list()) "
    }
   },
   "types_to_exclude": [
    "module",
    "function",
    "builtin_function_or_method",
    "instance",
    "_Feature"
   ],
   "window_display": false
  }
 },
 "nbformat": 4,
 "nbformat_minor": 5
}

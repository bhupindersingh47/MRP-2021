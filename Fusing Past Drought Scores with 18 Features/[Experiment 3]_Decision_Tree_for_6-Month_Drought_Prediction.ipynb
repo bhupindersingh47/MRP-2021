{
 "cells": [
  {
   "cell_type": "markdown",
   "id": "curious-relationship",
   "metadata": {},
   "source": [
    "# Importing required libraries"
   ]
  },
  {
   "cell_type": "code",
   "execution_count": 1,
   "id": "funky-soccer",
   "metadata": {
    "ExecuteTime": {
     "end_time": "2021-09-01T08:28:14.073957Z",
     "start_time": "2021-09-01T08:28:12.769709Z"
    }
   },
   "outputs": [],
   "source": [
    "from sklearn.tree import DecisionTreeRegressor\n",
    "\n",
    "import pandas as pd\n",
    "import numpy as np"
   ]
  },
  {
   "cell_type": "markdown",
   "id": "incomplete-reggae",
   "metadata": {},
   "source": [
    "# Initializing Feature and Response matrices stored as .CSV files earlier"
   ]
  },
  {
   "cell_type": "markdown",
   "id": "residential-protest",
   "metadata": {},
   "source": [
    "## Training Dataset"
   ]
  },
  {
   "cell_type": "code",
   "execution_count": 2,
   "id": "meaningful-optimization",
   "metadata": {
    "ExecuteTime": {
     "end_time": "2021-09-01T08:28:17.101292Z",
     "start_time": "2021-09-01T08:28:14.076941Z"
    }
   },
   "outputs": [],
   "source": [
    "X_train = np.loadtxt(r'R:\\Ryerson\\Misc\\Datasets\\Preprocessed Data Files\\New + pastDroughtValues\\180_Day_Window_Scaled + pastDroughtValues\\X_train_180_day_window_scaled_+_pastDroughtValues.csv', delimiter=',')\n",
    "\n",
    "y_target_train = np.loadtxt(r'R:\\Ryerson\\Misc\\Datasets\\Preprocessed Data Files\\New + pastDroughtValues\\180_Day_Window_Scaled + pastDroughtValues\\y_target_train_180_day_window.csv', delimiter=',')"
   ]
  },
  {
   "cell_type": "code",
   "execution_count": 3,
   "id": "apart-stupid",
   "metadata": {
    "ExecuteTime": {
     "end_time": "2021-09-01T08:28:17.116962Z",
     "start_time": "2021-09-01T08:28:17.101966Z"
    }
   },
   "outputs": [
    {
     "data": {
      "text/plain": [
       "(105672, 19)"
      ]
     },
     "execution_count": 3,
     "metadata": {},
     "output_type": "execute_result"
    },
    {
     "data": {
      "text/plain": [
       "(105672,)"
      ]
     },
     "execution_count": 3,
     "metadata": {},
     "output_type": "execute_result"
    }
   ],
   "source": [
    "X_train.shape\n",
    "\n",
    "y_target_train.shape"
   ]
  },
  {
   "cell_type": "markdown",
   "id": "sealed-average",
   "metadata": {},
   "source": [
    "## Validation Dataset"
   ]
  },
  {
   "cell_type": "code",
   "execution_count": 4,
   "id": "altered-mainland",
   "metadata": {
    "ExecuteTime": {
     "end_time": "2021-09-01T08:28:17.460230Z",
     "start_time": "2021-09-01T08:28:17.117926Z"
    }
   },
   "outputs": [],
   "source": [
    "X_valid = np.loadtxt(r'R:\\Ryerson\\Misc\\Datasets\\Preprocessed Data Files\\New + pastDroughtValues\\180_Day_Window_Scaled + pastDroughtValues\\X_valid_180_day_window_scaled_+_pastDroughtValues.csv', delimiter=',')\n",
    "\n",
    "y_target_valid = np.loadtxt(r'R:\\Ryerson\\Misc\\Datasets\\Preprocessed Data Files\\New + pastDroughtValues\\180_Day_Window_Scaled + pastDroughtValues\\y_target_valid_180_day_window.csv', delimiter=',')"
   ]
  },
  {
   "cell_type": "code",
   "execution_count": 5,
   "id": "floating-template",
   "metadata": {
    "ExecuteTime": {
     "end_time": "2021-09-01T08:28:17.476225Z",
     "start_time": "2021-09-01T08:28:17.461280Z"
    }
   },
   "outputs": [
    {
     "data": {
      "text/plain": [
       "(12432, 19)"
      ]
     },
     "execution_count": 5,
     "metadata": {},
     "output_type": "execute_result"
    },
    {
     "data": {
      "text/plain": [
       "(12432,)"
      ]
     },
     "execution_count": 5,
     "metadata": {},
     "output_type": "execute_result"
    }
   ],
   "source": [
    "X_valid.shape\n",
    "\n",
    "y_target_valid.shape"
   ]
  },
  {
   "cell_type": "markdown",
   "id": "processed-physics",
   "metadata": {},
   "source": [
    "## Testing Dataset"
   ]
  },
  {
   "cell_type": "code",
   "execution_count": 6,
   "id": "median-lying",
   "metadata": {
    "ExecuteTime": {
     "end_time": "2021-09-01T08:28:17.836644Z",
     "start_time": "2021-09-01T08:28:17.477221Z"
    }
   },
   "outputs": [],
   "source": [
    "X_test = np.loadtxt(r'R:\\Ryerson\\Misc\\Datasets\\Preprocessed Data Files\\New + pastDroughtValues\\180_Day_Window_Scaled + pastDroughtValues\\X_test_180_day_window_scaled_+_pastDroughtValues.csv', delimiter=',')\n",
    "\n",
    "y_target_test = np.loadtxt(r'R:\\Ryerson\\Misc\\Datasets\\Preprocessed Data Files\\New + pastDroughtValues\\180_Day_Window_Scaled + pastDroughtValues\\y_target_test_180_day_window.csv', delimiter=',')"
   ]
  },
  {
   "cell_type": "code",
   "execution_count": 7,
   "id": "unsigned-xerox",
   "metadata": {
    "ExecuteTime": {
     "end_time": "2021-09-01T08:28:17.852581Z",
     "start_time": "2021-09-01T08:28:17.839583Z"
    }
   },
   "outputs": [
    {
     "data": {
      "text/plain": [
       "(12432, 19)"
      ]
     },
     "execution_count": 7,
     "metadata": {},
     "output_type": "execute_result"
    },
    {
     "data": {
      "text/plain": [
       "(12432,)"
      ]
     },
     "execution_count": 7,
     "metadata": {},
     "output_type": "execute_result"
    }
   ],
   "source": [
    "X_test.shape\n",
    "\n",
    "y_target_test.shape"
   ]
  },
  {
   "cell_type": "markdown",
   "id": "personal-elephant",
   "metadata": {
    "ExecuteTime": {
     "end_time": "2021-09-01T06:41:53.410901Z",
     "start_time": "2021-09-01T06:41:53.398933Z"
    }
   },
   "source": [
    "##### _Concatenating X_valid & X_test into a single test set_"
   ]
  },
  {
   "cell_type": "code",
   "execution_count": 8,
   "id": "renewable-heavy",
   "metadata": {
    "ExecuteTime": {
     "end_time": "2021-09-01T08:28:17.868552Z",
     "start_time": "2021-09-01T08:28:17.855544Z"
    }
   },
   "outputs": [],
   "source": [
    "X_Test = np.concatenate((X_valid, X_test), axis=0)"
   ]
  },
  {
   "cell_type": "code",
   "execution_count": 9,
   "id": "respected-mills",
   "metadata": {
    "ExecuteTime": {
     "end_time": "2021-09-01T08:28:17.884467Z",
     "start_time": "2021-09-01T08:28:17.869506Z"
    }
   },
   "outputs": [
    {
     "data": {
      "text/plain": [
       "(24864, 19)"
      ]
     },
     "execution_count": 9,
     "metadata": {},
     "output_type": "execute_result"
    }
   ],
   "source": [
    "X_Test.shape"
   ]
  },
  {
   "cell_type": "markdown",
   "id": "present-raleigh",
   "metadata": {
    "ExecuteTime": {
     "end_time": "2021-09-01T06:41:53.410901Z",
     "start_time": "2021-09-01T06:41:53.398933Z"
    }
   },
   "source": [
    "##### _Concatenating y_target_valid & y_target_test into a single array_"
   ]
  },
  {
   "cell_type": "code",
   "execution_count": 10,
   "id": "described-police",
   "metadata": {
    "ExecuteTime": {
     "end_time": "2021-09-01T08:28:17.900425Z",
     "start_time": "2021-09-01T08:28:17.886462Z"
    }
   },
   "outputs": [],
   "source": [
    "y_Target = np.concatenate((y_target_valid, y_target_test), axis=0)"
   ]
  },
  {
   "cell_type": "code",
   "execution_count": 11,
   "id": "dirty-raleigh",
   "metadata": {
    "ExecuteTime": {
     "end_time": "2021-09-01T08:28:17.916379Z",
     "start_time": "2021-09-01T08:28:17.903415Z"
    }
   },
   "outputs": [
    {
     "data": {
      "text/plain": [
       "(24864,)"
      ]
     },
     "execution_count": 11,
     "metadata": {},
     "output_type": "execute_result"
    }
   ],
   "source": [
    "y_Target.shape"
   ]
  },
  {
   "cell_type": "markdown",
   "id": "divine-eligibility",
   "metadata": {},
   "source": [
    "# Training a Decision Tree Regressor and making predictions"
   ]
  },
  {
   "cell_type": "code",
   "execution_count": 12,
   "id": "extreme-spyware",
   "metadata": {
    "ExecuteTime": {
     "end_time": "2021-09-01T08:28:20.897668Z",
     "start_time": "2021-09-01T08:28:17.918372Z"
    }
   },
   "outputs": [
    {
     "data": {
      "text/plain": [
       "DecisionTreeRegressor(random_state=42)"
      ]
     },
     "execution_count": 12,
     "metadata": {},
     "output_type": "execute_result"
    }
   ],
   "source": [
    "dt = DecisionTreeRegressor(random_state = 42)\n",
    "\n",
    "dt.fit(X_train, y_target_train)"
   ]
  },
  {
   "cell_type": "code",
   "execution_count": 13,
   "id": "olympic-victoria",
   "metadata": {
    "ExecuteTime": {
     "end_time": "2021-09-01T08:28:20.912754Z",
     "start_time": "2021-09-01T08:28:20.898687Z"
    }
   },
   "outputs": [],
   "source": [
    "yPredicted = dt.predict(X_Test)"
   ]
  },
  {
   "cell_type": "markdown",
   "id": "taken-indie",
   "metadata": {},
   "source": [
    "# Printing Metrics"
   ]
  },
  {
   "cell_type": "code",
   "execution_count": 14,
   "id": "close-custody",
   "metadata": {
    "ExecuteTime": {
     "end_time": "2021-09-01T08:28:20.928831Z",
     "start_time": "2021-09-01T08:28:20.914748Z"
    }
   },
   "outputs": [
    {
     "name": "stdout",
     "output_type": "stream",
     "text": [
      "Testing Metrics:\n",
      "Mean Absolute Error: 0.5304595899024025\n",
      "Mean Squared Error: 0.8881975449159045\n",
      "Root Mean Squared Error: 0.9424423297559934\n",
      "R^2 Score: -0.09910951759237907\n"
     ]
    }
   ],
   "source": [
    "from sklearn import metrics\n",
    "print('Testing Metrics:')\n",
    "print('Mean Absolute Error:', metrics.mean_absolute_error(y_Target, yPredicted))\n",
    "print('Mean Squared Error:', metrics.mean_squared_error(y_Target, yPredicted))\n",
    "print('Root Mean Squared Error:', np.sqrt(metrics.mean_squared_error(y_Target, yPredicted)))\n",
    "print('R^2 Score:', metrics.r2_score(y_Target, yPredicted))"
   ]
  },
  {
   "cell_type": "code",
   "execution_count": 15,
   "id": "expensive-trust",
   "metadata": {
    "ExecuteTime": {
     "end_time": "2021-09-01T08:28:20.943671Z",
     "start_time": "2021-09-01T08:28:20.929710Z"
    },
    "scrolled": true
   },
   "outputs": [
    {
     "data": {
      "text/plain": [
       "array([0.17538872, 0.07111878, 0.03036426, 0.01748665, 0.01901577,\n",
       "       0.01994883, 0.04029172, 0.01835388, 0.23775226, 0.03959237,\n",
       "       0.01324475, 0.01461359, 0.01284404, 0.03712934, 0.02430858,\n",
       "       0.02350341, 0.01832776, 0.02908027, 0.15763501])"
      ]
     },
     "execution_count": 15,
     "metadata": {},
     "output_type": "execute_result"
    }
   ],
   "source": [
    "dt.feature_importances_"
   ]
  }
 ],
 "metadata": {
  "kernelspec": {
   "display_name": "Python 3",
   "language": "python",
   "name": "python3"
  },
  "language_info": {
   "codemirror_mode": {
    "name": "ipython",
    "version": 3
   },
   "file_extension": ".py",
   "mimetype": "text/x-python",
   "name": "python",
   "nbconvert_exporter": "python",
   "pygments_lexer": "ipython3",
   "version": "3.8.8"
  },
  "toc": {
   "base_numbering": 1,
   "nav_menu": {},
   "number_sections": true,
   "sideBar": true,
   "skip_h1_title": false,
   "title_cell": "Table of Contents",
   "title_sidebar": "Contents",
   "toc_cell": false,
   "toc_position": {},
   "toc_section_display": true,
   "toc_window_display": false
  },
  "varInspector": {
   "cols": {
    "lenName": 16,
    "lenType": 16,
    "lenVar": 40
   },
   "kernels_config": {
    "python": {
     "delete_cmd_postfix": "",
     "delete_cmd_prefix": "del ",
     "library": "var_list.py",
     "varRefreshCmd": "print(var_dic_list())"
    },
    "r": {
     "delete_cmd_postfix": ") ",
     "delete_cmd_prefix": "rm(",
     "library": "var_list.r",
     "varRefreshCmd": "cat(var_dic_list()) "
    }
   },
   "types_to_exclude": [
    "module",
    "function",
    "builtin_function_or_method",
    "instance",
    "_Feature"
   ],
   "window_display": false
  }
 },
 "nbformat": 4,
 "nbformat_minor": 5
}

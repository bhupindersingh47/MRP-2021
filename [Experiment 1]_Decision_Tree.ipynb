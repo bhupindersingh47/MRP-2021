{
 "cells": [
  {
   "cell_type": "markdown",
   "id": "curious-relationship",
   "metadata": {},
   "source": [
    "# Importing required libraries"
   ]
  },
  {
   "cell_type": "code",
   "execution_count": 1,
   "id": "funky-soccer",
   "metadata": {
    "ExecuteTime": {
     "end_time": "2021-08-25T09:45:28.994567Z",
     "start_time": "2021-08-25T09:45:27.607247Z"
    }
   },
   "outputs": [],
   "source": [
    "from sklearn.tree import DecisionTreeRegressor\n",
    "\n",
    "import pandas as pd\n",
    "import numpy as np\n"
   ]
  },
  {
   "cell_type": "markdown",
   "id": "incomplete-reggae",
   "metadata": {},
   "source": [
    "# Initializing Feature and Response matrices stored as .CSV files earlier"
   ]
  },
  {
   "cell_type": "markdown",
   "id": "residential-protest",
   "metadata": {},
   "source": [
    "## Training Dataset"
   ]
  },
  {
   "cell_type": "code",
   "execution_count": 2,
   "id": "meaningful-optimization",
   "metadata": {
    "ExecuteTime": {
     "end_time": "2021-08-25T09:45:49.478535Z",
     "start_time": "2021-08-25T09:45:29.042406Z"
    }
   },
   "outputs": [],
   "source": [
    "X_train = np.loadtxt(r'R:\\Ryerson\\Misc\\Datasets\\Preprocessed Data Files\\30_Day_Window_Scaled\\X_train_30_day_window_scaled.csv', delimiter=',')\n",
    "\n",
    "y_target_train = np.loadtxt(r'R:\\Ryerson\\Misc\\Datasets\\Preprocessed Data Files\\30_Day_Window_Scaled\\y_target_train_30_day_window_scaled.csv', delimiter=',')\n"
   ]
  },
  {
   "cell_type": "code",
   "execution_count": 3,
   "id": "apart-stupid",
   "metadata": {
    "ExecuteTime": {
     "end_time": "2021-08-25T09:45:51.837190Z",
     "start_time": "2021-08-25T09:45:51.819238Z"
    }
   },
   "outputs": [
    {
     "data": {
      "text/plain": [
       "(639476, 18)"
      ]
     },
     "execution_count": 3,
     "metadata": {},
     "output_type": "execute_result"
    },
    {
     "data": {
      "text/plain": [
       "(639476,)"
      ]
     },
     "execution_count": 3,
     "metadata": {},
     "output_type": "execute_result"
    }
   ],
   "source": [
    "X_train.shape\n",
    "\n",
    "y_target_train.shape\n"
   ]
  },
  {
   "cell_type": "markdown",
   "id": "sealed-average",
   "metadata": {},
   "source": [
    "## Validation Dataset"
   ]
  },
  {
   "cell_type": "code",
   "execution_count": 4,
   "id": "altered-mainland",
   "metadata": {
    "ExecuteTime": {
     "end_time": "2021-08-25T09:45:55.397661Z",
     "start_time": "2021-08-25T09:45:53.287342Z"
    }
   },
   "outputs": [],
   "source": [
    "X_valid = np.loadtxt(r'R:\\Ryerson\\Misc\\Datasets\\Preprocessed Data Files\\30_Day_Window_Scaled\\X_valid_30_day_window_scaled.csv', delimiter=',')\n",
    "\n",
    "y_target_valid = np.loadtxt(r'R:\\Ryerson\\Misc\\Datasets\\Preprocessed Data Files\\30_Day_Window_Scaled\\y_target_valid_30_day_window_scaled.csv', delimiter=',')\n"
   ]
  },
  {
   "cell_type": "code",
   "execution_count": 5,
   "id": "floating-template",
   "metadata": {
    "ExecuteTime": {
     "end_time": "2021-08-25T09:45:55.913282Z",
     "start_time": "2021-08-25T09:45:55.898321Z"
    }
   },
   "outputs": [
    {
     "data": {
      "text/plain": [
       "(71721, 18)"
      ]
     },
     "execution_count": 5,
     "metadata": {},
     "output_type": "execute_result"
    },
    {
     "data": {
      "text/plain": [
       "(71721,)"
      ]
     },
     "execution_count": 5,
     "metadata": {},
     "output_type": "execute_result"
    }
   ],
   "source": [
    "X_valid.shape\n",
    "\n",
    "y_target_valid.shape\n"
   ]
  },
  {
   "cell_type": "markdown",
   "id": "processed-physics",
   "metadata": {},
   "source": [
    "## Testing Dataset"
   ]
  },
  {
   "cell_type": "code",
   "execution_count": 6,
   "id": "median-lying",
   "metadata": {
    "ExecuteTime": {
     "end_time": "2021-08-25T09:45:59.418942Z",
     "start_time": "2021-08-25T09:45:56.966463Z"
    }
   },
   "outputs": [],
   "source": [
    "X_test = np.loadtxt(r'R:\\Ryerson\\Misc\\Datasets\\Preprocessed Data Files\\30_Day_Window_Scaled\\X_test_30_day_window_scaled.csv', delimiter=',')\n",
    "\n",
    "y_target_test = np.loadtxt(r'R:\\Ryerson\\Misc\\Datasets\\Preprocessed Data Files\\30_Day_Window_Scaled\\y_target_test_30_day_window_scaled.csv', delimiter=',')\n"
   ]
  },
  {
   "cell_type": "code",
   "execution_count": 7,
   "id": "unsigned-xerox",
   "metadata": {
    "ExecuteTime": {
     "end_time": "2021-08-25T09:46:00.035252Z",
     "start_time": "2021-08-25T09:46:00.015305Z"
    }
   },
   "outputs": [
    {
     "data": {
      "text/plain": [
       "(71841, 18)"
      ]
     },
     "execution_count": 7,
     "metadata": {},
     "output_type": "execute_result"
    },
    {
     "data": {
      "text/plain": [
       "(71841,)"
      ]
     },
     "execution_count": 7,
     "metadata": {},
     "output_type": "execute_result"
    }
   ],
   "source": [
    "X_test.shape\n",
    "\n",
    "y_target_test.shape\n"
   ]
  },
  {
   "cell_type": "markdown",
   "id": "about-being",
   "metadata": {},
   "source": [
    "# Training a Decision Tree Regressor and making predictions"
   ]
  },
  {
   "cell_type": "code",
   "execution_count": 8,
   "id": "extreme-spyware",
   "metadata": {
    "ExecuteTime": {
     "end_time": "2021-08-25T09:46:32.258084Z",
     "start_time": "2021-08-25T09:46:00.690499Z"
    }
   },
   "outputs": [
    {
     "data": {
      "text/plain": [
       "DecisionTreeRegressor(random_state=42)"
      ]
     },
     "execution_count": 8,
     "metadata": {},
     "output_type": "execute_result"
    }
   ],
   "source": [
    "dt = DecisionTreeRegressor(random_state = 42)\n",
    "\n",
    "dt.fit(X_train, y_target_train)\n"
   ]
  },
  {
   "cell_type": "code",
   "execution_count": 9,
   "id": "olympic-victoria",
   "metadata": {
    "ExecuteTime": {
     "end_time": "2021-08-25T09:47:22.835219Z",
     "start_time": "2021-08-25T09:47:22.774375Z"
    }
   },
   "outputs": [],
   "source": [
    "yPredictedValidation = dt.predict(X_valid)\n"
   ]
  },
  {
   "cell_type": "code",
   "execution_count": 11,
   "id": "conservative-resistance",
   "metadata": {
    "ExecuteTime": {
     "end_time": "2021-08-25T09:47:27.868665Z",
     "start_time": "2021-08-25T09:47:27.706099Z"
    }
   },
   "outputs": [],
   "source": [
    "yPredictedTesting = dt.predict(X_test)\n"
   ]
  },
  {
   "cell_type": "markdown",
   "id": "intermediate-alcohol",
   "metadata": {},
   "source": [
    "# Printing Metrics"
   ]
  },
  {
   "cell_type": "code",
   "execution_count": 10,
   "id": "conceptual-landing",
   "metadata": {
    "ExecuteTime": {
     "end_time": "2021-08-25T09:47:25.912963Z",
     "start_time": "2021-08-25T09:47:25.888064Z"
    }
   },
   "outputs": [
    {
     "name": "stdout",
     "output_type": "stream",
     "text": [
      "Validation Metrics:\n",
      "Mean Absolute Error: 0.7378276899373964\n",
      "Mean Squared Error: 1.5301783024594262\n",
      "Root Mean Squared Error: 1.2370037600829782\n",
      "R^2 Score: -0.8347367046929008\n"
     ]
    }
   ],
   "source": [
    "from sklearn import metrics\n",
    "print('Validation Metrics:')\n",
    "print('Mean Absolute Error:', metrics.mean_absolute_error(y_target_valid, yPredictedValidation))\n",
    "print('Mean Squared Error:', metrics.mean_squared_error(y_target_valid, yPredictedValidation))\n",
    "print('Root Mean Squared Error:', np.sqrt(metrics.mean_squared_error(y_target_valid, yPredictedValidation)))\n",
    "print('R^2 Score:', metrics.r2_score(y_target_valid, yPredictedValidation))"
   ]
  },
  {
   "cell_type": "code",
   "execution_count": 12,
   "id": "close-custody",
   "metadata": {
    "ExecuteTime": {
     "end_time": "2021-08-25T09:47:29.210074Z",
     "start_time": "2021-08-25T09:47:29.196112Z"
    }
   },
   "outputs": [
    {
     "name": "stdout",
     "output_type": "stream",
     "text": [
      "Testing Metrics:\n",
      "Mean Absolute Error: 0.6614424249384057\n",
      "Mean Squared Error: 1.3991476928075544\n",
      "Root Mean Squared Error: 1.1828557362618461\n",
      "R^2 Score: -0.98920658924134\n"
     ]
    }
   ],
   "source": [
    "print('Testing Metrics:')\n",
    "print('Mean Absolute Error:', metrics.mean_absolute_error(y_target_test, yPredictedTesting))\n",
    "print('Mean Squared Error:', metrics.mean_squared_error(y_target_test, yPredictedTesting))\n",
    "print('Root Mean Squared Error:', np.sqrt(metrics.mean_squared_error(y_target_test, yPredictedTesting)))\n",
    "print('R^2 Score:', metrics.r2_score(y_target_test, yPredictedTesting))"
   ]
  },
  {
   "cell_type": "code",
   "execution_count": 13,
   "id": "gorgeous-spray",
   "metadata": {
    "ExecuteTime": {
     "end_time": "2021-08-25T09:47:30.117683Z",
     "start_time": "2021-08-25T09:47:30.063790Z"
    }
   },
   "outputs": [
    {
     "data": {
      "text/plain": [
       "-0.8347367046929008"
      ]
     },
     "execution_count": 13,
     "metadata": {},
     "output_type": "execute_result"
    }
   ],
   "source": [
    "dt.score(X_valid, y_target_valid)"
   ]
  },
  {
   "cell_type": "code",
   "execution_count": 14,
   "id": "after-application",
   "metadata": {
    "ExecuteTime": {
     "end_time": "2021-08-25T09:47:38.663302Z",
     "start_time": "2021-08-25T09:47:38.591494Z"
    }
   },
   "outputs": [
    {
     "data": {
      "text/plain": [
       "-0.98920658924134"
      ]
     },
     "execution_count": 14,
     "metadata": {},
     "output_type": "execute_result"
    }
   ],
   "source": [
    "dt.score(X_test, y_target_test)"
   ]
  },
  {
   "cell_type": "code",
   "execution_count": 16,
   "id": "early-thesis",
   "metadata": {
    "ExecuteTime": {
     "end_time": "2021-08-25T09:48:11.757314Z",
     "start_time": "2021-08-25T09:48:11.740358Z"
    }
   },
   "outputs": [
    {
     "data": {
      "text/plain": [
       "array([0.09869225, 0.08805327, 0.05847715, 0.02901277, 0.0398272 ,\n",
       "       0.03008477, 0.07015844, 0.03996439, 0.20917759, 0.05083755,\n",
       "       0.02941692, 0.02843753, 0.03364789, 0.04045369, 0.03094319,\n",
       "       0.03359458, 0.03685457, 0.05236624])"
      ]
     },
     "execution_count": 16,
     "metadata": {},
     "output_type": "execute_result"
    }
   ],
   "source": [
    "dt.feature_importances_"
   ]
  }
 ],
 "metadata": {
  "kernelspec": {
   "display_name": "Python 3",
   "language": "python",
   "name": "python3"
  },
  "language_info": {
   "codemirror_mode": {
    "name": "ipython",
    "version": 3
   },
   "file_extension": ".py",
   "mimetype": "text/x-python",
   "name": "python",
   "nbconvert_exporter": "python",
   "pygments_lexer": "ipython3",
   "version": "3.8.8"
  },
  "toc": {
   "base_numbering": 1,
   "nav_menu": {},
   "number_sections": true,
   "sideBar": true,
   "skip_h1_title": false,
   "title_cell": "Table of Contents",
   "title_sidebar": "Contents",
   "toc_cell": false,
   "toc_position": {},
   "toc_section_display": true,
   "toc_window_display": false
  },
  "varInspector": {
   "cols": {
    "lenName": 16,
    "lenType": 16,
    "lenVar": 40
   },
   "kernels_config": {
    "python": {
     "delete_cmd_postfix": "",
     "delete_cmd_prefix": "del ",
     "library": "var_list.py",
     "varRefreshCmd": "print(var_dic_list())"
    },
    "r": {
     "delete_cmd_postfix": ") ",
     "delete_cmd_prefix": "rm(",
     "library": "var_list.r",
     "varRefreshCmd": "cat(var_dic_list()) "
    }
   },
   "types_to_exclude": [
    "module",
    "function",
    "builtin_function_or_method",
    "instance",
    "_Feature"
   ],
   "window_display": false
  }
 },
 "nbformat": 4,
 "nbformat_minor": 5
}

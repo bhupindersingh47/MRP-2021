{
 "cells": [
  {
   "cell_type": "markdown",
   "id": "curious-relationship",
   "metadata": {},
   "source": [
    "# Importing required libraries"
   ]
  },
  {
   "cell_type": "code",
   "execution_count": 5,
   "id": "funky-soccer",
   "metadata": {
    "ExecuteTime": {
     "end_time": "2021-08-24T05:34:32.117007Z",
     "start_time": "2021-08-24T05:34:32.103044Z"
    }
   },
   "outputs": [],
   "source": [
    "from sklearn.neighbors import KNeighborsRegressor\n",
    "from sklearn.metrics import accuracy_score\n",
    "from sklearn.impute import SimpleImputer\n",
    "\n",
    "import pandas as pd\n",
    "import numpy as np\n"
   ]
  },
  {
   "cell_type": "markdown",
   "id": "automotive-colonial",
   "metadata": {},
   "source": [
    "# Initializing Feature and Response matrices stored as .CSV files earlier"
   ]
  },
  {
   "cell_type": "markdown",
   "id": "grave-vertical",
   "metadata": {},
   "source": [
    "## Training Dataset"
   ]
  },
  {
   "cell_type": "code",
   "execution_count": 2,
   "id": "meaningful-optimization",
   "metadata": {
    "ExecuteTime": {
     "end_time": "2021-08-24T05:34:10.453985Z",
     "start_time": "2021-08-24T05:33:56.455114Z"
    }
   },
   "outputs": [],
   "source": [
    "X_train = np.loadtxt(r'R:\\Ryerson\\Misc\\Datasets\\Preprocessed Data Files\\30_Day_Window_Scaled\\X_train_30_day_window_scaled.csv', delimiter=',')\n",
    "\n",
    "y_target_train = np.loadtxt(r'R:\\Ryerson\\Misc\\Datasets\\Preprocessed Data Files\\30_Day_Window_Scaled\\y_target_train_30_day_window_scaled.csv', delimiter=',')\n"
   ]
  },
  {
   "cell_type": "code",
   "execution_count": 3,
   "id": "found-confusion",
   "metadata": {
    "ExecuteTime": {
     "end_time": "2021-08-24T05:34:11.748595Z",
     "start_time": "2021-08-24T05:34:11.736627Z"
    }
   },
   "outputs": [
    {
     "data": {
      "text/plain": [
       "(639476, 18)"
      ]
     },
     "execution_count": 3,
     "metadata": {},
     "output_type": "execute_result"
    },
    {
     "data": {
      "text/plain": [
       "(639476,)"
      ]
     },
     "execution_count": 3,
     "metadata": {},
     "output_type": "execute_result"
    }
   ],
   "source": [
    "X_train.shape\n",
    "\n",
    "y_target_train.shape\n"
   ]
  },
  {
   "cell_type": "markdown",
   "id": "sound-stomach",
   "metadata": {},
   "source": [
    "## Validation Dataset"
   ]
  },
  {
   "cell_type": "code",
   "execution_count": 8,
   "id": "wooden-strap",
   "metadata": {
    "ExecuteTime": {
     "end_time": "2021-08-24T05:38:49.800283Z",
     "start_time": "2021-08-24T05:38:48.139755Z"
    }
   },
   "outputs": [],
   "source": [
    "X_valid = np.loadtxt(r'R:\\Ryerson\\Misc\\Datasets\\Preprocessed Data Files\\30_Day_Window_Scaled\\X_valid_30_day_window_scaled.csv', delimiter=',')\n",
    "\n",
    "y_target_valid = np.loadtxt(r'R:\\Ryerson\\Misc\\Datasets\\Preprocessed Data Files\\30_Day_Window_Scaled\\y_target_valid_30_day_window_scaled.csv', delimiter=',')\n"
   ]
  },
  {
   "cell_type": "code",
   "execution_count": 9,
   "id": "alpha-teddy",
   "metadata": {
    "ExecuteTime": {
     "end_time": "2021-08-24T05:38:51.626045Z",
     "start_time": "2021-08-24T05:38:51.612082Z"
    }
   },
   "outputs": [
    {
     "data": {
      "text/plain": [
       "(71721, 18)"
      ]
     },
     "execution_count": 9,
     "metadata": {},
     "output_type": "execute_result"
    },
    {
     "data": {
      "text/plain": [
       "(71721,)"
      ]
     },
     "execution_count": 9,
     "metadata": {},
     "output_type": "execute_result"
    }
   ],
   "source": [
    "X_valid.shape\n",
    "\n",
    "y_target_valid.shape\n"
   ]
  },
  {
   "cell_type": "markdown",
   "id": "affiliated-print",
   "metadata": {},
   "source": [
    "## Testing Dataset"
   ]
  },
  {
   "cell_type": "code",
   "execution_count": 10,
   "id": "intense-quarterly",
   "metadata": {
    "ExecuteTime": {
     "end_time": "2021-08-24T05:38:55.032098Z",
     "start_time": "2021-08-24T05:38:53.543847Z"
    }
   },
   "outputs": [],
   "source": [
    "X_test = np.loadtxt(r'R:\\Ryerson\\Misc\\Datasets\\Preprocessed Data Files\\30_Day_Window_Scaled\\X_test_30_day_window_scaled.csv', delimiter=',')\n",
    "\n",
    "y_target_test = np.loadtxt(r'R:\\Ryerson\\Misc\\Datasets\\Preprocessed Data Files\\30_Day_Window_Scaled\\y_target_test_30_day_window_scaled.csv', delimiter=',')\n"
   ]
  },
  {
   "cell_type": "code",
   "execution_count": 11,
   "id": "inappropriate-apollo",
   "metadata": {
    "ExecuteTime": {
     "end_time": "2021-08-24T05:38:55.652872Z",
     "start_time": "2021-08-24T05:38:55.642874Z"
    }
   },
   "outputs": [
    {
     "data": {
      "text/plain": [
       "(71841, 18)"
      ]
     },
     "execution_count": 11,
     "metadata": {},
     "output_type": "execute_result"
    },
    {
     "data": {
      "text/plain": [
       "(71841,)"
      ]
     },
     "execution_count": 11,
     "metadata": {},
     "output_type": "execute_result"
    }
   ],
   "source": [
    "X_test.shape\n",
    "\n",
    "y_target_test.shape\n"
   ]
  },
  {
   "cell_type": "code",
   "execution_count": null,
   "id": "purple-windsor",
   "metadata": {
    "ExecuteTime": {
     "end_time": "2021-08-24T05:33:02.968769Z",
     "start_time": "2021-08-24T05:33:02.954806Z"
    }
   },
   "outputs": [],
   "source": [
    "#y_target_train = y_target_train.ravel()\n",
    "#y_target_train.shape"
   ]
  },
  {
   "cell_type": "markdown",
   "id": "verified-representation",
   "metadata": {},
   "source": [
    "# Training KNN models by selecting arbitrary values for number of neighbors"
   ]
  },
  {
   "cell_type": "markdown",
   "id": "armed-carbon",
   "metadata": {},
   "source": [
    "## _k = 1_"
   ]
  },
  {
   "cell_type": "code",
   "execution_count": 6,
   "id": "divided-profit",
   "metadata": {
    "ExecuteTime": {
     "end_time": "2021-08-24T05:34:35.539707Z",
     "start_time": "2021-08-24T05:34:35.525744Z"
    }
   },
   "outputs": [],
   "source": [
    "knn = KNeighborsRegressor(n_neighbors=1)"
   ]
  },
  {
   "cell_type": "code",
   "execution_count": 7,
   "id": "temporal-progress",
   "metadata": {
    "ExecuteTime": {
     "end_time": "2021-08-24T05:34:47.188828Z",
     "start_time": "2021-08-24T05:34:47.164892Z"
    }
   },
   "outputs": [
    {
     "data": {
      "text/plain": [
       "KNeighborsRegressor(n_neighbors=1)"
      ]
     },
     "execution_count": 7,
     "metadata": {},
     "output_type": "execute_result"
    }
   ],
   "source": [
    "knn.fit(X_train, y_target_train)"
   ]
  },
  {
   "cell_type": "code",
   "execution_count": 12,
   "id": "extreme-spyware",
   "metadata": {
    "ExecuteTime": {
     "end_time": "2021-08-24T05:48:02.513924Z",
     "start_time": "2021-08-24T05:39:18.301407Z"
    }
   },
   "outputs": [
    {
     "data": {
      "text/plain": [
       "-0.8147156606353831"
      ]
     },
     "execution_count": 12,
     "metadata": {},
     "output_type": "execute_result"
    }
   ],
   "source": [
    "#determining R^2 score for k=1\n",
    "knn.score(X_valid, y_target_valid)"
   ]
  },
  {
   "cell_type": "markdown",
   "id": "narrow-specification",
   "metadata": {},
   "source": [
    "## _k = 5_"
   ]
  },
  {
   "cell_type": "code",
   "execution_count": 13,
   "id": "suburban-demonstration",
   "metadata": {
    "ExecuteTime": {
     "end_time": "2021-08-24T05:50:12.043061Z",
     "start_time": "2021-08-24T05:50:12.028101Z"
    }
   },
   "outputs": [],
   "source": [
    "knn_5 = KNeighborsRegressor(n_neighbors=5)"
   ]
  },
  {
   "cell_type": "code",
   "execution_count": 16,
   "id": "domestic-gossip",
   "metadata": {
    "ExecuteTime": {
     "end_time": "2021-08-24T06:04:51.859592Z",
     "start_time": "2021-08-24T06:04:51.834658Z"
    }
   },
   "outputs": [
    {
     "data": {
      "text/plain": [
       "KNeighborsRegressor()"
      ]
     },
     "execution_count": 16,
     "metadata": {},
     "output_type": "execute_result"
    }
   ],
   "source": [
    "knn_5.fit(X_train, y_target_train)"
   ]
  },
  {
   "cell_type": "code",
   "execution_count": 17,
   "id": "official-affiliation",
   "metadata": {
    "ExecuteTime": {
     "end_time": "2021-08-24T06:17:25.844901Z",
     "start_time": "2021-08-24T06:04:54.702215Z"
    }
   },
   "outputs": [
    {
     "data": {
      "text/plain": [
       "-0.04128073801736787"
      ]
     },
     "execution_count": 17,
     "metadata": {},
     "output_type": "execute_result"
    }
   ],
   "source": [
    "#determining R^2 score for k=5\n",
    "knn_5.score(X_valid, y_target_valid)"
   ]
  },
  {
   "cell_type": "markdown",
   "id": "empty-league",
   "metadata": {},
   "source": [
    "# Determining the optimal hyperparameters and using the same for predictions"
   ]
  },
  {
   "cell_type": "code",
   "execution_count": 22,
   "id": "lesbian-rendering",
   "metadata": {
    "ExecuteTime": {
     "end_time": "2021-08-24T06:25:31.086381Z",
     "start_time": "2021-08-24T06:25:31.078379Z"
    }
   },
   "outputs": [],
   "source": [
    "import matplotlib.pyplot as plt\n",
    "%matplotlib inline\n",
    "\n",
    "#plt.style.use('seaborn-poster')\n"
   ]
  },
  {
   "cell_type": "markdown",
   "id": "excellent-companion",
   "metadata": {},
   "source": [
    "## Plotting a complexity curve to determine the optimal value for k"
   ]
  },
  {
   "cell_type": "code",
   "execution_count": 23,
   "id": "eight-participation",
   "metadata": {
    "ExecuteTime": {
     "end_time": "2021-08-24T06:25:31.675193Z",
     "start_time": "2021-08-24T06:25:31.658239Z"
    }
   },
   "outputs": [],
   "source": [
    "trainScores = []\n",
    "testScores = []\n",
    "    \n",
    "def plotComplexityCurve(kSizeList, knnModel, X_train, X_test, y_train, y_test):\n",
    "    \n",
    "    # Training KNN for each k and storing scores\n",
    "    for k in kSizeList:\n",
    "        # Initialize, fit, predict\n",
    "        knn = knnModel(n_neighbors=k)\n",
    "        \n",
    "        knn.fit(X_train, y_train)\n",
    "        \n",
    "        trainScores.append(knn.score(X_train, y_train))\n",
    "        testScores.append(knn.score(X_test, y_test))\n",
    "\n",
    "    # Plotting\n",
    "    fig, ax = plt.subplots()\n",
    "    \n",
    "    ax.plot(kSizeList, trainScores, label='Training Accuracy', color='red')\n",
    "    ax.plot(kSizeList, testScores, label='Testing Accuracy', color='black')\n",
    "\n",
    "    ax.set(title='Plot of Accuracy Scores for KNN with Different Values for $k$',\n",
    "           xlabel='Number of Neighbors',\n",
    "           ylabel='Accuracy')\n",
    "    \n",
    "    ax.legend()\n"
   ]
  },
  {
   "cell_type": "code",
   "execution_count": 25,
   "id": "qualified-designation",
   "metadata": {
    "ExecuteTime": {
     "end_time": "2021-08-25T08:10:18.990793Z",
     "start_time": "2021-08-24T06:25:53.277148Z"
    }
   },
   "outputs": [
    {
     "data": {
      "image/png": "[encoded data removed]",
      "text/plain": [
       "<Figure size 432x288 with 1 Axes>"
      ]
     },
     "metadata": {
      "needs_background": "dark"
     },
     "output_type": "display_data"
    }
   ],
   "source": [
    "# Choosing values for k\n",
    "numNeighbors = np.arange(1, 15)\n",
    "\n",
    "# Calling plot function defined above\n",
    "plotComplexityCurve(numNeighbors, KNeighborsRegressor, X_train, X_valid, y_target_train, y_target_valid)\n"
   ]
  },
  {
   "cell_type": "markdown",
   "id": "monetary-canvas",
   "metadata": {},
   "source": [
    "## Examining the plot above, it can be inferred that _k = 14_ has the best R^2 score. Therefore, predicting drought scores for test data using a higher _k_ value:"
   ]
  },
  {
   "cell_type": "code",
   "execution_count": 33,
   "id": "korean-neighbor",
   "metadata": {
    "ExecuteTime": {
     "end_time": "2021-08-25T10:04:08.384396Z",
     "start_time": "2021-08-25T09:40:39.873210Z"
    }
   },
   "outputs": [
    {
     "data": {
      "text/plain": [
       "KNeighborsRegressor(n_jobs=-1, n_neighbors=15)"
      ]
     },
     "execution_count": 33,
     "metadata": {},
     "output_type": "execute_result"
    }
   ],
   "source": [
    "from sklearn import metrics\n",
    "\n",
    "#initialize, fit, and predict\n",
    "knn = KNeighborsRegressor(n_neighbors=15, n_jobs=-1)\n",
    "        \n",
    "knn.fit(X_train, y_target_train)\n",
    "\n",
    "yPredicted = knn.predict(X_test)\n",
    "\n",
    "# print \n",
    "metricMAE = metrics.mean_absolute_error(y_target_test, yPredicted)\n",
    "metricMSE = metrics.mean_squared_error(y_target_test, yPredicted)\n",
    "metricRMSE = np.sqrt(metrics.mean_squared_error(y_target_test, yPredicted))\n",
    "metricR2 = metrics.r2_score(y_target_test, yPredicted)"
   ]
  },
  {
   "cell_type": "code",
   "execution_count": 34,
   "id": "mature-nelson",
   "metadata": {
    "ExecuteTime": {
     "end_time": "2021-08-25T10:06:17.527395Z",
     "start_time": "2021-08-25T10:06:17.508477Z"
    }
   },
   "outputs": [
    {
     "name": "stdout",
     "output_type": "stream",
     "text": [
      "\n",
      "MAE:  0.5609638819986729 \n",
      "\n",
      "MSE:  0.6689706309726144 \n",
      "\n",
      "RMSE:  0.8179062482782574 \n",
      "\n",
      "R^2 Score:  0.048906134798811673\n"
     ]
    }
   ],
   "source": [
    "print('\\nMAE: ', metricMAE, '\\n\\nMSE: ', metricMSE, '\\n\\nRMSE: ', metricRMSE, '\\n\\nR^2 Score: ', metricR2)"
   ]
  }
 ],
 "metadata": {
  "kernelspec": {
   "display_name": "Python 3",
   "language": "python",
   "name": "python3"
  },
  "language_info": {
   "codemirror_mode": {
    "name": "ipython",
    "version": 3
   },
   "file_extension": ".py",
   "mimetype": "text/x-python",
   "name": "python",
   "nbconvert_exporter": "python",
   "pygments_lexer": "ipython3",
   "version": "3.8.8"
  },
  "toc": {
   "base_numbering": 1,
   "nav_menu": {},
   "number_sections": true,
   "sideBar": true,
   "skip_h1_title": false,
   "title_cell": "Table of Contents",
   "title_sidebar": "Contents",
   "toc_cell": false,
   "toc_position": {},
   "toc_section_display": true,
   "toc_window_display": false
  },
  "varInspector": {
   "cols": {
    "lenName": 16,
    "lenType": 16,
    "lenVar": 40
   },
   "kernels_config": {
    "python": {
     "delete_cmd_postfix": "",
     "delete_cmd_prefix": "del ",
     "library": "var_list.py",
     "varRefreshCmd": "print(var_dic_list())"
    },
    "r": {
     "delete_cmd_postfix": ") ",
     "delete_cmd_prefix": "rm(",
     "library": "var_list.r",
     "varRefreshCmd": "cat(var_dic_list()) "
    }
   },
   "types_to_exclude": [
    "module",
    "function",
    "builtin_function_or_method",
    "instance",
    "_Feature"
   ],
   "window_display": false
  }
 },
 "nbformat": 4,
 "nbformat_minor": 5
}

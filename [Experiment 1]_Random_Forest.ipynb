{
 "cells": [
  {
   "cell_type": "markdown",
   "id": "curious-relationship",
   "metadata": {},
   "source": [
    "# Importing required libraries"
   ]
  },
  {
   "cell_type": "code",
   "execution_count": 1,
   "id": "funky-soccer",
   "metadata": {
    "ExecuteTime": {
     "end_time": "2021-08-25T14:40:15.445951Z",
     "start_time": "2021-08-25T14:40:14.237633Z"
    }
   },
   "outputs": [],
   "source": [
    "from sklearn.ensemble import RandomForestRegressor\n",
    "\n",
    "import pandas as pd\n",
    "import numpy as np\n"
   ]
  },
  {
   "cell_type": "markdown",
   "id": "caring-gauge",
   "metadata": {},
   "source": [
    "# Initializing Feature and Response matrices stored as .CSV files earlier"
   ]
  },
  {
   "cell_type": "markdown",
   "id": "contrary-realtor",
   "metadata": {},
   "source": [
    "## Training Dataset"
   ]
  },
  {
   "cell_type": "code",
   "execution_count": 2,
   "id": "meaningful-optimization",
   "metadata": {
    "ExecuteTime": {
     "end_time": "2021-08-25T14:40:30.365850Z",
     "start_time": "2021-08-25T14:40:15.529385Z"
    }
   },
   "outputs": [],
   "source": [
    "X_train = np.loadtxt(r'R:\\Ryerson\\Misc\\Datasets\\Preprocessed Data Files\\30_Day_Window_Scaled\\X_train_30_day_window_scaled.csv', delimiter=',')\n",
    "\n",
    "y_target_train = np.loadtxt(r'R:\\Ryerson\\Misc\\Datasets\\Preprocessed Data Files\\30_Day_Window_Scaled\\y_target_train_30_day_window_scaled.csv', delimiter=',')\n"
   ]
  },
  {
   "cell_type": "code",
   "execution_count": 3,
   "id": "joined-puppy",
   "metadata": {
    "ExecuteTime": {
     "end_time": "2021-08-25T14:41:12.678583Z",
     "start_time": "2021-08-25T14:41:12.665618Z"
    }
   },
   "outputs": [
    {
     "data": {
      "text/plain": [
       "(639476, 18)"
      ]
     },
     "execution_count": 3,
     "metadata": {},
     "output_type": "execute_result"
    },
    {
     "data": {
      "text/plain": [
       "(639476,)"
      ]
     },
     "execution_count": 3,
     "metadata": {},
     "output_type": "execute_result"
    }
   ],
   "source": [
    "X_train.shape\n",
    "\n",
    "y_target_train.shape\n"
   ]
  },
  {
   "cell_type": "markdown",
   "id": "prescription-kidney",
   "metadata": {},
   "source": [
    "## Validation Dataset"
   ]
  },
  {
   "cell_type": "code",
   "execution_count": 4,
   "id": "trying-nowhere",
   "metadata": {
    "ExecuteTime": {
     "end_time": "2021-08-25T14:41:16.601631Z",
     "start_time": "2021-08-25T14:41:15.107341Z"
    }
   },
   "outputs": [],
   "source": [
    "X_valid = np.loadtxt(r'R:\\Ryerson\\Misc\\Datasets\\Preprocessed Data Files\\30_Day_Window_Scaled\\X_valid_30_day_window_scaled.csv', delimiter=',')\n",
    "\n",
    "y_target_valid = np.loadtxt(r'R:\\Ryerson\\Misc\\Datasets\\Preprocessed Data Files\\30_Day_Window_Scaled\\y_target_valid_30_day_window_scaled.csv', delimiter=',')\n"
   ]
  },
  {
   "cell_type": "code",
   "execution_count": 5,
   "id": "prescription-bread",
   "metadata": {
    "ExecuteTime": {
     "end_time": "2021-08-25T14:41:17.281593Z",
     "start_time": "2021-08-25T14:41:17.271620Z"
    }
   },
   "outputs": [
    {
     "data": {
      "text/plain": [
       "(71721, 18)"
      ]
     },
     "execution_count": 5,
     "metadata": {},
     "output_type": "execute_result"
    },
    {
     "data": {
      "text/plain": [
       "(71721,)"
      ]
     },
     "execution_count": 5,
     "metadata": {},
     "output_type": "execute_result"
    }
   ],
   "source": [
    "X_valid.shape\n",
    "\n",
    "y_target_valid.shape\n"
   ]
  },
  {
   "cell_type": "markdown",
   "id": "rubber-boating",
   "metadata": {},
   "source": [
    "## Testing Dataset"
   ]
  },
  {
   "cell_type": "code",
   "execution_count": 6,
   "id": "communist-austin",
   "metadata": {
    "ExecuteTime": {
     "end_time": "2021-08-25T14:41:20.131693Z",
     "start_time": "2021-08-25T14:41:18.649107Z"
    }
   },
   "outputs": [],
   "source": [
    "X_test = np.loadtxt(r'R:\\Ryerson\\Misc\\Datasets\\Preprocessed Data Files\\30_Day_Window_Scaled\\X_test_30_day_window_scaled.csv', delimiter=',')\n",
    "\n",
    "y_target_test = np.loadtxt(r'R:\\Ryerson\\Misc\\Datasets\\Preprocessed Data Files\\30_Day_Window_Scaled\\y_target_test_30_day_window_scaled.csv', delimiter=',')\n"
   ]
  },
  {
   "cell_type": "code",
   "execution_count": 7,
   "id": "advance-modem",
   "metadata": {
    "ExecuteTime": {
     "end_time": "2021-08-25T14:41:20.672358Z",
     "start_time": "2021-08-25T14:41:20.661387Z"
    }
   },
   "outputs": [
    {
     "data": {
      "text/plain": [
       "(71841, 18)"
      ]
     },
     "execution_count": 7,
     "metadata": {},
     "output_type": "execute_result"
    },
    {
     "data": {
      "text/plain": [
       "(71841,)"
      ]
     },
     "execution_count": 7,
     "metadata": {},
     "output_type": "execute_result"
    }
   ],
   "source": [
    "X_test.shape\n",
    "\n",
    "y_target_test.shape\n"
   ]
  },
  {
   "cell_type": "code",
   "execution_count": 8,
   "id": "extreme-spyware",
   "metadata": {
    "ExecuteTime": {
     "end_time": "2021-08-25T14:41:32.933727Z",
     "start_time": "2021-08-25T14:41:32.921737Z"
    }
   },
   "outputs": [],
   "source": [
    "rf = RandomForestRegressor(n_estimators=1000, n_jobs=-1, random_state=42)\n"
   ]
  },
  {
   "cell_type": "code",
   "execution_count": 9,
   "id": "remarkable-produce",
   "metadata": {
    "ExecuteTime": {
     "end_time": "2021-08-25T15:40:45.054073Z",
     "start_time": "2021-08-25T14:41:45.141874Z"
    }
   },
   "outputs": [
    {
     "data": {
      "text/plain": [
       "RandomForestRegressor(n_estimators=1000, n_jobs=-1, random_state=42)"
      ]
     },
     "execution_count": 9,
     "metadata": {},
     "output_type": "execute_result"
    }
   ],
   "source": [
    "rf.fit(X_train, y_target_train)\n"
   ]
  },
  {
   "cell_type": "code",
   "execution_count": 10,
   "id": "empirical-nickname",
   "metadata": {
    "ExecuteTime": {
     "end_time": "2021-08-25T15:41:38.926662Z",
     "start_time": "2021-08-25T15:41:01.370136Z"
    }
   },
   "outputs": [],
   "source": [
    "yPredictedValidation = rf.predict(X_valid)"
   ]
  },
  {
   "cell_type": "code",
   "execution_count": 11,
   "id": "extended-control",
   "metadata": {
    "ExecuteTime": {
     "end_time": "2021-08-25T15:41:44.066002Z",
     "start_time": "2021-08-25T15:41:43.946324Z"
    }
   },
   "outputs": [
    {
     "name": "stdout",
     "output_type": "stream",
     "text": [
      "Validation Metrics:\n",
      "Mean Absolute Error: 0.5855394525513199\n",
      "Mean Squared Error: 0.6708243802713403\n",
      "Root Mean Squared Error: 0.8190386927803474\n",
      "R^2 Score: 0.19565836810750914\n"
     ]
    }
   ],
   "source": [
    "from sklearn import metrics\n",
    "print('Validation Metrics:')\n",
    "print('Mean Absolute Error:', metrics.mean_absolute_error(y_target_valid, yPredictedValidation))\n",
    "print('Mean Squared Error:', metrics.mean_squared_error(y_target_valid, yPredictedValidation))\n",
    "print('Root Mean Squared Error:', np.sqrt(metrics.mean_squared_error(y_target_valid, yPredictedValidation)))\n",
    "print('R^2 Score:', metrics.r2_score(y_target_valid, yPredictedValidation))"
   ]
  },
  {
   "cell_type": "code",
   "execution_count": 12,
   "id": "artistic-cincinnati",
   "metadata": {
    "ExecuteTime": {
     "end_time": "2021-08-25T15:42:08.885125Z",
     "start_time": "2021-08-25T15:41:50.778592Z"
    }
   },
   "outputs": [],
   "source": [
    "yPredictedTesting = rf.predict(X_test)\n"
   ]
  },
  {
   "cell_type": "code",
   "execution_count": 13,
   "id": "timely-description",
   "metadata": {
    "ExecuteTime": {
     "end_time": "2021-08-25T15:42:20.038082Z",
     "start_time": "2021-08-25T15:42:19.970260Z"
    }
   },
   "outputs": [
    {
     "name": "stdout",
     "output_type": "stream",
     "text": [
      "Testing Metrics:\n",
      "Mean Absolute Error: 0.5466156748896339\n",
      "Mean Squared Error: 0.6033429857388608\n",
      "Root Mean Squared Error: 0.7767515598560848\n",
      "R^2 Score: 0.14221075518053705\n"
     ]
    }
   ],
   "source": [
    "print('Testing Metrics:')\n",
    "print('Mean Absolute Error:', metrics.mean_absolute_error(y_target_test, yPredictedTesting))\n",
    "print('Mean Squared Error:', metrics.mean_squared_error(y_target_test, yPredictedTesting))\n",
    "print('Root Mean Squared Error:', np.sqrt(metrics.mean_squared_error(y_target_test, yPredictedTesting)))\n",
    "print('R^2 Score:', metrics.r2_score(y_target_test, yPredictedTesting))"
   ]
  },
  {
   "cell_type": "code",
   "execution_count": 14,
   "id": "private-projector",
   "metadata": {
    "ExecuteTime": {
     "end_time": "2021-08-25T15:42:42.086126Z",
     "start_time": "2021-08-25T15:42:31.356502Z"
    }
   },
   "outputs": [
    {
     "data": {
      "text/plain": [
       "0.19565836810750914"
      ]
     },
     "execution_count": 14,
     "metadata": {},
     "output_type": "execute_result"
    }
   ],
   "source": [
    "rf.score(X_valid, y_target_valid)"
   ]
  },
  {
   "cell_type": "code",
   "execution_count": 15,
   "id": "strong-reception",
   "metadata": {
    "ExecuteTime": {
     "end_time": "2021-08-25T15:42:52.865631Z",
     "start_time": "2021-08-25T15:42:46.765952Z"
    }
   },
   "outputs": [
    {
     "data": {
      "text/plain": [
       "0.14221075518053705"
      ]
     },
     "execution_count": 15,
     "metadata": {},
     "output_type": "execute_result"
    }
   ],
   "source": [
    "rf.score(X_test, y_target_test)"
   ]
  },
  {
   "cell_type": "code",
   "execution_count": 16,
   "id": "exempt-bouquet",
   "metadata": {
    "ExecuteTime": {
     "end_time": "2021-08-25T15:42:57.007397Z",
     "start_time": "2021-08-25T15:42:56.988460Z"
    },
    "scrolled": true
   },
   "outputs": [
    {
     "data": {
      "text/plain": [
       "array([0.72899089, 0.30793272, 0.1755018 , ..., 1.8599391 , 1.3104358 ,\n",
       "       1.3911606 ])"
      ]
     },
     "execution_count": 16,
     "metadata": {},
     "output_type": "execute_result"
    }
   ],
   "source": [
    "yPredictedValidation"
   ]
  },
  {
   "cell_type": "code",
   "execution_count": 17,
   "id": "exclusive-lesson",
   "metadata": {
    "ExecuteTime": {
     "end_time": "2021-08-25T15:42:58.599660Z",
     "start_time": "2021-08-25T15:42:58.594642Z"
    }
   },
   "outputs": [
    {
     "data": {
      "text/plain": [
       "array([0.33498062, 0.20550253, 0.7042692 , ..., 2.1095901 , 1.8724561 ,\n",
       "       1.2238515 ])"
      ]
     },
     "execution_count": 17,
     "metadata": {},
     "output_type": "execute_result"
    }
   ],
   "source": [
    "yPredictedTesting"
   ]
  }
 ],
 "metadata": {
  "kernelspec": {
   "display_name": "Python 3",
   "language": "python",
   "name": "python3"
  },
  "language_info": {
   "codemirror_mode": {
    "name": "ipython",
    "version": 3
   },
   "file_extension": ".py",
   "mimetype": "text/x-python",
   "name": "python",
   "nbconvert_exporter": "python",
   "pygments_lexer": "ipython3",
   "version": "3.8.8"
  },
  "toc": {
   "base_numbering": 1,
   "nav_menu": {},
   "number_sections": true,
   "sideBar": true,
   "skip_h1_title": false,
   "title_cell": "Table of Contents",
   "title_sidebar": "Contents",
   "toc_cell": false,
   "toc_position": {},
   "toc_section_display": true,
   "toc_window_display": false
  },
  "varInspector": {
   "cols": {
    "lenName": 16,
    "lenType": 16,
    "lenVar": 40
   },
   "kernels_config": {
    "python": {
     "delete_cmd_postfix": "",
     "delete_cmd_prefix": "del ",
     "library": "var_list.py",
     "varRefreshCmd": "print(var_dic_list())"
    },
    "r": {
     "delete_cmd_postfix": ") ",
     "delete_cmd_prefix": "rm(",
     "library": "var_list.r",
     "varRefreshCmd": "cat(var_dic_list()) "
    }
   },
   "types_to_exclude": [
    "module",
    "function",
    "builtin_function_or_method",
    "instance",
    "_Feature"
   ],
   "window_display": false
  }
 },
 "nbformat": 4,
 "nbformat_minor": 5
}

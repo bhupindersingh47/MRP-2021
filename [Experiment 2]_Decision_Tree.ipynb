{
 "cells": [
  {
   "cell_type": "markdown",
   "id": "curious-relationship",
   "metadata": {},
   "source": [
    "# Importing required libraries"
   ]
  },
  {
   "cell_type": "code",
   "execution_count": 1,
   "id": "funky-soccer",
   "metadata": {
    "ExecuteTime": {
     "end_time": "2021-08-25T09:49:51.663232Z",
     "start_time": "2021-08-25T09:49:50.564126Z"
    }
   },
   "outputs": [],
   "source": [
    "from sklearn.tree import DecisionTreeRegressor\n",
    "\n",
    "import pandas as pd\n",
    "import numpy as np\n"
   ]
  },
  {
   "cell_type": "markdown",
   "id": "foreign-victoria",
   "metadata": {},
   "source": [
    "# Initializing Feature and Response matrices stored as .CSV files earlier"
   ]
  },
  {
   "cell_type": "markdown",
   "id": "objective-attention",
   "metadata": {},
   "source": [
    "## Training Dataset"
   ]
  },
  {
   "cell_type": "code",
   "execution_count": 2,
   "id": "meaningful-optimization",
   "metadata": {
    "ExecuteTime": {
     "end_time": "2021-08-25T09:49:56.913137Z",
     "start_time": "2021-08-25T09:49:51.696097Z"
    }
   },
   "outputs": [],
   "source": [
    "X_train = np.loadtxt(r'R:\\Ryerson\\Misc\\Datasets\\Preprocessed Data Files\\90_Day_Window_Scaled\\X_train_90_day_window_scaled.csv', delimiter=',')\n",
    "\n",
    "y_target_train = np.loadtxt(r'R:\\Ryerson\\Misc\\Datasets\\Preprocessed Data Files\\90_Day_Window_Scaled\\y_target_train_90_day_window_scaled.csv', delimiter=',')\n"
   ]
  },
  {
   "cell_type": "code",
   "execution_count": 3,
   "id": "freelance-frank",
   "metadata": {
    "ExecuteTime": {
     "end_time": "2021-08-25T09:49:58.416116Z",
     "start_time": "2021-08-25T09:49:58.396168Z"
    }
   },
   "outputs": [
    {
     "data": {
      "text/plain": [
       "(211099, 18)"
      ]
     },
     "execution_count": 3,
     "metadata": {},
     "output_type": "execute_result"
    },
    {
     "data": {
      "text/plain": [
       "(211099,)"
      ]
     },
     "execution_count": 3,
     "metadata": {},
     "output_type": "execute_result"
    }
   ],
   "source": [
    "X_train.shape\n",
    "\n",
    "y_target_train.shape\n"
   ]
  },
  {
   "cell_type": "markdown",
   "id": "greek-companion",
   "metadata": {},
   "source": [
    "## Validation Dataset"
   ]
  },
  {
   "cell_type": "code",
   "execution_count": 4,
   "id": "recognized-persian",
   "metadata": {
    "ExecuteTime": {
     "end_time": "2021-08-25T09:50:00.601302Z",
     "start_time": "2021-08-25T09:49:59.955994Z"
    }
   },
   "outputs": [],
   "source": [
    "X_valid = np.loadtxt(r'R:\\Ryerson\\Misc\\Datasets\\Preprocessed Data Files\\90_Day_Window_Scaled\\X_valid_90_day_window_scaled.csv', delimiter=',')\n",
    "\n",
    "y_target_valid = np.loadtxt(r'R:\\Ryerson\\Misc\\Datasets\\Preprocessed Data Files\\90_Day_Window_Scaled\\y_target_valid_90_day_window_scaled.csv', delimiter=',')\n"
   ]
  },
  {
   "cell_type": "code",
   "execution_count": 5,
   "id": "fifth-mayor",
   "metadata": {
    "ExecuteTime": {
     "end_time": "2021-08-25T09:50:01.029123Z",
     "start_time": "2021-08-25T09:50:01.007183Z"
    }
   },
   "outputs": [
    {
     "data": {
      "text/plain": [
       "(21839, 18)"
      ]
     },
     "execution_count": 5,
     "metadata": {},
     "output_type": "execute_result"
    },
    {
     "data": {
      "text/plain": [
       "(21839,)"
      ]
     },
     "execution_count": 5,
     "metadata": {},
     "output_type": "execute_result"
    }
   ],
   "source": [
    "X_valid.shape\n",
    "\n",
    "y_target_valid.shape\n"
   ]
  },
  {
   "cell_type": "markdown",
   "id": "oriented-degree",
   "metadata": {},
   "source": [
    "## Testing Dataset"
   ]
  },
  {
   "cell_type": "code",
   "execution_count": 6,
   "id": "demographic-medication",
   "metadata": {
    "ExecuteTime": {
     "end_time": "2021-08-25T09:50:02.742538Z",
     "start_time": "2021-08-25T09:50:02.092279Z"
    }
   },
   "outputs": [],
   "source": [
    "X_test = np.loadtxt(r'R:\\Ryerson\\Misc\\Datasets\\Preprocessed Data Files\\90_Day_Window_Scaled\\X_test_90_day_window_scaled.csv', delimiter=',')\n",
    "\n",
    "y_target_test = np.loadtxt(r'R:\\Ryerson\\Misc\\Datasets\\Preprocessed Data Files\\90_Day_Window_Scaled\\y_target_test_90_day_window_scaled.csv', delimiter=',')\n"
   ]
  },
  {
   "cell_type": "code",
   "execution_count": 7,
   "id": "listed-electric",
   "metadata": {
    "ExecuteTime": {
     "end_time": "2021-08-25T09:50:02.788416Z",
     "start_time": "2021-08-25T09:50:02.774455Z"
    }
   },
   "outputs": [
    {
     "data": {
      "text/plain": [
       "(21881, 18)"
      ]
     },
     "execution_count": 7,
     "metadata": {},
     "output_type": "execute_result"
    },
    {
     "data": {
      "text/plain": [
       "(21881,)"
      ]
     },
     "execution_count": 7,
     "metadata": {},
     "output_type": "execute_result"
    }
   ],
   "source": [
    "X_test.shape\n",
    "\n",
    "y_target_test.shape\n"
   ]
  },
  {
   "cell_type": "code",
   "execution_count": 8,
   "id": "extreme-spyware",
   "metadata": {
    "ExecuteTime": {
     "end_time": "2021-08-25T09:50:11.632749Z",
     "start_time": "2021-08-25T09:50:03.744856Z"
    }
   },
   "outputs": [
    {
     "data": {
      "text/plain": [
       "DecisionTreeRegressor(random_state=42)"
      ]
     },
     "execution_count": 8,
     "metadata": {},
     "output_type": "execute_result"
    }
   ],
   "source": [
    "dt = DecisionTreeRegressor(random_state = 42)\n",
    "\n",
    "dt.fit(X_train, y_target_train)\n"
   ]
  },
  {
   "cell_type": "code",
   "execution_count": 9,
   "id": "honest-decimal",
   "metadata": {
    "ExecuteTime": {
     "end_time": "2021-08-25T09:50:12.723828Z",
     "start_time": "2021-08-25T09:50:12.694909Z"
    }
   },
   "outputs": [],
   "source": [
    "yPredictedValidation = dt.predict(X_valid)\n"
   ]
  },
  {
   "cell_type": "code",
   "execution_count": 10,
   "id": "intended-portrait",
   "metadata": {
    "ExecuteTime": {
     "end_time": "2021-08-25T09:50:14.444873Z",
     "start_time": "2021-08-25T09:50:14.424873Z"
    }
   },
   "outputs": [
    {
     "name": "stdout",
     "output_type": "stream",
     "text": [
      "Validation Metrics:\n",
      "Mean Absolute Error: 0.6232031045377535\n",
      "Mean Squared Error: 1.2012206552591693\n",
      "Root Mean Squared Error: 1.0960021237475635\n",
      "R^2 Score: -0.4387947918174848\n"
     ]
    }
   ],
   "source": [
    "from sklearn import metrics\n",
    "print('Validation Metrics:')\n",
    "print('Mean Absolute Error:', metrics.mean_absolute_error(y_target_valid, yPredictedValidation))\n",
    "print('Mean Squared Error:', metrics.mean_squared_error(y_target_valid, yPredictedValidation))\n",
    "print('Root Mean Squared Error:', np.sqrt(metrics.mean_squared_error(y_target_valid, yPredictedValidation)))\n",
    "print('R^2 Score:', metrics.r2_score(y_target_valid, yPredictedValidation))"
   ]
  },
  {
   "cell_type": "code",
   "execution_count": 11,
   "id": "greater-speed",
   "metadata": {
    "ExecuteTime": {
     "end_time": "2021-08-25T09:50:14.990360Z",
     "start_time": "2021-08-25T09:50:14.967422Z"
    }
   },
   "outputs": [],
   "source": [
    "yPredictedTesting = dt.predict(X_test)\n"
   ]
  },
  {
   "cell_type": "code",
   "execution_count": 12,
   "id": "dominant-fraction",
   "metadata": {
    "ExecuteTime": {
     "end_time": "2021-08-25T09:50:26.554416Z",
     "start_time": "2021-08-25T09:50:26.536465Z"
    }
   },
   "outputs": [
    {
     "name": "stdout",
     "output_type": "stream",
     "text": [
      "Testing Metrics:\n",
      "Mean Absolute Error: 0.602999515561446\n",
      "Mean Squared Error: 1.1892315985590236\n",
      "Root Mean Squared Error: 1.0905189583675396\n",
      "R^2 Score: -0.6337873373256009\n"
     ]
    }
   ],
   "source": [
    "print('Testing Metrics:')\n",
    "print('Mean Absolute Error:', metrics.mean_absolute_error(y_target_test, yPredictedTesting))\n",
    "print('Mean Squared Error:', metrics.mean_squared_error(y_target_test, yPredictedTesting))\n",
    "print('Root Mean Squared Error:', np.sqrt(metrics.mean_squared_error(y_target_test, yPredictedTesting)))\n",
    "print('R^2 Score:', metrics.r2_score(y_target_test, yPredictedTesting))"
   ]
  },
  {
   "cell_type": "code",
   "execution_count": 13,
   "id": "located-assets",
   "metadata": {
    "ExecuteTime": {
     "end_time": "2021-08-25T09:50:31.523121Z",
     "start_time": "2021-08-25T09:50:31.501180Z"
    }
   },
   "outputs": [
    {
     "data": {
      "text/plain": [
       "-0.4387947918174848"
      ]
     },
     "execution_count": 13,
     "metadata": {},
     "output_type": "execute_result"
    }
   ],
   "source": [
    "dt.score(X_valid, y_target_valid)"
   ]
  },
  {
   "cell_type": "code",
   "execution_count": 14,
   "id": "nuclear-focus",
   "metadata": {
    "ExecuteTime": {
     "end_time": "2021-08-25T09:50:32.068661Z",
     "start_time": "2021-08-25T09:50:32.044725Z"
    }
   },
   "outputs": [
    {
     "data": {
      "text/plain": [
       "-0.6337873373256009"
      ]
     },
     "execution_count": 14,
     "metadata": {},
     "output_type": "execute_result"
    }
   ],
   "source": [
    "dt.score(X_test, y_target_test)"
   ]
  },
  {
   "cell_type": "code",
   "execution_count": 16,
   "id": "advanced-decimal",
   "metadata": {
    "ExecuteTime": {
     "end_time": "2021-08-25T09:50:53.306777Z",
     "start_time": "2021-08-25T09:50:53.286804Z"
    }
   },
   "outputs": [
    {
     "data": {
      "text/plain": [
       "array([0.16566171, 0.08819764, 0.04454257, 0.02320974, 0.02278498,\n",
       "       0.02233536, 0.05810755, 0.0278134 , 0.23337975, 0.04511041,\n",
       "       0.02432708, 0.02307104, 0.03147069, 0.03771979, 0.03110132,\n",
       "       0.02807233, 0.03977983, 0.0533148 ])"
      ]
     },
     "execution_count": 16,
     "metadata": {},
     "output_type": "execute_result"
    }
   ],
   "source": [
    "dt.feature_importances_"
   ]
  }
 ],
 "metadata": {
  "kernelspec": {
   "display_name": "Python 3",
   "language": "python",
   "name": "python3"
  },
  "language_info": {
   "codemirror_mode": {
    "name": "ipython",
    "version": 3
   },
   "file_extension": ".py",
   "mimetype": "text/x-python",
   "name": "python",
   "nbconvert_exporter": "python",
   "pygments_lexer": "ipython3",
   "version": "3.8.8"
  },
  "toc": {
   "base_numbering": 1,
   "nav_menu": {},
   "number_sections": true,
   "sideBar": true,
   "skip_h1_title": false,
   "title_cell": "Table of Contents",
   "title_sidebar": "Contents",
   "toc_cell": false,
   "toc_position": {},
   "toc_section_display": true,
   "toc_window_display": false
  },
  "varInspector": {
   "cols": {
    "lenName": 16,
    "lenType": 16,
    "lenVar": 40
   },
   "kernels_config": {
    "python": {
     "delete_cmd_postfix": "",
     "delete_cmd_prefix": "del ",
     "library": "var_list.py",
     "varRefreshCmd": "print(var_dic_list())"
    },
    "r": {
     "delete_cmd_postfix": ") ",
     "delete_cmd_prefix": "rm(",
     "library": "var_list.r",
     "varRefreshCmd": "cat(var_dic_list()) "
    }
   },
   "types_to_exclude": [
    "module",
    "function",
    "builtin_function_or_method",
    "instance",
    "_Feature"
   ],
   "window_display": false
  }
 },
 "nbformat": 4,
 "nbformat_minor": 5
}

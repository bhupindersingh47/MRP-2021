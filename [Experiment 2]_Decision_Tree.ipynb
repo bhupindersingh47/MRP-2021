{
 "cells": [
  {
   "cell_type": "markdown",
   "id": "curious-relationship",
   "metadata": {},
   "source": [
    "# Importing required libraries"
   ]
  },
  {
   "cell_type": "code",
   "execution_count": 1,
   "id": "funky-soccer",
   "metadata": {
    "ExecuteTime": {
     "end_time": "2021-08-24T19:00:12.392345Z",
     "start_time": "2021-08-24T19:00:11.093821Z"
    }
   },
   "outputs": [],
   "source": [
    "from sklearn.tree import DecisionTreeRegressor\n",
    "\n",
    "import pandas as pd\n",
    "import numpy as np\n"
   ]
  },
  {
   "cell_type": "markdown",
   "id": "foreign-victoria",
   "metadata": {},
   "source": [
    "# Initializing Feature and Response matrices stored as .CSV files earlier"
   ]
  },
  {
   "cell_type": "markdown",
   "id": "objective-attention",
   "metadata": {},
   "source": [
    "## Training Dataset"
   ]
  },
  {
   "cell_type": "code",
   "execution_count": 2,
   "id": "meaningful-optimization",
   "metadata": {
    "ExecuteTime": {
     "end_time": "2021-08-24T19:00:19.814990Z",
     "start_time": "2021-08-24T19:00:14.820847Z"
    }
   },
   "outputs": [],
   "source": [
    "X_train = np.loadtxt(r'R:\\Ryerson\\Misc\\Datasets\\Preprocessed Data Files\\90_Day_Window_Scaled\\X_train_90_day_window_scaled.csv', delimiter=',')\n",
    "\n",
    "y_target_train = np.loadtxt(r'R:\\Ryerson\\Misc\\Datasets\\Preprocessed Data Files\\90_Day_Window_Scaled\\y_target_train_90_day_window_scaled.csv', delimiter=',')\n"
   ]
  },
  {
   "cell_type": "code",
   "execution_count": 3,
   "id": "freelance-frank",
   "metadata": {
    "ExecuteTime": {
     "end_time": "2021-08-24T19:00:22.547677Z",
     "start_time": "2021-08-24T19:00:22.533716Z"
    }
   },
   "outputs": [
    {
     "data": {
      "text/plain": [
       "(211099, 18)"
      ]
     },
     "execution_count": 3,
     "metadata": {},
     "output_type": "execute_result"
    },
    {
     "data": {
      "text/plain": [
       "(211099,)"
      ]
     },
     "execution_count": 3,
     "metadata": {},
     "output_type": "execute_result"
    }
   ],
   "source": [
    "X_train.shape\n",
    "\n",
    "y_target_train.shape\n"
   ]
  },
  {
   "cell_type": "markdown",
   "id": "greek-companion",
   "metadata": {},
   "source": [
    "## Validation Dataset"
   ]
  },
  {
   "cell_type": "code",
   "execution_count": 4,
   "id": "recognized-persian",
   "metadata": {
    "ExecuteTime": {
     "end_time": "2021-08-24T19:00:30.562836Z",
     "start_time": "2021-08-24T19:00:29.894624Z"
    }
   },
   "outputs": [],
   "source": [
    "X_valid = np.loadtxt(r'R:\\Ryerson\\Misc\\Datasets\\Preprocessed Data Files\\90_Day_Window_Scaled\\X_valid_90_day_window_scaled.csv', delimiter=',')\n",
    "\n",
    "y_target_valid = np.loadtxt(r'R:\\Ryerson\\Misc\\Datasets\\Preprocessed Data Files\\90_Day_Window_Scaled\\y_target_valid_90_day_window_scaled.csv', delimiter=',')\n"
   ]
  },
  {
   "cell_type": "code",
   "execution_count": 5,
   "id": "fifth-mayor",
   "metadata": {
    "ExecuteTime": {
     "end_time": "2021-08-24T19:00:31.719742Z",
     "start_time": "2021-08-24T19:00:31.711762Z"
    }
   },
   "outputs": [
    {
     "data": {
      "text/plain": [
       "(21839, 18)"
      ]
     },
     "execution_count": 5,
     "metadata": {},
     "output_type": "execute_result"
    },
    {
     "data": {
      "text/plain": [
       "(21839,)"
      ]
     },
     "execution_count": 5,
     "metadata": {},
     "output_type": "execute_result"
    }
   ],
   "source": [
    "X_valid.shape\n",
    "\n",
    "y_target_valid.shape\n"
   ]
  },
  {
   "cell_type": "markdown",
   "id": "oriented-degree",
   "metadata": {},
   "source": [
    "## Testing Dataset"
   ]
  },
  {
   "cell_type": "code",
   "execution_count": 6,
   "id": "demographic-medication",
   "metadata": {
    "ExecuteTime": {
     "end_time": "2021-08-24T19:00:37.438484Z",
     "start_time": "2021-08-24T19:00:36.647557Z"
    }
   },
   "outputs": [],
   "source": [
    "X_test = np.loadtxt(r'R:\\Ryerson\\Misc\\Datasets\\Preprocessed Data Files\\90_Day_Window_Scaled\\X_test_90_day_window_scaled.csv', delimiter=',')\n",
    "\n",
    "y_target_test = np.loadtxt(r'R:\\Ryerson\\Misc\\Datasets\\Preprocessed Data Files\\90_Day_Window_Scaled\\y_target_test_90_day_window_scaled.csv', delimiter=',')\n"
   ]
  },
  {
   "cell_type": "code",
   "execution_count": 7,
   "id": "listed-electric",
   "metadata": {
    "ExecuteTime": {
     "end_time": "2021-08-24T19:00:38.360969Z",
     "start_time": "2021-08-24T19:00:38.350000Z"
    }
   },
   "outputs": [
    {
     "data": {
      "text/plain": [
       "(21881, 18)"
      ]
     },
     "execution_count": 7,
     "metadata": {},
     "output_type": "execute_result"
    },
    {
     "data": {
      "text/plain": [
       "(21881,)"
      ]
     },
     "execution_count": 7,
     "metadata": {},
     "output_type": "execute_result"
    }
   ],
   "source": [
    "X_test.shape\n",
    "\n",
    "y_target_test.shape\n"
   ]
  },
  {
   "cell_type": "code",
   "execution_count": 8,
   "id": "extreme-spyware",
   "metadata": {
    "ExecuteTime": {
     "end_time": "2021-08-24T19:00:55.236460Z",
     "start_time": "2021-08-24T19:00:45.791106Z"
    }
   },
   "outputs": [
    {
     "data": {
      "text/plain": [
       "DecisionTreeRegressor(random_state=42)"
      ]
     },
     "execution_count": 8,
     "metadata": {},
     "output_type": "execute_result"
    }
   ],
   "source": [
    "dt = DecisionTreeRegressor(random_state = 42)\n",
    "\n",
    "dt.fit(X_train, y_target_train)\n"
   ]
  },
  {
   "cell_type": "code",
   "execution_count": 9,
   "id": "honest-decimal",
   "metadata": {
    "ExecuteTime": {
     "end_time": "2021-08-24T19:00:59.643211Z",
     "start_time": "2021-08-24T19:00:59.611292Z"
    }
   },
   "outputs": [],
   "source": [
    "yPredicted = dt.predict(X_valid)\n"
   ]
  },
  {
   "cell_type": "code",
   "execution_count": 10,
   "id": "intended-portrait",
   "metadata": {
    "ExecuteTime": {
     "end_time": "2021-08-24T19:01:05.908462Z",
     "start_time": "2021-08-24T19:01:05.895481Z"
    }
   },
   "outputs": [
    {
     "name": "stdout",
     "output_type": "stream",
     "text": [
      "Mean Absolute Error: 0.6232031045377535\n",
      "Mean Squared Error: 1.2012206552591693\n",
      "Root Mean Squared Error: 1.0960021237475635\n"
     ]
    }
   ],
   "source": [
    "from sklearn import metrics\n",
    "print('Mean Absolute Error:', metrics.mean_absolute_error(y_target_valid, yPredicted))\n",
    "print('Mean Squared Error:', metrics.mean_squared_error(y_target_valid, yPredicted))\n",
    "print('Root Mean Squared Error:', np.sqrt(metrics.mean_squared_error(y_target_valid, yPredicted)))"
   ]
  },
  {
   "cell_type": "code",
   "execution_count": 11,
   "id": "greater-speed",
   "metadata": {
    "ExecuteTime": {
     "end_time": "2021-08-24T19:01:10.156713Z",
     "start_time": "2021-08-24T19:01:10.134738Z"
    }
   },
   "outputs": [],
   "source": [
    "yPredictedTest = dt.predict(X_test)\n"
   ]
  },
  {
   "cell_type": "code",
   "execution_count": 12,
   "id": "dominant-fraction",
   "metadata": {
    "ExecuteTime": {
     "end_time": "2021-08-24T19:01:13.017059Z",
     "start_time": "2021-08-24T19:01:13.009046Z"
    }
   },
   "outputs": [
    {
     "name": "stdout",
     "output_type": "stream",
     "text": [
      "Mean Absolute Error: 0.602999515561446\n",
      "Mean Squared Error: 1.1892315985590236\n",
      "Root Mean Squared Error: 1.0905189583675396\n"
     ]
    }
   ],
   "source": [
    "print('Mean Absolute Error:', metrics.mean_absolute_error(y_target_test, yPredictedTest))\n",
    "print('Mean Squared Error:', metrics.mean_squared_error(y_target_test, yPredictedTest))\n",
    "print('Root Mean Squared Error:', np.sqrt(metrics.mean_squared_error(y_target_test, yPredictedTest)))"
   ]
  },
  {
   "cell_type": "code",
   "execution_count": 13,
   "id": "located-assets",
   "metadata": {
    "ExecuteTime": {
     "end_time": "2021-08-24T19:01:21.360336Z",
     "start_time": "2021-08-24T19:01:21.344345Z"
    }
   },
   "outputs": [
    {
     "data": {
      "text/plain": [
       "-0.4387947918174848"
      ]
     },
     "execution_count": 13,
     "metadata": {},
     "output_type": "execute_result"
    }
   ],
   "source": [
    "dt.score(X_valid, y_target_valid)"
   ]
  },
  {
   "cell_type": "code",
   "execution_count": 14,
   "id": "nuclear-focus",
   "metadata": {
    "ExecuteTime": {
     "end_time": "2021-08-24T19:01:43.923437Z",
     "start_time": "2021-08-24T19:01:43.902491Z"
    }
   },
   "outputs": [
    {
     "data": {
      "text/plain": [
       "-0.6337873373256009"
      ]
     },
     "execution_count": 14,
     "metadata": {},
     "output_type": "execute_result"
    }
   ],
   "source": [
    "dt.score(X_test, y_target_test)"
   ]
  },
  {
   "cell_type": "code",
   "execution_count": 15,
   "id": "essential-potential",
   "metadata": {
    "ExecuteTime": {
     "end_time": "2021-08-24T19:04:39.328755Z",
     "start_time": "2021-08-24T19:04:39.309806Z"
    }
   },
   "outputs": [
    {
     "data": {
      "text/plain": [
       "array([0.    , 0.    , 0.    , ..., 2.7064, 2.8405, 0.0804])"
      ]
     },
     "execution_count": 15,
     "metadata": {},
     "output_type": "execute_result"
    }
   ],
   "source": [
    "yPredicted"
   ]
  },
  {
   "cell_type": "code",
   "execution_count": 16,
   "id": "grand-uruguay",
   "metadata": {
    "ExecuteTime": {
     "end_time": "2021-08-24T19:04:45.437914Z",
     "start_time": "2021-08-24T19:04:45.428938Z"
    }
   },
   "outputs": [
    {
     "data": {
      "text/plain": [
       "array([0.    , 0.3983, 3.3225, ..., 2.8357, 0.    , 2.    ])"
      ]
     },
     "execution_count": 16,
     "metadata": {},
     "output_type": "execute_result"
    }
   ],
   "source": [
    "yPredictedTest"
   ]
  },
  {
   "cell_type": "code",
   "execution_count": null,
   "id": "advanced-decimal",
   "metadata": {},
   "outputs": [],
   "source": []
  }
 ],
 "metadata": {
  "kernelspec": {
   "display_name": "Python 3",
   "language": "python",
   "name": "python3"
  },
  "language_info": {
   "codemirror_mode": {
    "name": "ipython",
    "version": 3
   },
   "file_extension": ".py",
   "mimetype": "text/x-python",
   "name": "python",
   "nbconvert_exporter": "python",
   "pygments_lexer": "ipython3",
   "version": "3.8.8"
  },
  "toc": {
   "base_numbering": 1,
   "nav_menu": {},
   "number_sections": true,
   "sideBar": true,
   "skip_h1_title": false,
   "title_cell": "Table of Contents",
   "title_sidebar": "Contents",
   "toc_cell": false,
   "toc_position": {},
   "toc_section_display": true,
   "toc_window_display": false
  },
  "varInspector": {
   "cols": {
    "lenName": 16,
    "lenType": 16,
    "lenVar": 40
   },
   "kernels_config": {
    "python": {
     "delete_cmd_postfix": "",
     "delete_cmd_prefix": "del ",
     "library": "var_list.py",
     "varRefreshCmd": "print(var_dic_list())"
    },
    "r": {
     "delete_cmd_postfix": ") ",
     "delete_cmd_prefix": "rm(",
     "library": "var_list.r",
     "varRefreshCmd": "cat(var_dic_list()) "
    }
   },
   "types_to_exclude": [
    "module",
    "function",
    "builtin_function_or_method",
    "instance",
    "_Feature"
   ],
   "window_display": false
  }
 },
 "nbformat": 4,
 "nbformat_minor": 5
}

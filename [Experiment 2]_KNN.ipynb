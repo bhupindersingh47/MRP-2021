{
 "cells": [
  {
   "cell_type": "markdown",
   "id": "curious-relationship",
   "metadata": {},
   "source": [
    "# Importing required libraries"
   ]
  },
  {
   "cell_type": "code",
   "execution_count": 22,
   "id": "funky-soccer",
   "metadata": {
    "ExecuteTime": {
     "end_time": "2021-08-25T09:07:51.332814Z",
     "start_time": "2021-08-25T09:07:51.323838Z"
    }
   },
   "outputs": [],
   "source": [
    "from sklearn.neighbors import KNeighborsRegressor\n",
    "from sklearn.metrics import accuracy_score\n",
    "from sklearn.impute import SimpleImputer\n",
    "\n",
    "import pandas as pd\n",
    "import numpy as np\n"
   ]
  },
  {
   "cell_type": "markdown",
   "id": "listed-kitchen",
   "metadata": {},
   "source": [
    "# Initializing Feature and Response matrices stored as .CSV files earlier"
   ]
  },
  {
   "cell_type": "markdown",
   "id": "overhead-cancellation",
   "metadata": {},
   "source": [
    "## Training Dataset"
   ]
  },
  {
   "cell_type": "code",
   "execution_count": 23,
   "id": "meaningful-optimization",
   "metadata": {
    "ExecuteTime": {
     "end_time": "2021-08-25T09:07:58.738043Z",
     "start_time": "2021-08-25T09:07:54.188581Z"
    }
   },
   "outputs": [],
   "source": [
    "X_train = np.loadtxt(r'R:\\Ryerson\\Misc\\Datasets\\Preprocessed Data Files\\90_Day_Window_Scaled\\X_train_90_day_window_scaled.csv', delimiter=',')\n",
    "\n",
    "y_target_train = np.loadtxt(r'R:\\Ryerson\\Misc\\Datasets\\Preprocessed Data Files\\90_Day_Window_Scaled\\y_target_train_90_day_window_scaled.csv', delimiter=',')\n"
   ]
  },
  {
   "cell_type": "code",
   "execution_count": 24,
   "id": "banned-essay",
   "metadata": {
    "ExecuteTime": {
     "end_time": "2021-08-25T09:07:59.465399Z",
     "start_time": "2021-08-25T09:07:59.452434Z"
    }
   },
   "outputs": [
    {
     "data": {
      "text/plain": [
       "(211099, 18)"
      ]
     },
     "execution_count": 24,
     "metadata": {},
     "output_type": "execute_result"
    },
    {
     "data": {
      "text/plain": [
       "(211099,)"
      ]
     },
     "execution_count": 24,
     "metadata": {},
     "output_type": "execute_result"
    }
   ],
   "source": [
    "X_train.shape\n",
    "\n",
    "y_target_train.shape\n"
   ]
  },
  {
   "cell_type": "markdown",
   "id": "charitable-replication",
   "metadata": {},
   "source": [
    "## Validation Dataset"
   ]
  },
  {
   "cell_type": "code",
   "execution_count": 25,
   "id": "processed-merit",
   "metadata": {
    "ExecuteTime": {
     "end_time": "2021-08-25T09:08:01.881340Z",
     "start_time": "2021-08-25T09:08:01.404160Z"
    }
   },
   "outputs": [],
   "source": [
    "X_valid = np.loadtxt(r'R:\\Ryerson\\Misc\\Datasets\\Preprocessed Data Files\\90_Day_Window_Scaled\\X_valid_90_day_window_scaled.csv', delimiter=',')\n",
    "\n",
    "y_target_valid = np.loadtxt(r'R:\\Ryerson\\Misc\\Datasets\\Preprocessed Data Files\\90_Day_Window_Scaled\\y_target_valid_90_day_window_scaled.csv', delimiter=',')\n"
   ]
  },
  {
   "cell_type": "code",
   "execution_count": 26,
   "id": "affected-disposition",
   "metadata": {
    "ExecuteTime": {
     "end_time": "2021-08-25T09:08:02.565190Z",
     "start_time": "2021-08-25T09:08:02.558209Z"
    }
   },
   "outputs": [
    {
     "data": {
      "text/plain": [
       "(21839, 18)"
      ]
     },
     "execution_count": 26,
     "metadata": {},
     "output_type": "execute_result"
    },
    {
     "data": {
      "text/plain": [
       "(21839,)"
      ]
     },
     "execution_count": 26,
     "metadata": {},
     "output_type": "execute_result"
    }
   ],
   "source": [
    "X_valid.shape\n",
    "\n",
    "y_target_valid.shape\n"
   ]
  },
  {
   "cell_type": "markdown",
   "id": "chinese-delivery",
   "metadata": {},
   "source": [
    "## Testing Dataset"
   ]
  },
  {
   "cell_type": "code",
   "execution_count": 27,
   "id": "fourth-living",
   "metadata": {
    "ExecuteTime": {
     "end_time": "2021-08-25T09:08:04.492489Z",
     "start_time": "2021-08-25T09:08:04.015801Z"
    }
   },
   "outputs": [],
   "source": [
    "X_test = np.loadtxt(r'R:\\Ryerson\\Misc\\Datasets\\Preprocessed Data Files\\90_Day_Window_Scaled\\X_test_90_day_window_scaled.csv', delimiter=',')\n",
    "\n",
    "y_target_test = np.loadtxt(r'R:\\Ryerson\\Misc\\Datasets\\Preprocessed Data Files\\90_Day_Window_Scaled\\y_target_test_90_day_window_scaled.csv', delimiter=',')\n"
   ]
  },
  {
   "cell_type": "code",
   "execution_count": 28,
   "id": "hollywood-detective",
   "metadata": {
    "ExecuteTime": {
     "end_time": "2021-08-25T09:08:04.949381Z",
     "start_time": "2021-08-25T09:08:04.940406Z"
    }
   },
   "outputs": [
    {
     "data": {
      "text/plain": [
       "(21881, 18)"
      ]
     },
     "execution_count": 28,
     "metadata": {},
     "output_type": "execute_result"
    },
    {
     "data": {
      "text/plain": [
       "(21881,)"
      ]
     },
     "execution_count": 28,
     "metadata": {},
     "output_type": "execute_result"
    }
   ],
   "source": [
    "X_test.shape\n",
    "\n",
    "y_target_test.shape\n"
   ]
  },
  {
   "cell_type": "code",
   "execution_count": 29,
   "id": "subject-roberts",
   "metadata": {
    "ExecuteTime": {
     "end_time": "2021-08-25T09:08:05.503897Z",
     "start_time": "2021-08-25T09:08:05.486943Z"
    }
   },
   "outputs": [],
   "source": [
    "#y_target_train = y_target_train.ravel()\n",
    "#y_target_train.shape"
   ]
  },
  {
   "cell_type": "markdown",
   "id": "imperial-orange",
   "metadata": {},
   "source": [
    "# Determining the optimal hyperparameter by training KNN with range of _k_ values"
   ]
  },
  {
   "cell_type": "code",
   "execution_count": 30,
   "id": "digital-analyst",
   "metadata": {
    "ExecuteTime": {
     "end_time": "2021-08-25T09:08:07.547033Z",
     "start_time": "2021-08-25T09:08:07.535095Z"
    }
   },
   "outputs": [],
   "source": [
    "import matplotlib.pyplot as plt\n",
    "%matplotlib inline\n",
    "\n",
    "#plt.style.use('seaborn-poster')\n"
   ]
  },
  {
   "cell_type": "markdown",
   "id": "native-reach",
   "metadata": {},
   "source": [
    "## Importing required libraries and defining required metric variables"
   ]
  },
  {
   "cell_type": "code",
   "execution_count": 31,
   "id": "bright-inside",
   "metadata": {
    "ExecuteTime": {
     "end_time": "2021-08-25T09:08:12.676637Z",
     "start_time": "2021-08-25T09:08:12.663658Z"
    }
   },
   "outputs": [],
   "source": [
    "from sklearn import metrics\n",
    "from tqdm.auto import tqdm\n",
    "\n",
    "metricsMAE = []\n",
    "metricsMSE = []\n",
    "metricsRMSE = []\n",
    "metricsR2 = []\n"
   ]
  },
  {
   "cell_type": "markdown",
   "id": "devoted-style",
   "metadata": {},
   "source": [
    "## Training KNN model with range of _k_ values and storing the resulting metrics"
   ]
  },
  {
   "cell_type": "code",
   "execution_count": 32,
   "id": "light-first",
   "metadata": {
    "ExecuteTime": {
     "end_time": "2021-08-25T09:08:14.662395Z",
     "start_time": "2021-08-25T09:08:14.649396Z"
    }
   },
   "outputs": [],
   "source": [
    "def trainKNNAndPredict(kSizeList, X_train, X_test, y_train, y_test, knnModel=KNeighborsRegressor):\n",
    "    \n",
    "    # Training KNN for each k and storing scores\n",
    "    for k in tqdm(kSizeList):\n",
    "        # Initialize, fit, predict\n",
    "        knn = knnModel(n_neighbors=k)\n",
    "        \n",
    "        knn.fit(X_train, y_train)\n",
    "        \n",
    "        yPredicted = knn.predict(X_test)\n",
    "        \n",
    "        #store metrics\n",
    "        metricsMAE.append(metrics.mean_absolute_error(y_test, yPredicted))\n",
    "        metricsMSE.append(metrics.mean_squared_error(y_test, yPredicted))\n",
    "        metricsRMSE.append(np.sqrt(metrics.mean_squared_error(y_test, yPredicted)))\n",
    "        metricsR2.append(metrics.r2_score(y_test, yPredicted))\n",
    "        "
   ]
  },
  {
   "cell_type": "markdown",
   "id": "resident-variation",
   "metadata": {},
   "source": [
    "## Plotting the R^2 scores obtained"
   ]
  },
  {
   "cell_type": "code",
   "execution_count": 33,
   "id": "demographic-police",
   "metadata": {
    "ExecuteTime": {
     "end_time": "2021-08-25T09:08:15.932795Z",
     "start_time": "2021-08-25T09:08:15.925778Z"
    }
   },
   "outputs": [],
   "source": [
    "def plotMetricsCurve(kSizeList):\n",
    "\n",
    "    # Plotting\n",
    "    fig, ax = plt.subplots()\n",
    "    \n",
    "    ax.plot(kSizeList, metricsR2, label='Validation R^2', color='red')\n",
    "\n",
    "    ax.set(title='Plot of R^2 Scores for KNN with Different Values for $k$',\n",
    "           xlabel='Number of Neighbors',\n",
    "           ylabel='R^2 Score')\n",
    "    \n",
    "    ax.legend()\n"
   ]
  },
  {
   "cell_type": "code",
   "execution_count": 34,
   "id": "found-geneva",
   "metadata": {
    "ExecuteTime": {
     "end_time": "2021-08-25T09:31:19.330526Z",
     "start_time": "2021-08-25T09:08:18.277182Z"
    }
   },
   "outputs": [
    {
     "data": {
      "application/vnd.jupyter.widget-view+json": {
       "model_id": "137a1ba8c6bb4043988d15c77422f41b",
       "version_major": 2,
       "version_minor": 0
      },
      "text/plain": [
       "  0%|          | 0/15 [00:00<?, ?it/s]"
      ]
     },
     "metadata": {},
     "output_type": "display_data"
    },
    {
     "data": {
      "image/png": "[encoded data removed]",
      "text/plain": [
       "<Figure size 432x288 with 1 Axes>"
      ]
     },
     "metadata": {
      "needs_background": "dark"
     },
     "output_type": "display_data"
    }
   ],
   "source": [
    "# Choosing values for k\n",
    "numNeighbors = np.arange(1, 16)\n",
    "\n",
    "# Calling training and plotting functions defined above\n",
    "trainKNNAndPredict(numNeighbors, X_train, X_valid, y_target_train, y_target_valid)\n",
    "plotMetricsCurve(numNeighbors)\n"
   ]
  },
  {
   "cell_type": "markdown",
   "id": "amateur-germany",
   "metadata": {},
   "source": [
    "# Examining the plot above, it can be inferred that _k = 15_ has the best R^2 score. Therefore, predicting drought scores for test data using a higher _k_ value:"
   ]
  },
  {
   "cell_type": "code",
   "execution_count": 35,
   "id": "direct-monitor",
   "metadata": {
    "ExecuteTime": {
     "end_time": "2021-08-25T09:38:03.393045Z",
     "start_time": "2021-08-25T09:35:03.226828Z"
    }
   },
   "outputs": [
    {
     "data": {
      "text/plain": [
       "KNeighborsRegressor(n_jobs=-1, n_neighbors=15)"
      ]
     },
     "execution_count": 35,
     "metadata": {},
     "output_type": "execute_result"
    }
   ],
   "source": [
    "#initialize, fit, and predict\n",
    "knn = KNeighborsRegressor(n_neighbors=15, n_jobs=-1)\n",
    "        \n",
    "knn.fit(X_train, y_target_train)\n",
    "\n",
    "yPredicted = knn.predict(X_test)\n",
    "\n",
    "# print \n",
    "metricMAE = metrics.mean_absolute_error(y_target_test, yPredicted)\n",
    "metricMSE = metrics.mean_squared_error(y_target_test, yPredicted)\n",
    "metricRMSE = np.sqrt(metrics.mean_squared_error(y_target_test, yPredicted))\n",
    "metricR2 = metrics.r2_score(y_target_test, yPredicted)"
   ]
  },
  {
   "cell_type": "code",
   "execution_count": 36,
   "id": "wicked-toyota",
   "metadata": {
    "ExecuteTime": {
     "end_time": "2021-08-25T09:40:06.774099Z",
     "start_time": "2021-08-25T09:40:06.767117Z"
    }
   },
   "outputs": [
    {
     "name": "stdout",
     "output_type": "stream",
     "text": [
      "\n",
      "MAE:  0.4889586316895937 \n",
      "\n",
      "MSE:  0.5669626542720209 \n",
      "\n",
      "RMSE:  0.7529692253153649 \n",
      "\n",
      "R^2 Score:  0.22109670949836735\n"
     ]
    }
   ],
   "source": [
    "print('\\nMAE: ', metricMAE, '\\n\\nMSE: ', metricMSE, '\\n\\nRMSE: ', metricRMSE, '\\n\\nR^2 Score: ', metricR2)"
   ]
  }
 ],
 "metadata": {
  "kernelspec": {
   "display_name": "Python 3",
   "language": "python",
   "name": "python3"
  },
  "language_info": {
   "codemirror_mode": {
    "name": "ipython",
    "version": 3
   },
   "file_extension": ".py",
   "mimetype": "text/x-python",
   "name": "python",
   "nbconvert_exporter": "python",
   "pygments_lexer": "ipython3",
   "version": "3.8.8"
  },
  "toc": {
   "base_numbering": 1,
   "nav_menu": {},
   "number_sections": true,
   "sideBar": true,
   "skip_h1_title": false,
   "title_cell": "Table of Contents",
   "title_sidebar": "Contents",
   "toc_cell": false,
   "toc_position": {},
   "toc_section_display": true,
   "toc_window_display": false
  },
  "varInspector": {
   "cols": {
    "lenName": 16,
    "lenType": 16,
    "lenVar": 40
   },
   "kernels_config": {
    "python": {
     "delete_cmd_postfix": "",
     "delete_cmd_prefix": "del ",
     "library": "var_list.py",
     "varRefreshCmd": "print(var_dic_list())"
    },
    "r": {
     "delete_cmd_postfix": ") ",
     "delete_cmd_prefix": "rm(",
     "library": "var_list.r",
     "varRefreshCmd": "cat(var_dic_list()) "
    }
   },
   "types_to_exclude": [
    "module",
    "function",
    "builtin_function_or_method",
    "instance",
    "_Feature"
   ],
   "window_display": false
  }
 },
 "nbformat": 4,
 "nbformat_minor": 5
}

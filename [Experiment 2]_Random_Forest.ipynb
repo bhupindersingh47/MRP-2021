{
 "cells": [
  {
   "cell_type": "markdown",
   "id": "curious-relationship",
   "metadata": {},
   "source": [
    "# Importing required libraries"
   ]
  },
  {
   "cell_type": "code",
   "execution_count": 1,
   "id": "funky-soccer",
   "metadata": {
    "ExecuteTime": {
     "end_time": "2021-08-25T10:44:10.722041Z",
     "start_time": "2021-08-25T10:44:10.719047Z"
    }
   },
   "outputs": [],
   "source": [
    "from sklearn.ensemble import RandomForestRegressor\n",
    "\n",
    "import pandas as pd\n",
    "import numpy as np\n"
   ]
  },
  {
   "cell_type": "markdown",
   "id": "caring-gauge",
   "metadata": {},
   "source": [
    "# Initializing Feature and Response matrices stored as .CSV files earlier"
   ]
  },
  {
   "cell_type": "markdown",
   "id": "contrary-realtor",
   "metadata": {},
   "source": [
    "## Training Dataset"
   ]
  },
  {
   "cell_type": "code",
   "execution_count": 2,
   "id": "meaningful-optimization",
   "metadata": {
    "ExecuteTime": {
     "end_time": "2021-08-25T10:45:12.711744Z",
     "start_time": "2021-08-25T10:45:07.123460Z"
    }
   },
   "outputs": [],
   "source": [
    "X_train = np.loadtxt(r'R:\\Ryerson\\Misc\\Datasets\\Preprocessed Data Files\\90_Day_Window_Scaled\\X_train_90_day_window_scaled.csv', delimiter=',')\n",
    "\n",
    "y_target_train = np.loadtxt(r'R:\\Ryerson\\Misc\\Datasets\\Preprocessed Data Files\\90_Day_Window_Scaled\\y_target_train_90_day_window_scaled.csv', delimiter=',')\n"
   ]
  },
  {
   "cell_type": "code",
   "execution_count": 3,
   "id": "joined-puppy",
   "metadata": {
    "ExecuteTime": {
     "end_time": "2021-08-25T10:45:14.414107Z",
     "start_time": "2021-08-25T10:45:14.393163Z"
    }
   },
   "outputs": [
    {
     "data": {
      "text/plain": [
       "(211099, 18)"
      ]
     },
     "execution_count": 3,
     "metadata": {},
     "output_type": "execute_result"
    },
    {
     "data": {
      "text/plain": [
       "(211099,)"
      ]
     },
     "execution_count": 3,
     "metadata": {},
     "output_type": "execute_result"
    }
   ],
   "source": [
    "X_train.shape\n",
    "\n",
    "y_target_train.shape\n"
   ]
  },
  {
   "cell_type": "markdown",
   "id": "prescription-kidney",
   "metadata": {},
   "source": [
    "## Validation Dataset"
   ]
  },
  {
   "cell_type": "code",
   "execution_count": 4,
   "id": "trying-nowhere",
   "metadata": {
    "ExecuteTime": {
     "end_time": "2021-08-25T10:45:50.631427Z",
     "start_time": "2021-08-25T10:45:50.156836Z"
    }
   },
   "outputs": [],
   "source": [
    "X_valid = np.loadtxt(r'R:\\Ryerson\\Misc\\Datasets\\Preprocessed Data Files\\90_Day_Window_Scaled\\X_valid_90_day_window_scaled.csv', delimiter=',')\n",
    "\n",
    "y_target_valid = np.loadtxt(r'R:\\Ryerson\\Misc\\Datasets\\Preprocessed Data Files\\90_Day_Window_Scaled\\y_target_valid_90_day_window_scaled.csv', delimiter=',')\n"
   ]
  },
  {
   "cell_type": "code",
   "execution_count": 5,
   "id": "prescription-bread",
   "metadata": {
    "ExecuteTime": {
     "end_time": "2021-08-25T10:45:51.314170Z",
     "start_time": "2021-08-25T10:45:51.299085Z"
    }
   },
   "outputs": [
    {
     "data": {
      "text/plain": [
       "(21839, 18)"
      ]
     },
     "execution_count": 5,
     "metadata": {},
     "output_type": "execute_result"
    },
    {
     "data": {
      "text/plain": [
       "(21839,)"
      ]
     },
     "execution_count": 5,
     "metadata": {},
     "output_type": "execute_result"
    }
   ],
   "source": [
    "X_valid.shape\n",
    "\n",
    "y_target_valid.shape\n"
   ]
  },
  {
   "cell_type": "markdown",
   "id": "rubber-boating",
   "metadata": {},
   "source": [
    "## Testing Dataset"
   ]
  },
  {
   "cell_type": "code",
   "execution_count": 6,
   "id": "communist-austin",
   "metadata": {
    "ExecuteTime": {
     "end_time": "2021-08-25T10:46:05.663185Z",
     "start_time": "2021-08-25T10:46:05.135849Z"
    }
   },
   "outputs": [],
   "source": [
    "X_test = np.loadtxt(r'R:\\Ryerson\\Misc\\Datasets\\Preprocessed Data Files\\90_Day_Window_Scaled\\X_test_90_day_window_scaled.csv', delimiter=',')\n",
    "\n",
    "y_target_test = np.loadtxt(r'R:\\Ryerson\\Misc\\Datasets\\Preprocessed Data Files\\90_Day_Window_Scaled\\y_target_test_90_day_window_scaled.csv', delimiter=',')\n"
   ]
  },
  {
   "cell_type": "code",
   "execution_count": 7,
   "id": "advance-modem",
   "metadata": {
    "ExecuteTime": {
     "end_time": "2021-08-25T10:46:08.083941Z",
     "start_time": "2021-08-25T10:46:08.065989Z"
    }
   },
   "outputs": [
    {
     "data": {
      "text/plain": [
       "(21881, 18)"
      ]
     },
     "execution_count": 7,
     "metadata": {},
     "output_type": "execute_result"
    },
    {
     "data": {
      "text/plain": [
       "(21881,)"
      ]
     },
     "execution_count": 7,
     "metadata": {},
     "output_type": "execute_result"
    }
   ],
   "source": [
    "X_test.shape\n",
    "\n",
    "y_target_test.shape\n"
   ]
  },
  {
   "cell_type": "markdown",
   "id": "transparent-trouble",
   "metadata": {},
   "source": [
    "# Training a Random Forest with 1000 Trees"
   ]
  },
  {
   "cell_type": "code",
   "execution_count": 8,
   "id": "extreme-spyware",
   "metadata": {
    "ExecuteTime": {
     "end_time": "2021-08-25T10:46:55.472838Z",
     "start_time": "2021-08-25T10:46:55.455884Z"
    }
   },
   "outputs": [],
   "source": [
    "rf = RandomForestRegressor(n_estimators=1000, n_jobs=-1, random_state=42)\n"
   ]
  },
  {
   "cell_type": "code",
   "execution_count": 9,
   "id": "remarkable-produce",
   "metadata": {
    "ExecuteTime": {
     "end_time": "2021-08-25T11:01:24.319460Z",
     "start_time": "2021-08-25T10:47:14.506655Z"
    }
   },
   "outputs": [
    {
     "data": {
      "text/plain": [
       "RandomForestRegressor(n_estimators=1000, n_jobs=-1, random_state=42)"
      ]
     },
     "execution_count": 9,
     "metadata": {},
     "output_type": "execute_result"
    }
   ],
   "source": [
    "rf.fit(X_train, y_target_train)\n"
   ]
  },
  {
   "cell_type": "code",
   "execution_count": 11,
   "id": "declared-graham",
   "metadata": {
    "ExecuteTime": {
     "end_time": "2021-08-25T14:34:45.710099Z",
     "start_time": "2021-08-25T14:34:44.578129Z"
    }
   },
   "outputs": [],
   "source": [
    "yPredictedValidation = rf.predict(X_valid)"
   ]
  },
  {
   "cell_type": "code",
   "execution_count": 12,
   "id": "extended-control",
   "metadata": {
    "ExecuteTime": {
     "end_time": "2021-08-25T14:35:22.498085Z",
     "start_time": "2021-08-25T14:35:22.484122Z"
    }
   },
   "outputs": [
    {
     "name": "stdout",
     "output_type": "stream",
     "text": [
      "Validation Metrics:\n",
      "Mean Absolute Error: 0.49167515422041713\n",
      "Mean Squared Error: 0.5456668905483621\n",
      "Root Mean Squared Error: 0.7386926901955658\n",
      "R^2 Score: 0.34641260392010553\n"
     ]
    }
   ],
   "source": [
    "from sklearn import metrics\n",
    "print('Validation Metrics:')\n",
    "print('Mean Absolute Error:', metrics.mean_absolute_error(y_target_valid, yPredictedValidation))\n",
    "print('Mean Squared Error:', metrics.mean_squared_error(y_target_valid, yPredictedValidation))\n",
    "print('Root Mean Squared Error:', np.sqrt(metrics.mean_squared_error(y_target_valid, yPredictedValidation)))\n",
    "print('R^2 Score:', metrics.r2_score(y_target_valid, yPredictedValidation))"
   ]
  },
  {
   "cell_type": "code",
   "execution_count": 15,
   "id": "artistic-cincinnati",
   "metadata": {
    "ExecuteTime": {
     "end_time": "2021-08-25T14:36:12.850905Z",
     "start_time": "2021-08-25T14:36:11.553375Z"
    }
   },
   "outputs": [],
   "source": [
    "yPredictedTesting = rf.predict(X_test)\n"
   ]
  },
  {
   "cell_type": "code",
   "execution_count": 16,
   "id": "timely-description",
   "metadata": {
    "ExecuteTime": {
     "end_time": "2021-08-25T14:36:15.430634Z",
     "start_time": "2021-08-25T14:36:15.417670Z"
    }
   },
   "outputs": [
    {
     "name": "stdout",
     "output_type": "stream",
     "text": [
      "Testing Metrics:\n",
      "Mean Absolute Error: 0.48449318515312806\n",
      "Mean Squared Error: 0.5299518322945836\n",
      "Root Mean Squared Error: 0.7279779064604802\n",
      "R^2 Score: 0.2719428292651286\n"
     ]
    }
   ],
   "source": [
    "print('Testing Metrics:')\n",
    "print('Mean Absolute Error:', metrics.mean_absolute_error(y_target_test, yPredictedTesting))\n",
    "print('Mean Squared Error:', metrics.mean_squared_error(y_target_test, yPredictedTesting))\n",
    "print('Root Mean Squared Error:', np.sqrt(metrics.mean_squared_error(y_target_test, yPredictedTesting)))\n",
    "print('R^2 Score:', metrics.r2_score(y_target_test, yPredictedTesting))"
   ]
  },
  {
   "cell_type": "code",
   "execution_count": 17,
   "id": "private-projector",
   "metadata": {
    "ExecuteTime": {
     "end_time": "2021-08-25T14:38:34.412252Z",
     "start_time": "2021-08-25T14:38:32.984073Z"
    }
   },
   "outputs": [
    {
     "data": {
      "text/plain": [
       "0.34641260392010553"
      ]
     },
     "execution_count": 17,
     "metadata": {},
     "output_type": "execute_result"
    }
   ],
   "source": [
    "rf.score(X_valid, y_target_valid)"
   ]
  },
  {
   "cell_type": "code",
   "execution_count": 18,
   "id": "strong-reception",
   "metadata": {
    "ExecuteTime": {
     "end_time": "2021-08-25T14:38:45.320137Z",
     "start_time": "2021-08-25T14:38:44.158248Z"
    }
   },
   "outputs": [
    {
     "data": {
      "text/plain": [
       "0.2719428292651286"
      ]
     },
     "execution_count": 18,
     "metadata": {},
     "output_type": "execute_result"
    }
   ],
   "source": [
    "rf.score(X_test, y_target_test)"
   ]
  },
  {
   "cell_type": "code",
   "execution_count": 19,
   "id": "exempt-bouquet",
   "metadata": {
    "ExecuteTime": {
     "end_time": "2021-08-25T14:38:56.061694Z",
     "start_time": "2021-08-25T14:38:56.045771Z"
    },
    "scrolled": true
   },
   "outputs": [
    {
     "data": {
      "text/plain": [
       "array([0.3798527 , 0.0264804 , 0.8607079 , ..., 0.7352861 , 2.0032945 ,\n",
       "       1.48547023])"
      ]
     },
     "execution_count": 19,
     "metadata": {},
     "output_type": "execute_result"
    }
   ],
   "source": [
    "yPredictedValidation"
   ]
  },
  {
   "cell_type": "code",
   "execution_count": 20,
   "id": "exclusive-lesson",
   "metadata": {
    "ExecuteTime": {
     "end_time": "2021-08-25T14:38:57.450474Z",
     "start_time": "2021-08-25T14:38:57.436504Z"
    }
   },
   "outputs": [
    {
     "data": {
      "text/plain": [
       "array([0.8281098, 1.0808252, 1.3807517, ..., 1.4577227, 1.1730794,\n",
       "       1.7385242])"
      ]
     },
     "execution_count": 20,
     "metadata": {},
     "output_type": "execute_result"
    }
   ],
   "source": [
    "yPredictedTesting"
   ]
  },
  {
   "cell_type": "markdown",
   "id": "eleven-denmark",
   "metadata": {},
   "source": [
    "# Training a Random Forest with 100 Trees"
   ]
  },
  {
   "cell_type": "code",
   "execution_count": 29,
   "id": "tender-nebraska",
   "metadata": {
    "ExecuteTime": {
     "end_time": "2021-08-25T14:52:29.131373Z",
     "start_time": "2021-08-25T14:52:29.115416Z"
    }
   },
   "outputs": [],
   "source": [
    "rf_2 = RandomForestRegressor(n_estimators=100, n_jobs=-1, random_state=10)\n"
   ]
  },
  {
   "cell_type": "code",
   "execution_count": 30,
   "id": "closing-rapid",
   "metadata": {
    "ExecuteTime": {
     "end_time": "2021-08-25T14:55:26.665340Z",
     "start_time": "2021-08-25T14:52:36.798855Z"
    }
   },
   "outputs": [
    {
     "data": {
      "text/plain": [
       "RandomForestRegressor(n_jobs=-1, random_state=10)"
      ]
     },
     "execution_count": 30,
     "metadata": {},
     "output_type": "execute_result"
    }
   ],
   "source": [
    "rf_2.fit(X_train, y_target_train)\n"
   ]
  },
  {
   "cell_type": "code",
   "execution_count": 25,
   "id": "reduced-climate",
   "metadata": {
    "ExecuteTime": {
     "end_time": "2021-08-25T14:48:31.939070Z",
     "start_time": "2021-08-25T14:48:31.257894Z"
    }
   },
   "outputs": [],
   "source": [
    "yPredictedValidation_rf2 = rf_2.predict(X_valid)"
   ]
  },
  {
   "cell_type": "code",
   "execution_count": 26,
   "id": "rocky-bracket",
   "metadata": {
    "ExecuteTime": {
     "end_time": "2021-08-25T14:48:59.804507Z",
     "start_time": "2021-08-25T14:48:59.777580Z"
    }
   },
   "outputs": [
    {
     "name": "stdout",
     "output_type": "stream",
     "text": [
      "Validation Metrics:\n",
      "Mean Absolute Error: 0.4926437918919081\n",
      "Mean Squared Error: 0.5507769299174985\n",
      "Root Mean Squared Error: 0.7421434699015403\n",
      "R^2 Score: 0.34029191493752275\n"
     ]
    }
   ],
   "source": [
    "print('Validation Metrics:')\n",
    "print('Mean Absolute Error:', metrics.mean_absolute_error(y_target_valid, yPredictedValidation_rf2))\n",
    "print('Mean Squared Error:', metrics.mean_squared_error(y_target_valid, yPredictedValidation_rf2))\n",
    "print('Root Mean Squared Error:', np.sqrt(metrics.mean_squared_error(y_target_valid, yPredictedValidation_rf2)))\n",
    "print('R^2 Score:', metrics.r2_score(y_target_valid, yPredictedValidation_rf2))"
   ]
  },
  {
   "cell_type": "code",
   "execution_count": 27,
   "id": "failing-pittsburgh",
   "metadata": {
    "ExecuteTime": {
     "end_time": "2021-08-25T14:50:36.506742Z",
     "start_time": "2021-08-25T14:50:35.812601Z"
    }
   },
   "outputs": [],
   "source": [
    "yPredictedTesting_rf2 = rf_2.predict(X_test)\n"
   ]
  },
  {
   "cell_type": "code",
   "execution_count": 28,
   "id": "posted-flood",
   "metadata": {
    "ExecuteTime": {
     "end_time": "2021-08-25T14:50:55.756234Z",
     "start_time": "2021-08-25T14:50:55.739279Z"
    }
   },
   "outputs": [
    {
     "name": "stdout",
     "output_type": "stream",
     "text": [
      "Testing Metrics:\n",
      "Mean Absolute Error: 0.48668791671704736\n",
      "Mean Squared Error: 0.5398769546257258\n",
      "Root Mean Squared Error: 0.7347631962923332\n",
      "R^2 Score: 0.258307521217751\n"
     ]
    }
   ],
   "source": [
    "print('Testing Metrics:')\n",
    "print('Mean Absolute Error:', metrics.mean_absolute_error(y_target_test, yPredictedTesting_rf2))\n",
    "print('Mean Squared Error:', metrics.mean_squared_error(y_target_test, yPredictedTesting_rf2))\n",
    "print('Root Mean Squared Error:', np.sqrt(metrics.mean_squared_error(y_target_test, yPredictedTesting_rf2)))\n",
    "print('R^2 Score:', metrics.r2_score(y_target_test, yPredictedTesting_rf2))"
   ]
  },
  {
   "cell_type": "markdown",
   "id": "charitable-grenada",
   "metadata": {},
   "source": [
    "# Training a Random Forest with 500 Trees"
   ]
  },
  {
   "cell_type": "code",
   "execution_count": 31,
   "id": "dressed-startup",
   "metadata": {
    "ExecuteTime": {
     "end_time": "2021-08-25T15:00:44.428557Z",
     "start_time": "2021-08-25T15:00:44.416589Z"
    }
   },
   "outputs": [],
   "source": [
    "rf_3 = RandomForestRegressor(n_estimators=500, n_jobs=-1, random_state=12)\n"
   ]
  },
  {
   "cell_type": "code",
   "execution_count": 32,
   "id": "disabled-lightning",
   "metadata": {
    "ExecuteTime": {
     "end_time": "2021-08-25T15:14:53.475117Z",
     "start_time": "2021-08-25T15:00:51.440793Z"
    }
   },
   "outputs": [
    {
     "data": {
      "text/plain": [
       "RandomForestRegressor(n_estimators=500, n_jobs=-1, random_state=12)"
      ]
     },
     "execution_count": 32,
     "metadata": {},
     "output_type": "execute_result"
    }
   ],
   "source": [
    "rf_3.fit(X_train, y_target_train)\n"
   ]
  },
  {
   "cell_type": "code",
   "execution_count": 33,
   "id": "classical-opportunity",
   "metadata": {
    "ExecuteTime": {
     "end_time": "2021-08-25T15:17:45.741691Z",
     "start_time": "2021-08-25T15:17:43.959461Z"
    }
   },
   "outputs": [],
   "source": [
    "yPredictedValidation_rf3 = rf_3.predict(X_valid)"
   ]
  },
  {
   "cell_type": "code",
   "execution_count": 34,
   "id": "satisfied-celebration",
   "metadata": {
    "ExecuteTime": {
     "end_time": "2021-08-25T15:17:48.693792Z",
     "start_time": "2021-08-25T15:17:48.665868Z"
    }
   },
   "outputs": [
    {
     "name": "stdout",
     "output_type": "stream",
     "text": [
      "Validation Metrics:\n",
      "Mean Absolute Error: 0.49187506886944654\n",
      "Mean Squared Error: 0.5458887840077624\n",
      "Root Mean Squared Error: 0.738842868279692\n",
      "R^2 Score: 0.34614682497905447\n"
     ]
    }
   ],
   "source": [
    "print('Validation Metrics:')\n",
    "print('Mean Absolute Error:', metrics.mean_absolute_error(y_target_valid, yPredictedValidation_rf3))\n",
    "print('Mean Squared Error:', metrics.mean_squared_error(y_target_valid, yPredictedValidation_rf3))\n",
    "print('Root Mean Squared Error:', np.sqrt(metrics.mean_squared_error(y_target_valid, yPredictedValidation_rf3)))\n",
    "print('R^2 Score:', metrics.r2_score(y_target_valid, yPredictedValidation_rf3))"
   ]
  },
  {
   "cell_type": "code",
   "execution_count": 35,
   "id": "affiliated-comparison",
   "metadata": {
    "ExecuteTime": {
     "end_time": "2021-08-25T15:18:10.334884Z",
     "start_time": "2021-08-25T15:18:08.825922Z"
    }
   },
   "outputs": [],
   "source": [
    "yPredictedTesting_rf3 = rf_3.predict(X_test)\n"
   ]
  },
  {
   "cell_type": "code",
   "execution_count": 36,
   "id": "hairy-activity",
   "metadata": {
    "ExecuteTime": {
     "end_time": "2021-08-25T15:18:11.850826Z",
     "start_time": "2021-08-25T15:18:11.839856Z"
    }
   },
   "outputs": [
    {
     "name": "stdout",
     "output_type": "stream",
     "text": [
      "Testing Metrics:\n",
      "Mean Absolute Error: 0.4847769038680257\n",
      "Mean Squared Error: 0.5312332680108222\n",
      "Root Mean Squared Error: 0.7288575087154019\n",
      "R^2 Score: 0.2701823702852931\n"
     ]
    }
   ],
   "source": [
    "print('Testing Metrics:')\n",
    "print('Mean Absolute Error:', metrics.mean_absolute_error(y_target_test, yPredictedTesting_rf3))\n",
    "print('Mean Squared Error:', metrics.mean_squared_error(y_target_test, yPredictedTesting_rf3))\n",
    "print('Root Mean Squared Error:', np.sqrt(metrics.mean_squared_error(y_target_test, yPredictedTesting_rf3)))\n",
    "print('R^2 Score:', metrics.r2_score(y_target_test, yPredictedTesting_rf3))"
   ]
  }
 ],
 "metadata": {
  "kernelspec": {
   "display_name": "Python 3",
   "language": "python",
   "name": "python3"
  },
  "language_info": {
   "codemirror_mode": {
    "name": "ipython",
    "version": 3
   },
   "file_extension": ".py",
   "mimetype": "text/x-python",
   "name": "python",
   "nbconvert_exporter": "python",
   "pygments_lexer": "ipython3",
   "version": "3.8.8"
  },
  "toc": {
   "base_numbering": 1,
   "nav_menu": {},
   "number_sections": true,
   "sideBar": true,
   "skip_h1_title": false,
   "title_cell": "Table of Contents",
   "title_sidebar": "Contents",
   "toc_cell": false,
   "toc_position": {},
   "toc_section_display": true,
   "toc_window_display": false
  },
  "varInspector": {
   "cols": {
    "lenName": 16,
    "lenType": 16,
    "lenVar": 40
   },
   "kernels_config": {
    "python": {
     "delete_cmd_postfix": "",
     "delete_cmd_prefix": "del ",
     "library": "var_list.py",
     "varRefreshCmd": "print(var_dic_list())"
    },
    "r": {
     "delete_cmd_postfix": ") ",
     "delete_cmd_prefix": "rm(",
     "library": "var_list.r",
     "varRefreshCmd": "cat(var_dic_list()) "
    }
   },
   "types_to_exclude": [
    "module",
    "function",
    "builtin_function_or_method",
    "instance",
    "_Feature"
   ],
   "window_display": false
  }
 },
 "nbformat": 4,
 "nbformat_minor": 5
}

{
 "cells": [
  {
   "cell_type": "markdown",
   "id": "curious-relationship",
   "metadata": {},
   "source": [
    "# Importing required libraries"
   ]
  },
  {
   "cell_type": "code",
   "execution_count": 1,
   "id": "funky-soccer",
   "metadata": {
    "ExecuteTime": {
     "end_time": "2021-09-01T14:15:05.069121Z",
     "start_time": "2021-09-01T14:15:03.976045Z"
    }
   },
   "outputs": [],
   "source": [
    "from sklearn.tree import DecisionTreeRegressor\n",
    "\n",
    "import pandas as pd\n",
    "import numpy as np"
   ]
  },
  {
   "cell_type": "markdown",
   "id": "incomplete-reggae",
   "metadata": {},
   "source": [
    "# Initializing Feature and Response matrices stored as .CSV files earlier"
   ]
  },
  {
   "cell_type": "markdown",
   "id": "residential-protest",
   "metadata": {},
   "source": [
    "## Training Dataset"
   ]
  },
  {
   "cell_type": "code",
   "execution_count": 2,
   "id": "meaningful-optimization",
   "metadata": {
    "ExecuteTime": {
     "end_time": "2021-09-01T14:15:08.123978Z",
     "start_time": "2021-09-01T14:15:05.070118Z"
    }
   },
   "outputs": [],
   "source": [
    "X_train = np.loadtxt(r'R:\\Ryerson\\Misc\\Datasets\\Preprocessed Data Files\\New + pastDroughtValues + FeatureSelection\\90_Day_Window_Scaled + pastDroughtValues + FeatureSelection\\X_train_90_day_window_scaled_+_pastDroughtValues_+_FeatureSelection.csv', delimiter=',')\n",
    "\n",
    "y_target_train = np.loadtxt(r'R:\\Ryerson\\Misc\\Datasets\\Preprocessed Data Files\\New + pastDroughtValues + FeatureSelection\\90_Day_Window_Scaled + pastDroughtValues + FeatureSelection\\y_target_train_90_day_window.csv', delimiter=',')"
   ]
  },
  {
   "cell_type": "code",
   "execution_count": 3,
   "id": "apart-stupid",
   "metadata": {
    "ExecuteTime": {
     "end_time": "2021-09-01T14:15:08.139927Z",
     "start_time": "2021-09-01T14:15:08.124944Z"
    }
   },
   "outputs": [
    {
     "data": {
      "text/plain": [
       "(211344, 9)"
      ]
     },
     "execution_count": 3,
     "metadata": {},
     "output_type": "execute_result"
    },
    {
     "data": {
      "text/plain": [
       "(211344,)"
      ]
     },
     "execution_count": 3,
     "metadata": {},
     "output_type": "execute_result"
    }
   ],
   "source": [
    "X_train.shape\n",
    "\n",
    "y_target_train.shape"
   ]
  },
  {
   "cell_type": "markdown",
   "id": "sealed-average",
   "metadata": {},
   "source": [
    "## Validation Dataset"
   ]
  },
  {
   "cell_type": "code",
   "execution_count": 4,
   "id": "altered-mainland",
   "metadata": {
    "ExecuteTime": {
     "end_time": "2021-09-01T14:15:08.569754Z",
     "start_time": "2021-09-01T14:15:08.140902Z"
    }
   },
   "outputs": [],
   "source": [
    "X_valid = np.loadtxt(r'R:\\Ryerson\\Misc\\Datasets\\Preprocessed Data Files\\New + pastDroughtValues + FeatureSelection\\90_Day_Window_Scaled + pastDroughtValues + FeatureSelection\\X_valid_90_day_window_scaled_+_pastDroughtValues_+_FeatureSelection.csv', delimiter=',')\n",
    "\n",
    "y_target_valid = np.loadtxt(r'R:\\Ryerson\\Misc\\Datasets\\Preprocessed Data Files\\New + pastDroughtValues + FeatureSelection\\90_Day_Window_Scaled + pastDroughtValues + FeatureSelection\\y_target_valid_90_day_window.csv', delimiter=',')"
   ]
  },
  {
   "cell_type": "code",
   "execution_count": 5,
   "id": "floating-template",
   "metadata": {
    "ExecuteTime": {
     "end_time": "2021-09-01T14:15:08.585711Z",
     "start_time": "2021-09-01T14:15:08.570752Z"
    }
   },
   "outputs": [
    {
     "data": {
      "text/plain": [
       "(24864, 9)"
      ]
     },
     "execution_count": 5,
     "metadata": {},
     "output_type": "execute_result"
    },
    {
     "data": {
      "text/plain": [
       "(24864,)"
      ]
     },
     "execution_count": 5,
     "metadata": {},
     "output_type": "execute_result"
    }
   ],
   "source": [
    "X_valid.shape\n",
    "\n",
    "y_target_valid.shape"
   ]
  },
  {
   "cell_type": "markdown",
   "id": "processed-physics",
   "metadata": {},
   "source": [
    "## Testing Dataset"
   ]
  },
  {
   "cell_type": "code",
   "execution_count": 6,
   "id": "median-lying",
   "metadata": {
    "ExecuteTime": {
     "end_time": "2021-09-01T14:15:08.975666Z",
     "start_time": "2021-09-01T14:15:08.586709Z"
    }
   },
   "outputs": [],
   "source": [
    "X_test = np.loadtxt(r'R:\\Ryerson\\Misc\\Datasets\\Preprocessed Data Files\\New + pastDroughtValues + FeatureSelection\\90_Day_Window_Scaled + pastDroughtValues + FeatureSelection\\X_test_90_day_window_scaled_+_pastDroughtValues_+_FeatureSelection.csv', delimiter=',')\n",
    "\n",
    "y_target_test = np.loadtxt(r'R:\\Ryerson\\Misc\\Datasets\\Preprocessed Data Files\\New + pastDroughtValues + FeatureSelection\\90_Day_Window_Scaled + pastDroughtValues + FeatureSelection\\y_target_test_90_day_window.csv', delimiter=',')"
   ]
  },
  {
   "cell_type": "code",
   "execution_count": 7,
   "id": "unsigned-xerox",
   "metadata": {
    "ExecuteTime": {
     "end_time": "2021-09-01T14:15:08.991624Z",
     "start_time": "2021-09-01T14:15:08.977662Z"
    }
   },
   "outputs": [
    {
     "data": {
      "text/plain": [
       "(24864, 9)"
      ]
     },
     "execution_count": 7,
     "metadata": {},
     "output_type": "execute_result"
    },
    {
     "data": {
      "text/plain": [
       "(24864,)"
      ]
     },
     "execution_count": 7,
     "metadata": {},
     "output_type": "execute_result"
    }
   ],
   "source": [
    "X_test.shape\n",
    "\n",
    "y_target_test.shape"
   ]
  },
  {
   "cell_type": "markdown",
   "id": "hourly-yugoslavia",
   "metadata": {
    "ExecuteTime": {
     "end_time": "2021-09-01T06:41:53.410901Z",
     "start_time": "2021-09-01T06:41:53.398933Z"
    }
   },
   "source": [
    "##### _Concatenating X_valid & X_test into a single test set_"
   ]
  },
  {
   "cell_type": "code",
   "execution_count": 8,
   "id": "mighty-microwave",
   "metadata": {
    "ExecuteTime": {
     "end_time": "2021-09-01T14:15:09.007583Z",
     "start_time": "2021-09-01T14:15:08.993619Z"
    }
   },
   "outputs": [],
   "source": [
    "X_Test = np.concatenate((X_valid, X_test), axis=0)"
   ]
  },
  {
   "cell_type": "code",
   "execution_count": 9,
   "id": "hired-banana",
   "metadata": {
    "ExecuteTime": {
     "end_time": "2021-09-01T14:15:09.023539Z",
     "start_time": "2021-09-01T14:15:09.008579Z"
    }
   },
   "outputs": [
    {
     "data": {
      "text/plain": [
       "(49728, 9)"
      ]
     },
     "execution_count": 9,
     "metadata": {},
     "output_type": "execute_result"
    }
   ],
   "source": [
    "X_Test.shape"
   ]
  },
  {
   "cell_type": "markdown",
   "id": "threatened-variance",
   "metadata": {
    "ExecuteTime": {
     "end_time": "2021-09-01T06:41:53.410901Z",
     "start_time": "2021-09-01T06:41:53.398933Z"
    }
   },
   "source": [
    "##### _Concatenating y_target_valid & y_target_test into a single array_"
   ]
  },
  {
   "cell_type": "code",
   "execution_count": 10,
   "id": "headed-yahoo",
   "metadata": {
    "ExecuteTime": {
     "end_time": "2021-09-01T14:15:09.038498Z",
     "start_time": "2021-09-01T14:15:09.024536Z"
    }
   },
   "outputs": [],
   "source": [
    "y_Target = np.concatenate((y_target_valid, y_target_test), axis=0)"
   ]
  },
  {
   "cell_type": "code",
   "execution_count": 11,
   "id": "chinese-sculpture",
   "metadata": {
    "ExecuteTime": {
     "end_time": "2021-09-01T14:15:09.053459Z",
     "start_time": "2021-09-01T14:15:09.039497Z"
    }
   },
   "outputs": [
    {
     "data": {
      "text/plain": [
       "(49728,)"
      ]
     },
     "execution_count": 11,
     "metadata": {},
     "output_type": "execute_result"
    }
   ],
   "source": [
    "y_Target.shape"
   ]
  },
  {
   "cell_type": "markdown",
   "id": "divine-eligibility",
   "metadata": {},
   "source": [
    "# Training a Decision Tree Regressor and making predictions"
   ]
  },
  {
   "cell_type": "code",
   "execution_count": 12,
   "id": "extreme-spyware",
   "metadata": {
    "ExecuteTime": {
     "end_time": "2021-09-01T14:15:12.725142Z",
     "start_time": "2021-09-01T14:15:09.054457Z"
    }
   },
   "outputs": [
    {
     "data": {
      "text/plain": [
       "DecisionTreeRegressor(random_state=42)"
      ]
     },
     "execution_count": 12,
     "metadata": {},
     "output_type": "execute_result"
    }
   ],
   "source": [
    "dt = DecisionTreeRegressor(random_state = 42)\n",
    "\n",
    "dt.fit(X_train, y_target_train)"
   ]
  },
  {
   "cell_type": "code",
   "execution_count": 13,
   "id": "olympic-victoria",
   "metadata": {
    "ExecuteTime": {
     "end_time": "2021-09-01T14:15:12.757056Z",
     "start_time": "2021-09-01T14:15:12.727136Z"
    }
   },
   "outputs": [],
   "source": [
    "yPredicted = dt.predict(X_Test)"
   ]
  },
  {
   "cell_type": "markdown",
   "id": "taken-indie",
   "metadata": {},
   "source": [
    "# Printing Metrics"
   ]
  },
  {
   "cell_type": "code",
   "execution_count": 14,
   "id": "close-custody",
   "metadata": {
    "ExecuteTime": {
     "end_time": "2021-09-01T14:15:12.788974Z",
     "start_time": "2021-09-01T14:15:12.759051Z"
    }
   },
   "outputs": [
    {
     "name": "stdout",
     "output_type": "stream",
     "text": [
      "Testing Metrics:\n",
      "Mean Absolute Error: 0.44755086615633494\n",
      "Mean Squared Error: 0.664592697565956\n",
      "Root Mean Squared Error: 0.8152255501184663\n",
      "R^2 Score: 0.17925945009784938\n"
     ]
    }
   ],
   "source": [
    "from sklearn import metrics\n",
    "print('Testing Metrics:')\n",
    "print('Mean Absolute Error:', metrics.mean_absolute_error(y_Target, yPredicted))\n",
    "print('Mean Squared Error:', metrics.mean_squared_error(y_Target, yPredicted))\n",
    "print('Root Mean Squared Error:', np.sqrt(metrics.mean_squared_error(y_Target, yPredicted)))\n",
    "print('R^2 Score:', metrics.r2_score(y_Target, yPredicted))"
   ]
  },
  {
   "cell_type": "code",
   "execution_count": 15,
   "id": "expensive-trust",
   "metadata": {
    "ExecuteTime": {
     "end_time": "2021-09-01T14:15:12.803968Z",
     "start_time": "2021-09-01T14:15:12.790970Z"
    },
    "scrolled": true
   },
   "outputs": [
    {
     "data": {
      "text/plain": [
       "array([0.22540348, 0.06258358, 0.03249902, 0.03691624, 0.08403222,\n",
       "       0.04430485, 0.03800691, 0.04803137, 0.42822233])"
      ]
     },
     "execution_count": 15,
     "metadata": {},
     "output_type": "execute_result"
    }
   ],
   "source": [
    "dt.feature_importances_"
   ]
  }
 ],
 "metadata": {
  "kernelspec": {
   "display_name": "Python 3",
   "language": "python",
   "name": "python3"
  },
  "language_info": {
   "codemirror_mode": {
    "name": "ipython",
    "version": 3
   },
   "file_extension": ".py",
   "mimetype": "text/x-python",
   "name": "python",
   "nbconvert_exporter": "python",
   "pygments_lexer": "ipython3",
   "version": "3.8.8"
  },
  "toc": {
   "base_numbering": 1,
   "nav_menu": {},
   "number_sections": true,
   "sideBar": true,
   "skip_h1_title": false,
   "title_cell": "Table of Contents",
   "title_sidebar": "Contents",
   "toc_cell": false,
   "toc_position": {},
   "toc_section_display": true,
   "toc_window_display": false
  },
  "varInspector": {
   "cols": {
    "lenName": 16,
    "lenType": 16,
    "lenVar": 40
   },
   "kernels_config": {
    "python": {
     "delete_cmd_postfix": "",
     "delete_cmd_prefix": "del ",
     "library": "var_list.py",
     "varRefreshCmd": "print(var_dic_list())"
    },
    "r": {
     "delete_cmd_postfix": ") ",
     "delete_cmd_prefix": "rm(",
     "library": "var_list.r",
     "varRefreshCmd": "cat(var_dic_list()) "
    }
   },
   "types_to_exclude": [
    "module",
    "function",
    "builtin_function_or_method",
    "instance",
    "_Feature"
   ],
   "window_display": false
  }
 },
 "nbformat": 4,
 "nbformat_minor": 5
}

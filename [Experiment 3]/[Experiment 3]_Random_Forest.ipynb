{
 "cells": [
  {
   "cell_type": "markdown",
   "id": "curious-relationship",
   "metadata": {},
   "source": [
    "# Importing required libraries"
   ]
  },
  {
   "cell_type": "code",
   "execution_count": 1,
   "id": "funky-soccer",
   "metadata": {
    "ExecuteTime": {
     "end_time": "2021-09-01T14:19:01.790280Z",
     "start_time": "2021-09-01T14:19:00.428923Z"
    }
   },
   "outputs": [],
   "source": [
    "from sklearn.ensemble import RandomForestRegressor\n",
    "\n",
    "import pandas as pd\n",
    "import numpy as np\n",
    "from sklearn import metrics"
   ]
  },
  {
   "cell_type": "markdown",
   "id": "incomplete-reggae",
   "metadata": {},
   "source": [
    "# Initializing Feature and Response matrices stored as .CSV files earlier"
   ]
  },
  {
   "cell_type": "markdown",
   "id": "residential-protest",
   "metadata": {},
   "source": [
    "## Training Dataset"
   ]
  },
  {
   "cell_type": "code",
   "execution_count": 2,
   "id": "meaningful-optimization",
   "metadata": {
    "ExecuteTime": {
     "end_time": "2021-09-01T14:19:04.832149Z",
     "start_time": "2021-09-01T14:19:01.838153Z"
    }
   },
   "outputs": [],
   "source": [
    "X_train = np.loadtxt(r'R:\\Ryerson\\Misc\\Datasets\\Preprocessed Data Files\\New + pastDroughtValues + FeatureSelection\\90_Day_Window_Scaled + pastDroughtValues + FeatureSelection\\X_train_90_day_window_scaled_+_pastDroughtValues_+_FeatureSelection.csv', delimiter=',')\n",
    "\n",
    "y_target_train = np.loadtxt(r'R:\\Ryerson\\Misc\\Datasets\\Preprocessed Data Files\\New + pastDroughtValues + FeatureSelection\\90_Day_Window_Scaled + pastDroughtValues + FeatureSelection\\y_target_train_90_day_window.csv', delimiter=',')"
   ]
  },
  {
   "cell_type": "code",
   "execution_count": 3,
   "id": "apart-stupid",
   "metadata": {
    "ExecuteTime": {
     "end_time": "2021-09-01T14:19:07.990689Z",
     "start_time": "2021-09-01T14:19:07.977723Z"
    }
   },
   "outputs": [
    {
     "data": {
      "text/plain": [
       "(211344, 9)"
      ]
     },
     "execution_count": 3,
     "metadata": {},
     "output_type": "execute_result"
    },
    {
     "data": {
      "text/plain": [
       "(211344,)"
      ]
     },
     "execution_count": 3,
     "metadata": {},
     "output_type": "execute_result"
    }
   ],
   "source": [
    "X_train.shape\n",
    "\n",
    "y_target_train.shape"
   ]
  },
  {
   "cell_type": "markdown",
   "id": "sealed-average",
   "metadata": {},
   "source": [
    "## Validation Dataset"
   ]
  },
  {
   "cell_type": "code",
   "execution_count": 4,
   "id": "altered-mainland",
   "metadata": {
    "ExecuteTime": {
     "end_time": "2021-09-01T14:19:14.459886Z",
     "start_time": "2021-09-01T14:19:13.830571Z"
    }
   },
   "outputs": [],
   "source": [
    "X_valid = np.loadtxt(r'R:\\Ryerson\\Misc\\Datasets\\Preprocessed Data Files\\New + pastDroughtValues + FeatureSelection\\90_Day_Window_Scaled + pastDroughtValues + FeatureSelection\\X_valid_90_day_window_scaled_+_pastDroughtValues_+_FeatureSelection.csv', delimiter=',')\n",
    "\n",
    "y_target_valid = np.loadtxt(r'R:\\Ryerson\\Misc\\Datasets\\Preprocessed Data Files\\New + pastDroughtValues + FeatureSelection\\90_Day_Window_Scaled + pastDroughtValues + FeatureSelection\\y_target_valid_90_day_window.csv', delimiter=',')"
   ]
  },
  {
   "cell_type": "code",
   "execution_count": 5,
   "id": "floating-template",
   "metadata": {
    "ExecuteTime": {
     "end_time": "2021-09-01T14:19:15.038338Z",
     "start_time": "2021-09-01T14:19:15.016398Z"
    }
   },
   "outputs": [
    {
     "data": {
      "text/plain": [
       "(24864, 9)"
      ]
     },
     "execution_count": 5,
     "metadata": {},
     "output_type": "execute_result"
    },
    {
     "data": {
      "text/plain": [
       "(24864,)"
      ]
     },
     "execution_count": 5,
     "metadata": {},
     "output_type": "execute_result"
    }
   ],
   "source": [
    "X_valid.shape\n",
    "\n",
    "y_target_valid.shape"
   ]
  },
  {
   "cell_type": "markdown",
   "id": "processed-physics",
   "metadata": {},
   "source": [
    "## Testing Dataset"
   ]
  },
  {
   "cell_type": "code",
   "execution_count": 6,
   "id": "median-lying",
   "metadata": {
    "ExecuteTime": {
     "end_time": "2021-09-01T14:19:16.630589Z",
     "start_time": "2021-09-01T14:19:15.998280Z"
    }
   },
   "outputs": [],
   "source": [
    "X_test = np.loadtxt(r'R:\\Ryerson\\Misc\\Datasets\\Preprocessed Data Files\\New + pastDroughtValues + FeatureSelection\\90_Day_Window_Scaled + pastDroughtValues + FeatureSelection\\X_test_90_day_window_scaled_+_pastDroughtValues_+_FeatureSelection.csv', delimiter=',')\n",
    "\n",
    "y_target_test = np.loadtxt(r'R:\\Ryerson\\Misc\\Datasets\\Preprocessed Data Files\\New + pastDroughtValues + FeatureSelection\\90_Day_Window_Scaled + pastDroughtValues + FeatureSelection\\y_target_test_90_day_window.csv', delimiter=',')"
   ]
  },
  {
   "cell_type": "code",
   "execution_count": 7,
   "id": "unsigned-xerox",
   "metadata": {
    "ExecuteTime": {
     "end_time": "2021-09-01T14:19:17.272871Z",
     "start_time": "2021-09-01T14:19:17.252924Z"
    }
   },
   "outputs": [
    {
     "data": {
      "text/plain": [
       "(24864, 9)"
      ]
     },
     "execution_count": 7,
     "metadata": {},
     "output_type": "execute_result"
    },
    {
     "data": {
      "text/plain": [
       "(24864,)"
      ]
     },
     "execution_count": 7,
     "metadata": {},
     "output_type": "execute_result"
    }
   ],
   "source": [
    "X_test.shape\n",
    "\n",
    "y_target_test.shape"
   ]
  },
  {
   "cell_type": "markdown",
   "id": "serial-closure",
   "metadata": {
    "ExecuteTime": {
     "end_time": "2021-09-01T06:41:53.410901Z",
     "start_time": "2021-09-01T06:41:53.398933Z"
    }
   },
   "source": [
    "##### _Concatenating X_valid & X_test into a single test set_"
   ]
  },
  {
   "cell_type": "code",
   "execution_count": 8,
   "id": "automotive-newman",
   "metadata": {
    "ExecuteTime": {
     "end_time": "2021-09-01T14:19:18.726492Z",
     "start_time": "2021-09-01T14:19:18.716520Z"
    }
   },
   "outputs": [],
   "source": [
    "X_Test = np.concatenate((X_valid, X_test), axis=0)"
   ]
  },
  {
   "cell_type": "code",
   "execution_count": 9,
   "id": "mighty-accessory",
   "metadata": {
    "ExecuteTime": {
     "end_time": "2021-09-01T14:19:19.131408Z",
     "start_time": "2021-09-01T14:19:19.117447Z"
    }
   },
   "outputs": [
    {
     "data": {
      "text/plain": [
       "(49728, 9)"
      ]
     },
     "execution_count": 9,
     "metadata": {},
     "output_type": "execute_result"
    }
   ],
   "source": [
    "X_Test.shape"
   ]
  },
  {
   "cell_type": "markdown",
   "id": "pregnant-russell",
   "metadata": {
    "ExecuteTime": {
     "end_time": "2021-09-01T06:41:53.410901Z",
     "start_time": "2021-09-01T06:41:53.398933Z"
    }
   },
   "source": [
    "##### _Concatenating y_target_valid & y_target_test into a single array_"
   ]
  },
  {
   "cell_type": "code",
   "execution_count": 10,
   "id": "greenhouse-registration",
   "metadata": {
    "ExecuteTime": {
     "end_time": "2021-09-01T14:19:19.837518Z",
     "start_time": "2021-09-01T14:19:19.832532Z"
    }
   },
   "outputs": [],
   "source": [
    "y_Target = np.concatenate((y_target_valid, y_target_test), axis=0)"
   ]
  },
  {
   "cell_type": "code",
   "execution_count": 11,
   "id": "modular-divide",
   "metadata": {
    "ExecuteTime": {
     "end_time": "2021-09-01T14:19:20.350147Z",
     "start_time": "2021-09-01T14:19:20.344162Z"
    }
   },
   "outputs": [
    {
     "data": {
      "text/plain": [
       "(49728,)"
      ]
     },
     "execution_count": 11,
     "metadata": {},
     "output_type": "execute_result"
    }
   ],
   "source": [
    "y_Target.shape"
   ]
  },
  {
   "cell_type": "markdown",
   "id": "interim-precipitation",
   "metadata": {},
   "source": [
    "# Training a Random Forest with 100 Trees"
   ]
  },
  {
   "cell_type": "code",
   "execution_count": 12,
   "id": "enormous-cyprus",
   "metadata": {
    "ExecuteTime": {
     "end_time": "2021-09-01T14:19:22.100462Z",
     "start_time": "2021-09-01T14:19:22.090489Z"
    }
   },
   "outputs": [],
   "source": [
    "rf_100_trees = RandomForestRegressor(n_estimators=100, random_state=10)"
   ]
  },
  {
   "cell_type": "code",
   "execution_count": 13,
   "id": "behind-gossip",
   "metadata": {
    "ExecuteTime": {
     "end_time": "2021-09-01T14:23:14.382120Z",
     "start_time": "2021-09-01T14:19:25.578156Z"
    }
   },
   "outputs": [
    {
     "data": {
      "text/plain": [
       "RandomForestRegressor(random_state=10)"
      ]
     },
     "execution_count": 13,
     "metadata": {},
     "output_type": "execute_result"
    }
   ],
   "source": [
    "rf_100_trees.fit(X_train, y_target_train)"
   ]
  },
  {
   "cell_type": "code",
   "execution_count": 14,
   "id": "sought-rwanda",
   "metadata": {
    "ExecuteTime": {
     "end_time": "2021-09-01T14:23:40.787478Z",
     "start_time": "2021-09-01T14:23:39.620601Z"
    }
   },
   "outputs": [],
   "source": [
    "yPredicted_rf100 = rf_100_trees.predict(X_Test)"
   ]
  },
  {
   "cell_type": "markdown",
   "id": "capable-roberts",
   "metadata": {},
   "source": [
    "## Printing Metrics"
   ]
  },
  {
   "cell_type": "code",
   "execution_count": 15,
   "id": "annual-brief",
   "metadata": {
    "ExecuteTime": {
     "end_time": "2021-09-01T14:23:43.068374Z",
     "start_time": "2021-09-01T14:23:43.045437Z"
    }
   },
   "outputs": [
    {
     "name": "stdout",
     "output_type": "stream",
     "text": [
      "Testing Metrics:\n",
      "Mean Absolute Error: 0.3707903561056371\n",
      "Mean Squared Error: 0.37848444274410403\n",
      "Root Mean Squared Error: 0.6152108929010475\n",
      "R^2 Score: 0.5325896134506105\n"
     ]
    }
   ],
   "source": [
    "print('Testing Metrics:')\n",
    "print('Mean Absolute Error:', metrics.mean_absolute_error(y_Target, yPredicted_rf100))\n",
    "print('Mean Squared Error:', metrics.mean_squared_error(y_Target, yPredicted_rf100))\n",
    "print('Root Mean Squared Error:', np.sqrt(metrics.mean_squared_error(y_Target, yPredicted_rf100)))\n",
    "print('R^2 Score:', metrics.r2_score(y_Target, yPredicted_rf100))"
   ]
  },
  {
   "cell_type": "markdown",
   "id": "approximate-delta",
   "metadata": {},
   "source": [
    "# Training a Random Forest with 500 Trees"
   ]
  },
  {
   "cell_type": "code",
   "execution_count": 16,
   "id": "robust-gather",
   "metadata": {
    "ExecuteTime": {
     "end_time": "2021-09-01T14:24:33.069749Z",
     "start_time": "2021-09-01T14:24:33.054754Z"
    }
   },
   "outputs": [],
   "source": [
    "rf_500_trees = RandomForestRegressor(n_estimators=500, random_state=12)"
   ]
  },
  {
   "cell_type": "code",
   "execution_count": 17,
   "id": "surface-advance",
   "metadata": {
    "ExecuteTime": {
     "end_time": "2021-09-01T14:45:52.945424Z",
     "start_time": "2021-09-01T14:24:34.571695Z"
    }
   },
   "outputs": [
    {
     "data": {
      "text/plain": [
       "RandomForestRegressor(n_estimators=500, random_state=12)"
      ]
     },
     "execution_count": 17,
     "metadata": {},
     "output_type": "execute_result"
    }
   ],
   "source": [
    "rf_500_trees.fit(X_train, y_target_train)"
   ]
  },
  {
   "cell_type": "code",
   "execution_count": 18,
   "id": "swedish-arkansas",
   "metadata": {
    "ExecuteTime": {
     "end_time": "2021-09-01T14:49:47.912643Z",
     "start_time": "2021-09-01T14:49:41.237994Z"
    }
   },
   "outputs": [],
   "source": [
    "yPredicted_rf500 = rf_500_trees.predict(X_Test)"
   ]
  },
  {
   "cell_type": "code",
   "execution_count": 19,
   "id": "beginning-bulletin",
   "metadata": {
    "ExecuteTime": {
     "end_time": "2021-09-01T14:49:58.460889Z",
     "start_time": "2021-09-01T14:49:58.443937Z"
    }
   },
   "outputs": [
    {
     "name": "stdout",
     "output_type": "stream",
     "text": [
      "Testing Metrics:\n",
      "Mean Absolute Error: 0.37018285895426667\n",
      "Mean Squared Error: 0.376246461349805\n",
      "Root Mean Squared Error: 0.6133893228201849\n",
      "R^2 Score: 0.5353534146283168\n"
     ]
    }
   ],
   "source": [
    "print('Testing Metrics:')\n",
    "print('Mean Absolute Error:', metrics.mean_absolute_error(y_Target, yPredicted_rf500))\n",
    "print('Mean Squared Error:', metrics.mean_squared_error(y_Target, yPredicted_rf500))\n",
    "print('Root Mean Squared Error:', np.sqrt(metrics.mean_squared_error(y_Target, yPredicted_rf500)))\n",
    "print('R^2 Score:', metrics.r2_score(y_Target, yPredicted_rf500))"
   ]
  },
  {
   "cell_type": "markdown",
   "id": "willing-radiation",
   "metadata": {},
   "source": [
    "# Training a Random Forest with 1000 Trees"
   ]
  },
  {
   "cell_type": "code",
   "execution_count": 20,
   "id": "closing-coral",
   "metadata": {
    "ExecuteTime": {
     "end_time": "2021-09-01T15:32:12.453718Z",
     "start_time": "2021-09-01T14:50:02.467168Z"
    }
   },
   "outputs": [
    {
     "data": {
      "text/plain": [
       "RandomForestRegressor(n_estimators=1000, random_state=42)"
      ]
     },
     "execution_count": 20,
     "metadata": {},
     "output_type": "execute_result"
    }
   ],
   "source": [
    "rf_1000_trees = RandomForestRegressor(n_estimators=1000, random_state=42)\n",
    "\n",
    "rf_1000_trees.fit(X_train, y_target_train)"
   ]
  },
  {
   "cell_type": "code",
   "execution_count": 21,
   "id": "collectible-crash",
   "metadata": {
    "ExecuteTime": {
     "end_time": "2021-09-01T15:37:23.033419Z",
     "start_time": "2021-09-01T15:37:08.628964Z"
    }
   },
   "outputs": [],
   "source": [
    "yPredicted_rf1000 = rf_1000_trees.predict(X_Test)"
   ]
  },
  {
   "cell_type": "markdown",
   "id": "annoying-brown",
   "metadata": {},
   "source": [
    "## Printing Metrics"
   ]
  },
  {
   "cell_type": "code",
   "execution_count": 22,
   "id": "hindu-blind",
   "metadata": {
    "ExecuteTime": {
     "end_time": "2021-09-01T15:37:42.193150Z",
     "start_time": "2021-09-01T15:37:42.177192Z"
    }
   },
   "outputs": [
    {
     "name": "stdout",
     "output_type": "stream",
     "text": [
      "Testing Metrics:\n",
      "Mean Absolute Error: 0.3701066896282139\n",
      "Mean Squared Error: 0.3758033671325185\n",
      "Root Mean Squared Error: 0.6130280312779494\n",
      "R^2 Score: 0.5359006150307379\n"
     ]
    }
   ],
   "source": [
    "print('Testing Metrics:')\n",
    "print('Mean Absolute Error:', metrics.mean_absolute_error(y_Target, yPredicted_rf1000))\n",
    "print('Mean Squared Error:', metrics.mean_squared_error(y_Target, yPredicted_rf1000))\n",
    "print('Root Mean Squared Error:', np.sqrt(metrics.mean_squared_error(y_Target, yPredicted_rf1000)))\n",
    "print('R^2 Score:', metrics.r2_score(y_Target, yPredicted_rf1000))"
   ]
  }
 ],
 "metadata": {
  "kernelspec": {
   "display_name": "Python 3",
   "language": "python",
   "name": "python3"
  },
  "language_info": {
   "codemirror_mode": {
    "name": "ipython",
    "version": 3
   },
   "file_extension": ".py",
   "mimetype": "text/x-python",
   "name": "python",
   "nbconvert_exporter": "python",
   "pygments_lexer": "ipython3",
   "version": "3.8.8"
  },
  "toc": {
   "base_numbering": 1,
   "nav_menu": {},
   "number_sections": true,
   "sideBar": true,
   "skip_h1_title": false,
   "title_cell": "Table of Contents",
   "title_sidebar": "Contents",
   "toc_cell": false,
   "toc_position": {},
   "toc_section_display": true,
   "toc_window_display": false
  },
  "varInspector": {
   "cols": {
    "lenName": 16,
    "lenType": 16,
    "lenVar": 40
   },
   "kernels_config": {
    "python": {
     "delete_cmd_postfix": "",
     "delete_cmd_prefix": "del ",
     "library": "var_list.py",
     "varRefreshCmd": "print(var_dic_list())"
    },
    "r": {
     "delete_cmd_postfix": ") ",
     "delete_cmd_prefix": "rm(",
     "library": "var_list.r",
     "varRefreshCmd": "cat(var_dic_list()) "
    }
   },
   "types_to_exclude": [
    "module",
    "function",
    "builtin_function_or_method",
    "instance",
    "_Feature"
   ],
   "window_display": false
  }
 },
 "nbformat": 4,
 "nbformat_minor": 5
}

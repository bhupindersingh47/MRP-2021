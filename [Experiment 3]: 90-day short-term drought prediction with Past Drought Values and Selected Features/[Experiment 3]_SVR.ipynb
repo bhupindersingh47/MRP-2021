{
 "cells": [
  {
   "cell_type": "markdown",
   "id": "curious-relationship",
   "metadata": {},
   "source": [
    "# Importing required libraries"
   ]
  },
  {
   "cell_type": "code",
   "execution_count": 1,
   "id": "funky-soccer",
   "metadata": {
    "ExecuteTime": {
     "end_time": "2021-09-01T14:26:01.084214Z",
     "start_time": "2021-09-01T14:25:59.862484Z"
    }
   },
   "outputs": [],
   "source": [
    "import pandas as pd\n",
    "import numpy as np\n",
    "from sklearn import metrics"
   ]
  },
  {
   "cell_type": "markdown",
   "id": "incomplete-reggae",
   "metadata": {},
   "source": [
    "# Initializing Feature and Response matrices stored as .CSV files earlier"
   ]
  },
  {
   "cell_type": "markdown",
   "id": "residential-protest",
   "metadata": {},
   "source": [
    "## Training Dataset"
   ]
  },
  {
   "cell_type": "code",
   "execution_count": 2,
   "id": "meaningful-optimization",
   "metadata": {
    "ExecuteTime": {
     "end_time": "2021-09-01T14:26:05.070550Z",
     "start_time": "2021-09-01T14:26:01.133089Z"
    }
   },
   "outputs": [],
   "source": [
    "X_train = np.loadtxt(r'R:\\Ryerson\\Misc\\Datasets\\Preprocessed Data Files\\New + pastDroughtValues + FeatureSelection\\90_Day_Window_Scaled + pastDroughtValues + FeatureSelection\\X_train_90_day_window_scaled_+_pastDroughtValues_+_FeatureSelection.csv', delimiter=',')\n",
    "\n",
    "y_target_train = np.loadtxt(r'R:\\Ryerson\\Misc\\Datasets\\Preprocessed Data Files\\New + pastDroughtValues + FeatureSelection\\90_Day_Window_Scaled + pastDroughtValues + FeatureSelection\\y_target_train_90_day_window.csv', delimiter=',')"
   ]
  },
  {
   "cell_type": "code",
   "execution_count": 3,
   "id": "apart-stupid",
   "metadata": {
    "ExecuteTime": {
     "end_time": "2021-09-01T14:26:23.099836Z",
     "start_time": "2021-09-01T14:26:23.080888Z"
    }
   },
   "outputs": [
    {
     "data": {
      "text/plain": [
       "(211344, 9)"
      ]
     },
     "execution_count": 3,
     "metadata": {},
     "output_type": "execute_result"
    },
    {
     "data": {
      "text/plain": [
       "(211344,)"
      ]
     },
     "execution_count": 3,
     "metadata": {},
     "output_type": "execute_result"
    }
   ],
   "source": [
    "X_train.shape\n",
    "\n",
    "y_target_train.shape"
   ]
  },
  {
   "cell_type": "markdown",
   "id": "sealed-average",
   "metadata": {},
   "source": [
    "## Validation Dataset"
   ]
  },
  {
   "cell_type": "code",
   "execution_count": 4,
   "id": "altered-mainland",
   "metadata": {
    "ExecuteTime": {
     "end_time": "2021-09-01T14:26:25.007731Z",
     "start_time": "2021-09-01T14:26:24.331541Z"
    }
   },
   "outputs": [],
   "source": [
    "X_valid = np.loadtxt(r'R:\\Ryerson\\Misc\\Datasets\\Preprocessed Data Files\\New + pastDroughtValues + FeatureSelection\\90_Day_Window_Scaled + pastDroughtValues + FeatureSelection\\X_valid_90_day_window_scaled_+_pastDroughtValues_+_FeatureSelection.csv', delimiter=',')\n",
    "\n",
    "y_target_valid = np.loadtxt(r'R:\\Ryerson\\Misc\\Datasets\\Preprocessed Data Files\\New + pastDroughtValues + FeatureSelection\\90_Day_Window_Scaled + pastDroughtValues + FeatureSelection\\y_target_valid_90_day_window.csv', delimiter=',')"
   ]
  },
  {
   "cell_type": "code",
   "execution_count": 5,
   "id": "floating-template",
   "metadata": {
    "ExecuteTime": {
     "end_time": "2021-09-01T14:26:25.069568Z",
     "start_time": "2021-09-01T14:26:25.056609Z"
    }
   },
   "outputs": [
    {
     "data": {
      "text/plain": [
       "(24864, 9)"
      ]
     },
     "execution_count": 5,
     "metadata": {},
     "output_type": "execute_result"
    },
    {
     "data": {
      "text/plain": [
       "(24864,)"
      ]
     },
     "execution_count": 5,
     "metadata": {},
     "output_type": "execute_result"
    }
   ],
   "source": [
    "X_valid.shape\n",
    "\n",
    "y_target_valid.shape"
   ]
  },
  {
   "cell_type": "markdown",
   "id": "processed-physics",
   "metadata": {},
   "source": [
    "## Testing Dataset"
   ]
  },
  {
   "cell_type": "code",
   "execution_count": 6,
   "id": "median-lying",
   "metadata": {
    "ExecuteTime": {
     "end_time": "2021-09-01T14:26:26.757052Z",
     "start_time": "2021-09-01T14:26:26.070887Z"
    }
   },
   "outputs": [],
   "source": [
    "X_test = np.loadtxt(r'R:\\Ryerson\\Misc\\Datasets\\Preprocessed Data Files\\New + pastDroughtValues + FeatureSelection\\90_Day_Window_Scaled + pastDroughtValues + FeatureSelection\\X_test_90_day_window_scaled_+_pastDroughtValues_+_FeatureSelection.csv', delimiter=',')\n",
    "\n",
    "y_target_test = np.loadtxt(r'R:\\Ryerson\\Misc\\Datasets\\Preprocessed Data Files\\New + pastDroughtValues + FeatureSelection\\90_Day_Window_Scaled + pastDroughtValues + FeatureSelection\\y_target_test_90_day_window.csv', delimiter=',')"
   ]
  },
  {
   "cell_type": "code",
   "execution_count": 7,
   "id": "unsigned-xerox",
   "metadata": {
    "ExecuteTime": {
     "end_time": "2021-09-01T14:26:26.819883Z",
     "start_time": "2021-09-01T14:26:26.807915Z"
    }
   },
   "outputs": [
    {
     "data": {
      "text/plain": [
       "(24864, 9)"
      ]
     },
     "execution_count": 7,
     "metadata": {},
     "output_type": "execute_result"
    },
    {
     "data": {
      "text/plain": [
       "(24864,)"
      ]
     },
     "execution_count": 7,
     "metadata": {},
     "output_type": "execute_result"
    }
   ],
   "source": [
    "X_test.shape\n",
    "\n",
    "y_target_test.shape"
   ]
  },
  {
   "cell_type": "markdown",
   "id": "meaningful-swiss",
   "metadata": {
    "ExecuteTime": {
     "end_time": "2021-09-01T06:41:53.410901Z",
     "start_time": "2021-09-01T06:41:53.398933Z"
    }
   },
   "source": [
    "##### _Concatenating X_valid & X_test into a single test set_"
   ]
  },
  {
   "cell_type": "code",
   "execution_count": 8,
   "id": "atmospheric-requirement",
   "metadata": {
    "ExecuteTime": {
     "end_time": "2021-09-01T14:26:27.818214Z",
     "start_time": "2021-09-01T14:26:27.797267Z"
    }
   },
   "outputs": [],
   "source": [
    "X_Test = np.concatenate((X_valid, X_test), axis=0)"
   ]
  },
  {
   "cell_type": "code",
   "execution_count": 9,
   "id": "generous-civilization",
   "metadata": {
    "ExecuteTime": {
     "end_time": "2021-09-01T14:26:28.506370Z",
     "start_time": "2021-09-01T14:26:28.491410Z"
    }
   },
   "outputs": [
    {
     "data": {
      "text/plain": [
       "(49728, 9)"
      ]
     },
     "execution_count": 9,
     "metadata": {},
     "output_type": "execute_result"
    }
   ],
   "source": [
    "X_Test.shape"
   ]
  },
  {
   "cell_type": "markdown",
   "id": "heard-tactics",
   "metadata": {
    "ExecuteTime": {
     "end_time": "2021-09-01T06:41:53.410901Z",
     "start_time": "2021-09-01T06:41:53.398933Z"
    }
   },
   "source": [
    "##### _Concatenating y_target_valid & y_target_test into a single array_"
   ]
  },
  {
   "cell_type": "code",
   "execution_count": 10,
   "id": "cordless-hopkins",
   "metadata": {
    "ExecuteTime": {
     "end_time": "2021-09-01T14:26:29.521654Z",
     "start_time": "2021-09-01T14:26:29.514672Z"
    }
   },
   "outputs": [],
   "source": [
    "y_Target = np.concatenate((y_target_valid, y_target_test), axis=0)"
   ]
  },
  {
   "cell_type": "code",
   "execution_count": 11,
   "id": "prescription-diamond",
   "metadata": {
    "ExecuteTime": {
     "end_time": "2021-09-01T14:26:30.178894Z",
     "start_time": "2021-09-01T14:26:30.167922Z"
    }
   },
   "outputs": [
    {
     "data": {
      "text/plain": [
       "(49728,)"
      ]
     },
     "execution_count": 11,
     "metadata": {},
     "output_type": "execute_result"
    }
   ],
   "source": [
    "y_Target.shape"
   ]
  },
  {
   "cell_type": "markdown",
   "id": "interim-precipitation",
   "metadata": {},
   "source": [
    "# Training SVR"
   ]
  },
  {
   "cell_type": "code",
   "execution_count": 12,
   "id": "enormous-cyprus",
   "metadata": {
    "ExecuteTime": {
     "end_time": "2021-09-01T14:26:32.164579Z",
     "start_time": "2021-09-01T14:26:32.096761Z"
    }
   },
   "outputs": [],
   "source": [
    "from sklearn.svm import SVR\n",
    "SVRregressor = SVR(kernel = 'rbf')"
   ]
  },
  {
   "cell_type": "code",
   "execution_count": 13,
   "id": "behind-gossip",
   "metadata": {
    "ExecuteTime": {
     "end_time": "2021-09-01T17:06:58.348930Z",
     "start_time": "2021-09-01T14:26:34.482377Z"
    }
   },
   "outputs": [
    {
     "data": {
      "text/plain": [
       "SVR()"
      ]
     },
     "execution_count": 13,
     "metadata": {},
     "output_type": "execute_result"
    }
   ],
   "source": [
    "SVRregressor.fit(X_train, y_target_train)"
   ]
  },
  {
   "cell_type": "code",
   "execution_count": 14,
   "id": "sought-rwanda",
   "metadata": {
    "ExecuteTime": {
     "end_time": "2021-09-01T17:31:53.438534Z",
     "start_time": "2021-09-01T17:13:52.348067Z"
    }
   },
   "outputs": [],
   "source": [
    "yPredicted= SVRregressor.predict(X_Test)"
   ]
  },
  {
   "cell_type": "markdown",
   "id": "capable-roberts",
   "metadata": {},
   "source": [
    "## Printing Metrics"
   ]
  },
  {
   "cell_type": "code",
   "execution_count": 15,
   "id": "annual-brief",
   "metadata": {
    "ExecuteTime": {
     "end_time": "2021-09-01T17:38:25.392011Z",
     "start_time": "2021-09-01T17:38:25.360095Z"
    }
   },
   "outputs": [
    {
     "name": "stdout",
     "output_type": "stream",
     "text": [
      "Testing Metrics:\n",
      "Mean Absolute Error: 0.36487395480192336\n",
      "Mean Squared Error: 0.3787892469666598\n",
      "Root Mean Squared Error: 0.615458566409356\n",
      "R^2 Score: 0.5322131946513232\n"
     ]
    }
   ],
   "source": [
    "print('Testing Metrics:')\n",
    "print('Mean Absolute Error:', metrics.mean_absolute_error(y_Target, yPredicted))\n",
    "print('Mean Squared Error:', metrics.mean_squared_error(y_Target, yPredicted))\n",
    "print('Root Mean Squared Error:', np.sqrt(metrics.mean_squared_error(y_Target, yPredicted)))\n",
    "print('R^2 Score:', metrics.r2_score(y_Target, yPredicted))"
   ]
  }
 ],
 "metadata": {
  "kernelspec": {
   "display_name": "Python 3",
   "language": "python",
   "name": "python3"
  },
  "language_info": {
   "codemirror_mode": {
    "name": "ipython",
    "version": 3
   },
   "file_extension": ".py",
   "mimetype": "text/x-python",
   "name": "python",
   "nbconvert_exporter": "python",
   "pygments_lexer": "ipython3",
   "version": "3.8.8"
  },
  "toc": {
   "base_numbering": 1,
   "nav_menu": {},
   "number_sections": true,
   "sideBar": true,
   "skip_h1_title": false,
   "title_cell": "Table of Contents",
   "title_sidebar": "Contents",
   "toc_cell": false,
   "toc_position": {},
   "toc_section_display": true,
   "toc_window_display": false
  },
  "varInspector": {
   "cols": {
    "lenName": 16,
    "lenType": 16,
    "lenVar": 40
   },
   "kernels_config": {
    "python": {
     "delete_cmd_postfix": "",
     "delete_cmd_prefix": "del ",
     "library": "var_list.py",
     "varRefreshCmd": "print(var_dic_list())"
    },
    "r": {
     "delete_cmd_postfix": ") ",
     "delete_cmd_prefix": "rm(",
     "library": "var_list.r",
     "varRefreshCmd": "cat(var_dic_list()) "
    }
   },
   "types_to_exclude": [
    "module",
    "function",
    "builtin_function_or_method",
    "instance",
    "_Feature"
   ],
   "window_display": false
  }
 },
 "nbformat": 4,
 "nbformat_minor": 5
}

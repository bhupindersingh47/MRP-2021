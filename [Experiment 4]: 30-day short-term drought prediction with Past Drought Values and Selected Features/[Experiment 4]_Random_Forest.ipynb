{
 "cells": [
  {
   "cell_type": "markdown",
   "id": "curious-relationship",
   "metadata": {},
   "source": [
    "# Importing required libraries"
   ]
  },
  {
   "cell_type": "code",
   "execution_count": 1,
   "id": "funky-soccer",
   "metadata": {
    "ExecuteTime": {
     "end_time": "2021-09-01T14:18:18.459143Z",
     "start_time": "2021-09-01T14:18:16.758696Z"
    }
   },
   "outputs": [],
   "source": [
    "from sklearn.ensemble import RandomForestRegressor\n",
    "\n",
    "import pandas as pd\n",
    "import numpy as np\n",
    "from sklearn import metrics"
   ]
  },
  {
   "cell_type": "markdown",
   "id": "incomplete-reggae",
   "metadata": {},
   "source": [
    "# Initializing Feature and Response matrices stored as .CSV files earlier"
   ]
  },
  {
   "cell_type": "markdown",
   "id": "residential-protest",
   "metadata": {},
   "source": [
    "## Training Dataset"
   ]
  },
  {
   "cell_type": "code",
   "execution_count": 2,
   "id": "meaningful-optimization",
   "metadata": {
    "ExecuteTime": {
     "end_time": "2021-09-01T14:18:30.271566Z",
     "start_time": "2021-09-01T14:18:19.124363Z"
    }
   },
   "outputs": [],
   "source": [
    "X_train = np.loadtxt(r'R:\\Ryerson\\Misc\\Datasets\\Preprocessed Data Files\\New + pastDroughtValues + FeatureSelection\\30_Day_Window_Scaled + pastDroughtValues + FeatureSelection\\X_train_30_day_window_scaled_+_pastDroughtValues_+_FeatureSelection.csv', delimiter=',')\n",
    "\n",
    "y_target_train = np.loadtxt(r'R:\\Ryerson\\Misc\\Datasets\\Preprocessed Data Files\\New + pastDroughtValues + FeatureSelection\\30_Day_Window_Scaled + pastDroughtValues + FeatureSelection\\y_target_train_30_day_window.csv', delimiter=',')"
   ]
  },
  {
   "cell_type": "code",
   "execution_count": 3,
   "id": "apart-stupid",
   "metadata": {
    "ExecuteTime": {
     "end_time": "2021-09-01T14:18:31.022533Z",
     "start_time": "2021-09-01T14:18:31.003575Z"
    }
   },
   "outputs": [
    {
     "data": {
      "text/plain": [
       "(640248, 9)"
      ]
     },
     "execution_count": 3,
     "metadata": {},
     "output_type": "execute_result"
    },
    {
     "data": {
      "text/plain": [
       "(640248,)"
      ]
     },
     "execution_count": 3,
     "metadata": {},
     "output_type": "execute_result"
    }
   ],
   "source": [
    "X_train.shape\n",
    "\n",
    "y_target_train.shape"
   ]
  },
  {
   "cell_type": "markdown",
   "id": "sealed-average",
   "metadata": {},
   "source": [
    "## Validation Dataset"
   ]
  },
  {
   "cell_type": "code",
   "execution_count": 4,
   "id": "altered-mainland",
   "metadata": {
    "ExecuteTime": {
     "end_time": "2021-09-01T14:18:34.457909Z",
     "start_time": "2021-09-01T14:18:33.440630Z"
    }
   },
   "outputs": [],
   "source": [
    "X_valid = np.loadtxt(r'R:\\Ryerson\\Misc\\Datasets\\Preprocessed Data Files\\New + pastDroughtValues + FeatureSelection\\30_Day_Window_Scaled + pastDroughtValues + FeatureSelection\\X_valid_30_day_window_scaled_+_pastDroughtValues_+_FeatureSelection.csv', delimiter=',')\n",
    "\n",
    "y_target_valid = np.loadtxt(r'R:\\Ryerson\\Misc\\Datasets\\Preprocessed Data Files\\New + pastDroughtValues + FeatureSelection\\30_Day_Window_Scaled + pastDroughtValues + FeatureSelection\\y_target_valid_30_day_window.csv', delimiter=',')"
   ]
  },
  {
   "cell_type": "code",
   "execution_count": 5,
   "id": "floating-template",
   "metadata": {
    "ExecuteTime": {
     "end_time": "2021-09-01T14:18:35.009430Z",
     "start_time": "2021-09-01T14:18:35.002450Z"
    }
   },
   "outputs": [
    {
     "data": {
      "text/plain": [
       "(74592, 9)"
      ]
     },
     "execution_count": 5,
     "metadata": {},
     "output_type": "execute_result"
    },
    {
     "data": {
      "text/plain": [
       "(74592,)"
      ]
     },
     "execution_count": 5,
     "metadata": {},
     "output_type": "execute_result"
    }
   ],
   "source": [
    "X_valid.shape\n",
    "\n",
    "y_target_valid.shape"
   ]
  },
  {
   "cell_type": "markdown",
   "id": "processed-physics",
   "metadata": {},
   "source": [
    "## Testing Dataset"
   ]
  },
  {
   "cell_type": "code",
   "execution_count": 6,
   "id": "median-lying",
   "metadata": {
    "ExecuteTime": {
     "end_time": "2021-09-01T14:18:36.836573Z",
     "start_time": "2021-09-01T14:18:35.791357Z"
    }
   },
   "outputs": [],
   "source": [
    "X_test = np.loadtxt(r'R:\\Ryerson\\Misc\\Datasets\\Preprocessed Data Files\\New + pastDroughtValues + FeatureSelection\\30_Day_Window_Scaled + pastDroughtValues + FeatureSelection\\X_test_30_day_window_scaled_+_pastDroughtValues_+_FeatureSelection.csv', delimiter=',')\n",
    "\n",
    "y_target_test = np.loadtxt(r'R:\\Ryerson\\Misc\\Datasets\\Preprocessed Data Files\\New + pastDroughtValues + FeatureSelection\\30_Day_Window_Scaled + pastDroughtValues + FeatureSelection\\y_target_test_30_day_window.csv', delimiter=',')"
   ]
  },
  {
   "cell_type": "code",
   "execution_count": 7,
   "id": "unsigned-xerox",
   "metadata": {
    "ExecuteTime": {
     "end_time": "2021-09-01T14:18:41.553920Z",
     "start_time": "2021-09-01T14:18:41.546938Z"
    }
   },
   "outputs": [
    {
     "data": {
      "text/plain": [
       "(74592, 9)"
      ]
     },
     "execution_count": 7,
     "metadata": {},
     "output_type": "execute_result"
    },
    {
     "data": {
      "text/plain": [
       "(74592,)"
      ]
     },
     "execution_count": 7,
     "metadata": {},
     "output_type": "execute_result"
    }
   ],
   "source": [
    "X_test.shape\n",
    "\n",
    "y_target_test.shape"
   ]
  },
  {
   "cell_type": "markdown",
   "id": "meaningful-swiss",
   "metadata": {
    "ExecuteTime": {
     "end_time": "2021-09-01T06:41:53.410901Z",
     "start_time": "2021-09-01T06:41:53.398933Z"
    }
   },
   "source": [
    "##### _Concatenating X_valid & X_test into a single test set_"
   ]
  },
  {
   "cell_type": "code",
   "execution_count": 8,
   "id": "atmospheric-requirement",
   "metadata": {
    "ExecuteTime": {
     "end_time": "2021-09-01T14:18:42.897324Z",
     "start_time": "2021-09-01T14:18:42.876382Z"
    }
   },
   "outputs": [],
   "source": [
    "X_Test = np.concatenate((X_valid, X_test), axis=0)"
   ]
  },
  {
   "cell_type": "code",
   "execution_count": 9,
   "id": "generous-civilization",
   "metadata": {
    "ExecuteTime": {
     "end_time": "2021-09-01T14:18:43.397984Z",
     "start_time": "2021-09-01T14:18:43.387014Z"
    }
   },
   "outputs": [
    {
     "data": {
      "text/plain": [
       "(149184, 9)"
      ]
     },
     "execution_count": 9,
     "metadata": {},
     "output_type": "execute_result"
    }
   ],
   "source": [
    "X_Test.shape"
   ]
  },
  {
   "cell_type": "markdown",
   "id": "heard-tactics",
   "metadata": {
    "ExecuteTime": {
     "end_time": "2021-09-01T06:41:53.410901Z",
     "start_time": "2021-09-01T06:41:53.398933Z"
    }
   },
   "source": [
    "##### _Concatenating y_target_valid & y_target_test into a single array_"
   ]
  },
  {
   "cell_type": "code",
   "execution_count": 10,
   "id": "cordless-hopkins",
   "metadata": {
    "ExecuteTime": {
     "end_time": "2021-09-01T14:18:44.382351Z",
     "start_time": "2021-09-01T14:18:44.367391Z"
    }
   },
   "outputs": [],
   "source": [
    "y_Target = np.concatenate((y_target_valid, y_target_test), axis=0)"
   ]
  },
  {
   "cell_type": "code",
   "execution_count": 11,
   "id": "prescription-diamond",
   "metadata": {
    "ExecuteTime": {
     "end_time": "2021-09-01T14:18:45.037109Z",
     "start_time": "2021-09-01T14:18:45.027136Z"
    }
   },
   "outputs": [
    {
     "data": {
      "text/plain": [
       "(149184,)"
      ]
     },
     "execution_count": 11,
     "metadata": {},
     "output_type": "execute_result"
    }
   ],
   "source": [
    "y_Target.shape"
   ]
  },
  {
   "cell_type": "markdown",
   "id": "interim-precipitation",
   "metadata": {},
   "source": [
    "# Training a Random Forest with 100 Trees"
   ]
  },
  {
   "cell_type": "code",
   "execution_count": 12,
   "id": "enormous-cyprus",
   "metadata": {
    "ExecuteTime": {
     "end_time": "2021-09-01T14:18:51.771090Z",
     "start_time": "2021-09-01T14:18:51.755132Z"
    }
   },
   "outputs": [],
   "source": [
    "rf_100_trees = RandomForestRegressor(n_estimators=100, random_state=10)"
   ]
  },
  {
   "cell_type": "code",
   "execution_count": 13,
   "id": "behind-gossip",
   "metadata": {
    "ExecuteTime": {
     "end_time": "2021-09-01T14:34:15.364668Z",
     "start_time": "2021-09-01T14:18:53.978184Z"
    }
   },
   "outputs": [
    {
     "data": {
      "text/plain": [
       "RandomForestRegressor(random_state=10)"
      ]
     },
     "execution_count": 13,
     "metadata": {},
     "output_type": "execute_result"
    }
   ],
   "source": [
    "rf_100_trees.fit(X_train, y_target_train)"
   ]
  },
  {
   "cell_type": "code",
   "execution_count": 14,
   "id": "sought-rwanda",
   "metadata": {
    "ExecuteTime": {
     "end_time": "2021-09-01T14:38:31.648052Z",
     "start_time": "2021-09-01T14:38:24.480231Z"
    }
   },
   "outputs": [],
   "source": [
    "yPredicted_rf100 = rf_100_trees.predict(X_Test)"
   ]
  },
  {
   "cell_type": "markdown",
   "id": "capable-roberts",
   "metadata": {},
   "source": [
    "## Printing Metrics"
   ]
  },
  {
   "cell_type": "code",
   "execution_count": 15,
   "id": "annual-brief",
   "metadata": {
    "ExecuteTime": {
     "end_time": "2021-09-01T14:38:42.350413Z",
     "start_time": "2021-09-01T14:38:42.313510Z"
    }
   },
   "outputs": [
    {
     "name": "stdout",
     "output_type": "stream",
     "text": [
      "Testing Metrics:\n",
      "Mean Absolute Error: 0.24189838851608167\n",
      "Mean Squared Error: 0.1836350273396985\n",
      "Root Mean Squared Error: 0.42852657716843945\n",
      "R^2 Score: 0.7644053218389434\n"
     ]
    }
   ],
   "source": [
    "print('Testing Metrics:')\n",
    "print('Mean Absolute Error:', metrics.mean_absolute_error(y_Target, yPredicted_rf100))\n",
    "print('Mean Squared Error:', metrics.mean_squared_error(y_Target, yPredicted_rf100))\n",
    "print('Root Mean Squared Error:', np.sqrt(metrics.mean_squared_error(y_Target, yPredicted_rf100)))\n",
    "print('R^2 Score:', metrics.r2_score(y_Target, yPredicted_rf100))"
   ]
  },
  {
   "cell_type": "markdown",
   "id": "approximate-delta",
   "metadata": {},
   "source": [
    "# Training a Random Forest with 500 Trees"
   ]
  },
  {
   "cell_type": "code",
   "execution_count": 16,
   "id": "robust-gather",
   "metadata": {
    "ExecuteTime": {
     "end_time": "2021-09-01T14:38:48.444105Z",
     "start_time": "2021-09-01T14:38:48.426154Z"
    }
   },
   "outputs": [],
   "source": [
    "rf_500_trees = RandomForestRegressor(n_estimators=500, random_state=12)"
   ]
  },
  {
   "cell_type": "code",
   "execution_count": 17,
   "id": "surface-advance",
   "metadata": {
    "ExecuteTime": {
     "end_time": "2021-09-01T15:56:33.638017Z",
     "start_time": "2021-09-01T14:38:50.434779Z"
    }
   },
   "outputs": [
    {
     "data": {
      "text/plain": [
       "RandomForestRegressor(n_estimators=500, random_state=12)"
      ]
     },
     "execution_count": 17,
     "metadata": {},
     "output_type": "execute_result"
    }
   ],
   "source": [
    "rf_500_trees.fit(X_train, y_target_train)"
   ]
  },
  {
   "cell_type": "code",
   "execution_count": 18,
   "id": "saving-amino",
   "metadata": {
    "ExecuteTime": {
     "end_time": "2021-09-01T16:02:48.538685Z",
     "start_time": "2021-09-01T16:02:18.129039Z"
    }
   },
   "outputs": [],
   "source": [
    "yPredicted_rf500 = rf_500_trees.predict(X_Test)"
   ]
  },
  {
   "cell_type": "code",
   "execution_count": 19,
   "id": "approved-angola",
   "metadata": {
    "ExecuteTime": {
     "end_time": "2021-09-01T16:02:50.677960Z",
     "start_time": "2021-09-01T16:02:50.658013Z"
    }
   },
   "outputs": [
    {
     "name": "stdout",
     "output_type": "stream",
     "text": [
      "Testing Metrics:\n",
      "Mean Absolute Error: 0.24122984671588668\n",
      "Mean Squared Error: 0.18232478895301912\n",
      "Root Mean Squared Error: 0.42699506900316675\n",
      "R^2 Score: 0.7660862930321622\n"
     ]
    }
   ],
   "source": [
    "print('Testing Metrics:')\n",
    "print('Mean Absolute Error:', metrics.mean_absolute_error(y_Target, yPredicted_rf500))\n",
    "print('Mean Squared Error:', metrics.mean_squared_error(y_Target, yPredicted_rf500))\n",
    "print('Root Mean Squared Error:', np.sqrt(metrics.mean_squared_error(y_Target, yPredicted_rf500)))\n",
    "print('R^2 Score:', metrics.r2_score(y_Target, yPredicted_rf500))"
   ]
  },
  {
   "cell_type": "markdown",
   "id": "graduate-snake",
   "metadata": {},
   "source": [
    "# Training a Random Forest with 1000 Trees"
   ]
  },
  {
   "cell_type": "code",
   "execution_count": 20,
   "id": "decimal-display",
   "metadata": {
    "ExecuteTime": {
     "end_time": "2021-09-01T18:31:19.201278Z",
     "start_time": "2021-09-01T16:03:06.060306Z"
    }
   },
   "outputs": [
    {
     "data": {
      "text/plain": [
       "RandomForestRegressor(n_estimators=1000, random_state=42)"
      ]
     },
     "execution_count": 20,
     "metadata": {},
     "output_type": "execute_result"
    }
   ],
   "source": [
    "rf_1000_trees = RandomForestRegressor(n_estimators=1000, random_state=42)\n",
    "\n",
    "rf_1000_trees.fit(X_train, y_target_train)"
   ]
  },
  {
   "cell_type": "code",
   "execution_count": 21,
   "id": "elder-wallpaper",
   "metadata": {
    "ExecuteTime": {
     "end_time": "2021-09-01T18:37:09.688243Z",
     "start_time": "2021-09-01T18:35:39.862708Z"
    }
   },
   "outputs": [],
   "source": [
    "yPredicted_rf1000 = rf_1000_trees.predict(X_Test)"
   ]
  },
  {
   "cell_type": "markdown",
   "id": "distributed-combination",
   "metadata": {},
   "source": [
    "## Printing Metrics"
   ]
  },
  {
   "cell_type": "code",
   "execution_count": 22,
   "id": "alive-bottom",
   "metadata": {
    "ExecuteTime": {
     "end_time": "2021-09-01T18:49:19.305966Z",
     "start_time": "2021-09-01T18:49:19.250115Z"
    }
   },
   "outputs": [
    {
     "name": "stdout",
     "output_type": "stream",
     "text": [
      "Testing Metrics:\n",
      "Mean Absolute Error: 0.24090061067495197\n",
      "Mean Squared Error: 0.1818899371788027\n",
      "Root Mean Squared Error: 0.4264855650298175\n",
      "R^2 Score: 0.7666441863996666\n"
     ]
    }
   ],
   "source": [
    "print('Testing Metrics:')\n",
    "print('Mean Absolute Error:', metrics.mean_absolute_error(y_Target, yPredicted_rf1000))\n",
    "print('Mean Squared Error:', metrics.mean_squared_error(y_Target, yPredicted_rf1000))\n",
    "print('Root Mean Squared Error:', np.sqrt(metrics.mean_squared_error(y_Target, yPredicted_rf1000)))\n",
    "print('R^2 Score:', metrics.r2_score(y_Target, yPredicted_rf1000))"
   ]
  }
 ],
 "metadata": {
  "kernelspec": {
   "display_name": "Python 3",
   "language": "python",
   "name": "python3"
  },
  "language_info": {
   "codemirror_mode": {
    "name": "ipython",
    "version": 3
   },
   "file_extension": ".py",
   "mimetype": "text/x-python",
   "name": "python",
   "nbconvert_exporter": "python",
   "pygments_lexer": "ipython3",
   "version": "3.8.8"
  },
  "toc": {
   "base_numbering": 1,
   "nav_menu": {},
   "number_sections": true,
   "sideBar": true,
   "skip_h1_title": false,
   "title_cell": "Table of Contents",
   "title_sidebar": "Contents",
   "toc_cell": false,
   "toc_position": {},
   "toc_section_display": true,
   "toc_window_display": false
  },
  "varInspector": {
   "cols": {
    "lenName": 16,
    "lenType": 16,
    "lenVar": 40
   },
   "kernels_config": {
    "python": {
     "delete_cmd_postfix": "",
     "delete_cmd_prefix": "del ",
     "library": "var_list.py",
     "varRefreshCmd": "print(var_dic_list())"
    },
    "r": {
     "delete_cmd_postfix": ") ",
     "delete_cmd_prefix": "rm(",
     "library": "var_list.r",
     "varRefreshCmd": "cat(var_dic_list()) "
    }
   },
   "types_to_exclude": [
    "module",
    "function",
    "builtin_function_or_method",
    "instance",
    "_Feature"
   ],
   "window_display": false
  }
 },
 "nbformat": 4,
 "nbformat_minor": 5
}
